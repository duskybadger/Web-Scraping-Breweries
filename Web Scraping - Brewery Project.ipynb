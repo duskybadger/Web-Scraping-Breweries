{
 "cells": [
  {
   "cell_type": "markdown",
   "metadata": {},
   "source": [
    "Pick a website and describe your objective"
   ]
  },
  {
   "cell_type": "markdown",
   "metadata": {},
   "source": [
    "- Identify the information you'd like to scrape\n",
    "- Decide the format of the output CSV file\n",
    "- Type the format into an Excel file"
   ]
  },
  {
   "cell_type": "code",
   "execution_count": null,
   "metadata": {},
   "outputs": [],
   "source": []
  },
  {
   "cell_type": "markdown",
   "metadata": {},
   "source": [
    "### Project Outline\n",
    "\n",
    "- We're going to scrape https://www.brewersassociation.org/directories/breweries/\n",
    "- We'll get a list of U.S. breweries. For each brewery, we'll get name, address, draft beer prices, and URL."
   ]
  },
  {
   "cell_type": "code",
   "execution_count": 1,
   "metadata": {},
   "outputs": [],
   "source": [
    "import requests"
   ]
  },
  {
   "cell_type": "code",
   "execution_count": 2,
   "metadata": {},
   "outputs": [],
   "source": [
    "import numpy as np\n",
    "import pandas as pd\n",
    "import os\n",
    "import requests\n",
    "from bs4 import BeautifulSoup"
   ]
  },
  {
   "cell_type": "code",
   "execution_count": null,
   "metadata": {},
   "outputs": [],
   "source": []
  },
  {
   "cell_type": "code",
   "execution_count": null,
   "metadata": {},
   "outputs": [],
   "source": []
  },
  {
   "cell_type": "code",
   "execution_count": 3,
   "metadata": {},
   "outputs": [],
   "source": [
    "brewery_url = 'https://dwbbrewery.com'"
   ]
  },
  {
   "cell_type": "code",
   "execution_count": 4,
   "metadata": {},
   "outputs": [],
   "source": [
    "response = requests.get(brewery_url)"
   ]
  },
  {
   "cell_type": "code",
   "execution_count": 5,
   "metadata": {},
   "outputs": [
    {
     "data": {
      "text/plain": [
       "200"
      ]
     },
     "execution_count": 5,
     "metadata": {},
     "output_type": "execute_result"
    }
   ],
   "source": [
    "response.status_code"
   ]
  },
  {
   "cell_type": "code",
   "execution_count": 6,
   "metadata": {},
   "outputs": [
    {
     "data": {
      "text/plain": [
       "216585"
      ]
     },
     "execution_count": 6,
     "metadata": {},
     "output_type": "execute_result"
    }
   ],
   "source": [
    "len(response.text)"
   ]
  },
  {
   "cell_type": "code",
   "execution_count": 7,
   "metadata": {},
   "outputs": [],
   "source": [
    "page_contents = response.text"
   ]
  },
  {
   "cell_type": "code",
   "execution_count": null,
   "metadata": {},
   "outputs": [],
   "source": []
  },
  {
   "cell_type": "code",
   "execution_count": null,
   "metadata": {},
   "outputs": [],
   "source": []
  },
  {
   "cell_type": "markdown",
   "metadata": {},
   "source": [
    "Use the requests library to download web pages"
   ]
  },
  {
   "cell_type": "markdown",
   "metadata": {},
   "source": [
    "- Inspect the website's HTML source and identify the right URLs to download\n",
    "- Download and save web pages locally using the requests library\n",
    "- Create a function to automate downloading for different topics/search queries"
   ]
  },
  {
   "cell_type": "code",
   "execution_count": 8,
   "metadata": {},
   "outputs": [],
   "source": [
    "soup = BeautifulSoup(page_contents, 'html.parser')"
   ]
  },
  {
   "cell_type": "code",
   "execution_count": 9,
   "metadata": {},
   "outputs": [
    {
     "data": {
      "text/plain": [
       "bs4.BeautifulSoup"
      ]
     },
     "execution_count": 9,
     "metadata": {},
     "output_type": "execute_result"
    }
   ],
   "source": [
    "type(soup)"
   ]
  },
  {
   "cell_type": "code",
   "execution_count": 10,
   "metadata": {},
   "outputs": [],
   "source": [
    "div_tags = soup.find_all('div')"
   ]
  },
  {
   "cell_type": "code",
   "execution_count": 11,
   "metadata": {},
   "outputs": [
    {
     "data": {
      "text/plain": [
       "164"
      ]
     },
     "execution_count": 11,
     "metadata": {},
     "output_type": "execute_result"
    }
   ],
   "source": [
    "len(div_tags)"
   ]
  },
  {
   "cell_type": "code",
   "execution_count": 12,
   "metadata": {},
   "outputs": [
    {
     "data": {
      "text/plain": [
       "[<div id=\"page-container\"><div id=\"top-header\"><div class=\"container clearfix\"><div id=\"et-info\"> <span id=\"et-info-phone\">(719) 394-4811</span> <a href=\"mailto:dueces@dwbbrewery.com\"><span id=\"et-info-email\">dueces@dwbbrewery.com</span></a></div><div id=\"et-secondary-menu\"><ul class=\"menu\" id=\"et-secondary-nav\"><li class=\"secondary-button menu-item menu-item-type-post_type menu-item-object-page menu-item-262\"><a href=\"https://dwbbrewery.com/dwb-on-tap-at/\">Find us on Tap</a></li></ul><a class=\"et-cart-info\" href=\"https://dwbbrewery.com/cart/\"> <span>0 Items</span> </a></div></div></div><header data-height-onload=\"110\" id=\"main-header\"><div class=\"container clearfix et_menu_container\"><div class=\"logo_container\"> <span class=\"logo_helper\"></span> <a href=\"https://dwbbrewery.com/\"> <img alt=\"Dueces Wild Brewery\" data-height-percentage=\"100\" height=\"200\" id=\"logo\" src=\"https://dwbbrewery.com/wp-content/uploads/2019/01/DWB-Logo-0418-White_tiny.png\" width=\"300\"/> </a></div><div data-fixed-height=\"66\" data-height=\"110\" id=\"et-top-navigation\"><nav id=\"top-menu-nav\"><ul class=\"nav\" id=\"top-menu\"><li class=\"menu-item menu-item-type-post_type menu-item-object-page menu-item-home current-menu-item page_item page-item-7 current_page_item menu-item-51\" id=\"menu-item-51\"><a aria-current=\"page\" href=\"https://dwbbrewery.com/\">DWB Brewery</a></li><li class=\"menu-item menu-item-type-post_type menu-item-object-page menu-item-50\" id=\"menu-item-50\"><a href=\"https://dwbbrewery.com/beers/\">Beers</a></li><li class=\"menu-item menu-item-type-post_type menu-item-object-page menu-item-49\" id=\"menu-item-49\"><a href=\"https://dwbbrewery.com/the-duece-is-loose/\">The Duece is Loose!</a></li><li class=\"menu-item menu-item-type-post_type menu-item-object-page menu-item-228\" id=\"menu-item-228\"><a href=\"https://dwbbrewery.com/dwb-swag-online-shopping/\">Shop</a></li><li class=\"menu-item menu-item-type-custom menu-item-object-custom menu-item-has-children menu-item-1746\" id=\"menu-item-1746\"><a href=\"#\">Events</a><ul class=\"sub-menu\"><li class=\"menu-item menu-item-type-post_type menu-item-object-page menu-item-3316\" id=\"menu-item-3316\"><a href=\"https://dwbbrewery.com/peterson-events/\">Peterson Events</a></li><li class=\"menu-item menu-item-type-post_type menu-item-object-page menu-item-3317\" id=\"menu-item-3317\"><a href=\"https://dwbbrewery.com/tgap-events/\">TGap Events</a></li></ul></li></ul></nav><div id=\"et_mobile_nav_menu\"><div class=\"mobile_nav closed\"> <span class=\"select_page\">Select Page</span> <span class=\"mobile_menu_bar mobile_menu_bar_toggle\"></span></div></div></div></div><div class=\"et_search_outer\"><div class=\"container et_search_form_container\"><form action=\"https://dwbbrewery.com/\" class=\"et-search-form\" method=\"get\" role=\"search\"> <input class=\"et-search-field\" name=\"s\" placeholder=\"Search …\" title=\"Search for:\" type=\"search\" value=\"\"/></form> <span class=\"et_close_search_field\"></span></div></div></header><div id=\"et-main-area\"><div id=\"main-content\"><article class=\"post-7 page type-page status-publish hentry\" id=\"post-7\"><div class=\"entry-content\"><div class=\"et-boc\" id=\"et-boc\"><div class=\"et-l et-l--post\"><div class=\"et_builder_inner_content et_pb_gutters3\"><div class=\"et_pb_section et_pb_section_0 et_section_regular\"><div class=\"et_pb_row et_pb_row_0\"><div class=\"et_pb_column et_pb_column_1_2 et_pb_column_0 et_pb_css_mix_blend_mode_passthrough\"><div class=\"et_pb_module et_pb_image et_pb_image_0\"> <span class=\"et_pb_image_wrap\"><img alt=\"\" class=\"wp-image-22\" height=\"136\" loading=\"lazy\" sizes=\"(max-width: 300px) 100vw, 300px\" src=\"https://dwbbrewery.com/wp-content/uploads/2019/01/DucesWildcolor-logo_tinied-300x136.png\" srcset=\"https://dwbbrewery.com/wp-content/uploads/2019/01/DucesWildcolor-logo_tinied-300x136.png 300w, https://dwbbrewery.com/wp-content/uploads/2019/01/DucesWildcolor-logo_tinied-600x272.png 600w, https://dwbbrewery.com/wp-content/uploads/2019/01/DucesWildcolor-logo_tinied-768x349.png 768w, https://dwbbrewery.com/wp-content/uploads/2019/01/DucesWildcolor-logo_tinied.png 859w\" title=\"\" width=\"300\"/></span></div><div class=\"et_pb_module et_pb_text et_pb_text_0 et_pb_text_align_left et_pb_bg_layout_light\"><div class=\"et_pb_text_inner\"><h3>Due to the COVID19, our hours are limited but we are offering <a href=\"https://dwbbrewery.com/gift-card/\" title=\"Gift Cards\">gift cards</a>.</h3></div></div><div class=\"et_pb_button_module_wrapper et_pb_button_0_wrapper et_pb_button_alignment_center et_pb_module\"> <a class=\"et_pb_button et_pb_button_0 et_pb_bg_layout_light\" href=\"https://dwbbrewery.com/gift-card/\">Get your gift cards</a></div></div><div class=\"et_pb_column et_pb_column_1_2 et_pb_column_1 et_pb_css_mix_blend_mode_passthrough et-last-child\"><div class=\"et_pb_module et_pb_blurb et_pb_blurb_0 et_clickable et_pb_text_align_left et_pb_blurb_position_top et_pb_bg_layout_light\"><div class=\"et_pb_blurb_content\"><div class=\"et_pb_main_blurb_image\"><a href=\"/gift-card/\"><span class=\"et_pb_image_wrap\"><img alt=\"\" class=\"et-waypoint et_pb_animation_top et_pb_animation_top_tablet et_pb_animation_top_phone wp-image-3379\" height=\"300\" loading=\"lazy\" src=\"https://dwbbrewery.com/wp-content/uploads/2020/03/pw-gift-card-300x300.png\" width=\"300\"/></span></a></div><div class=\"et_pb_blurb_container\"><h4 class=\"et_pb_module_header\"><a href=\"/gift-card/\">Support Local Business by purchasing Gift Cards</a></h4><div class=\"et_pb_blurb_description\"><p>We offer gift cards and we are happy to mail them to you. You may also pick them up at the brewery.</p></div></div></div></div></div></div></div><div class=\"et_pb_section et_pb_section_1 et_pb_with_background et_section_regular\"><div class=\"et_pb_row et_pb_row_1\"><div class=\"et_pb_column et_pb_column_1_4 et_pb_column_2 et_pb_css_mix_blend_mode_passthrough et_pb_column_empty\"></div><div class=\"et_pb_column et_pb_column_1_2 et_pb_column_3 et_pb_css_mix_blend_mode_passthrough\"><div class=\"et_pb_module et_pb_image et_pb_image_1 et_pb_image_sticky\"> <span class=\"et_pb_image_wrap\"><img alt=\"\" class=\"wp-image-22\" height=\"390\" loading=\"lazy\" sizes=\"(max-width: 859px) 100vw, 859px\" src=\"https://dwbbrewery.com/wp-content/uploads/2019/01/DucesWildcolor-logo_tinied.png\" srcset=\"https://dwbbrewery.com/wp-content/uploads/2019/01/DucesWildcolor-logo_tinied.png 859w, https://dwbbrewery.com/wp-content/uploads/2019/01/DucesWildcolor-logo_tinied-600x272.png 600w, https://dwbbrewery.com/wp-content/uploads/2019/01/DucesWildcolor-logo_tinied-300x136.png 300w, https://dwbbrewery.com/wp-content/uploads/2019/01/DucesWildcolor-logo_tinied-768x349.png 768w\" title=\"\" width=\"859\"/></span></div><div class=\"et_pb_module et_pb_text et_pb_text_1 et_pb_text_align_left et_pb_bg_layout_light\"><div class=\"et_pb_text_inner\"><h1>Dueces Wild Brewery</h1></div></div><div class=\"et_pb_module et_pb_text et_pb_text_2 et_pb_text_align_left et_pb_bg_layout_light\"><div class=\"et_pb_text_inner\"><h2>Home of the 2019, Great American Beer Festival Gold Medal winning, Knuckle Dragger, Scotch ale.</h2></div></div><div class=\"et_pb_module et_pb_text et_pb_text_3 et_pb_text_align_left et_pb_bg_layout_light\"><div class=\"et_pb_text_inner\"><h1>EST. 2018</h1></div></div></div><div class=\"et_pb_column et_pb_column_1_4 et_pb_column_4 et_pb_css_mix_blend_mode_passthrough et-last-child\"><div class=\"et_pb_module et_pb_image et_pb_image_2 et_pb_image_sticky\"> <span class=\"et_pb_image_wrap\"><img alt=\"\" class=\"wp-image-2002\" height=\"837\" loading=\"lazy\" sizes=\"(min-width: 0px) and (max-width: 480px) 480px, (min-width: 481px) 585px, 100vw\" src=\"https://dwbbrewery.com/wp-content/uploads/2019/10/GABF-Gold-RGB.png\" srcset=\"https://dwbbrewery.com/wp-content/uploads/2019/10/GABF-Gold-RGB.png 585w, https://dwbbrewery.com/wp-content/uploads/2019/10/GABF-Gold-RGB-480x687.png 480w\" title=\"\" width=\"585\"/></span></div><div class=\"et_pb_module et_pb_text et_pb_text_4 et_pb_text_align_center et_pb_bg_layout_light\"><div class=\"et_pb_text_inner\"><p>Knuckle Dragger, 2019 Gold<br/> medal, Scotch Ale category</p></div></div></div></div><div class=\"et_pb_row et_pb_row_2 et_pb_equal_columns\"><div class=\"et_pb_column et_pb_column_1_2 et_pb_column_5 et_pb_css_mix_blend_mode_passthrough\"><div class=\"et_pb_module et_pb_text et_pb_text_5 et_pb_text_align_center et_pb_bg_layout_light\"><div class=\"et_pb_text_inner\"><p style=\"text-align: justify;\">BREWERY</p><p style=\"text-align: left;\">660 Peterson Road</p></div></div><div class=\"et_pb_button_module_wrapper et_pb_button_1_wrapper et_pb_button_alignment_center et_pb_module\"> <a class=\"et_pb_button et_pb_button_1 et_pb_bg_layout_light\" href=\"https://dwbbrewery.com/beers/\">BEERS </a></div><div class=\"et_pb_button_module_wrapper et_pb_button_2_wrapper et_pb_button_alignment_center et_pb_module\"> <a class=\"et_pb_button et_pb_button_2 et_pb_bg_layout_light\" href=\"https://dwbbrewery.com/peterson-events/\">EVENTS</a></div></div><div class=\"et_pb_column et_pb_column_1_2 et_pb_column_6 et_pb_css_mix_blend_mode_passthrough et-last-child\"><div class=\"et_pb_module et_pb_text et_pb_text_6 et_pb_text_align_center et_pb_bg_layout_light\"><div class=\"et_pb_text_inner\"><p>TAPROOM</p><p>3352 Templeton Gap</p></div></div><div class=\"et_pb_button_module_wrapper et_pb_button_3_wrapper et_pb_button_alignment_center et_pb_module\"> <a class=\"et_pb_button et_pb_button_3 et_pb_bg_layout_light\" href=\"https://dwbbrewery.com/beers-tgap/\">BEERS </a></div><div class=\"et_pb_button_module_wrapper et_pb_button_4_wrapper et_pb_button_alignment_center et_pb_module\"> <a class=\"et_pb_button et_pb_button_4 et_pb_bg_layout_light\" href=\"https://dwbbrewery.com/tgap-events/\">EVENTS</a></div></div></div></div><div class=\"et_pb_section et_pb_section_2 et_pb_with_background et_section_regular\"><div class=\"et_pb_row et_pb_row_3 et_pb_equal_columns\"><div class=\"et_pb_column et_pb_column_1_3 et_pb_column_7 et_pb_css_mix_blend_mode_passthrough\"><div class=\"et_pb_module et_pb_divider_0 et_pb_space et_pb_divider_hidden\"><div class=\"et_pb_divider_internal\"></div></div><div class=\"et_pb_module et_pb_divider_1 et_pb_space et_pb_divider_hidden\"><div class=\"et_pb_divider_internal\"></div></div><div class=\"et_pb_module et_pb_text et_pb_text_7 et_pb_text_align_left et_pb_bg_layout_light\"><div class=\"et_pb_text_inner\"><h2>Good Place</h2></div></div><div class=\"et_pb_module et_pb_divider_2 et_pb_space et_pb_divider_hidden\"><div class=\"et_pb_divider_internal\"></div></div><div class=\"et_pb_module et_pb_divider_3 et_pb_space et_pb_divider_hidden\"><div class=\"et_pb_divider_internal\"></div></div></div><div class=\"et_pb_column et_pb_column_1_3 et_pb_column_8 et_pb_css_mix_blend_mode_passthrough\"><div class=\"et_pb_module et_pb_divider_4 et_pb_space et_pb_divider_hidden\"><div class=\"et_pb_divider_internal\"></div></div><div class=\"et_pb_module et_pb_divider_5 et_pb_space et_pb_divider_hidden\"><div class=\"et_pb_divider_internal\"></div></div><div class=\"et_pb_module et_pb_text et_pb_text_8 et_pb_text_align_left et_pb_bg_layout_light\"><div class=\"et_pb_text_inner\"><h2>Good People</h2></div></div><div class=\"et_pb_module et_pb_divider_6 et_pb_space et_pb_divider_hidden\"><div class=\"et_pb_divider_internal\"></div></div><div class=\"et_pb_module et_pb_divider_7 et_pb_space et_pb_divider_hidden\"><div class=\"et_pb_divider_internal\"></div></div></div><div class=\"et_pb_column et_pb_column_1_3 et_pb_column_9 et_pb_css_mix_blend_mode_passthrough et-last-child\"><div class=\"et_pb_module et_pb_divider_8 et_pb_space et_pb_divider_hidden\"><div class=\"et_pb_divider_internal\"></div></div><div class=\"et_pb_module et_pb_divider_9 et_pb_space et_pb_divider_hidden\"><div class=\"et_pb_divider_internal\"></div></div><div class=\"et_pb_module et_pb_text et_pb_text_9 et_pb_text_align_left et_pb_bg_layout_light\"><div class=\"et_pb_text_inner\"><h2>Damn Good Beer</h2></div></div><div class=\"et_pb_module et_pb_divider_10 et_pb_space et_pb_divider_hidden\"><div class=\"et_pb_divider_internal\"></div></div><div class=\"et_pb_module et_pb_divider_11 et_pb_space et_pb_divider_hidden\"><div class=\"et_pb_divider_internal\"></div></div></div></div></div><div class=\"et_pb_section et_pb_section_3 et_section_regular\"><div class=\"et_pb_row et_pb_row_4\"><div class=\"et_pb_column et_pb_column_4_4 et_pb_column_10 et_pb_css_mix_blend_mode_passthrough et-last-child\"><div class=\"et_pb_with_border et_pb_module et_pb_text et_pb_text_10 et_pb_text_align_left et_pb_bg_layout_light\"><div class=\"et_pb_text_inner\"><h2>Latest Duece is Loose!!</h2></div></div><div class=\"et_pb_module et_pb_blog_0 et_pb_posts et_pb_bg_layout_light\"><div class=\"et_pb_ajax_pagination_container\"><article class=\"et_pb_post clearfix et_pb_no_thumb et_pb_blog_item_0_0 post-1226 post type-post status-publish format-standard hentry category-the-duece-is-loose\" id=\"post-1226\"><h2 class=\"entry-title\"><a href=\"https://dwbbrewery.com/the-duece-is-loose/\">The Duece is Loose!</a></h2><p class=\"post-meta\"><span class=\"published\">Mar 17, 2019</span></p><div class=\"post-content\"><div class=\"post-content-inner\"><p>The Duece is Loose!  This time enjoying the magnificent Sahara Desert sunset. Thanks for the love John and Kelly! Cheers!</p></div></div></article><article class=\"et_pb_post clearfix et_pb_no_thumb et_pb_blog_item_0_1 post-606 post type-post status-publish format-standard has-post-thumbnail hentry category-the-duece-is-loose\" id=\"post-606\"><h2 class=\"entry-title\"><a href=\"https://dwbbrewery.com/stone-bridge-brewing-co-johnstown-pa-thank-you-jen/\">Stone Bridge Brewing Co.- Johnstown, PA. Thank you Jen!</a></h2><p class=\"post-meta\"><span class=\"published\">Jan 15, 2019</span></p><div class=\"post-content\"><div class=\"post-content-inner\"></div></div></article><article class=\"et_pb_post clearfix et_pb_no_thumb et_pb_blog_item_0_2 post-604 post type-post status-publish format-standard has-post-thumbnail hentry category-the-duece-is-loose\" id=\"post-604\"><h2 class=\"entry-title\"><a href=\"https://dwbbrewery.com/usaf-half-marathon-dayton-oh-thank-you-pat/\">USAF half Marathon-Dayton, OH. Thank you Pat!</a></h2><p class=\"post-meta\"><span class=\"published\">Jan 15, 2019</span></p><div class=\"post-content\"><div class=\"post-content-inner\"></div></div></article><div><div class=\"pagination clearfix\"><div class=\"alignleft\"><a href=\"https://dwbbrewery.com/page/2/?et_blog\">« Older Entries</a></div><div class=\"alignright\"></div></div></div></div></div></div></div></div><div class=\"et_pb_section et_pb_section_5 et_pb_with_background et_section_regular\"><div class=\"et_pb_row et_pb_row_5\"><div class=\"et_pb_column et_pb_column_2_5 et_pb_column_11 et_pb_css_mix_blend_mode_passthrough\"><div class=\"et_pb_module et_pb_text et_pb_text_11 et_pb_text_align_left et_pb_bg_layout_light\"><div class=\"et_pb_text_inner\"><h2>FIND US</h2></div></div><div class=\"et_pb_module et_pb_image et_pb_image_3\"> <span class=\"et_pb_image_wrap has-box-shadow-overlay\"><div class=\"box-shadow-overlay\"></div><img alt=\"\" class=\"wp-image-17\" height=\"199\" loading=\"lazy\" src=\"https://dwbbrewery.com/wp-content/uploads/2019/01/dwbboxandbeer-300x199.jpg\" title=\"\" width=\"300\"/></span></div><div class=\"et_pb_with_border et_pb_module et_pb_text et_pb_text_12 et_pb_text_align_left et_pb_bg_layout_light\"><div class=\"et_pb_text_inner\"><p>Locations &amp; Hours</p></div></div><div class=\"et_pb_module et_pb_text et_pb_text_13 et_pb_text_align_left et_pb_bg_layout_light\"><div class=\"et_pb_text_inner\"><p><a href=\"https://www.google.com/maps/place/660+Peterson+Rd,+Colorado+Springs,+CO+80915/@38.8414842,-104.7046135,17z/data=!3m1!4b1!4m5!3m4!1s0x871347aa4f8fb193:0x8761831727a0fddc!8m2!3d38.8414842!4d-104.7024248\" rel=\"noopener noreferrer\" target=\"_blank\">660 Peterson Road</a><br/> Colorado Springs, Co 80915<br/> <a href=\"tel:1-719-394-4811\">(719)394-4811</a><br/> <a href=\"mailto:dueces@dwbbrewery.com\">dueces@dwbbrewery.com</a></p></div></div><div class=\"et_pb_module et_pb_text et_pb_text_14 et_pb_text_align_left et_pb_bg_layout_light\"><div class=\"et_pb_text_inner\"><p>Monday – Closed to make Damn Good Beer</p><p>Tuesday-Wednesday 3pm-8pm</p><p>Thursday- 3:00pm-9:00pm</p><p>Friday- 12pm-10pm</p><p>Saturday-12:00pm-10:00pm</p><p>Sunday: 11:00am–6:00pm</p></div></div><ul class=\"et_pb_module et_pb_social_media_follow et_pb_social_media_follow_0 clearfix et_pb_bg_layout_light\"><li class=\"et_pb_social_media_follow_network_0 et_pb_social_icon et_pb_social_network_link et-social-facebook et_pb_social_media_follow_network_0\"><a class=\"icon et_pb_with_border\" href=\"https://www.facebook.com/dwbbrewery/\" target=\"_blank\" title=\"Follow on Facebook\"><span aria-hidden=\"true\" class=\"et_pb_social_media_follow_network_name\">Follow</span></a></li><li class=\"et_pb_social_media_follow_network_1 et_pb_social_icon et_pb_social_network_link et-social-twitter et_pb_social_media_follow_network_1\"><a class=\"icon et_pb_with_border\" href=\"https://www.twitter.com/dwbbrewery/\" target=\"_blank\" title=\"Follow on Twitter\"><span aria-hidden=\"true\" class=\"et_pb_social_media_follow_network_name\">Follow</span></a></li><li class=\"et_pb_social_media_follow_network_2 et_pb_social_icon et_pb_social_network_link et-social-instagram et_pb_social_media_follow_network_2\"><a class=\"icon et_pb_with_border\" href=\"https://www.instagram.com/dwbbrewery/\" target=\"_blank\" title=\"Follow on Instagram\"><span aria-hidden=\"true\" class=\"et_pb_social_media_follow_network_name\">Follow</span></a></li></ul><div class=\"et_pb_module et_pb_text et_pb_text_15 et_pb_text_align_left et_pb_bg_layout_light\"><div class=\"et_pb_text_inner\"><p><a href=\"https://www.google.com/maps/place/3352+Templeton+Gap+Rd,+Colorado+Springs,+CO+80907/@38.8785326,-104.7971843,17z/data=!3m1!4b1!4m5!3m4!1s0x87134f7a75168e51:0x127b95a55f919551!8m2!3d38.8785326!4d-104.7949956\" rel=\"noopener noreferrer\" target=\"_blank\">3352 Templeton Gap Road</a><br/> Colorado Springs, Co 80907<br/><a href=\"tal:17193745806\">719-374-5806</a><br/><a href=\"mailto:dueces@dwbbrewery.com\">dueces@dwbbrewery.com</a></p></div></div><div class=\"et_pb_module et_pb_text et_pb_text_16 et_pb_text_align_left et_pb_bg_layout_light\"><div class=\"et_pb_text_inner\"><p>Monday– Closed to make Damn Good Beer</p><p>Tuesday &amp; Wednesday: 3:00pm-8:00pm</p><p>Thursday- 3:00pm-9:00pm</p><p>Friday &amp; Saturday- 12:00pm-10:00pm</p><p>Sunday: 11:00am – 6:00pm</p></div></div><ul class=\"et_pb_module et_pb_social_media_follow et_pb_social_media_follow_1 clearfix et_pb_bg_layout_light\"><li class=\"et_pb_social_media_follow_network_3 et_pb_social_icon et_pb_social_network_link et-social-facebook et_pb_social_media_follow_network_3\"><a class=\"icon et_pb_with_border\" href=\"https://www.facebook.com/dwbontapattgap\" target=\"_blank\" title=\"Follow on Facebook\"><span aria-hidden=\"true\" class=\"et_pb_social_media_follow_network_name\">Follow</span></a></li><li class=\"et_pb_social_media_follow_network_4 et_pb_social_icon et_pb_social_network_link et-social-twitter et_pb_social_media_follow_network_4\"><a class=\"icon et_pb_with_border\" href=\"https://www.twitter.com/dwbbrewery/\" target=\"_blank\" title=\"Follow on Twitter\"><span aria-hidden=\"true\" class=\"et_pb_social_media_follow_network_name\">Follow</span></a></li><li class=\"et_pb_social_media_follow_network_5 et_pb_social_icon et_pb_social_network_link et-social-instagram et_pb_social_media_follow_network_5\"><a class=\"icon et_pb_with_border\" href=\"https://www.instagram.com/dwbontap/\" target=\"_blank\" title=\"Follow on Instagram\"><span aria-hidden=\"true\" class=\"et_pb_social_media_follow_network_name\">Follow</span></a></li></ul></div><div class=\"et_pb_column et_pb_column_3_5 et_pb_column_12 et_pb_css_mix_blend_mode_passthrough et-last-child\"><div class=\"et_pb_module et_pb_image et_pb_image_4 et_animated et-waypoint\"> <span class=\"et_pb_image_wrap\"><img alt=\"\" class=\"wp-image-18\" height=\"300\" loading=\"lazy\" sizes=\"(max-width: 300px) 100vw, 300px\" src=\"https://dwbbrewery.com/wp-content/uploads/2019/01/DWB-Barrel2.jpg-300x300.png\" srcset=\"https://dwbbrewery.com/wp-content/uploads/2019/01/DWB-Barrel2.jpg-300x300.png 300w, https://dwbbrewery.com/wp-content/uploads/2019/01/DWB-Barrel2.jpg-300x300-100x100.png 100w, https://dwbbrewery.com/wp-content/uploads/2019/01/DWB-Barrel2.jpg-300x300-150x150.png 150w\" title=\"\" width=\"300\"/></span></div><div class=\"et_pb_module et_pb_divider_12 et_pb_space et_pb_divider_hidden\"><div class=\"et_pb_divider_internal\"></div></div><div class=\"et_pb_module et_pb_text et_pb_text_17 et_pb_text_align_left et_pb_bg_layout_light\"><div class=\"et_pb_text_inner\"><h3>WE BELIEVE IN FRIENDS, FAMILY, AND DAMN GOOD BEER!</h3></div></div><div class=\"et_pb_module et_pb_text et_pb_text_18 et_pb_text_align_left et_pb_bg_layout_light\"><div class=\"et_pb_text_inner\"><p>Dueces Wild Brewery (DWB) is a veteran owned and operated craft brewery. We are strong supporters of our military, and first responder community and to say thanks we offer them a 10% discount on all pints for them. Our ambition is to brew high quality beer, support the local economy, and present a clean and friendly social environment for family and friends. We strive to make a well balanced selection of beers that everyone would enjoy. One taste of our beer and you’ll understand why Dueces Wild has quickly become one of Colorado Springs favorite breweries.</p><p>Although we are new to the craft beer community and only recently opened our doors in February of 2018, the team at DWB brings over 20 years of brewing experience to over 20 different and unique recipes for your drinking pleasure. Dueces operates on a state of the art 10 barrel Alpha brewing system which helps ensure the quality of beer is always consistent.</p></div></div></div></div><div class=\"et_pb_row et_pb_row_6 et_pb_equal_columns\"><div class=\"et_pb_column et_pb_column_1_3 et_pb_column_13 et_pb_css_mix_blend_mode_passthrough\"><div class=\"et_pb_module et_pb_cta_0 et_pb_promo et_pb_text_align_center et_pb_bg_layout_dark\"><div class=\"et_pb_promo_description\"><h2 class=\"et_pb_module_header\">SAISON W/ LEMON GRASS AND GRAINS OF PARADISE</h2><div><p><span>Lemony with a hint of white pepper</span></p><div dir=\"auto\">5.1% ABV, 15 IBU</div><div dir=\"auto\"></div><div dir=\"auto\"></div><div dir=\"auto\"></div><div dir=\"auto\"></div><div dir=\"auto\"></div><div dir=\"auto\"></div><div dir=\"auto\"></div><div dir=\"auto\"><img alt=\"\" class=\"wp-image-3551 alignnone size-medium\" height=\"229\" loading=\"lazy\" src=\"https://dwbbrewery.com/wp-content/uploads/2021/09/DWB-Logo-0418-Digital-300x229.jpg\" width=\"300\"/></div></div></div></div></div><div class=\"et_pb_column et_pb_column_1_3 et_pb_column_14 et_pb_css_mix_blend_mode_passthrough\"><div class=\"et_pb_module et_pb_cta_1 et_pb_promo et_pb_text_align_center et_pb_bg_layout_dark\"><div class=\"et_pb_promo_description\"><h2 class=\"et_pb_module_header\">PURE MORNING - PALE ALE.</h2><div><p>Light to medium body, citrusy</p><p class=\"p1\">5% ABV, 35IBU Hops: Citra</p><p class=\"p1\"><p class=\"p1\"><p class=\"p1\"><p class=\"p1\"><p class=\"p1\"><p class=\"p1\"><p class=\"p1\"><p class=\"p1\"><p class=\"p1\"><p class=\"p1\"><p class=\"p1\"><p class=\"p1\"><p class=\"p1\"><p class=\"p1\"><p class=\"p1\"></p></p></p></p></p></p></p></p></p></p></p></p></p></p></p></div></div></div><div class=\"et_pb_module et_pb_cta_2 et_pb_promo et_pb_text_align_center et_pb_bg_layout_dark\"><div class=\"et_pb_promo_description\"><h2 class=\"et_pb_module_header\">FUNKY GNOME- BELGIAN PALE ALE</h2><div><p class=\"p1\">A traditional Belgian style Pale Ale brewed with German and American hops that closely replicate the Noble hops used in these beers. Spicy aromas and flavors of the hops along with clove and banana esters. Light toast Jessica and fruit flavors carry through to the finish. A great beer for Summer.</p><p class=\"p1\">5.3% ABV 25 IBU Hops: German Northern Brewer, Sterling.</p><p class=\"p1\"><img alt=\"\" class=\"wp-image-1839 alignnone size-medium\" height=\"300\" loading=\"lazy\" src=\"https://dwbbrewery.com/wp-content/uploads/2019/09/funkygnome_tiny-225x300.jpeg\" width=\"225\"/></p><p class=\"p2\"></p></div></div></div><div class=\"et_pb_module et_pb_cta_3 et_pb_promo et_pb_text_align_center et_pb_bg_layout_dark\"><div class=\"et_pb_promo_description\"><h2 class=\"et_pb_module_header\">FUNKY GNOME- BELGIAN PALE ALE</h2><div><p class=\"p1\">A traditional Belgian style Pale Ale brewed with German and American hops that closely replicate the Noble hops used in these beers. Spicy aromas and flavors of the hops along with clove and banana esters. Light toast Jessica and fruit flavors carry through to the finish. A great beer for Summer.</p><p class=\"p1\">5.3% ABV 25 IBU Hops: German Northern Brewer, Sterling.</p><p class=\"p1\"><img alt=\"\" class=\"wp-image-1839 alignnone size-medium\" height=\"300\" loading=\"lazy\" src=\"https://dwbbrewery.com/wp-content/uploads/2019/09/funkygnome_tiny-225x300.jpeg\" width=\"225\"/></p><p class=\"p2\"></p></div></div></div></div><div class=\"et_pb_column et_pb_column_1_3 et_pb_column_15 et_pb_css_mix_blend_mode_passthrough et-last-child et_pb_column_empty\"></div></div></div></div></div></div></div></article></div><footer id=\"main-footer\"><div id=\"et-footer-nav\"><div class=\"container\"><ul class=\"bottom-nav\" id=\"menu-footer\"><li class=\"menu-item menu-item-type-post_type menu-item-object-page menu-item-privacy-policy menu-item-796\" id=\"menu-item-796\"><a href=\"https://dwbbrewery.com/privacy-policy/\">Privacy Policy</a></li></ul></div></div><div id=\"footer-bottom\"><div class=\"container clearfix\"><ul class=\"et-social-icons\"><li class=\"et-social-icon et-social-facebook\"> <a class=\"icon\" href=\"https://www.facebook.com/DWBbrewery/\"> <span>Facebook</span> </a></li><li class=\"et-social-icon et-social-twitter\"> <a class=\"icon\" href=\"https://www.twitter.com/dwbbrewery/\"> <span>Twitter</span> </a></li></ul><div id=\"footer-info\">All rights reserved © Dueces Wild Brewery</div></div></div></footer></div></div>,\n",
       " <div id=\"top-header\"><div class=\"container clearfix\"><div id=\"et-info\"> <span id=\"et-info-phone\">(719) 394-4811</span> <a href=\"mailto:dueces@dwbbrewery.com\"><span id=\"et-info-email\">dueces@dwbbrewery.com</span></a></div><div id=\"et-secondary-menu\"><ul class=\"menu\" id=\"et-secondary-nav\"><li class=\"secondary-button menu-item menu-item-type-post_type menu-item-object-page menu-item-262\"><a href=\"https://dwbbrewery.com/dwb-on-tap-at/\">Find us on Tap</a></li></ul><a class=\"et-cart-info\" href=\"https://dwbbrewery.com/cart/\"> <span>0 Items</span> </a></div></div></div>,\n",
       " <div class=\"container clearfix\"><div id=\"et-info\"> <span id=\"et-info-phone\">(719) 394-4811</span> <a href=\"mailto:dueces@dwbbrewery.com\"><span id=\"et-info-email\">dueces@dwbbrewery.com</span></a></div><div id=\"et-secondary-menu\"><ul class=\"menu\" id=\"et-secondary-nav\"><li class=\"secondary-button menu-item menu-item-type-post_type menu-item-object-page menu-item-262\"><a href=\"https://dwbbrewery.com/dwb-on-tap-at/\">Find us on Tap</a></li></ul><a class=\"et-cart-info\" href=\"https://dwbbrewery.com/cart/\"> <span>0 Items</span> </a></div></div>,\n",
       " <div id=\"et-info\"> <span id=\"et-info-phone\">(719) 394-4811</span> <a href=\"mailto:dueces@dwbbrewery.com\"><span id=\"et-info-email\">dueces@dwbbrewery.com</span></a></div>,\n",
       " <div id=\"et-secondary-menu\"><ul class=\"menu\" id=\"et-secondary-nav\"><li class=\"secondary-button menu-item menu-item-type-post_type menu-item-object-page menu-item-262\"><a href=\"https://dwbbrewery.com/dwb-on-tap-at/\">Find us on Tap</a></li></ul><a class=\"et-cart-info\" href=\"https://dwbbrewery.com/cart/\"> <span>0 Items</span> </a></div>,\n",
       " <div class=\"container clearfix et_menu_container\"><div class=\"logo_container\"> <span class=\"logo_helper\"></span> <a href=\"https://dwbbrewery.com/\"> <img alt=\"Dueces Wild Brewery\" data-height-percentage=\"100\" height=\"200\" id=\"logo\" src=\"https://dwbbrewery.com/wp-content/uploads/2019/01/DWB-Logo-0418-White_tiny.png\" width=\"300\"/> </a></div><div data-fixed-height=\"66\" data-height=\"110\" id=\"et-top-navigation\"><nav id=\"top-menu-nav\"><ul class=\"nav\" id=\"top-menu\"><li class=\"menu-item menu-item-type-post_type menu-item-object-page menu-item-home current-menu-item page_item page-item-7 current_page_item menu-item-51\" id=\"menu-item-51\"><a aria-current=\"page\" href=\"https://dwbbrewery.com/\">DWB Brewery</a></li><li class=\"menu-item menu-item-type-post_type menu-item-object-page menu-item-50\" id=\"menu-item-50\"><a href=\"https://dwbbrewery.com/beers/\">Beers</a></li><li class=\"menu-item menu-item-type-post_type menu-item-object-page menu-item-49\" id=\"menu-item-49\"><a href=\"https://dwbbrewery.com/the-duece-is-loose/\">The Duece is Loose!</a></li><li class=\"menu-item menu-item-type-post_type menu-item-object-page menu-item-228\" id=\"menu-item-228\"><a href=\"https://dwbbrewery.com/dwb-swag-online-shopping/\">Shop</a></li><li class=\"menu-item menu-item-type-custom menu-item-object-custom menu-item-has-children menu-item-1746\" id=\"menu-item-1746\"><a href=\"#\">Events</a><ul class=\"sub-menu\"><li class=\"menu-item menu-item-type-post_type menu-item-object-page menu-item-3316\" id=\"menu-item-3316\"><a href=\"https://dwbbrewery.com/peterson-events/\">Peterson Events</a></li><li class=\"menu-item menu-item-type-post_type menu-item-object-page menu-item-3317\" id=\"menu-item-3317\"><a href=\"https://dwbbrewery.com/tgap-events/\">TGap Events</a></li></ul></li></ul></nav><div id=\"et_mobile_nav_menu\"><div class=\"mobile_nav closed\"> <span class=\"select_page\">Select Page</span> <span class=\"mobile_menu_bar mobile_menu_bar_toggle\"></span></div></div></div></div>,\n",
       " <div class=\"logo_container\"> <span class=\"logo_helper\"></span> <a href=\"https://dwbbrewery.com/\"> <img alt=\"Dueces Wild Brewery\" data-height-percentage=\"100\" height=\"200\" id=\"logo\" src=\"https://dwbbrewery.com/wp-content/uploads/2019/01/DWB-Logo-0418-White_tiny.png\" width=\"300\"/> </a></div>,\n",
       " <div data-fixed-height=\"66\" data-height=\"110\" id=\"et-top-navigation\"><nav id=\"top-menu-nav\"><ul class=\"nav\" id=\"top-menu\"><li class=\"menu-item menu-item-type-post_type menu-item-object-page menu-item-home current-menu-item page_item page-item-7 current_page_item menu-item-51\" id=\"menu-item-51\"><a aria-current=\"page\" href=\"https://dwbbrewery.com/\">DWB Brewery</a></li><li class=\"menu-item menu-item-type-post_type menu-item-object-page menu-item-50\" id=\"menu-item-50\"><a href=\"https://dwbbrewery.com/beers/\">Beers</a></li><li class=\"menu-item menu-item-type-post_type menu-item-object-page menu-item-49\" id=\"menu-item-49\"><a href=\"https://dwbbrewery.com/the-duece-is-loose/\">The Duece is Loose!</a></li><li class=\"menu-item menu-item-type-post_type menu-item-object-page menu-item-228\" id=\"menu-item-228\"><a href=\"https://dwbbrewery.com/dwb-swag-online-shopping/\">Shop</a></li><li class=\"menu-item menu-item-type-custom menu-item-object-custom menu-item-has-children menu-item-1746\" id=\"menu-item-1746\"><a href=\"#\">Events</a><ul class=\"sub-menu\"><li class=\"menu-item menu-item-type-post_type menu-item-object-page menu-item-3316\" id=\"menu-item-3316\"><a href=\"https://dwbbrewery.com/peterson-events/\">Peterson Events</a></li><li class=\"menu-item menu-item-type-post_type menu-item-object-page menu-item-3317\" id=\"menu-item-3317\"><a href=\"https://dwbbrewery.com/tgap-events/\">TGap Events</a></li></ul></li></ul></nav><div id=\"et_mobile_nav_menu\"><div class=\"mobile_nav closed\"> <span class=\"select_page\">Select Page</span> <span class=\"mobile_menu_bar mobile_menu_bar_toggle\"></span></div></div></div>,\n",
       " <div id=\"et_mobile_nav_menu\"><div class=\"mobile_nav closed\"> <span class=\"select_page\">Select Page</span> <span class=\"mobile_menu_bar mobile_menu_bar_toggle\"></span></div></div>,\n",
       " <div class=\"mobile_nav closed\"> <span class=\"select_page\">Select Page</span> <span class=\"mobile_menu_bar mobile_menu_bar_toggle\"></span></div>,\n",
       " <div class=\"et_search_outer\"><div class=\"container et_search_form_container\"><form action=\"https://dwbbrewery.com/\" class=\"et-search-form\" method=\"get\" role=\"search\"> <input class=\"et-search-field\" name=\"s\" placeholder=\"Search …\" title=\"Search for:\" type=\"search\" value=\"\"/></form> <span class=\"et_close_search_field\"></span></div></div>,\n",
       " <div class=\"container et_search_form_container\"><form action=\"https://dwbbrewery.com/\" class=\"et-search-form\" method=\"get\" role=\"search\"> <input class=\"et-search-field\" name=\"s\" placeholder=\"Search …\" title=\"Search for:\" type=\"search\" value=\"\"/></form> <span class=\"et_close_search_field\"></span></div>,\n",
       " <div id=\"et-main-area\"><div id=\"main-content\"><article class=\"post-7 page type-page status-publish hentry\" id=\"post-7\"><div class=\"entry-content\"><div class=\"et-boc\" id=\"et-boc\"><div class=\"et-l et-l--post\"><div class=\"et_builder_inner_content et_pb_gutters3\"><div class=\"et_pb_section et_pb_section_0 et_section_regular\"><div class=\"et_pb_row et_pb_row_0\"><div class=\"et_pb_column et_pb_column_1_2 et_pb_column_0 et_pb_css_mix_blend_mode_passthrough\"><div class=\"et_pb_module et_pb_image et_pb_image_0\"> <span class=\"et_pb_image_wrap\"><img alt=\"\" class=\"wp-image-22\" height=\"136\" loading=\"lazy\" sizes=\"(max-width: 300px) 100vw, 300px\" src=\"https://dwbbrewery.com/wp-content/uploads/2019/01/DucesWildcolor-logo_tinied-300x136.png\" srcset=\"https://dwbbrewery.com/wp-content/uploads/2019/01/DucesWildcolor-logo_tinied-300x136.png 300w, https://dwbbrewery.com/wp-content/uploads/2019/01/DucesWildcolor-logo_tinied-600x272.png 600w, https://dwbbrewery.com/wp-content/uploads/2019/01/DucesWildcolor-logo_tinied-768x349.png 768w, https://dwbbrewery.com/wp-content/uploads/2019/01/DucesWildcolor-logo_tinied.png 859w\" title=\"\" width=\"300\"/></span></div><div class=\"et_pb_module et_pb_text et_pb_text_0 et_pb_text_align_left et_pb_bg_layout_light\"><div class=\"et_pb_text_inner\"><h3>Due to the COVID19, our hours are limited but we are offering <a href=\"https://dwbbrewery.com/gift-card/\" title=\"Gift Cards\">gift cards</a>.</h3></div></div><div class=\"et_pb_button_module_wrapper et_pb_button_0_wrapper et_pb_button_alignment_center et_pb_module\"> <a class=\"et_pb_button et_pb_button_0 et_pb_bg_layout_light\" href=\"https://dwbbrewery.com/gift-card/\">Get your gift cards</a></div></div><div class=\"et_pb_column et_pb_column_1_2 et_pb_column_1 et_pb_css_mix_blend_mode_passthrough et-last-child\"><div class=\"et_pb_module et_pb_blurb et_pb_blurb_0 et_clickable et_pb_text_align_left et_pb_blurb_position_top et_pb_bg_layout_light\"><div class=\"et_pb_blurb_content\"><div class=\"et_pb_main_blurb_image\"><a href=\"/gift-card/\"><span class=\"et_pb_image_wrap\"><img alt=\"\" class=\"et-waypoint et_pb_animation_top et_pb_animation_top_tablet et_pb_animation_top_phone wp-image-3379\" height=\"300\" loading=\"lazy\" src=\"https://dwbbrewery.com/wp-content/uploads/2020/03/pw-gift-card-300x300.png\" width=\"300\"/></span></a></div><div class=\"et_pb_blurb_container\"><h4 class=\"et_pb_module_header\"><a href=\"/gift-card/\">Support Local Business by purchasing Gift Cards</a></h4><div class=\"et_pb_blurb_description\"><p>We offer gift cards and we are happy to mail them to you. You may also pick them up at the brewery.</p></div></div></div></div></div></div></div><div class=\"et_pb_section et_pb_section_1 et_pb_with_background et_section_regular\"><div class=\"et_pb_row et_pb_row_1\"><div class=\"et_pb_column et_pb_column_1_4 et_pb_column_2 et_pb_css_mix_blend_mode_passthrough et_pb_column_empty\"></div><div class=\"et_pb_column et_pb_column_1_2 et_pb_column_3 et_pb_css_mix_blend_mode_passthrough\"><div class=\"et_pb_module et_pb_image et_pb_image_1 et_pb_image_sticky\"> <span class=\"et_pb_image_wrap\"><img alt=\"\" class=\"wp-image-22\" height=\"390\" loading=\"lazy\" sizes=\"(max-width: 859px) 100vw, 859px\" src=\"https://dwbbrewery.com/wp-content/uploads/2019/01/DucesWildcolor-logo_tinied.png\" srcset=\"https://dwbbrewery.com/wp-content/uploads/2019/01/DucesWildcolor-logo_tinied.png 859w, https://dwbbrewery.com/wp-content/uploads/2019/01/DucesWildcolor-logo_tinied-600x272.png 600w, https://dwbbrewery.com/wp-content/uploads/2019/01/DucesWildcolor-logo_tinied-300x136.png 300w, https://dwbbrewery.com/wp-content/uploads/2019/01/DucesWildcolor-logo_tinied-768x349.png 768w\" title=\"\" width=\"859\"/></span></div><div class=\"et_pb_module et_pb_text et_pb_text_1 et_pb_text_align_left et_pb_bg_layout_light\"><div class=\"et_pb_text_inner\"><h1>Dueces Wild Brewery</h1></div></div><div class=\"et_pb_module et_pb_text et_pb_text_2 et_pb_text_align_left et_pb_bg_layout_light\"><div class=\"et_pb_text_inner\"><h2>Home of the 2019, Great American Beer Festival Gold Medal winning, Knuckle Dragger, Scotch ale.</h2></div></div><div class=\"et_pb_module et_pb_text et_pb_text_3 et_pb_text_align_left et_pb_bg_layout_light\"><div class=\"et_pb_text_inner\"><h1>EST. 2018</h1></div></div></div><div class=\"et_pb_column et_pb_column_1_4 et_pb_column_4 et_pb_css_mix_blend_mode_passthrough et-last-child\"><div class=\"et_pb_module et_pb_image et_pb_image_2 et_pb_image_sticky\"> <span class=\"et_pb_image_wrap\"><img alt=\"\" class=\"wp-image-2002\" height=\"837\" loading=\"lazy\" sizes=\"(min-width: 0px) and (max-width: 480px) 480px, (min-width: 481px) 585px, 100vw\" src=\"https://dwbbrewery.com/wp-content/uploads/2019/10/GABF-Gold-RGB.png\" srcset=\"https://dwbbrewery.com/wp-content/uploads/2019/10/GABF-Gold-RGB.png 585w, https://dwbbrewery.com/wp-content/uploads/2019/10/GABF-Gold-RGB-480x687.png 480w\" title=\"\" width=\"585\"/></span></div><div class=\"et_pb_module et_pb_text et_pb_text_4 et_pb_text_align_center et_pb_bg_layout_light\"><div class=\"et_pb_text_inner\"><p>Knuckle Dragger, 2019 Gold<br/> medal, Scotch Ale category</p></div></div></div></div><div class=\"et_pb_row et_pb_row_2 et_pb_equal_columns\"><div class=\"et_pb_column et_pb_column_1_2 et_pb_column_5 et_pb_css_mix_blend_mode_passthrough\"><div class=\"et_pb_module et_pb_text et_pb_text_5 et_pb_text_align_center et_pb_bg_layout_light\"><div class=\"et_pb_text_inner\"><p style=\"text-align: justify;\">BREWERY</p><p style=\"text-align: left;\">660 Peterson Road</p></div></div><div class=\"et_pb_button_module_wrapper et_pb_button_1_wrapper et_pb_button_alignment_center et_pb_module\"> <a class=\"et_pb_button et_pb_button_1 et_pb_bg_layout_light\" href=\"https://dwbbrewery.com/beers/\">BEERS </a></div><div class=\"et_pb_button_module_wrapper et_pb_button_2_wrapper et_pb_button_alignment_center et_pb_module\"> <a class=\"et_pb_button et_pb_button_2 et_pb_bg_layout_light\" href=\"https://dwbbrewery.com/peterson-events/\">EVENTS</a></div></div><div class=\"et_pb_column et_pb_column_1_2 et_pb_column_6 et_pb_css_mix_blend_mode_passthrough et-last-child\"><div class=\"et_pb_module et_pb_text et_pb_text_6 et_pb_text_align_center et_pb_bg_layout_light\"><div class=\"et_pb_text_inner\"><p>TAPROOM</p><p>3352 Templeton Gap</p></div></div><div class=\"et_pb_button_module_wrapper et_pb_button_3_wrapper et_pb_button_alignment_center et_pb_module\"> <a class=\"et_pb_button et_pb_button_3 et_pb_bg_layout_light\" href=\"https://dwbbrewery.com/beers-tgap/\">BEERS </a></div><div class=\"et_pb_button_module_wrapper et_pb_button_4_wrapper et_pb_button_alignment_center et_pb_module\"> <a class=\"et_pb_button et_pb_button_4 et_pb_bg_layout_light\" href=\"https://dwbbrewery.com/tgap-events/\">EVENTS</a></div></div></div></div><div class=\"et_pb_section et_pb_section_2 et_pb_with_background et_section_regular\"><div class=\"et_pb_row et_pb_row_3 et_pb_equal_columns\"><div class=\"et_pb_column et_pb_column_1_3 et_pb_column_7 et_pb_css_mix_blend_mode_passthrough\"><div class=\"et_pb_module et_pb_divider_0 et_pb_space et_pb_divider_hidden\"><div class=\"et_pb_divider_internal\"></div></div><div class=\"et_pb_module et_pb_divider_1 et_pb_space et_pb_divider_hidden\"><div class=\"et_pb_divider_internal\"></div></div><div class=\"et_pb_module et_pb_text et_pb_text_7 et_pb_text_align_left et_pb_bg_layout_light\"><div class=\"et_pb_text_inner\"><h2>Good Place</h2></div></div><div class=\"et_pb_module et_pb_divider_2 et_pb_space et_pb_divider_hidden\"><div class=\"et_pb_divider_internal\"></div></div><div class=\"et_pb_module et_pb_divider_3 et_pb_space et_pb_divider_hidden\"><div class=\"et_pb_divider_internal\"></div></div></div><div class=\"et_pb_column et_pb_column_1_3 et_pb_column_8 et_pb_css_mix_blend_mode_passthrough\"><div class=\"et_pb_module et_pb_divider_4 et_pb_space et_pb_divider_hidden\"><div class=\"et_pb_divider_internal\"></div></div><div class=\"et_pb_module et_pb_divider_5 et_pb_space et_pb_divider_hidden\"><div class=\"et_pb_divider_internal\"></div></div><div class=\"et_pb_module et_pb_text et_pb_text_8 et_pb_text_align_left et_pb_bg_layout_light\"><div class=\"et_pb_text_inner\"><h2>Good People</h2></div></div><div class=\"et_pb_module et_pb_divider_6 et_pb_space et_pb_divider_hidden\"><div class=\"et_pb_divider_internal\"></div></div><div class=\"et_pb_module et_pb_divider_7 et_pb_space et_pb_divider_hidden\"><div class=\"et_pb_divider_internal\"></div></div></div><div class=\"et_pb_column et_pb_column_1_3 et_pb_column_9 et_pb_css_mix_blend_mode_passthrough et-last-child\"><div class=\"et_pb_module et_pb_divider_8 et_pb_space et_pb_divider_hidden\"><div class=\"et_pb_divider_internal\"></div></div><div class=\"et_pb_module et_pb_divider_9 et_pb_space et_pb_divider_hidden\"><div class=\"et_pb_divider_internal\"></div></div><div class=\"et_pb_module et_pb_text et_pb_text_9 et_pb_text_align_left et_pb_bg_layout_light\"><div class=\"et_pb_text_inner\"><h2>Damn Good Beer</h2></div></div><div class=\"et_pb_module et_pb_divider_10 et_pb_space et_pb_divider_hidden\"><div class=\"et_pb_divider_internal\"></div></div><div class=\"et_pb_module et_pb_divider_11 et_pb_space et_pb_divider_hidden\"><div class=\"et_pb_divider_internal\"></div></div></div></div></div><div class=\"et_pb_section et_pb_section_3 et_section_regular\"><div class=\"et_pb_row et_pb_row_4\"><div class=\"et_pb_column et_pb_column_4_4 et_pb_column_10 et_pb_css_mix_blend_mode_passthrough et-last-child\"><div class=\"et_pb_with_border et_pb_module et_pb_text et_pb_text_10 et_pb_text_align_left et_pb_bg_layout_light\"><div class=\"et_pb_text_inner\"><h2>Latest Duece is Loose!!</h2></div></div><div class=\"et_pb_module et_pb_blog_0 et_pb_posts et_pb_bg_layout_light\"><div class=\"et_pb_ajax_pagination_container\"><article class=\"et_pb_post clearfix et_pb_no_thumb et_pb_blog_item_0_0 post-1226 post type-post status-publish format-standard hentry category-the-duece-is-loose\" id=\"post-1226\"><h2 class=\"entry-title\"><a href=\"https://dwbbrewery.com/the-duece-is-loose/\">The Duece is Loose!</a></h2><p class=\"post-meta\"><span class=\"published\">Mar 17, 2019</span></p><div class=\"post-content\"><div class=\"post-content-inner\"><p>The Duece is Loose!  This time enjoying the magnificent Sahara Desert sunset. Thanks for the love John and Kelly! Cheers!</p></div></div></article><article class=\"et_pb_post clearfix et_pb_no_thumb et_pb_blog_item_0_1 post-606 post type-post status-publish format-standard has-post-thumbnail hentry category-the-duece-is-loose\" id=\"post-606\"><h2 class=\"entry-title\"><a href=\"https://dwbbrewery.com/stone-bridge-brewing-co-johnstown-pa-thank-you-jen/\">Stone Bridge Brewing Co.- Johnstown, PA. Thank you Jen!</a></h2><p class=\"post-meta\"><span class=\"published\">Jan 15, 2019</span></p><div class=\"post-content\"><div class=\"post-content-inner\"></div></div></article><article class=\"et_pb_post clearfix et_pb_no_thumb et_pb_blog_item_0_2 post-604 post type-post status-publish format-standard has-post-thumbnail hentry category-the-duece-is-loose\" id=\"post-604\"><h2 class=\"entry-title\"><a href=\"https://dwbbrewery.com/usaf-half-marathon-dayton-oh-thank-you-pat/\">USAF half Marathon-Dayton, OH. Thank you Pat!</a></h2><p class=\"post-meta\"><span class=\"published\">Jan 15, 2019</span></p><div class=\"post-content\"><div class=\"post-content-inner\"></div></div></article><div><div class=\"pagination clearfix\"><div class=\"alignleft\"><a href=\"https://dwbbrewery.com/page/2/?et_blog\">« Older Entries</a></div><div class=\"alignright\"></div></div></div></div></div></div></div></div><div class=\"et_pb_section et_pb_section_5 et_pb_with_background et_section_regular\"><div class=\"et_pb_row et_pb_row_5\"><div class=\"et_pb_column et_pb_column_2_5 et_pb_column_11 et_pb_css_mix_blend_mode_passthrough\"><div class=\"et_pb_module et_pb_text et_pb_text_11 et_pb_text_align_left et_pb_bg_layout_light\"><div class=\"et_pb_text_inner\"><h2>FIND US</h2></div></div><div class=\"et_pb_module et_pb_image et_pb_image_3\"> <span class=\"et_pb_image_wrap has-box-shadow-overlay\"><div class=\"box-shadow-overlay\"></div><img alt=\"\" class=\"wp-image-17\" height=\"199\" loading=\"lazy\" src=\"https://dwbbrewery.com/wp-content/uploads/2019/01/dwbboxandbeer-300x199.jpg\" title=\"\" width=\"300\"/></span></div><div class=\"et_pb_with_border et_pb_module et_pb_text et_pb_text_12 et_pb_text_align_left et_pb_bg_layout_light\"><div class=\"et_pb_text_inner\"><p>Locations &amp; Hours</p></div></div><div class=\"et_pb_module et_pb_text et_pb_text_13 et_pb_text_align_left et_pb_bg_layout_light\"><div class=\"et_pb_text_inner\"><p><a href=\"https://www.google.com/maps/place/660+Peterson+Rd,+Colorado+Springs,+CO+80915/@38.8414842,-104.7046135,17z/data=!3m1!4b1!4m5!3m4!1s0x871347aa4f8fb193:0x8761831727a0fddc!8m2!3d38.8414842!4d-104.7024248\" rel=\"noopener noreferrer\" target=\"_blank\">660 Peterson Road</a><br/> Colorado Springs, Co 80915<br/> <a href=\"tel:1-719-394-4811\">(719)394-4811</a><br/> <a href=\"mailto:dueces@dwbbrewery.com\">dueces@dwbbrewery.com</a></p></div></div><div class=\"et_pb_module et_pb_text et_pb_text_14 et_pb_text_align_left et_pb_bg_layout_light\"><div class=\"et_pb_text_inner\"><p>Monday – Closed to make Damn Good Beer</p><p>Tuesday-Wednesday 3pm-8pm</p><p>Thursday- 3:00pm-9:00pm</p><p>Friday- 12pm-10pm</p><p>Saturday-12:00pm-10:00pm</p><p>Sunday: 11:00am–6:00pm</p></div></div><ul class=\"et_pb_module et_pb_social_media_follow et_pb_social_media_follow_0 clearfix et_pb_bg_layout_light\"><li class=\"et_pb_social_media_follow_network_0 et_pb_social_icon et_pb_social_network_link et-social-facebook et_pb_social_media_follow_network_0\"><a class=\"icon et_pb_with_border\" href=\"https://www.facebook.com/dwbbrewery/\" target=\"_blank\" title=\"Follow on Facebook\"><span aria-hidden=\"true\" class=\"et_pb_social_media_follow_network_name\">Follow</span></a></li><li class=\"et_pb_social_media_follow_network_1 et_pb_social_icon et_pb_social_network_link et-social-twitter et_pb_social_media_follow_network_1\"><a class=\"icon et_pb_with_border\" href=\"https://www.twitter.com/dwbbrewery/\" target=\"_blank\" title=\"Follow on Twitter\"><span aria-hidden=\"true\" class=\"et_pb_social_media_follow_network_name\">Follow</span></a></li><li class=\"et_pb_social_media_follow_network_2 et_pb_social_icon et_pb_social_network_link et-social-instagram et_pb_social_media_follow_network_2\"><a class=\"icon et_pb_with_border\" href=\"https://www.instagram.com/dwbbrewery/\" target=\"_blank\" title=\"Follow on Instagram\"><span aria-hidden=\"true\" class=\"et_pb_social_media_follow_network_name\">Follow</span></a></li></ul><div class=\"et_pb_module et_pb_text et_pb_text_15 et_pb_text_align_left et_pb_bg_layout_light\"><div class=\"et_pb_text_inner\"><p><a href=\"https://www.google.com/maps/place/3352+Templeton+Gap+Rd,+Colorado+Springs,+CO+80907/@38.8785326,-104.7971843,17z/data=!3m1!4b1!4m5!3m4!1s0x87134f7a75168e51:0x127b95a55f919551!8m2!3d38.8785326!4d-104.7949956\" rel=\"noopener noreferrer\" target=\"_blank\">3352 Templeton Gap Road</a><br/> Colorado Springs, Co 80907<br/><a href=\"tal:17193745806\">719-374-5806</a><br/><a href=\"mailto:dueces@dwbbrewery.com\">dueces@dwbbrewery.com</a></p></div></div><div class=\"et_pb_module et_pb_text et_pb_text_16 et_pb_text_align_left et_pb_bg_layout_light\"><div class=\"et_pb_text_inner\"><p>Monday– Closed to make Damn Good Beer</p><p>Tuesday &amp; Wednesday: 3:00pm-8:00pm</p><p>Thursday- 3:00pm-9:00pm</p><p>Friday &amp; Saturday- 12:00pm-10:00pm</p><p>Sunday: 11:00am – 6:00pm</p></div></div><ul class=\"et_pb_module et_pb_social_media_follow et_pb_social_media_follow_1 clearfix et_pb_bg_layout_light\"><li class=\"et_pb_social_media_follow_network_3 et_pb_social_icon et_pb_social_network_link et-social-facebook et_pb_social_media_follow_network_3\"><a class=\"icon et_pb_with_border\" href=\"https://www.facebook.com/dwbontapattgap\" target=\"_blank\" title=\"Follow on Facebook\"><span aria-hidden=\"true\" class=\"et_pb_social_media_follow_network_name\">Follow</span></a></li><li class=\"et_pb_social_media_follow_network_4 et_pb_social_icon et_pb_social_network_link et-social-twitter et_pb_social_media_follow_network_4\"><a class=\"icon et_pb_with_border\" href=\"https://www.twitter.com/dwbbrewery/\" target=\"_blank\" title=\"Follow on Twitter\"><span aria-hidden=\"true\" class=\"et_pb_social_media_follow_network_name\">Follow</span></a></li><li class=\"et_pb_social_media_follow_network_5 et_pb_social_icon et_pb_social_network_link et-social-instagram et_pb_social_media_follow_network_5\"><a class=\"icon et_pb_with_border\" href=\"https://www.instagram.com/dwbontap/\" target=\"_blank\" title=\"Follow on Instagram\"><span aria-hidden=\"true\" class=\"et_pb_social_media_follow_network_name\">Follow</span></a></li></ul></div><div class=\"et_pb_column et_pb_column_3_5 et_pb_column_12 et_pb_css_mix_blend_mode_passthrough et-last-child\"><div class=\"et_pb_module et_pb_image et_pb_image_4 et_animated et-waypoint\"> <span class=\"et_pb_image_wrap\"><img alt=\"\" class=\"wp-image-18\" height=\"300\" loading=\"lazy\" sizes=\"(max-width: 300px) 100vw, 300px\" src=\"https://dwbbrewery.com/wp-content/uploads/2019/01/DWB-Barrel2.jpg-300x300.png\" srcset=\"https://dwbbrewery.com/wp-content/uploads/2019/01/DWB-Barrel2.jpg-300x300.png 300w, https://dwbbrewery.com/wp-content/uploads/2019/01/DWB-Barrel2.jpg-300x300-100x100.png 100w, https://dwbbrewery.com/wp-content/uploads/2019/01/DWB-Barrel2.jpg-300x300-150x150.png 150w\" title=\"\" width=\"300\"/></span></div><div class=\"et_pb_module et_pb_divider_12 et_pb_space et_pb_divider_hidden\"><div class=\"et_pb_divider_internal\"></div></div><div class=\"et_pb_module et_pb_text et_pb_text_17 et_pb_text_align_left et_pb_bg_layout_light\"><div class=\"et_pb_text_inner\"><h3>WE BELIEVE IN FRIENDS, FAMILY, AND DAMN GOOD BEER!</h3></div></div><div class=\"et_pb_module et_pb_text et_pb_text_18 et_pb_text_align_left et_pb_bg_layout_light\"><div class=\"et_pb_text_inner\"><p>Dueces Wild Brewery (DWB) is a veteran owned and operated craft brewery. We are strong supporters of our military, and first responder community and to say thanks we offer them a 10% discount on all pints for them. Our ambition is to brew high quality beer, support the local economy, and present a clean and friendly social environment for family and friends. We strive to make a well balanced selection of beers that everyone would enjoy. One taste of our beer and you’ll understand why Dueces Wild has quickly become one of Colorado Springs favorite breweries.</p><p>Although we are new to the craft beer community and only recently opened our doors in February of 2018, the team at DWB brings over 20 years of brewing experience to over 20 different and unique recipes for your drinking pleasure. Dueces operates on a state of the art 10 barrel Alpha brewing system which helps ensure the quality of beer is always consistent.</p></div></div></div></div><div class=\"et_pb_row et_pb_row_6 et_pb_equal_columns\"><div class=\"et_pb_column et_pb_column_1_3 et_pb_column_13 et_pb_css_mix_blend_mode_passthrough\"><div class=\"et_pb_module et_pb_cta_0 et_pb_promo et_pb_text_align_center et_pb_bg_layout_dark\"><div class=\"et_pb_promo_description\"><h2 class=\"et_pb_module_header\">SAISON W/ LEMON GRASS AND GRAINS OF PARADISE</h2><div><p><span>Lemony with a hint of white pepper</span></p><div dir=\"auto\">5.1% ABV, 15 IBU</div><div dir=\"auto\"></div><div dir=\"auto\"></div><div dir=\"auto\"></div><div dir=\"auto\"></div><div dir=\"auto\"></div><div dir=\"auto\"></div><div dir=\"auto\"></div><div dir=\"auto\"><img alt=\"\" class=\"wp-image-3551 alignnone size-medium\" height=\"229\" loading=\"lazy\" src=\"https://dwbbrewery.com/wp-content/uploads/2021/09/DWB-Logo-0418-Digital-300x229.jpg\" width=\"300\"/></div></div></div></div></div><div class=\"et_pb_column et_pb_column_1_3 et_pb_column_14 et_pb_css_mix_blend_mode_passthrough\"><div class=\"et_pb_module et_pb_cta_1 et_pb_promo et_pb_text_align_center et_pb_bg_layout_dark\"><div class=\"et_pb_promo_description\"><h2 class=\"et_pb_module_header\">PURE MORNING - PALE ALE.</h2><div><p>Light to medium body, citrusy</p><p class=\"p1\">5% ABV, 35IBU Hops: Citra</p><p class=\"p1\"><p class=\"p1\"><p class=\"p1\"><p class=\"p1\"><p class=\"p1\"><p class=\"p1\"><p class=\"p1\"><p class=\"p1\"><p class=\"p1\"><p class=\"p1\"><p class=\"p1\"><p class=\"p1\"><p class=\"p1\"><p class=\"p1\"><p class=\"p1\"></p></p></p></p></p></p></p></p></p></p></p></p></p></p></p></div></div></div><div class=\"et_pb_module et_pb_cta_2 et_pb_promo et_pb_text_align_center et_pb_bg_layout_dark\"><div class=\"et_pb_promo_description\"><h2 class=\"et_pb_module_header\">FUNKY GNOME- BELGIAN PALE ALE</h2><div><p class=\"p1\">A traditional Belgian style Pale Ale brewed with German and American hops that closely replicate the Noble hops used in these beers. Spicy aromas and flavors of the hops along with clove and banana esters. Light toast Jessica and fruit flavors carry through to the finish. A great beer for Summer.</p><p class=\"p1\">5.3% ABV 25 IBU Hops: German Northern Brewer, Sterling.</p><p class=\"p1\"><img alt=\"\" class=\"wp-image-1839 alignnone size-medium\" height=\"300\" loading=\"lazy\" src=\"https://dwbbrewery.com/wp-content/uploads/2019/09/funkygnome_tiny-225x300.jpeg\" width=\"225\"/></p><p class=\"p2\"></p></div></div></div><div class=\"et_pb_module et_pb_cta_3 et_pb_promo et_pb_text_align_center et_pb_bg_layout_dark\"><div class=\"et_pb_promo_description\"><h2 class=\"et_pb_module_header\">FUNKY GNOME- BELGIAN PALE ALE</h2><div><p class=\"p1\">A traditional Belgian style Pale Ale brewed with German and American hops that closely replicate the Noble hops used in these beers. Spicy aromas and flavors of the hops along with clove and banana esters. Light toast Jessica and fruit flavors carry through to the finish. A great beer for Summer.</p><p class=\"p1\">5.3% ABV 25 IBU Hops: German Northern Brewer, Sterling.</p><p class=\"p1\"><img alt=\"\" class=\"wp-image-1839 alignnone size-medium\" height=\"300\" loading=\"lazy\" src=\"https://dwbbrewery.com/wp-content/uploads/2019/09/funkygnome_tiny-225x300.jpeg\" width=\"225\"/></p><p class=\"p2\"></p></div></div></div></div><div class=\"et_pb_column et_pb_column_1_3 et_pb_column_15 et_pb_css_mix_blend_mode_passthrough et-last-child et_pb_column_empty\"></div></div></div></div></div></div></div></article></div><footer id=\"main-footer\"><div id=\"et-footer-nav\"><div class=\"container\"><ul class=\"bottom-nav\" id=\"menu-footer\"><li class=\"menu-item menu-item-type-post_type menu-item-object-page menu-item-privacy-policy menu-item-796\" id=\"menu-item-796\"><a href=\"https://dwbbrewery.com/privacy-policy/\">Privacy Policy</a></li></ul></div></div><div id=\"footer-bottom\"><div class=\"container clearfix\"><ul class=\"et-social-icons\"><li class=\"et-social-icon et-social-facebook\"> <a class=\"icon\" href=\"https://www.facebook.com/DWBbrewery/\"> <span>Facebook</span> </a></li><li class=\"et-social-icon et-social-twitter\"> <a class=\"icon\" href=\"https://www.twitter.com/dwbbrewery/\"> <span>Twitter</span> </a></li></ul><div id=\"footer-info\">All rights reserved © Dueces Wild Brewery</div></div></div></footer></div>,\n",
       " <div id=\"main-content\"><article class=\"post-7 page type-page status-publish hentry\" id=\"post-7\"><div class=\"entry-content\"><div class=\"et-boc\" id=\"et-boc\"><div class=\"et-l et-l--post\"><div class=\"et_builder_inner_content et_pb_gutters3\"><div class=\"et_pb_section et_pb_section_0 et_section_regular\"><div class=\"et_pb_row et_pb_row_0\"><div class=\"et_pb_column et_pb_column_1_2 et_pb_column_0 et_pb_css_mix_blend_mode_passthrough\"><div class=\"et_pb_module et_pb_image et_pb_image_0\"> <span class=\"et_pb_image_wrap\"><img alt=\"\" class=\"wp-image-22\" height=\"136\" loading=\"lazy\" sizes=\"(max-width: 300px) 100vw, 300px\" src=\"https://dwbbrewery.com/wp-content/uploads/2019/01/DucesWildcolor-logo_tinied-300x136.png\" srcset=\"https://dwbbrewery.com/wp-content/uploads/2019/01/DucesWildcolor-logo_tinied-300x136.png 300w, https://dwbbrewery.com/wp-content/uploads/2019/01/DucesWildcolor-logo_tinied-600x272.png 600w, https://dwbbrewery.com/wp-content/uploads/2019/01/DucesWildcolor-logo_tinied-768x349.png 768w, https://dwbbrewery.com/wp-content/uploads/2019/01/DucesWildcolor-logo_tinied.png 859w\" title=\"\" width=\"300\"/></span></div><div class=\"et_pb_module et_pb_text et_pb_text_0 et_pb_text_align_left et_pb_bg_layout_light\"><div class=\"et_pb_text_inner\"><h3>Due to the COVID19, our hours are limited but we are offering <a href=\"https://dwbbrewery.com/gift-card/\" title=\"Gift Cards\">gift cards</a>.</h3></div></div><div class=\"et_pb_button_module_wrapper et_pb_button_0_wrapper et_pb_button_alignment_center et_pb_module\"> <a class=\"et_pb_button et_pb_button_0 et_pb_bg_layout_light\" href=\"https://dwbbrewery.com/gift-card/\">Get your gift cards</a></div></div><div class=\"et_pb_column et_pb_column_1_2 et_pb_column_1 et_pb_css_mix_blend_mode_passthrough et-last-child\"><div class=\"et_pb_module et_pb_blurb et_pb_blurb_0 et_clickable et_pb_text_align_left et_pb_blurb_position_top et_pb_bg_layout_light\"><div class=\"et_pb_blurb_content\"><div class=\"et_pb_main_blurb_image\"><a href=\"/gift-card/\"><span class=\"et_pb_image_wrap\"><img alt=\"\" class=\"et-waypoint et_pb_animation_top et_pb_animation_top_tablet et_pb_animation_top_phone wp-image-3379\" height=\"300\" loading=\"lazy\" src=\"https://dwbbrewery.com/wp-content/uploads/2020/03/pw-gift-card-300x300.png\" width=\"300\"/></span></a></div><div class=\"et_pb_blurb_container\"><h4 class=\"et_pb_module_header\"><a href=\"/gift-card/\">Support Local Business by purchasing Gift Cards</a></h4><div class=\"et_pb_blurb_description\"><p>We offer gift cards and we are happy to mail them to you. You may also pick them up at the brewery.</p></div></div></div></div></div></div></div><div class=\"et_pb_section et_pb_section_1 et_pb_with_background et_section_regular\"><div class=\"et_pb_row et_pb_row_1\"><div class=\"et_pb_column et_pb_column_1_4 et_pb_column_2 et_pb_css_mix_blend_mode_passthrough et_pb_column_empty\"></div><div class=\"et_pb_column et_pb_column_1_2 et_pb_column_3 et_pb_css_mix_blend_mode_passthrough\"><div class=\"et_pb_module et_pb_image et_pb_image_1 et_pb_image_sticky\"> <span class=\"et_pb_image_wrap\"><img alt=\"\" class=\"wp-image-22\" height=\"390\" loading=\"lazy\" sizes=\"(max-width: 859px) 100vw, 859px\" src=\"https://dwbbrewery.com/wp-content/uploads/2019/01/DucesWildcolor-logo_tinied.png\" srcset=\"https://dwbbrewery.com/wp-content/uploads/2019/01/DucesWildcolor-logo_tinied.png 859w, https://dwbbrewery.com/wp-content/uploads/2019/01/DucesWildcolor-logo_tinied-600x272.png 600w, https://dwbbrewery.com/wp-content/uploads/2019/01/DucesWildcolor-logo_tinied-300x136.png 300w, https://dwbbrewery.com/wp-content/uploads/2019/01/DucesWildcolor-logo_tinied-768x349.png 768w\" title=\"\" width=\"859\"/></span></div><div class=\"et_pb_module et_pb_text et_pb_text_1 et_pb_text_align_left et_pb_bg_layout_light\"><div class=\"et_pb_text_inner\"><h1>Dueces Wild Brewery</h1></div></div><div class=\"et_pb_module et_pb_text et_pb_text_2 et_pb_text_align_left et_pb_bg_layout_light\"><div class=\"et_pb_text_inner\"><h2>Home of the 2019, Great American Beer Festival Gold Medal winning, Knuckle Dragger, Scotch ale.</h2></div></div><div class=\"et_pb_module et_pb_text et_pb_text_3 et_pb_text_align_left et_pb_bg_layout_light\"><div class=\"et_pb_text_inner\"><h1>EST. 2018</h1></div></div></div><div class=\"et_pb_column et_pb_column_1_4 et_pb_column_4 et_pb_css_mix_blend_mode_passthrough et-last-child\"><div class=\"et_pb_module et_pb_image et_pb_image_2 et_pb_image_sticky\"> <span class=\"et_pb_image_wrap\"><img alt=\"\" class=\"wp-image-2002\" height=\"837\" loading=\"lazy\" sizes=\"(min-width: 0px) and (max-width: 480px) 480px, (min-width: 481px) 585px, 100vw\" src=\"https://dwbbrewery.com/wp-content/uploads/2019/10/GABF-Gold-RGB.png\" srcset=\"https://dwbbrewery.com/wp-content/uploads/2019/10/GABF-Gold-RGB.png 585w, https://dwbbrewery.com/wp-content/uploads/2019/10/GABF-Gold-RGB-480x687.png 480w\" title=\"\" width=\"585\"/></span></div><div class=\"et_pb_module et_pb_text et_pb_text_4 et_pb_text_align_center et_pb_bg_layout_light\"><div class=\"et_pb_text_inner\"><p>Knuckle Dragger, 2019 Gold<br/> medal, Scotch Ale category</p></div></div></div></div><div class=\"et_pb_row et_pb_row_2 et_pb_equal_columns\"><div class=\"et_pb_column et_pb_column_1_2 et_pb_column_5 et_pb_css_mix_blend_mode_passthrough\"><div class=\"et_pb_module et_pb_text et_pb_text_5 et_pb_text_align_center et_pb_bg_layout_light\"><div class=\"et_pb_text_inner\"><p style=\"text-align: justify;\">BREWERY</p><p style=\"text-align: left;\">660 Peterson Road</p></div></div><div class=\"et_pb_button_module_wrapper et_pb_button_1_wrapper et_pb_button_alignment_center et_pb_module\"> <a class=\"et_pb_button et_pb_button_1 et_pb_bg_layout_light\" href=\"https://dwbbrewery.com/beers/\">BEERS </a></div><div class=\"et_pb_button_module_wrapper et_pb_button_2_wrapper et_pb_button_alignment_center et_pb_module\"> <a class=\"et_pb_button et_pb_button_2 et_pb_bg_layout_light\" href=\"https://dwbbrewery.com/peterson-events/\">EVENTS</a></div></div><div class=\"et_pb_column et_pb_column_1_2 et_pb_column_6 et_pb_css_mix_blend_mode_passthrough et-last-child\"><div class=\"et_pb_module et_pb_text et_pb_text_6 et_pb_text_align_center et_pb_bg_layout_light\"><div class=\"et_pb_text_inner\"><p>TAPROOM</p><p>3352 Templeton Gap</p></div></div><div class=\"et_pb_button_module_wrapper et_pb_button_3_wrapper et_pb_button_alignment_center et_pb_module\"> <a class=\"et_pb_button et_pb_button_3 et_pb_bg_layout_light\" href=\"https://dwbbrewery.com/beers-tgap/\">BEERS </a></div><div class=\"et_pb_button_module_wrapper et_pb_button_4_wrapper et_pb_button_alignment_center et_pb_module\"> <a class=\"et_pb_button et_pb_button_4 et_pb_bg_layout_light\" href=\"https://dwbbrewery.com/tgap-events/\">EVENTS</a></div></div></div></div><div class=\"et_pb_section et_pb_section_2 et_pb_with_background et_section_regular\"><div class=\"et_pb_row et_pb_row_3 et_pb_equal_columns\"><div class=\"et_pb_column et_pb_column_1_3 et_pb_column_7 et_pb_css_mix_blend_mode_passthrough\"><div class=\"et_pb_module et_pb_divider_0 et_pb_space et_pb_divider_hidden\"><div class=\"et_pb_divider_internal\"></div></div><div class=\"et_pb_module et_pb_divider_1 et_pb_space et_pb_divider_hidden\"><div class=\"et_pb_divider_internal\"></div></div><div class=\"et_pb_module et_pb_text et_pb_text_7 et_pb_text_align_left et_pb_bg_layout_light\"><div class=\"et_pb_text_inner\"><h2>Good Place</h2></div></div><div class=\"et_pb_module et_pb_divider_2 et_pb_space et_pb_divider_hidden\"><div class=\"et_pb_divider_internal\"></div></div><div class=\"et_pb_module et_pb_divider_3 et_pb_space et_pb_divider_hidden\"><div class=\"et_pb_divider_internal\"></div></div></div><div class=\"et_pb_column et_pb_column_1_3 et_pb_column_8 et_pb_css_mix_blend_mode_passthrough\"><div class=\"et_pb_module et_pb_divider_4 et_pb_space et_pb_divider_hidden\"><div class=\"et_pb_divider_internal\"></div></div><div class=\"et_pb_module et_pb_divider_5 et_pb_space et_pb_divider_hidden\"><div class=\"et_pb_divider_internal\"></div></div><div class=\"et_pb_module et_pb_text et_pb_text_8 et_pb_text_align_left et_pb_bg_layout_light\"><div class=\"et_pb_text_inner\"><h2>Good People</h2></div></div><div class=\"et_pb_module et_pb_divider_6 et_pb_space et_pb_divider_hidden\"><div class=\"et_pb_divider_internal\"></div></div><div class=\"et_pb_module et_pb_divider_7 et_pb_space et_pb_divider_hidden\"><div class=\"et_pb_divider_internal\"></div></div></div><div class=\"et_pb_column et_pb_column_1_3 et_pb_column_9 et_pb_css_mix_blend_mode_passthrough et-last-child\"><div class=\"et_pb_module et_pb_divider_8 et_pb_space et_pb_divider_hidden\"><div class=\"et_pb_divider_internal\"></div></div><div class=\"et_pb_module et_pb_divider_9 et_pb_space et_pb_divider_hidden\"><div class=\"et_pb_divider_internal\"></div></div><div class=\"et_pb_module et_pb_text et_pb_text_9 et_pb_text_align_left et_pb_bg_layout_light\"><div class=\"et_pb_text_inner\"><h2>Damn Good Beer</h2></div></div><div class=\"et_pb_module et_pb_divider_10 et_pb_space et_pb_divider_hidden\"><div class=\"et_pb_divider_internal\"></div></div><div class=\"et_pb_module et_pb_divider_11 et_pb_space et_pb_divider_hidden\"><div class=\"et_pb_divider_internal\"></div></div></div></div></div><div class=\"et_pb_section et_pb_section_3 et_section_regular\"><div class=\"et_pb_row et_pb_row_4\"><div class=\"et_pb_column et_pb_column_4_4 et_pb_column_10 et_pb_css_mix_blend_mode_passthrough et-last-child\"><div class=\"et_pb_with_border et_pb_module et_pb_text et_pb_text_10 et_pb_text_align_left et_pb_bg_layout_light\"><div class=\"et_pb_text_inner\"><h2>Latest Duece is Loose!!</h2></div></div><div class=\"et_pb_module et_pb_blog_0 et_pb_posts et_pb_bg_layout_light\"><div class=\"et_pb_ajax_pagination_container\"><article class=\"et_pb_post clearfix et_pb_no_thumb et_pb_blog_item_0_0 post-1226 post type-post status-publish format-standard hentry category-the-duece-is-loose\" id=\"post-1226\"><h2 class=\"entry-title\"><a href=\"https://dwbbrewery.com/the-duece-is-loose/\">The Duece is Loose!</a></h2><p class=\"post-meta\"><span class=\"published\">Mar 17, 2019</span></p><div class=\"post-content\"><div class=\"post-content-inner\"><p>The Duece is Loose!  This time enjoying the magnificent Sahara Desert sunset. Thanks for the love John and Kelly! Cheers!</p></div></div></article><article class=\"et_pb_post clearfix et_pb_no_thumb et_pb_blog_item_0_1 post-606 post type-post status-publish format-standard has-post-thumbnail hentry category-the-duece-is-loose\" id=\"post-606\"><h2 class=\"entry-title\"><a href=\"https://dwbbrewery.com/stone-bridge-brewing-co-johnstown-pa-thank-you-jen/\">Stone Bridge Brewing Co.- Johnstown, PA. Thank you Jen!</a></h2><p class=\"post-meta\"><span class=\"published\">Jan 15, 2019</span></p><div class=\"post-content\"><div class=\"post-content-inner\"></div></div></article><article class=\"et_pb_post clearfix et_pb_no_thumb et_pb_blog_item_0_2 post-604 post type-post status-publish format-standard has-post-thumbnail hentry category-the-duece-is-loose\" id=\"post-604\"><h2 class=\"entry-title\"><a href=\"https://dwbbrewery.com/usaf-half-marathon-dayton-oh-thank-you-pat/\">USAF half Marathon-Dayton, OH. Thank you Pat!</a></h2><p class=\"post-meta\"><span class=\"published\">Jan 15, 2019</span></p><div class=\"post-content\"><div class=\"post-content-inner\"></div></div></article><div><div class=\"pagination clearfix\"><div class=\"alignleft\"><a href=\"https://dwbbrewery.com/page/2/?et_blog\">« Older Entries</a></div><div class=\"alignright\"></div></div></div></div></div></div></div></div><div class=\"et_pb_section et_pb_section_5 et_pb_with_background et_section_regular\"><div class=\"et_pb_row et_pb_row_5\"><div class=\"et_pb_column et_pb_column_2_5 et_pb_column_11 et_pb_css_mix_blend_mode_passthrough\"><div class=\"et_pb_module et_pb_text et_pb_text_11 et_pb_text_align_left et_pb_bg_layout_light\"><div class=\"et_pb_text_inner\"><h2>FIND US</h2></div></div><div class=\"et_pb_module et_pb_image et_pb_image_3\"> <span class=\"et_pb_image_wrap has-box-shadow-overlay\"><div class=\"box-shadow-overlay\"></div><img alt=\"\" class=\"wp-image-17\" height=\"199\" loading=\"lazy\" src=\"https://dwbbrewery.com/wp-content/uploads/2019/01/dwbboxandbeer-300x199.jpg\" title=\"\" width=\"300\"/></span></div><div class=\"et_pb_with_border et_pb_module et_pb_text et_pb_text_12 et_pb_text_align_left et_pb_bg_layout_light\"><div class=\"et_pb_text_inner\"><p>Locations &amp; Hours</p></div></div><div class=\"et_pb_module et_pb_text et_pb_text_13 et_pb_text_align_left et_pb_bg_layout_light\"><div class=\"et_pb_text_inner\"><p><a href=\"https://www.google.com/maps/place/660+Peterson+Rd,+Colorado+Springs,+CO+80915/@38.8414842,-104.7046135,17z/data=!3m1!4b1!4m5!3m4!1s0x871347aa4f8fb193:0x8761831727a0fddc!8m2!3d38.8414842!4d-104.7024248\" rel=\"noopener noreferrer\" target=\"_blank\">660 Peterson Road</a><br/> Colorado Springs, Co 80915<br/> <a href=\"tel:1-719-394-4811\">(719)394-4811</a><br/> <a href=\"mailto:dueces@dwbbrewery.com\">dueces@dwbbrewery.com</a></p></div></div><div class=\"et_pb_module et_pb_text et_pb_text_14 et_pb_text_align_left et_pb_bg_layout_light\"><div class=\"et_pb_text_inner\"><p>Monday – Closed to make Damn Good Beer</p><p>Tuesday-Wednesday 3pm-8pm</p><p>Thursday- 3:00pm-9:00pm</p><p>Friday- 12pm-10pm</p><p>Saturday-12:00pm-10:00pm</p><p>Sunday: 11:00am–6:00pm</p></div></div><ul class=\"et_pb_module et_pb_social_media_follow et_pb_social_media_follow_0 clearfix et_pb_bg_layout_light\"><li class=\"et_pb_social_media_follow_network_0 et_pb_social_icon et_pb_social_network_link et-social-facebook et_pb_social_media_follow_network_0\"><a class=\"icon et_pb_with_border\" href=\"https://www.facebook.com/dwbbrewery/\" target=\"_blank\" title=\"Follow on Facebook\"><span aria-hidden=\"true\" class=\"et_pb_social_media_follow_network_name\">Follow</span></a></li><li class=\"et_pb_social_media_follow_network_1 et_pb_social_icon et_pb_social_network_link et-social-twitter et_pb_social_media_follow_network_1\"><a class=\"icon et_pb_with_border\" href=\"https://www.twitter.com/dwbbrewery/\" target=\"_blank\" title=\"Follow on Twitter\"><span aria-hidden=\"true\" class=\"et_pb_social_media_follow_network_name\">Follow</span></a></li><li class=\"et_pb_social_media_follow_network_2 et_pb_social_icon et_pb_social_network_link et-social-instagram et_pb_social_media_follow_network_2\"><a class=\"icon et_pb_with_border\" href=\"https://www.instagram.com/dwbbrewery/\" target=\"_blank\" title=\"Follow on Instagram\"><span aria-hidden=\"true\" class=\"et_pb_social_media_follow_network_name\">Follow</span></a></li></ul><div class=\"et_pb_module et_pb_text et_pb_text_15 et_pb_text_align_left et_pb_bg_layout_light\"><div class=\"et_pb_text_inner\"><p><a href=\"https://www.google.com/maps/place/3352+Templeton+Gap+Rd,+Colorado+Springs,+CO+80907/@38.8785326,-104.7971843,17z/data=!3m1!4b1!4m5!3m4!1s0x87134f7a75168e51:0x127b95a55f919551!8m2!3d38.8785326!4d-104.7949956\" rel=\"noopener noreferrer\" target=\"_blank\">3352 Templeton Gap Road</a><br/> Colorado Springs, Co 80907<br/><a href=\"tal:17193745806\">719-374-5806</a><br/><a href=\"mailto:dueces@dwbbrewery.com\">dueces@dwbbrewery.com</a></p></div></div><div class=\"et_pb_module et_pb_text et_pb_text_16 et_pb_text_align_left et_pb_bg_layout_light\"><div class=\"et_pb_text_inner\"><p>Monday– Closed to make Damn Good Beer</p><p>Tuesday &amp; Wednesday: 3:00pm-8:00pm</p><p>Thursday- 3:00pm-9:00pm</p><p>Friday &amp; Saturday- 12:00pm-10:00pm</p><p>Sunday: 11:00am – 6:00pm</p></div></div><ul class=\"et_pb_module et_pb_social_media_follow et_pb_social_media_follow_1 clearfix et_pb_bg_layout_light\"><li class=\"et_pb_social_media_follow_network_3 et_pb_social_icon et_pb_social_network_link et-social-facebook et_pb_social_media_follow_network_3\"><a class=\"icon et_pb_with_border\" href=\"https://www.facebook.com/dwbontapattgap\" target=\"_blank\" title=\"Follow on Facebook\"><span aria-hidden=\"true\" class=\"et_pb_social_media_follow_network_name\">Follow</span></a></li><li class=\"et_pb_social_media_follow_network_4 et_pb_social_icon et_pb_social_network_link et-social-twitter et_pb_social_media_follow_network_4\"><a class=\"icon et_pb_with_border\" href=\"https://www.twitter.com/dwbbrewery/\" target=\"_blank\" title=\"Follow on Twitter\"><span aria-hidden=\"true\" class=\"et_pb_social_media_follow_network_name\">Follow</span></a></li><li class=\"et_pb_social_media_follow_network_5 et_pb_social_icon et_pb_social_network_link et-social-instagram et_pb_social_media_follow_network_5\"><a class=\"icon et_pb_with_border\" href=\"https://www.instagram.com/dwbontap/\" target=\"_blank\" title=\"Follow on Instagram\"><span aria-hidden=\"true\" class=\"et_pb_social_media_follow_network_name\">Follow</span></a></li></ul></div><div class=\"et_pb_column et_pb_column_3_5 et_pb_column_12 et_pb_css_mix_blend_mode_passthrough et-last-child\"><div class=\"et_pb_module et_pb_image et_pb_image_4 et_animated et-waypoint\"> <span class=\"et_pb_image_wrap\"><img alt=\"\" class=\"wp-image-18\" height=\"300\" loading=\"lazy\" sizes=\"(max-width: 300px) 100vw, 300px\" src=\"https://dwbbrewery.com/wp-content/uploads/2019/01/DWB-Barrel2.jpg-300x300.png\" srcset=\"https://dwbbrewery.com/wp-content/uploads/2019/01/DWB-Barrel2.jpg-300x300.png 300w, https://dwbbrewery.com/wp-content/uploads/2019/01/DWB-Barrel2.jpg-300x300-100x100.png 100w, https://dwbbrewery.com/wp-content/uploads/2019/01/DWB-Barrel2.jpg-300x300-150x150.png 150w\" title=\"\" width=\"300\"/></span></div><div class=\"et_pb_module et_pb_divider_12 et_pb_space et_pb_divider_hidden\"><div class=\"et_pb_divider_internal\"></div></div><div class=\"et_pb_module et_pb_text et_pb_text_17 et_pb_text_align_left et_pb_bg_layout_light\"><div class=\"et_pb_text_inner\"><h3>WE BELIEVE IN FRIENDS, FAMILY, AND DAMN GOOD BEER!</h3></div></div><div class=\"et_pb_module et_pb_text et_pb_text_18 et_pb_text_align_left et_pb_bg_layout_light\"><div class=\"et_pb_text_inner\"><p>Dueces Wild Brewery (DWB) is a veteran owned and operated craft brewery. We are strong supporters of our military, and first responder community and to say thanks we offer them a 10% discount on all pints for them. Our ambition is to brew high quality beer, support the local economy, and present a clean and friendly social environment for family and friends. We strive to make a well balanced selection of beers that everyone would enjoy. One taste of our beer and you’ll understand why Dueces Wild has quickly become one of Colorado Springs favorite breweries.</p><p>Although we are new to the craft beer community and only recently opened our doors in February of 2018, the team at DWB brings over 20 years of brewing experience to over 20 different and unique recipes for your drinking pleasure. Dueces operates on a state of the art 10 barrel Alpha brewing system which helps ensure the quality of beer is always consistent.</p></div></div></div></div><div class=\"et_pb_row et_pb_row_6 et_pb_equal_columns\"><div class=\"et_pb_column et_pb_column_1_3 et_pb_column_13 et_pb_css_mix_blend_mode_passthrough\"><div class=\"et_pb_module et_pb_cta_0 et_pb_promo et_pb_text_align_center et_pb_bg_layout_dark\"><div class=\"et_pb_promo_description\"><h2 class=\"et_pb_module_header\">SAISON W/ LEMON GRASS AND GRAINS OF PARADISE</h2><div><p><span>Lemony with a hint of white pepper</span></p><div dir=\"auto\">5.1% ABV, 15 IBU</div><div dir=\"auto\"></div><div dir=\"auto\"></div><div dir=\"auto\"></div><div dir=\"auto\"></div><div dir=\"auto\"></div><div dir=\"auto\"></div><div dir=\"auto\"></div><div dir=\"auto\"><img alt=\"\" class=\"wp-image-3551 alignnone size-medium\" height=\"229\" loading=\"lazy\" src=\"https://dwbbrewery.com/wp-content/uploads/2021/09/DWB-Logo-0418-Digital-300x229.jpg\" width=\"300\"/></div></div></div></div></div><div class=\"et_pb_column et_pb_column_1_3 et_pb_column_14 et_pb_css_mix_blend_mode_passthrough\"><div class=\"et_pb_module et_pb_cta_1 et_pb_promo et_pb_text_align_center et_pb_bg_layout_dark\"><div class=\"et_pb_promo_description\"><h2 class=\"et_pb_module_header\">PURE MORNING - PALE ALE.</h2><div><p>Light to medium body, citrusy</p><p class=\"p1\">5% ABV, 35IBU Hops: Citra</p><p class=\"p1\"><p class=\"p1\"><p class=\"p1\"><p class=\"p1\"><p class=\"p1\"><p class=\"p1\"><p class=\"p1\"><p class=\"p1\"><p class=\"p1\"><p class=\"p1\"><p class=\"p1\"><p class=\"p1\"><p class=\"p1\"><p class=\"p1\"><p class=\"p1\"></p></p></p></p></p></p></p></p></p></p></p></p></p></p></p></div></div></div><div class=\"et_pb_module et_pb_cta_2 et_pb_promo et_pb_text_align_center et_pb_bg_layout_dark\"><div class=\"et_pb_promo_description\"><h2 class=\"et_pb_module_header\">FUNKY GNOME- BELGIAN PALE ALE</h2><div><p class=\"p1\">A traditional Belgian style Pale Ale brewed with German and American hops that closely replicate the Noble hops used in these beers. Spicy aromas and flavors of the hops along with clove and banana esters. Light toast Jessica and fruit flavors carry through to the finish. A great beer for Summer.</p><p class=\"p1\">5.3% ABV 25 IBU Hops: German Northern Brewer, Sterling.</p><p class=\"p1\"><img alt=\"\" class=\"wp-image-1839 alignnone size-medium\" height=\"300\" loading=\"lazy\" src=\"https://dwbbrewery.com/wp-content/uploads/2019/09/funkygnome_tiny-225x300.jpeg\" width=\"225\"/></p><p class=\"p2\"></p></div></div></div><div class=\"et_pb_module et_pb_cta_3 et_pb_promo et_pb_text_align_center et_pb_bg_layout_dark\"><div class=\"et_pb_promo_description\"><h2 class=\"et_pb_module_header\">FUNKY GNOME- BELGIAN PALE ALE</h2><div><p class=\"p1\">A traditional Belgian style Pale Ale brewed with German and American hops that closely replicate the Noble hops used in these beers. Spicy aromas and flavors of the hops along with clove and banana esters. Light toast Jessica and fruit flavors carry through to the finish. A great beer for Summer.</p><p class=\"p1\">5.3% ABV 25 IBU Hops: German Northern Brewer, Sterling.</p><p class=\"p1\"><img alt=\"\" class=\"wp-image-1839 alignnone size-medium\" height=\"300\" loading=\"lazy\" src=\"https://dwbbrewery.com/wp-content/uploads/2019/09/funkygnome_tiny-225x300.jpeg\" width=\"225\"/></p><p class=\"p2\"></p></div></div></div></div><div class=\"et_pb_column et_pb_column_1_3 et_pb_column_15 et_pb_css_mix_blend_mode_passthrough et-last-child et_pb_column_empty\"></div></div></div></div></div></div></div></article></div>,\n",
       " <div class=\"entry-content\"><div class=\"et-boc\" id=\"et-boc\"><div class=\"et-l et-l--post\"><div class=\"et_builder_inner_content et_pb_gutters3\"><div class=\"et_pb_section et_pb_section_0 et_section_regular\"><div class=\"et_pb_row et_pb_row_0\"><div class=\"et_pb_column et_pb_column_1_2 et_pb_column_0 et_pb_css_mix_blend_mode_passthrough\"><div class=\"et_pb_module et_pb_image et_pb_image_0\"> <span class=\"et_pb_image_wrap\"><img alt=\"\" class=\"wp-image-22\" height=\"136\" loading=\"lazy\" sizes=\"(max-width: 300px) 100vw, 300px\" src=\"https://dwbbrewery.com/wp-content/uploads/2019/01/DucesWildcolor-logo_tinied-300x136.png\" srcset=\"https://dwbbrewery.com/wp-content/uploads/2019/01/DucesWildcolor-logo_tinied-300x136.png 300w, https://dwbbrewery.com/wp-content/uploads/2019/01/DucesWildcolor-logo_tinied-600x272.png 600w, https://dwbbrewery.com/wp-content/uploads/2019/01/DucesWildcolor-logo_tinied-768x349.png 768w, https://dwbbrewery.com/wp-content/uploads/2019/01/DucesWildcolor-logo_tinied.png 859w\" title=\"\" width=\"300\"/></span></div><div class=\"et_pb_module et_pb_text et_pb_text_0 et_pb_text_align_left et_pb_bg_layout_light\"><div class=\"et_pb_text_inner\"><h3>Due to the COVID19, our hours are limited but we are offering <a href=\"https://dwbbrewery.com/gift-card/\" title=\"Gift Cards\">gift cards</a>.</h3></div></div><div class=\"et_pb_button_module_wrapper et_pb_button_0_wrapper et_pb_button_alignment_center et_pb_module\"> <a class=\"et_pb_button et_pb_button_0 et_pb_bg_layout_light\" href=\"https://dwbbrewery.com/gift-card/\">Get your gift cards</a></div></div><div class=\"et_pb_column et_pb_column_1_2 et_pb_column_1 et_pb_css_mix_blend_mode_passthrough et-last-child\"><div class=\"et_pb_module et_pb_blurb et_pb_blurb_0 et_clickable et_pb_text_align_left et_pb_blurb_position_top et_pb_bg_layout_light\"><div class=\"et_pb_blurb_content\"><div class=\"et_pb_main_blurb_image\"><a href=\"/gift-card/\"><span class=\"et_pb_image_wrap\"><img alt=\"\" class=\"et-waypoint et_pb_animation_top et_pb_animation_top_tablet et_pb_animation_top_phone wp-image-3379\" height=\"300\" loading=\"lazy\" src=\"https://dwbbrewery.com/wp-content/uploads/2020/03/pw-gift-card-300x300.png\" width=\"300\"/></span></a></div><div class=\"et_pb_blurb_container\"><h4 class=\"et_pb_module_header\"><a href=\"/gift-card/\">Support Local Business by purchasing Gift Cards</a></h4><div class=\"et_pb_blurb_description\"><p>We offer gift cards and we are happy to mail them to you. You may also pick them up at the brewery.</p></div></div></div></div></div></div></div><div class=\"et_pb_section et_pb_section_1 et_pb_with_background et_section_regular\"><div class=\"et_pb_row et_pb_row_1\"><div class=\"et_pb_column et_pb_column_1_4 et_pb_column_2 et_pb_css_mix_blend_mode_passthrough et_pb_column_empty\"></div><div class=\"et_pb_column et_pb_column_1_2 et_pb_column_3 et_pb_css_mix_blend_mode_passthrough\"><div class=\"et_pb_module et_pb_image et_pb_image_1 et_pb_image_sticky\"> <span class=\"et_pb_image_wrap\"><img alt=\"\" class=\"wp-image-22\" height=\"390\" loading=\"lazy\" sizes=\"(max-width: 859px) 100vw, 859px\" src=\"https://dwbbrewery.com/wp-content/uploads/2019/01/DucesWildcolor-logo_tinied.png\" srcset=\"https://dwbbrewery.com/wp-content/uploads/2019/01/DucesWildcolor-logo_tinied.png 859w, https://dwbbrewery.com/wp-content/uploads/2019/01/DucesWildcolor-logo_tinied-600x272.png 600w, https://dwbbrewery.com/wp-content/uploads/2019/01/DucesWildcolor-logo_tinied-300x136.png 300w, https://dwbbrewery.com/wp-content/uploads/2019/01/DucesWildcolor-logo_tinied-768x349.png 768w\" title=\"\" width=\"859\"/></span></div><div class=\"et_pb_module et_pb_text et_pb_text_1 et_pb_text_align_left et_pb_bg_layout_light\"><div class=\"et_pb_text_inner\"><h1>Dueces Wild Brewery</h1></div></div><div class=\"et_pb_module et_pb_text et_pb_text_2 et_pb_text_align_left et_pb_bg_layout_light\"><div class=\"et_pb_text_inner\"><h2>Home of the 2019, Great American Beer Festival Gold Medal winning, Knuckle Dragger, Scotch ale.</h2></div></div><div class=\"et_pb_module et_pb_text et_pb_text_3 et_pb_text_align_left et_pb_bg_layout_light\"><div class=\"et_pb_text_inner\"><h1>EST. 2018</h1></div></div></div><div class=\"et_pb_column et_pb_column_1_4 et_pb_column_4 et_pb_css_mix_blend_mode_passthrough et-last-child\"><div class=\"et_pb_module et_pb_image et_pb_image_2 et_pb_image_sticky\"> <span class=\"et_pb_image_wrap\"><img alt=\"\" class=\"wp-image-2002\" height=\"837\" loading=\"lazy\" sizes=\"(min-width: 0px) and (max-width: 480px) 480px, (min-width: 481px) 585px, 100vw\" src=\"https://dwbbrewery.com/wp-content/uploads/2019/10/GABF-Gold-RGB.png\" srcset=\"https://dwbbrewery.com/wp-content/uploads/2019/10/GABF-Gold-RGB.png 585w, https://dwbbrewery.com/wp-content/uploads/2019/10/GABF-Gold-RGB-480x687.png 480w\" title=\"\" width=\"585\"/></span></div><div class=\"et_pb_module et_pb_text et_pb_text_4 et_pb_text_align_center et_pb_bg_layout_light\"><div class=\"et_pb_text_inner\"><p>Knuckle Dragger, 2019 Gold<br/> medal, Scotch Ale category</p></div></div></div></div><div class=\"et_pb_row et_pb_row_2 et_pb_equal_columns\"><div class=\"et_pb_column et_pb_column_1_2 et_pb_column_5 et_pb_css_mix_blend_mode_passthrough\"><div class=\"et_pb_module et_pb_text et_pb_text_5 et_pb_text_align_center et_pb_bg_layout_light\"><div class=\"et_pb_text_inner\"><p style=\"text-align: justify;\">BREWERY</p><p style=\"text-align: left;\">660 Peterson Road</p></div></div><div class=\"et_pb_button_module_wrapper et_pb_button_1_wrapper et_pb_button_alignment_center et_pb_module\"> <a class=\"et_pb_button et_pb_button_1 et_pb_bg_layout_light\" href=\"https://dwbbrewery.com/beers/\">BEERS </a></div><div class=\"et_pb_button_module_wrapper et_pb_button_2_wrapper et_pb_button_alignment_center et_pb_module\"> <a class=\"et_pb_button et_pb_button_2 et_pb_bg_layout_light\" href=\"https://dwbbrewery.com/peterson-events/\">EVENTS</a></div></div><div class=\"et_pb_column et_pb_column_1_2 et_pb_column_6 et_pb_css_mix_blend_mode_passthrough et-last-child\"><div class=\"et_pb_module et_pb_text et_pb_text_6 et_pb_text_align_center et_pb_bg_layout_light\"><div class=\"et_pb_text_inner\"><p>TAPROOM</p><p>3352 Templeton Gap</p></div></div><div class=\"et_pb_button_module_wrapper et_pb_button_3_wrapper et_pb_button_alignment_center et_pb_module\"> <a class=\"et_pb_button et_pb_button_3 et_pb_bg_layout_light\" href=\"https://dwbbrewery.com/beers-tgap/\">BEERS </a></div><div class=\"et_pb_button_module_wrapper et_pb_button_4_wrapper et_pb_button_alignment_center et_pb_module\"> <a class=\"et_pb_button et_pb_button_4 et_pb_bg_layout_light\" href=\"https://dwbbrewery.com/tgap-events/\">EVENTS</a></div></div></div></div><div class=\"et_pb_section et_pb_section_2 et_pb_with_background et_section_regular\"><div class=\"et_pb_row et_pb_row_3 et_pb_equal_columns\"><div class=\"et_pb_column et_pb_column_1_3 et_pb_column_7 et_pb_css_mix_blend_mode_passthrough\"><div class=\"et_pb_module et_pb_divider_0 et_pb_space et_pb_divider_hidden\"><div class=\"et_pb_divider_internal\"></div></div><div class=\"et_pb_module et_pb_divider_1 et_pb_space et_pb_divider_hidden\"><div class=\"et_pb_divider_internal\"></div></div><div class=\"et_pb_module et_pb_text et_pb_text_7 et_pb_text_align_left et_pb_bg_layout_light\"><div class=\"et_pb_text_inner\"><h2>Good Place</h2></div></div><div class=\"et_pb_module et_pb_divider_2 et_pb_space et_pb_divider_hidden\"><div class=\"et_pb_divider_internal\"></div></div><div class=\"et_pb_module et_pb_divider_3 et_pb_space et_pb_divider_hidden\"><div class=\"et_pb_divider_internal\"></div></div></div><div class=\"et_pb_column et_pb_column_1_3 et_pb_column_8 et_pb_css_mix_blend_mode_passthrough\"><div class=\"et_pb_module et_pb_divider_4 et_pb_space et_pb_divider_hidden\"><div class=\"et_pb_divider_internal\"></div></div><div class=\"et_pb_module et_pb_divider_5 et_pb_space et_pb_divider_hidden\"><div class=\"et_pb_divider_internal\"></div></div><div class=\"et_pb_module et_pb_text et_pb_text_8 et_pb_text_align_left et_pb_bg_layout_light\"><div class=\"et_pb_text_inner\"><h2>Good People</h2></div></div><div class=\"et_pb_module et_pb_divider_6 et_pb_space et_pb_divider_hidden\"><div class=\"et_pb_divider_internal\"></div></div><div class=\"et_pb_module et_pb_divider_7 et_pb_space et_pb_divider_hidden\"><div class=\"et_pb_divider_internal\"></div></div></div><div class=\"et_pb_column et_pb_column_1_3 et_pb_column_9 et_pb_css_mix_blend_mode_passthrough et-last-child\"><div class=\"et_pb_module et_pb_divider_8 et_pb_space et_pb_divider_hidden\"><div class=\"et_pb_divider_internal\"></div></div><div class=\"et_pb_module et_pb_divider_9 et_pb_space et_pb_divider_hidden\"><div class=\"et_pb_divider_internal\"></div></div><div class=\"et_pb_module et_pb_text et_pb_text_9 et_pb_text_align_left et_pb_bg_layout_light\"><div class=\"et_pb_text_inner\"><h2>Damn Good Beer</h2></div></div><div class=\"et_pb_module et_pb_divider_10 et_pb_space et_pb_divider_hidden\"><div class=\"et_pb_divider_internal\"></div></div><div class=\"et_pb_module et_pb_divider_11 et_pb_space et_pb_divider_hidden\"><div class=\"et_pb_divider_internal\"></div></div></div></div></div><div class=\"et_pb_section et_pb_section_3 et_section_regular\"><div class=\"et_pb_row et_pb_row_4\"><div class=\"et_pb_column et_pb_column_4_4 et_pb_column_10 et_pb_css_mix_blend_mode_passthrough et-last-child\"><div class=\"et_pb_with_border et_pb_module et_pb_text et_pb_text_10 et_pb_text_align_left et_pb_bg_layout_light\"><div class=\"et_pb_text_inner\"><h2>Latest Duece is Loose!!</h2></div></div><div class=\"et_pb_module et_pb_blog_0 et_pb_posts et_pb_bg_layout_light\"><div class=\"et_pb_ajax_pagination_container\"><article class=\"et_pb_post clearfix et_pb_no_thumb et_pb_blog_item_0_0 post-1226 post type-post status-publish format-standard hentry category-the-duece-is-loose\" id=\"post-1226\"><h2 class=\"entry-title\"><a href=\"https://dwbbrewery.com/the-duece-is-loose/\">The Duece is Loose!</a></h2><p class=\"post-meta\"><span class=\"published\">Mar 17, 2019</span></p><div class=\"post-content\"><div class=\"post-content-inner\"><p>The Duece is Loose!  This time enjoying the magnificent Sahara Desert sunset. Thanks for the love John and Kelly! Cheers!</p></div></div></article><article class=\"et_pb_post clearfix et_pb_no_thumb et_pb_blog_item_0_1 post-606 post type-post status-publish format-standard has-post-thumbnail hentry category-the-duece-is-loose\" id=\"post-606\"><h2 class=\"entry-title\"><a href=\"https://dwbbrewery.com/stone-bridge-brewing-co-johnstown-pa-thank-you-jen/\">Stone Bridge Brewing Co.- Johnstown, PA. Thank you Jen!</a></h2><p class=\"post-meta\"><span class=\"published\">Jan 15, 2019</span></p><div class=\"post-content\"><div class=\"post-content-inner\"></div></div></article><article class=\"et_pb_post clearfix et_pb_no_thumb et_pb_blog_item_0_2 post-604 post type-post status-publish format-standard has-post-thumbnail hentry category-the-duece-is-loose\" id=\"post-604\"><h2 class=\"entry-title\"><a href=\"https://dwbbrewery.com/usaf-half-marathon-dayton-oh-thank-you-pat/\">USAF half Marathon-Dayton, OH. Thank you Pat!</a></h2><p class=\"post-meta\"><span class=\"published\">Jan 15, 2019</span></p><div class=\"post-content\"><div class=\"post-content-inner\"></div></div></article><div><div class=\"pagination clearfix\"><div class=\"alignleft\"><a href=\"https://dwbbrewery.com/page/2/?et_blog\">« Older Entries</a></div><div class=\"alignright\"></div></div></div></div></div></div></div></div><div class=\"et_pb_section et_pb_section_5 et_pb_with_background et_section_regular\"><div class=\"et_pb_row et_pb_row_5\"><div class=\"et_pb_column et_pb_column_2_5 et_pb_column_11 et_pb_css_mix_blend_mode_passthrough\"><div class=\"et_pb_module et_pb_text et_pb_text_11 et_pb_text_align_left et_pb_bg_layout_light\"><div class=\"et_pb_text_inner\"><h2>FIND US</h2></div></div><div class=\"et_pb_module et_pb_image et_pb_image_3\"> <span class=\"et_pb_image_wrap has-box-shadow-overlay\"><div class=\"box-shadow-overlay\"></div><img alt=\"\" class=\"wp-image-17\" height=\"199\" loading=\"lazy\" src=\"https://dwbbrewery.com/wp-content/uploads/2019/01/dwbboxandbeer-300x199.jpg\" title=\"\" width=\"300\"/></span></div><div class=\"et_pb_with_border et_pb_module et_pb_text et_pb_text_12 et_pb_text_align_left et_pb_bg_layout_light\"><div class=\"et_pb_text_inner\"><p>Locations &amp; Hours</p></div></div><div class=\"et_pb_module et_pb_text et_pb_text_13 et_pb_text_align_left et_pb_bg_layout_light\"><div class=\"et_pb_text_inner\"><p><a href=\"https://www.google.com/maps/place/660+Peterson+Rd,+Colorado+Springs,+CO+80915/@38.8414842,-104.7046135,17z/data=!3m1!4b1!4m5!3m4!1s0x871347aa4f8fb193:0x8761831727a0fddc!8m2!3d38.8414842!4d-104.7024248\" rel=\"noopener noreferrer\" target=\"_blank\">660 Peterson Road</a><br/> Colorado Springs, Co 80915<br/> <a href=\"tel:1-719-394-4811\">(719)394-4811</a><br/> <a href=\"mailto:dueces@dwbbrewery.com\">dueces@dwbbrewery.com</a></p></div></div><div class=\"et_pb_module et_pb_text et_pb_text_14 et_pb_text_align_left et_pb_bg_layout_light\"><div class=\"et_pb_text_inner\"><p>Monday – Closed to make Damn Good Beer</p><p>Tuesday-Wednesday 3pm-8pm</p><p>Thursday- 3:00pm-9:00pm</p><p>Friday- 12pm-10pm</p><p>Saturday-12:00pm-10:00pm</p><p>Sunday: 11:00am–6:00pm</p></div></div><ul class=\"et_pb_module et_pb_social_media_follow et_pb_social_media_follow_0 clearfix et_pb_bg_layout_light\"><li class=\"et_pb_social_media_follow_network_0 et_pb_social_icon et_pb_social_network_link et-social-facebook et_pb_social_media_follow_network_0\"><a class=\"icon et_pb_with_border\" href=\"https://www.facebook.com/dwbbrewery/\" target=\"_blank\" title=\"Follow on Facebook\"><span aria-hidden=\"true\" class=\"et_pb_social_media_follow_network_name\">Follow</span></a></li><li class=\"et_pb_social_media_follow_network_1 et_pb_social_icon et_pb_social_network_link et-social-twitter et_pb_social_media_follow_network_1\"><a class=\"icon et_pb_with_border\" href=\"https://www.twitter.com/dwbbrewery/\" target=\"_blank\" title=\"Follow on Twitter\"><span aria-hidden=\"true\" class=\"et_pb_social_media_follow_network_name\">Follow</span></a></li><li class=\"et_pb_social_media_follow_network_2 et_pb_social_icon et_pb_social_network_link et-social-instagram et_pb_social_media_follow_network_2\"><a class=\"icon et_pb_with_border\" href=\"https://www.instagram.com/dwbbrewery/\" target=\"_blank\" title=\"Follow on Instagram\"><span aria-hidden=\"true\" class=\"et_pb_social_media_follow_network_name\">Follow</span></a></li></ul><div class=\"et_pb_module et_pb_text et_pb_text_15 et_pb_text_align_left et_pb_bg_layout_light\"><div class=\"et_pb_text_inner\"><p><a href=\"https://www.google.com/maps/place/3352+Templeton+Gap+Rd,+Colorado+Springs,+CO+80907/@38.8785326,-104.7971843,17z/data=!3m1!4b1!4m5!3m4!1s0x87134f7a75168e51:0x127b95a55f919551!8m2!3d38.8785326!4d-104.7949956\" rel=\"noopener noreferrer\" target=\"_blank\">3352 Templeton Gap Road</a><br/> Colorado Springs, Co 80907<br/><a href=\"tal:17193745806\">719-374-5806</a><br/><a href=\"mailto:dueces@dwbbrewery.com\">dueces@dwbbrewery.com</a></p></div></div><div class=\"et_pb_module et_pb_text et_pb_text_16 et_pb_text_align_left et_pb_bg_layout_light\"><div class=\"et_pb_text_inner\"><p>Monday– Closed to make Damn Good Beer</p><p>Tuesday &amp; Wednesday: 3:00pm-8:00pm</p><p>Thursday- 3:00pm-9:00pm</p><p>Friday &amp; Saturday- 12:00pm-10:00pm</p><p>Sunday: 11:00am – 6:00pm</p></div></div><ul class=\"et_pb_module et_pb_social_media_follow et_pb_social_media_follow_1 clearfix et_pb_bg_layout_light\"><li class=\"et_pb_social_media_follow_network_3 et_pb_social_icon et_pb_social_network_link et-social-facebook et_pb_social_media_follow_network_3\"><a class=\"icon et_pb_with_border\" href=\"https://www.facebook.com/dwbontapattgap\" target=\"_blank\" title=\"Follow on Facebook\"><span aria-hidden=\"true\" class=\"et_pb_social_media_follow_network_name\">Follow</span></a></li><li class=\"et_pb_social_media_follow_network_4 et_pb_social_icon et_pb_social_network_link et-social-twitter et_pb_social_media_follow_network_4\"><a class=\"icon et_pb_with_border\" href=\"https://www.twitter.com/dwbbrewery/\" target=\"_blank\" title=\"Follow on Twitter\"><span aria-hidden=\"true\" class=\"et_pb_social_media_follow_network_name\">Follow</span></a></li><li class=\"et_pb_social_media_follow_network_5 et_pb_social_icon et_pb_social_network_link et-social-instagram et_pb_social_media_follow_network_5\"><a class=\"icon et_pb_with_border\" href=\"https://www.instagram.com/dwbontap/\" target=\"_blank\" title=\"Follow on Instagram\"><span aria-hidden=\"true\" class=\"et_pb_social_media_follow_network_name\">Follow</span></a></li></ul></div><div class=\"et_pb_column et_pb_column_3_5 et_pb_column_12 et_pb_css_mix_blend_mode_passthrough et-last-child\"><div class=\"et_pb_module et_pb_image et_pb_image_4 et_animated et-waypoint\"> <span class=\"et_pb_image_wrap\"><img alt=\"\" class=\"wp-image-18\" height=\"300\" loading=\"lazy\" sizes=\"(max-width: 300px) 100vw, 300px\" src=\"https://dwbbrewery.com/wp-content/uploads/2019/01/DWB-Barrel2.jpg-300x300.png\" srcset=\"https://dwbbrewery.com/wp-content/uploads/2019/01/DWB-Barrel2.jpg-300x300.png 300w, https://dwbbrewery.com/wp-content/uploads/2019/01/DWB-Barrel2.jpg-300x300-100x100.png 100w, https://dwbbrewery.com/wp-content/uploads/2019/01/DWB-Barrel2.jpg-300x300-150x150.png 150w\" title=\"\" width=\"300\"/></span></div><div class=\"et_pb_module et_pb_divider_12 et_pb_space et_pb_divider_hidden\"><div class=\"et_pb_divider_internal\"></div></div><div class=\"et_pb_module et_pb_text et_pb_text_17 et_pb_text_align_left et_pb_bg_layout_light\"><div class=\"et_pb_text_inner\"><h3>WE BELIEVE IN FRIENDS, FAMILY, AND DAMN GOOD BEER!</h3></div></div><div class=\"et_pb_module et_pb_text et_pb_text_18 et_pb_text_align_left et_pb_bg_layout_light\"><div class=\"et_pb_text_inner\"><p>Dueces Wild Brewery (DWB) is a veteran owned and operated craft brewery. We are strong supporters of our military, and first responder community and to say thanks we offer them a 10% discount on all pints for them. Our ambition is to brew high quality beer, support the local economy, and present a clean and friendly social environment for family and friends. We strive to make a well balanced selection of beers that everyone would enjoy. One taste of our beer and you’ll understand why Dueces Wild has quickly become one of Colorado Springs favorite breweries.</p><p>Although we are new to the craft beer community and only recently opened our doors in February of 2018, the team at DWB brings over 20 years of brewing experience to over 20 different and unique recipes for your drinking pleasure. Dueces operates on a state of the art 10 barrel Alpha brewing system which helps ensure the quality of beer is always consistent.</p></div></div></div></div><div class=\"et_pb_row et_pb_row_6 et_pb_equal_columns\"><div class=\"et_pb_column et_pb_column_1_3 et_pb_column_13 et_pb_css_mix_blend_mode_passthrough\"><div class=\"et_pb_module et_pb_cta_0 et_pb_promo et_pb_text_align_center et_pb_bg_layout_dark\"><div class=\"et_pb_promo_description\"><h2 class=\"et_pb_module_header\">SAISON W/ LEMON GRASS AND GRAINS OF PARADISE</h2><div><p><span>Lemony with a hint of white pepper</span></p><div dir=\"auto\">5.1% ABV, 15 IBU</div><div dir=\"auto\"></div><div dir=\"auto\"></div><div dir=\"auto\"></div><div dir=\"auto\"></div><div dir=\"auto\"></div><div dir=\"auto\"></div><div dir=\"auto\"></div><div dir=\"auto\"><img alt=\"\" class=\"wp-image-3551 alignnone size-medium\" height=\"229\" loading=\"lazy\" src=\"https://dwbbrewery.com/wp-content/uploads/2021/09/DWB-Logo-0418-Digital-300x229.jpg\" width=\"300\"/></div></div></div></div></div><div class=\"et_pb_column et_pb_column_1_3 et_pb_column_14 et_pb_css_mix_blend_mode_passthrough\"><div class=\"et_pb_module et_pb_cta_1 et_pb_promo et_pb_text_align_center et_pb_bg_layout_dark\"><div class=\"et_pb_promo_description\"><h2 class=\"et_pb_module_header\">PURE MORNING - PALE ALE.</h2><div><p>Light to medium body, citrusy</p><p class=\"p1\">5% ABV, 35IBU Hops: Citra</p><p class=\"p1\"><p class=\"p1\"><p class=\"p1\"><p class=\"p1\"><p class=\"p1\"><p class=\"p1\"><p class=\"p1\"><p class=\"p1\"><p class=\"p1\"><p class=\"p1\"><p class=\"p1\"><p class=\"p1\"><p class=\"p1\"><p class=\"p1\"><p class=\"p1\"></p></p></p></p></p></p></p></p></p></p></p></p></p></p></p></div></div></div><div class=\"et_pb_module et_pb_cta_2 et_pb_promo et_pb_text_align_center et_pb_bg_layout_dark\"><div class=\"et_pb_promo_description\"><h2 class=\"et_pb_module_header\">FUNKY GNOME- BELGIAN PALE ALE</h2><div><p class=\"p1\">A traditional Belgian style Pale Ale brewed with German and American hops that closely replicate the Noble hops used in these beers. Spicy aromas and flavors of the hops along with clove and banana esters. Light toast Jessica and fruit flavors carry through to the finish. A great beer for Summer.</p><p class=\"p1\">5.3% ABV 25 IBU Hops: German Northern Brewer, Sterling.</p><p class=\"p1\"><img alt=\"\" class=\"wp-image-1839 alignnone size-medium\" height=\"300\" loading=\"lazy\" src=\"https://dwbbrewery.com/wp-content/uploads/2019/09/funkygnome_tiny-225x300.jpeg\" width=\"225\"/></p><p class=\"p2\"></p></div></div></div><div class=\"et_pb_module et_pb_cta_3 et_pb_promo et_pb_text_align_center et_pb_bg_layout_dark\"><div class=\"et_pb_promo_description\"><h2 class=\"et_pb_module_header\">FUNKY GNOME- BELGIAN PALE ALE</h2><div><p class=\"p1\">A traditional Belgian style Pale Ale brewed with German and American hops that closely replicate the Noble hops used in these beers. Spicy aromas and flavors of the hops along with clove and banana esters. Light toast Jessica and fruit flavors carry through to the finish. A great beer for Summer.</p><p class=\"p1\">5.3% ABV 25 IBU Hops: German Northern Brewer, Sterling.</p><p class=\"p1\"><img alt=\"\" class=\"wp-image-1839 alignnone size-medium\" height=\"300\" loading=\"lazy\" src=\"https://dwbbrewery.com/wp-content/uploads/2019/09/funkygnome_tiny-225x300.jpeg\" width=\"225\"/></p><p class=\"p2\"></p></div></div></div></div><div class=\"et_pb_column et_pb_column_1_3 et_pb_column_15 et_pb_css_mix_blend_mode_passthrough et-last-child et_pb_column_empty\"></div></div></div></div></div></div></div>,\n",
       " <div class=\"et-boc\" id=\"et-boc\"><div class=\"et-l et-l--post\"><div class=\"et_builder_inner_content et_pb_gutters3\"><div class=\"et_pb_section et_pb_section_0 et_section_regular\"><div class=\"et_pb_row et_pb_row_0\"><div class=\"et_pb_column et_pb_column_1_2 et_pb_column_0 et_pb_css_mix_blend_mode_passthrough\"><div class=\"et_pb_module et_pb_image et_pb_image_0\"> <span class=\"et_pb_image_wrap\"><img alt=\"\" class=\"wp-image-22\" height=\"136\" loading=\"lazy\" sizes=\"(max-width: 300px) 100vw, 300px\" src=\"https://dwbbrewery.com/wp-content/uploads/2019/01/DucesWildcolor-logo_tinied-300x136.png\" srcset=\"https://dwbbrewery.com/wp-content/uploads/2019/01/DucesWildcolor-logo_tinied-300x136.png 300w, https://dwbbrewery.com/wp-content/uploads/2019/01/DucesWildcolor-logo_tinied-600x272.png 600w, https://dwbbrewery.com/wp-content/uploads/2019/01/DucesWildcolor-logo_tinied-768x349.png 768w, https://dwbbrewery.com/wp-content/uploads/2019/01/DucesWildcolor-logo_tinied.png 859w\" title=\"\" width=\"300\"/></span></div><div class=\"et_pb_module et_pb_text et_pb_text_0 et_pb_text_align_left et_pb_bg_layout_light\"><div class=\"et_pb_text_inner\"><h3>Due to the COVID19, our hours are limited but we are offering <a href=\"https://dwbbrewery.com/gift-card/\" title=\"Gift Cards\">gift cards</a>.</h3></div></div><div class=\"et_pb_button_module_wrapper et_pb_button_0_wrapper et_pb_button_alignment_center et_pb_module\"> <a class=\"et_pb_button et_pb_button_0 et_pb_bg_layout_light\" href=\"https://dwbbrewery.com/gift-card/\">Get your gift cards</a></div></div><div class=\"et_pb_column et_pb_column_1_2 et_pb_column_1 et_pb_css_mix_blend_mode_passthrough et-last-child\"><div class=\"et_pb_module et_pb_blurb et_pb_blurb_0 et_clickable et_pb_text_align_left et_pb_blurb_position_top et_pb_bg_layout_light\"><div class=\"et_pb_blurb_content\"><div class=\"et_pb_main_blurb_image\"><a href=\"/gift-card/\"><span class=\"et_pb_image_wrap\"><img alt=\"\" class=\"et-waypoint et_pb_animation_top et_pb_animation_top_tablet et_pb_animation_top_phone wp-image-3379\" height=\"300\" loading=\"lazy\" src=\"https://dwbbrewery.com/wp-content/uploads/2020/03/pw-gift-card-300x300.png\" width=\"300\"/></span></a></div><div class=\"et_pb_blurb_container\"><h4 class=\"et_pb_module_header\"><a href=\"/gift-card/\">Support Local Business by purchasing Gift Cards</a></h4><div class=\"et_pb_blurb_description\"><p>We offer gift cards and we are happy to mail them to you. You may also pick them up at the brewery.</p></div></div></div></div></div></div></div><div class=\"et_pb_section et_pb_section_1 et_pb_with_background et_section_regular\"><div class=\"et_pb_row et_pb_row_1\"><div class=\"et_pb_column et_pb_column_1_4 et_pb_column_2 et_pb_css_mix_blend_mode_passthrough et_pb_column_empty\"></div><div class=\"et_pb_column et_pb_column_1_2 et_pb_column_3 et_pb_css_mix_blend_mode_passthrough\"><div class=\"et_pb_module et_pb_image et_pb_image_1 et_pb_image_sticky\"> <span class=\"et_pb_image_wrap\"><img alt=\"\" class=\"wp-image-22\" height=\"390\" loading=\"lazy\" sizes=\"(max-width: 859px) 100vw, 859px\" src=\"https://dwbbrewery.com/wp-content/uploads/2019/01/DucesWildcolor-logo_tinied.png\" srcset=\"https://dwbbrewery.com/wp-content/uploads/2019/01/DucesWildcolor-logo_tinied.png 859w, https://dwbbrewery.com/wp-content/uploads/2019/01/DucesWildcolor-logo_tinied-600x272.png 600w, https://dwbbrewery.com/wp-content/uploads/2019/01/DucesWildcolor-logo_tinied-300x136.png 300w, https://dwbbrewery.com/wp-content/uploads/2019/01/DucesWildcolor-logo_tinied-768x349.png 768w\" title=\"\" width=\"859\"/></span></div><div class=\"et_pb_module et_pb_text et_pb_text_1 et_pb_text_align_left et_pb_bg_layout_light\"><div class=\"et_pb_text_inner\"><h1>Dueces Wild Brewery</h1></div></div><div class=\"et_pb_module et_pb_text et_pb_text_2 et_pb_text_align_left et_pb_bg_layout_light\"><div class=\"et_pb_text_inner\"><h2>Home of the 2019, Great American Beer Festival Gold Medal winning, Knuckle Dragger, Scotch ale.</h2></div></div><div class=\"et_pb_module et_pb_text et_pb_text_3 et_pb_text_align_left et_pb_bg_layout_light\"><div class=\"et_pb_text_inner\"><h1>EST. 2018</h1></div></div></div><div class=\"et_pb_column et_pb_column_1_4 et_pb_column_4 et_pb_css_mix_blend_mode_passthrough et-last-child\"><div class=\"et_pb_module et_pb_image et_pb_image_2 et_pb_image_sticky\"> <span class=\"et_pb_image_wrap\"><img alt=\"\" class=\"wp-image-2002\" height=\"837\" loading=\"lazy\" sizes=\"(min-width: 0px) and (max-width: 480px) 480px, (min-width: 481px) 585px, 100vw\" src=\"https://dwbbrewery.com/wp-content/uploads/2019/10/GABF-Gold-RGB.png\" srcset=\"https://dwbbrewery.com/wp-content/uploads/2019/10/GABF-Gold-RGB.png 585w, https://dwbbrewery.com/wp-content/uploads/2019/10/GABF-Gold-RGB-480x687.png 480w\" title=\"\" width=\"585\"/></span></div><div class=\"et_pb_module et_pb_text et_pb_text_4 et_pb_text_align_center et_pb_bg_layout_light\"><div class=\"et_pb_text_inner\"><p>Knuckle Dragger, 2019 Gold<br/> medal, Scotch Ale category</p></div></div></div></div><div class=\"et_pb_row et_pb_row_2 et_pb_equal_columns\"><div class=\"et_pb_column et_pb_column_1_2 et_pb_column_5 et_pb_css_mix_blend_mode_passthrough\"><div class=\"et_pb_module et_pb_text et_pb_text_5 et_pb_text_align_center et_pb_bg_layout_light\"><div class=\"et_pb_text_inner\"><p style=\"text-align: justify;\">BREWERY</p><p style=\"text-align: left;\">660 Peterson Road</p></div></div><div class=\"et_pb_button_module_wrapper et_pb_button_1_wrapper et_pb_button_alignment_center et_pb_module\"> <a class=\"et_pb_button et_pb_button_1 et_pb_bg_layout_light\" href=\"https://dwbbrewery.com/beers/\">BEERS </a></div><div class=\"et_pb_button_module_wrapper et_pb_button_2_wrapper et_pb_button_alignment_center et_pb_module\"> <a class=\"et_pb_button et_pb_button_2 et_pb_bg_layout_light\" href=\"https://dwbbrewery.com/peterson-events/\">EVENTS</a></div></div><div class=\"et_pb_column et_pb_column_1_2 et_pb_column_6 et_pb_css_mix_blend_mode_passthrough et-last-child\"><div class=\"et_pb_module et_pb_text et_pb_text_6 et_pb_text_align_center et_pb_bg_layout_light\"><div class=\"et_pb_text_inner\"><p>TAPROOM</p><p>3352 Templeton Gap</p></div></div><div class=\"et_pb_button_module_wrapper et_pb_button_3_wrapper et_pb_button_alignment_center et_pb_module\"> <a class=\"et_pb_button et_pb_button_3 et_pb_bg_layout_light\" href=\"https://dwbbrewery.com/beers-tgap/\">BEERS </a></div><div class=\"et_pb_button_module_wrapper et_pb_button_4_wrapper et_pb_button_alignment_center et_pb_module\"> <a class=\"et_pb_button et_pb_button_4 et_pb_bg_layout_light\" href=\"https://dwbbrewery.com/tgap-events/\">EVENTS</a></div></div></div></div><div class=\"et_pb_section et_pb_section_2 et_pb_with_background et_section_regular\"><div class=\"et_pb_row et_pb_row_3 et_pb_equal_columns\"><div class=\"et_pb_column et_pb_column_1_3 et_pb_column_7 et_pb_css_mix_blend_mode_passthrough\"><div class=\"et_pb_module et_pb_divider_0 et_pb_space et_pb_divider_hidden\"><div class=\"et_pb_divider_internal\"></div></div><div class=\"et_pb_module et_pb_divider_1 et_pb_space et_pb_divider_hidden\"><div class=\"et_pb_divider_internal\"></div></div><div class=\"et_pb_module et_pb_text et_pb_text_7 et_pb_text_align_left et_pb_bg_layout_light\"><div class=\"et_pb_text_inner\"><h2>Good Place</h2></div></div><div class=\"et_pb_module et_pb_divider_2 et_pb_space et_pb_divider_hidden\"><div class=\"et_pb_divider_internal\"></div></div><div class=\"et_pb_module et_pb_divider_3 et_pb_space et_pb_divider_hidden\"><div class=\"et_pb_divider_internal\"></div></div></div><div class=\"et_pb_column et_pb_column_1_3 et_pb_column_8 et_pb_css_mix_blend_mode_passthrough\"><div class=\"et_pb_module et_pb_divider_4 et_pb_space et_pb_divider_hidden\"><div class=\"et_pb_divider_internal\"></div></div><div class=\"et_pb_module et_pb_divider_5 et_pb_space et_pb_divider_hidden\"><div class=\"et_pb_divider_internal\"></div></div><div class=\"et_pb_module et_pb_text et_pb_text_8 et_pb_text_align_left et_pb_bg_layout_light\"><div class=\"et_pb_text_inner\"><h2>Good People</h2></div></div><div class=\"et_pb_module et_pb_divider_6 et_pb_space et_pb_divider_hidden\"><div class=\"et_pb_divider_internal\"></div></div><div class=\"et_pb_module et_pb_divider_7 et_pb_space et_pb_divider_hidden\"><div class=\"et_pb_divider_internal\"></div></div></div><div class=\"et_pb_column et_pb_column_1_3 et_pb_column_9 et_pb_css_mix_blend_mode_passthrough et-last-child\"><div class=\"et_pb_module et_pb_divider_8 et_pb_space et_pb_divider_hidden\"><div class=\"et_pb_divider_internal\"></div></div><div class=\"et_pb_module et_pb_divider_9 et_pb_space et_pb_divider_hidden\"><div class=\"et_pb_divider_internal\"></div></div><div class=\"et_pb_module et_pb_text et_pb_text_9 et_pb_text_align_left et_pb_bg_layout_light\"><div class=\"et_pb_text_inner\"><h2>Damn Good Beer</h2></div></div><div class=\"et_pb_module et_pb_divider_10 et_pb_space et_pb_divider_hidden\"><div class=\"et_pb_divider_internal\"></div></div><div class=\"et_pb_module et_pb_divider_11 et_pb_space et_pb_divider_hidden\"><div class=\"et_pb_divider_internal\"></div></div></div></div></div><div class=\"et_pb_section et_pb_section_3 et_section_regular\"><div class=\"et_pb_row et_pb_row_4\"><div class=\"et_pb_column et_pb_column_4_4 et_pb_column_10 et_pb_css_mix_blend_mode_passthrough et-last-child\"><div class=\"et_pb_with_border et_pb_module et_pb_text et_pb_text_10 et_pb_text_align_left et_pb_bg_layout_light\"><div class=\"et_pb_text_inner\"><h2>Latest Duece is Loose!!</h2></div></div><div class=\"et_pb_module et_pb_blog_0 et_pb_posts et_pb_bg_layout_light\"><div class=\"et_pb_ajax_pagination_container\"><article class=\"et_pb_post clearfix et_pb_no_thumb et_pb_blog_item_0_0 post-1226 post type-post status-publish format-standard hentry category-the-duece-is-loose\" id=\"post-1226\"><h2 class=\"entry-title\"><a href=\"https://dwbbrewery.com/the-duece-is-loose/\">The Duece is Loose!</a></h2><p class=\"post-meta\"><span class=\"published\">Mar 17, 2019</span></p><div class=\"post-content\"><div class=\"post-content-inner\"><p>The Duece is Loose!  This time enjoying the magnificent Sahara Desert sunset. Thanks for the love John and Kelly! Cheers!</p></div></div></article><article class=\"et_pb_post clearfix et_pb_no_thumb et_pb_blog_item_0_1 post-606 post type-post status-publish format-standard has-post-thumbnail hentry category-the-duece-is-loose\" id=\"post-606\"><h2 class=\"entry-title\"><a href=\"https://dwbbrewery.com/stone-bridge-brewing-co-johnstown-pa-thank-you-jen/\">Stone Bridge Brewing Co.- Johnstown, PA. Thank you Jen!</a></h2><p class=\"post-meta\"><span class=\"published\">Jan 15, 2019</span></p><div class=\"post-content\"><div class=\"post-content-inner\"></div></div></article><article class=\"et_pb_post clearfix et_pb_no_thumb et_pb_blog_item_0_2 post-604 post type-post status-publish format-standard has-post-thumbnail hentry category-the-duece-is-loose\" id=\"post-604\"><h2 class=\"entry-title\"><a href=\"https://dwbbrewery.com/usaf-half-marathon-dayton-oh-thank-you-pat/\">USAF half Marathon-Dayton, OH. Thank you Pat!</a></h2><p class=\"post-meta\"><span class=\"published\">Jan 15, 2019</span></p><div class=\"post-content\"><div class=\"post-content-inner\"></div></div></article><div><div class=\"pagination clearfix\"><div class=\"alignleft\"><a href=\"https://dwbbrewery.com/page/2/?et_blog\">« Older Entries</a></div><div class=\"alignright\"></div></div></div></div></div></div></div></div><div class=\"et_pb_section et_pb_section_5 et_pb_with_background et_section_regular\"><div class=\"et_pb_row et_pb_row_5\"><div class=\"et_pb_column et_pb_column_2_5 et_pb_column_11 et_pb_css_mix_blend_mode_passthrough\"><div class=\"et_pb_module et_pb_text et_pb_text_11 et_pb_text_align_left et_pb_bg_layout_light\"><div class=\"et_pb_text_inner\"><h2>FIND US</h2></div></div><div class=\"et_pb_module et_pb_image et_pb_image_3\"> <span class=\"et_pb_image_wrap has-box-shadow-overlay\"><div class=\"box-shadow-overlay\"></div><img alt=\"\" class=\"wp-image-17\" height=\"199\" loading=\"lazy\" src=\"https://dwbbrewery.com/wp-content/uploads/2019/01/dwbboxandbeer-300x199.jpg\" title=\"\" width=\"300\"/></span></div><div class=\"et_pb_with_border et_pb_module et_pb_text et_pb_text_12 et_pb_text_align_left et_pb_bg_layout_light\"><div class=\"et_pb_text_inner\"><p>Locations &amp; Hours</p></div></div><div class=\"et_pb_module et_pb_text et_pb_text_13 et_pb_text_align_left et_pb_bg_layout_light\"><div class=\"et_pb_text_inner\"><p><a href=\"https://www.google.com/maps/place/660+Peterson+Rd,+Colorado+Springs,+CO+80915/@38.8414842,-104.7046135,17z/data=!3m1!4b1!4m5!3m4!1s0x871347aa4f8fb193:0x8761831727a0fddc!8m2!3d38.8414842!4d-104.7024248\" rel=\"noopener noreferrer\" target=\"_blank\">660 Peterson Road</a><br/> Colorado Springs, Co 80915<br/> <a href=\"tel:1-719-394-4811\">(719)394-4811</a><br/> <a href=\"mailto:dueces@dwbbrewery.com\">dueces@dwbbrewery.com</a></p></div></div><div class=\"et_pb_module et_pb_text et_pb_text_14 et_pb_text_align_left et_pb_bg_layout_light\"><div class=\"et_pb_text_inner\"><p>Monday – Closed to make Damn Good Beer</p><p>Tuesday-Wednesday 3pm-8pm</p><p>Thursday- 3:00pm-9:00pm</p><p>Friday- 12pm-10pm</p><p>Saturday-12:00pm-10:00pm</p><p>Sunday: 11:00am–6:00pm</p></div></div><ul class=\"et_pb_module et_pb_social_media_follow et_pb_social_media_follow_0 clearfix et_pb_bg_layout_light\"><li class=\"et_pb_social_media_follow_network_0 et_pb_social_icon et_pb_social_network_link et-social-facebook et_pb_social_media_follow_network_0\"><a class=\"icon et_pb_with_border\" href=\"https://www.facebook.com/dwbbrewery/\" target=\"_blank\" title=\"Follow on Facebook\"><span aria-hidden=\"true\" class=\"et_pb_social_media_follow_network_name\">Follow</span></a></li><li class=\"et_pb_social_media_follow_network_1 et_pb_social_icon et_pb_social_network_link et-social-twitter et_pb_social_media_follow_network_1\"><a class=\"icon et_pb_with_border\" href=\"https://www.twitter.com/dwbbrewery/\" target=\"_blank\" title=\"Follow on Twitter\"><span aria-hidden=\"true\" class=\"et_pb_social_media_follow_network_name\">Follow</span></a></li><li class=\"et_pb_social_media_follow_network_2 et_pb_social_icon et_pb_social_network_link et-social-instagram et_pb_social_media_follow_network_2\"><a class=\"icon et_pb_with_border\" href=\"https://www.instagram.com/dwbbrewery/\" target=\"_blank\" title=\"Follow on Instagram\"><span aria-hidden=\"true\" class=\"et_pb_social_media_follow_network_name\">Follow</span></a></li></ul><div class=\"et_pb_module et_pb_text et_pb_text_15 et_pb_text_align_left et_pb_bg_layout_light\"><div class=\"et_pb_text_inner\"><p><a href=\"https://www.google.com/maps/place/3352+Templeton+Gap+Rd,+Colorado+Springs,+CO+80907/@38.8785326,-104.7971843,17z/data=!3m1!4b1!4m5!3m4!1s0x87134f7a75168e51:0x127b95a55f919551!8m2!3d38.8785326!4d-104.7949956\" rel=\"noopener noreferrer\" target=\"_blank\">3352 Templeton Gap Road</a><br/> Colorado Springs, Co 80907<br/><a href=\"tal:17193745806\">719-374-5806</a><br/><a href=\"mailto:dueces@dwbbrewery.com\">dueces@dwbbrewery.com</a></p></div></div><div class=\"et_pb_module et_pb_text et_pb_text_16 et_pb_text_align_left et_pb_bg_layout_light\"><div class=\"et_pb_text_inner\"><p>Monday– Closed to make Damn Good Beer</p><p>Tuesday &amp; Wednesday: 3:00pm-8:00pm</p><p>Thursday- 3:00pm-9:00pm</p><p>Friday &amp; Saturday- 12:00pm-10:00pm</p><p>Sunday: 11:00am – 6:00pm</p></div></div><ul class=\"et_pb_module et_pb_social_media_follow et_pb_social_media_follow_1 clearfix et_pb_bg_layout_light\"><li class=\"et_pb_social_media_follow_network_3 et_pb_social_icon et_pb_social_network_link et-social-facebook et_pb_social_media_follow_network_3\"><a class=\"icon et_pb_with_border\" href=\"https://www.facebook.com/dwbontapattgap\" target=\"_blank\" title=\"Follow on Facebook\"><span aria-hidden=\"true\" class=\"et_pb_social_media_follow_network_name\">Follow</span></a></li><li class=\"et_pb_social_media_follow_network_4 et_pb_social_icon et_pb_social_network_link et-social-twitter et_pb_social_media_follow_network_4\"><a class=\"icon et_pb_with_border\" href=\"https://www.twitter.com/dwbbrewery/\" target=\"_blank\" title=\"Follow on Twitter\"><span aria-hidden=\"true\" class=\"et_pb_social_media_follow_network_name\">Follow</span></a></li><li class=\"et_pb_social_media_follow_network_5 et_pb_social_icon et_pb_social_network_link et-social-instagram et_pb_social_media_follow_network_5\"><a class=\"icon et_pb_with_border\" href=\"https://www.instagram.com/dwbontap/\" target=\"_blank\" title=\"Follow on Instagram\"><span aria-hidden=\"true\" class=\"et_pb_social_media_follow_network_name\">Follow</span></a></li></ul></div><div class=\"et_pb_column et_pb_column_3_5 et_pb_column_12 et_pb_css_mix_blend_mode_passthrough et-last-child\"><div class=\"et_pb_module et_pb_image et_pb_image_4 et_animated et-waypoint\"> <span class=\"et_pb_image_wrap\"><img alt=\"\" class=\"wp-image-18\" height=\"300\" loading=\"lazy\" sizes=\"(max-width: 300px) 100vw, 300px\" src=\"https://dwbbrewery.com/wp-content/uploads/2019/01/DWB-Barrel2.jpg-300x300.png\" srcset=\"https://dwbbrewery.com/wp-content/uploads/2019/01/DWB-Barrel2.jpg-300x300.png 300w, https://dwbbrewery.com/wp-content/uploads/2019/01/DWB-Barrel2.jpg-300x300-100x100.png 100w, https://dwbbrewery.com/wp-content/uploads/2019/01/DWB-Barrel2.jpg-300x300-150x150.png 150w\" title=\"\" width=\"300\"/></span></div><div class=\"et_pb_module et_pb_divider_12 et_pb_space et_pb_divider_hidden\"><div class=\"et_pb_divider_internal\"></div></div><div class=\"et_pb_module et_pb_text et_pb_text_17 et_pb_text_align_left et_pb_bg_layout_light\"><div class=\"et_pb_text_inner\"><h3>WE BELIEVE IN FRIENDS, FAMILY, AND DAMN GOOD BEER!</h3></div></div><div class=\"et_pb_module et_pb_text et_pb_text_18 et_pb_text_align_left et_pb_bg_layout_light\"><div class=\"et_pb_text_inner\"><p>Dueces Wild Brewery (DWB) is a veteran owned and operated craft brewery. We are strong supporters of our military, and first responder community and to say thanks we offer them a 10% discount on all pints for them. Our ambition is to brew high quality beer, support the local economy, and present a clean and friendly social environment for family and friends. We strive to make a well balanced selection of beers that everyone would enjoy. One taste of our beer and you’ll understand why Dueces Wild has quickly become one of Colorado Springs favorite breweries.</p><p>Although we are new to the craft beer community and only recently opened our doors in February of 2018, the team at DWB brings over 20 years of brewing experience to over 20 different and unique recipes for your drinking pleasure. Dueces operates on a state of the art 10 barrel Alpha brewing system which helps ensure the quality of beer is always consistent.</p></div></div></div></div><div class=\"et_pb_row et_pb_row_6 et_pb_equal_columns\"><div class=\"et_pb_column et_pb_column_1_3 et_pb_column_13 et_pb_css_mix_blend_mode_passthrough\"><div class=\"et_pb_module et_pb_cta_0 et_pb_promo et_pb_text_align_center et_pb_bg_layout_dark\"><div class=\"et_pb_promo_description\"><h2 class=\"et_pb_module_header\">SAISON W/ LEMON GRASS AND GRAINS OF PARADISE</h2><div><p><span>Lemony with a hint of white pepper</span></p><div dir=\"auto\">5.1% ABV, 15 IBU</div><div dir=\"auto\"></div><div dir=\"auto\"></div><div dir=\"auto\"></div><div dir=\"auto\"></div><div dir=\"auto\"></div><div dir=\"auto\"></div><div dir=\"auto\"></div><div dir=\"auto\"><img alt=\"\" class=\"wp-image-3551 alignnone size-medium\" height=\"229\" loading=\"lazy\" src=\"https://dwbbrewery.com/wp-content/uploads/2021/09/DWB-Logo-0418-Digital-300x229.jpg\" width=\"300\"/></div></div></div></div></div><div class=\"et_pb_column et_pb_column_1_3 et_pb_column_14 et_pb_css_mix_blend_mode_passthrough\"><div class=\"et_pb_module et_pb_cta_1 et_pb_promo et_pb_text_align_center et_pb_bg_layout_dark\"><div class=\"et_pb_promo_description\"><h2 class=\"et_pb_module_header\">PURE MORNING - PALE ALE.</h2><div><p>Light to medium body, citrusy</p><p class=\"p1\">5% ABV, 35IBU Hops: Citra</p><p class=\"p1\"><p class=\"p1\"><p class=\"p1\"><p class=\"p1\"><p class=\"p1\"><p class=\"p1\"><p class=\"p1\"><p class=\"p1\"><p class=\"p1\"><p class=\"p1\"><p class=\"p1\"><p class=\"p1\"><p class=\"p1\"><p class=\"p1\"><p class=\"p1\"></p></p></p></p></p></p></p></p></p></p></p></p></p></p></p></div></div></div><div class=\"et_pb_module et_pb_cta_2 et_pb_promo et_pb_text_align_center et_pb_bg_layout_dark\"><div class=\"et_pb_promo_description\"><h2 class=\"et_pb_module_header\">FUNKY GNOME- BELGIAN PALE ALE</h2><div><p class=\"p1\">A traditional Belgian style Pale Ale brewed with German and American hops that closely replicate the Noble hops used in these beers. Spicy aromas and flavors of the hops along with clove and banana esters. Light toast Jessica and fruit flavors carry through to the finish. A great beer for Summer.</p><p class=\"p1\">5.3% ABV 25 IBU Hops: German Northern Brewer, Sterling.</p><p class=\"p1\"><img alt=\"\" class=\"wp-image-1839 alignnone size-medium\" height=\"300\" loading=\"lazy\" src=\"https://dwbbrewery.com/wp-content/uploads/2019/09/funkygnome_tiny-225x300.jpeg\" width=\"225\"/></p><p class=\"p2\"></p></div></div></div><div class=\"et_pb_module et_pb_cta_3 et_pb_promo et_pb_text_align_center et_pb_bg_layout_dark\"><div class=\"et_pb_promo_description\"><h2 class=\"et_pb_module_header\">FUNKY GNOME- BELGIAN PALE ALE</h2><div><p class=\"p1\">A traditional Belgian style Pale Ale brewed with German and American hops that closely replicate the Noble hops used in these beers. Spicy aromas and flavors of the hops along with clove and banana esters. Light toast Jessica and fruit flavors carry through to the finish. A great beer for Summer.</p><p class=\"p1\">5.3% ABV 25 IBU Hops: German Northern Brewer, Sterling.</p><p class=\"p1\"><img alt=\"\" class=\"wp-image-1839 alignnone size-medium\" height=\"300\" loading=\"lazy\" src=\"https://dwbbrewery.com/wp-content/uploads/2019/09/funkygnome_tiny-225x300.jpeg\" width=\"225\"/></p><p class=\"p2\"></p></div></div></div></div><div class=\"et_pb_column et_pb_column_1_3 et_pb_column_15 et_pb_css_mix_blend_mode_passthrough et-last-child et_pb_column_empty\"></div></div></div></div></div></div>,\n",
       " <div class=\"et-l et-l--post\"><div class=\"et_builder_inner_content et_pb_gutters3\"><div class=\"et_pb_section et_pb_section_0 et_section_regular\"><div class=\"et_pb_row et_pb_row_0\"><div class=\"et_pb_column et_pb_column_1_2 et_pb_column_0 et_pb_css_mix_blend_mode_passthrough\"><div class=\"et_pb_module et_pb_image et_pb_image_0\"> <span class=\"et_pb_image_wrap\"><img alt=\"\" class=\"wp-image-22\" height=\"136\" loading=\"lazy\" sizes=\"(max-width: 300px) 100vw, 300px\" src=\"https://dwbbrewery.com/wp-content/uploads/2019/01/DucesWildcolor-logo_tinied-300x136.png\" srcset=\"https://dwbbrewery.com/wp-content/uploads/2019/01/DucesWildcolor-logo_tinied-300x136.png 300w, https://dwbbrewery.com/wp-content/uploads/2019/01/DucesWildcolor-logo_tinied-600x272.png 600w, https://dwbbrewery.com/wp-content/uploads/2019/01/DucesWildcolor-logo_tinied-768x349.png 768w, https://dwbbrewery.com/wp-content/uploads/2019/01/DucesWildcolor-logo_tinied.png 859w\" title=\"\" width=\"300\"/></span></div><div class=\"et_pb_module et_pb_text et_pb_text_0 et_pb_text_align_left et_pb_bg_layout_light\"><div class=\"et_pb_text_inner\"><h3>Due to the COVID19, our hours are limited but we are offering <a href=\"https://dwbbrewery.com/gift-card/\" title=\"Gift Cards\">gift cards</a>.</h3></div></div><div class=\"et_pb_button_module_wrapper et_pb_button_0_wrapper et_pb_button_alignment_center et_pb_module\"> <a class=\"et_pb_button et_pb_button_0 et_pb_bg_layout_light\" href=\"https://dwbbrewery.com/gift-card/\">Get your gift cards</a></div></div><div class=\"et_pb_column et_pb_column_1_2 et_pb_column_1 et_pb_css_mix_blend_mode_passthrough et-last-child\"><div class=\"et_pb_module et_pb_blurb et_pb_blurb_0 et_clickable et_pb_text_align_left et_pb_blurb_position_top et_pb_bg_layout_light\"><div class=\"et_pb_blurb_content\"><div class=\"et_pb_main_blurb_image\"><a href=\"/gift-card/\"><span class=\"et_pb_image_wrap\"><img alt=\"\" class=\"et-waypoint et_pb_animation_top et_pb_animation_top_tablet et_pb_animation_top_phone wp-image-3379\" height=\"300\" loading=\"lazy\" src=\"https://dwbbrewery.com/wp-content/uploads/2020/03/pw-gift-card-300x300.png\" width=\"300\"/></span></a></div><div class=\"et_pb_blurb_container\"><h4 class=\"et_pb_module_header\"><a href=\"/gift-card/\">Support Local Business by purchasing Gift Cards</a></h4><div class=\"et_pb_blurb_description\"><p>We offer gift cards and we are happy to mail them to you. You may also pick them up at the brewery.</p></div></div></div></div></div></div></div><div class=\"et_pb_section et_pb_section_1 et_pb_with_background et_section_regular\"><div class=\"et_pb_row et_pb_row_1\"><div class=\"et_pb_column et_pb_column_1_4 et_pb_column_2 et_pb_css_mix_blend_mode_passthrough et_pb_column_empty\"></div><div class=\"et_pb_column et_pb_column_1_2 et_pb_column_3 et_pb_css_mix_blend_mode_passthrough\"><div class=\"et_pb_module et_pb_image et_pb_image_1 et_pb_image_sticky\"> <span class=\"et_pb_image_wrap\"><img alt=\"\" class=\"wp-image-22\" height=\"390\" loading=\"lazy\" sizes=\"(max-width: 859px) 100vw, 859px\" src=\"https://dwbbrewery.com/wp-content/uploads/2019/01/DucesWildcolor-logo_tinied.png\" srcset=\"https://dwbbrewery.com/wp-content/uploads/2019/01/DucesWildcolor-logo_tinied.png 859w, https://dwbbrewery.com/wp-content/uploads/2019/01/DucesWildcolor-logo_tinied-600x272.png 600w, https://dwbbrewery.com/wp-content/uploads/2019/01/DucesWildcolor-logo_tinied-300x136.png 300w, https://dwbbrewery.com/wp-content/uploads/2019/01/DucesWildcolor-logo_tinied-768x349.png 768w\" title=\"\" width=\"859\"/></span></div><div class=\"et_pb_module et_pb_text et_pb_text_1 et_pb_text_align_left et_pb_bg_layout_light\"><div class=\"et_pb_text_inner\"><h1>Dueces Wild Brewery</h1></div></div><div class=\"et_pb_module et_pb_text et_pb_text_2 et_pb_text_align_left et_pb_bg_layout_light\"><div class=\"et_pb_text_inner\"><h2>Home of the 2019, Great American Beer Festival Gold Medal winning, Knuckle Dragger, Scotch ale.</h2></div></div><div class=\"et_pb_module et_pb_text et_pb_text_3 et_pb_text_align_left et_pb_bg_layout_light\"><div class=\"et_pb_text_inner\"><h1>EST. 2018</h1></div></div></div><div class=\"et_pb_column et_pb_column_1_4 et_pb_column_4 et_pb_css_mix_blend_mode_passthrough et-last-child\"><div class=\"et_pb_module et_pb_image et_pb_image_2 et_pb_image_sticky\"> <span class=\"et_pb_image_wrap\"><img alt=\"\" class=\"wp-image-2002\" height=\"837\" loading=\"lazy\" sizes=\"(min-width: 0px) and (max-width: 480px) 480px, (min-width: 481px) 585px, 100vw\" src=\"https://dwbbrewery.com/wp-content/uploads/2019/10/GABF-Gold-RGB.png\" srcset=\"https://dwbbrewery.com/wp-content/uploads/2019/10/GABF-Gold-RGB.png 585w, https://dwbbrewery.com/wp-content/uploads/2019/10/GABF-Gold-RGB-480x687.png 480w\" title=\"\" width=\"585\"/></span></div><div class=\"et_pb_module et_pb_text et_pb_text_4 et_pb_text_align_center et_pb_bg_layout_light\"><div class=\"et_pb_text_inner\"><p>Knuckle Dragger, 2019 Gold<br/> medal, Scotch Ale category</p></div></div></div></div><div class=\"et_pb_row et_pb_row_2 et_pb_equal_columns\"><div class=\"et_pb_column et_pb_column_1_2 et_pb_column_5 et_pb_css_mix_blend_mode_passthrough\"><div class=\"et_pb_module et_pb_text et_pb_text_5 et_pb_text_align_center et_pb_bg_layout_light\"><div class=\"et_pb_text_inner\"><p style=\"text-align: justify;\">BREWERY</p><p style=\"text-align: left;\">660 Peterson Road</p></div></div><div class=\"et_pb_button_module_wrapper et_pb_button_1_wrapper et_pb_button_alignment_center et_pb_module\"> <a class=\"et_pb_button et_pb_button_1 et_pb_bg_layout_light\" href=\"https://dwbbrewery.com/beers/\">BEERS </a></div><div class=\"et_pb_button_module_wrapper et_pb_button_2_wrapper et_pb_button_alignment_center et_pb_module\"> <a class=\"et_pb_button et_pb_button_2 et_pb_bg_layout_light\" href=\"https://dwbbrewery.com/peterson-events/\">EVENTS</a></div></div><div class=\"et_pb_column et_pb_column_1_2 et_pb_column_6 et_pb_css_mix_blend_mode_passthrough et-last-child\"><div class=\"et_pb_module et_pb_text et_pb_text_6 et_pb_text_align_center et_pb_bg_layout_light\"><div class=\"et_pb_text_inner\"><p>TAPROOM</p><p>3352 Templeton Gap</p></div></div><div class=\"et_pb_button_module_wrapper et_pb_button_3_wrapper et_pb_button_alignment_center et_pb_module\"> <a class=\"et_pb_button et_pb_button_3 et_pb_bg_layout_light\" href=\"https://dwbbrewery.com/beers-tgap/\">BEERS </a></div><div class=\"et_pb_button_module_wrapper et_pb_button_4_wrapper et_pb_button_alignment_center et_pb_module\"> <a class=\"et_pb_button et_pb_button_4 et_pb_bg_layout_light\" href=\"https://dwbbrewery.com/tgap-events/\">EVENTS</a></div></div></div></div><div class=\"et_pb_section et_pb_section_2 et_pb_with_background et_section_regular\"><div class=\"et_pb_row et_pb_row_3 et_pb_equal_columns\"><div class=\"et_pb_column et_pb_column_1_3 et_pb_column_7 et_pb_css_mix_blend_mode_passthrough\"><div class=\"et_pb_module et_pb_divider_0 et_pb_space et_pb_divider_hidden\"><div class=\"et_pb_divider_internal\"></div></div><div class=\"et_pb_module et_pb_divider_1 et_pb_space et_pb_divider_hidden\"><div class=\"et_pb_divider_internal\"></div></div><div class=\"et_pb_module et_pb_text et_pb_text_7 et_pb_text_align_left et_pb_bg_layout_light\"><div class=\"et_pb_text_inner\"><h2>Good Place</h2></div></div><div class=\"et_pb_module et_pb_divider_2 et_pb_space et_pb_divider_hidden\"><div class=\"et_pb_divider_internal\"></div></div><div class=\"et_pb_module et_pb_divider_3 et_pb_space et_pb_divider_hidden\"><div class=\"et_pb_divider_internal\"></div></div></div><div class=\"et_pb_column et_pb_column_1_3 et_pb_column_8 et_pb_css_mix_blend_mode_passthrough\"><div class=\"et_pb_module et_pb_divider_4 et_pb_space et_pb_divider_hidden\"><div class=\"et_pb_divider_internal\"></div></div><div class=\"et_pb_module et_pb_divider_5 et_pb_space et_pb_divider_hidden\"><div class=\"et_pb_divider_internal\"></div></div><div class=\"et_pb_module et_pb_text et_pb_text_8 et_pb_text_align_left et_pb_bg_layout_light\"><div class=\"et_pb_text_inner\"><h2>Good People</h2></div></div><div class=\"et_pb_module et_pb_divider_6 et_pb_space et_pb_divider_hidden\"><div class=\"et_pb_divider_internal\"></div></div><div class=\"et_pb_module et_pb_divider_7 et_pb_space et_pb_divider_hidden\"><div class=\"et_pb_divider_internal\"></div></div></div><div class=\"et_pb_column et_pb_column_1_3 et_pb_column_9 et_pb_css_mix_blend_mode_passthrough et-last-child\"><div class=\"et_pb_module et_pb_divider_8 et_pb_space et_pb_divider_hidden\"><div class=\"et_pb_divider_internal\"></div></div><div class=\"et_pb_module et_pb_divider_9 et_pb_space et_pb_divider_hidden\"><div class=\"et_pb_divider_internal\"></div></div><div class=\"et_pb_module et_pb_text et_pb_text_9 et_pb_text_align_left et_pb_bg_layout_light\"><div class=\"et_pb_text_inner\"><h2>Damn Good Beer</h2></div></div><div class=\"et_pb_module et_pb_divider_10 et_pb_space et_pb_divider_hidden\"><div class=\"et_pb_divider_internal\"></div></div><div class=\"et_pb_module et_pb_divider_11 et_pb_space et_pb_divider_hidden\"><div class=\"et_pb_divider_internal\"></div></div></div></div></div><div class=\"et_pb_section et_pb_section_3 et_section_regular\"><div class=\"et_pb_row et_pb_row_4\"><div class=\"et_pb_column et_pb_column_4_4 et_pb_column_10 et_pb_css_mix_blend_mode_passthrough et-last-child\"><div class=\"et_pb_with_border et_pb_module et_pb_text et_pb_text_10 et_pb_text_align_left et_pb_bg_layout_light\"><div class=\"et_pb_text_inner\"><h2>Latest Duece is Loose!!</h2></div></div><div class=\"et_pb_module et_pb_blog_0 et_pb_posts et_pb_bg_layout_light\"><div class=\"et_pb_ajax_pagination_container\"><article class=\"et_pb_post clearfix et_pb_no_thumb et_pb_blog_item_0_0 post-1226 post type-post status-publish format-standard hentry category-the-duece-is-loose\" id=\"post-1226\"><h2 class=\"entry-title\"><a href=\"https://dwbbrewery.com/the-duece-is-loose/\">The Duece is Loose!</a></h2><p class=\"post-meta\"><span class=\"published\">Mar 17, 2019</span></p><div class=\"post-content\"><div class=\"post-content-inner\"><p>The Duece is Loose!  This time enjoying the magnificent Sahara Desert sunset. Thanks for the love John and Kelly! Cheers!</p></div></div></article><article class=\"et_pb_post clearfix et_pb_no_thumb et_pb_blog_item_0_1 post-606 post type-post status-publish format-standard has-post-thumbnail hentry category-the-duece-is-loose\" id=\"post-606\"><h2 class=\"entry-title\"><a href=\"https://dwbbrewery.com/stone-bridge-brewing-co-johnstown-pa-thank-you-jen/\">Stone Bridge Brewing Co.- Johnstown, PA. Thank you Jen!</a></h2><p class=\"post-meta\"><span class=\"published\">Jan 15, 2019</span></p><div class=\"post-content\"><div class=\"post-content-inner\"></div></div></article><article class=\"et_pb_post clearfix et_pb_no_thumb et_pb_blog_item_0_2 post-604 post type-post status-publish format-standard has-post-thumbnail hentry category-the-duece-is-loose\" id=\"post-604\"><h2 class=\"entry-title\"><a href=\"https://dwbbrewery.com/usaf-half-marathon-dayton-oh-thank-you-pat/\">USAF half Marathon-Dayton, OH. Thank you Pat!</a></h2><p class=\"post-meta\"><span class=\"published\">Jan 15, 2019</span></p><div class=\"post-content\"><div class=\"post-content-inner\"></div></div></article><div><div class=\"pagination clearfix\"><div class=\"alignleft\"><a href=\"https://dwbbrewery.com/page/2/?et_blog\">« Older Entries</a></div><div class=\"alignright\"></div></div></div></div></div></div></div></div><div class=\"et_pb_section et_pb_section_5 et_pb_with_background et_section_regular\"><div class=\"et_pb_row et_pb_row_5\"><div class=\"et_pb_column et_pb_column_2_5 et_pb_column_11 et_pb_css_mix_blend_mode_passthrough\"><div class=\"et_pb_module et_pb_text et_pb_text_11 et_pb_text_align_left et_pb_bg_layout_light\"><div class=\"et_pb_text_inner\"><h2>FIND US</h2></div></div><div class=\"et_pb_module et_pb_image et_pb_image_3\"> <span class=\"et_pb_image_wrap has-box-shadow-overlay\"><div class=\"box-shadow-overlay\"></div><img alt=\"\" class=\"wp-image-17\" height=\"199\" loading=\"lazy\" src=\"https://dwbbrewery.com/wp-content/uploads/2019/01/dwbboxandbeer-300x199.jpg\" title=\"\" width=\"300\"/></span></div><div class=\"et_pb_with_border et_pb_module et_pb_text et_pb_text_12 et_pb_text_align_left et_pb_bg_layout_light\"><div class=\"et_pb_text_inner\"><p>Locations &amp; Hours</p></div></div><div class=\"et_pb_module et_pb_text et_pb_text_13 et_pb_text_align_left et_pb_bg_layout_light\"><div class=\"et_pb_text_inner\"><p><a href=\"https://www.google.com/maps/place/660+Peterson+Rd,+Colorado+Springs,+CO+80915/@38.8414842,-104.7046135,17z/data=!3m1!4b1!4m5!3m4!1s0x871347aa4f8fb193:0x8761831727a0fddc!8m2!3d38.8414842!4d-104.7024248\" rel=\"noopener noreferrer\" target=\"_blank\">660 Peterson Road</a><br/> Colorado Springs, Co 80915<br/> <a href=\"tel:1-719-394-4811\">(719)394-4811</a><br/> <a href=\"mailto:dueces@dwbbrewery.com\">dueces@dwbbrewery.com</a></p></div></div><div class=\"et_pb_module et_pb_text et_pb_text_14 et_pb_text_align_left et_pb_bg_layout_light\"><div class=\"et_pb_text_inner\"><p>Monday – Closed to make Damn Good Beer</p><p>Tuesday-Wednesday 3pm-8pm</p><p>Thursday- 3:00pm-9:00pm</p><p>Friday- 12pm-10pm</p><p>Saturday-12:00pm-10:00pm</p><p>Sunday: 11:00am–6:00pm</p></div></div><ul class=\"et_pb_module et_pb_social_media_follow et_pb_social_media_follow_0 clearfix et_pb_bg_layout_light\"><li class=\"et_pb_social_media_follow_network_0 et_pb_social_icon et_pb_social_network_link et-social-facebook et_pb_social_media_follow_network_0\"><a class=\"icon et_pb_with_border\" href=\"https://www.facebook.com/dwbbrewery/\" target=\"_blank\" title=\"Follow on Facebook\"><span aria-hidden=\"true\" class=\"et_pb_social_media_follow_network_name\">Follow</span></a></li><li class=\"et_pb_social_media_follow_network_1 et_pb_social_icon et_pb_social_network_link et-social-twitter et_pb_social_media_follow_network_1\"><a class=\"icon et_pb_with_border\" href=\"https://www.twitter.com/dwbbrewery/\" target=\"_blank\" title=\"Follow on Twitter\"><span aria-hidden=\"true\" class=\"et_pb_social_media_follow_network_name\">Follow</span></a></li><li class=\"et_pb_social_media_follow_network_2 et_pb_social_icon et_pb_social_network_link et-social-instagram et_pb_social_media_follow_network_2\"><a class=\"icon et_pb_with_border\" href=\"https://www.instagram.com/dwbbrewery/\" target=\"_blank\" title=\"Follow on Instagram\"><span aria-hidden=\"true\" class=\"et_pb_social_media_follow_network_name\">Follow</span></a></li></ul><div class=\"et_pb_module et_pb_text et_pb_text_15 et_pb_text_align_left et_pb_bg_layout_light\"><div class=\"et_pb_text_inner\"><p><a href=\"https://www.google.com/maps/place/3352+Templeton+Gap+Rd,+Colorado+Springs,+CO+80907/@38.8785326,-104.7971843,17z/data=!3m1!4b1!4m5!3m4!1s0x87134f7a75168e51:0x127b95a55f919551!8m2!3d38.8785326!4d-104.7949956\" rel=\"noopener noreferrer\" target=\"_blank\">3352 Templeton Gap Road</a><br/> Colorado Springs, Co 80907<br/><a href=\"tal:17193745806\">719-374-5806</a><br/><a href=\"mailto:dueces@dwbbrewery.com\">dueces@dwbbrewery.com</a></p></div></div><div class=\"et_pb_module et_pb_text et_pb_text_16 et_pb_text_align_left et_pb_bg_layout_light\"><div class=\"et_pb_text_inner\"><p>Monday– Closed to make Damn Good Beer</p><p>Tuesday &amp; Wednesday: 3:00pm-8:00pm</p><p>Thursday- 3:00pm-9:00pm</p><p>Friday &amp; Saturday- 12:00pm-10:00pm</p><p>Sunday: 11:00am – 6:00pm</p></div></div><ul class=\"et_pb_module et_pb_social_media_follow et_pb_social_media_follow_1 clearfix et_pb_bg_layout_light\"><li class=\"et_pb_social_media_follow_network_3 et_pb_social_icon et_pb_social_network_link et-social-facebook et_pb_social_media_follow_network_3\"><a class=\"icon et_pb_with_border\" href=\"https://www.facebook.com/dwbontapattgap\" target=\"_blank\" title=\"Follow on Facebook\"><span aria-hidden=\"true\" class=\"et_pb_social_media_follow_network_name\">Follow</span></a></li><li class=\"et_pb_social_media_follow_network_4 et_pb_social_icon et_pb_social_network_link et-social-twitter et_pb_social_media_follow_network_4\"><a class=\"icon et_pb_with_border\" href=\"https://www.twitter.com/dwbbrewery/\" target=\"_blank\" title=\"Follow on Twitter\"><span aria-hidden=\"true\" class=\"et_pb_social_media_follow_network_name\">Follow</span></a></li><li class=\"et_pb_social_media_follow_network_5 et_pb_social_icon et_pb_social_network_link et-social-instagram et_pb_social_media_follow_network_5\"><a class=\"icon et_pb_with_border\" href=\"https://www.instagram.com/dwbontap/\" target=\"_blank\" title=\"Follow on Instagram\"><span aria-hidden=\"true\" class=\"et_pb_social_media_follow_network_name\">Follow</span></a></li></ul></div><div class=\"et_pb_column et_pb_column_3_5 et_pb_column_12 et_pb_css_mix_blend_mode_passthrough et-last-child\"><div class=\"et_pb_module et_pb_image et_pb_image_4 et_animated et-waypoint\"> <span class=\"et_pb_image_wrap\"><img alt=\"\" class=\"wp-image-18\" height=\"300\" loading=\"lazy\" sizes=\"(max-width: 300px) 100vw, 300px\" src=\"https://dwbbrewery.com/wp-content/uploads/2019/01/DWB-Barrel2.jpg-300x300.png\" srcset=\"https://dwbbrewery.com/wp-content/uploads/2019/01/DWB-Barrel2.jpg-300x300.png 300w, https://dwbbrewery.com/wp-content/uploads/2019/01/DWB-Barrel2.jpg-300x300-100x100.png 100w, https://dwbbrewery.com/wp-content/uploads/2019/01/DWB-Barrel2.jpg-300x300-150x150.png 150w\" title=\"\" width=\"300\"/></span></div><div class=\"et_pb_module et_pb_divider_12 et_pb_space et_pb_divider_hidden\"><div class=\"et_pb_divider_internal\"></div></div><div class=\"et_pb_module et_pb_text et_pb_text_17 et_pb_text_align_left et_pb_bg_layout_light\"><div class=\"et_pb_text_inner\"><h3>WE BELIEVE IN FRIENDS, FAMILY, AND DAMN GOOD BEER!</h3></div></div><div class=\"et_pb_module et_pb_text et_pb_text_18 et_pb_text_align_left et_pb_bg_layout_light\"><div class=\"et_pb_text_inner\"><p>Dueces Wild Brewery (DWB) is a veteran owned and operated craft brewery. We are strong supporters of our military, and first responder community and to say thanks we offer them a 10% discount on all pints for them. Our ambition is to brew high quality beer, support the local economy, and present a clean and friendly social environment for family and friends. We strive to make a well balanced selection of beers that everyone would enjoy. One taste of our beer and you’ll understand why Dueces Wild has quickly become one of Colorado Springs favorite breweries.</p><p>Although we are new to the craft beer community and only recently opened our doors in February of 2018, the team at DWB brings over 20 years of brewing experience to over 20 different and unique recipes for your drinking pleasure. Dueces operates on a state of the art 10 barrel Alpha brewing system which helps ensure the quality of beer is always consistent.</p></div></div></div></div><div class=\"et_pb_row et_pb_row_6 et_pb_equal_columns\"><div class=\"et_pb_column et_pb_column_1_3 et_pb_column_13 et_pb_css_mix_blend_mode_passthrough\"><div class=\"et_pb_module et_pb_cta_0 et_pb_promo et_pb_text_align_center et_pb_bg_layout_dark\"><div class=\"et_pb_promo_description\"><h2 class=\"et_pb_module_header\">SAISON W/ LEMON GRASS AND GRAINS OF PARADISE</h2><div><p><span>Lemony with a hint of white pepper</span></p><div dir=\"auto\">5.1% ABV, 15 IBU</div><div dir=\"auto\"></div><div dir=\"auto\"></div><div dir=\"auto\"></div><div dir=\"auto\"></div><div dir=\"auto\"></div><div dir=\"auto\"></div><div dir=\"auto\"></div><div dir=\"auto\"><img alt=\"\" class=\"wp-image-3551 alignnone size-medium\" height=\"229\" loading=\"lazy\" src=\"https://dwbbrewery.com/wp-content/uploads/2021/09/DWB-Logo-0418-Digital-300x229.jpg\" width=\"300\"/></div></div></div></div></div><div class=\"et_pb_column et_pb_column_1_3 et_pb_column_14 et_pb_css_mix_blend_mode_passthrough\"><div class=\"et_pb_module et_pb_cta_1 et_pb_promo et_pb_text_align_center et_pb_bg_layout_dark\"><div class=\"et_pb_promo_description\"><h2 class=\"et_pb_module_header\">PURE MORNING - PALE ALE.</h2><div><p>Light to medium body, citrusy</p><p class=\"p1\">5% ABV, 35IBU Hops: Citra</p><p class=\"p1\"><p class=\"p1\"><p class=\"p1\"><p class=\"p1\"><p class=\"p1\"><p class=\"p1\"><p class=\"p1\"><p class=\"p1\"><p class=\"p1\"><p class=\"p1\"><p class=\"p1\"><p class=\"p1\"><p class=\"p1\"><p class=\"p1\"><p class=\"p1\"></p></p></p></p></p></p></p></p></p></p></p></p></p></p></p></div></div></div><div class=\"et_pb_module et_pb_cta_2 et_pb_promo et_pb_text_align_center et_pb_bg_layout_dark\"><div class=\"et_pb_promo_description\"><h2 class=\"et_pb_module_header\">FUNKY GNOME- BELGIAN PALE ALE</h2><div><p class=\"p1\">A traditional Belgian style Pale Ale brewed with German and American hops that closely replicate the Noble hops used in these beers. Spicy aromas and flavors of the hops along with clove and banana esters. Light toast Jessica and fruit flavors carry through to the finish. A great beer for Summer.</p><p class=\"p1\">5.3% ABV 25 IBU Hops: German Northern Brewer, Sterling.</p><p class=\"p1\"><img alt=\"\" class=\"wp-image-1839 alignnone size-medium\" height=\"300\" loading=\"lazy\" src=\"https://dwbbrewery.com/wp-content/uploads/2019/09/funkygnome_tiny-225x300.jpeg\" width=\"225\"/></p><p class=\"p2\"></p></div></div></div><div class=\"et_pb_module et_pb_cta_3 et_pb_promo et_pb_text_align_center et_pb_bg_layout_dark\"><div class=\"et_pb_promo_description\"><h2 class=\"et_pb_module_header\">FUNKY GNOME- BELGIAN PALE ALE</h2><div><p class=\"p1\">A traditional Belgian style Pale Ale brewed with German and American hops that closely replicate the Noble hops used in these beers. Spicy aromas and flavors of the hops along with clove and banana esters. Light toast Jessica and fruit flavors carry through to the finish. A great beer for Summer.</p><p class=\"p1\">5.3% ABV 25 IBU Hops: German Northern Brewer, Sterling.</p><p class=\"p1\"><img alt=\"\" class=\"wp-image-1839 alignnone size-medium\" height=\"300\" loading=\"lazy\" src=\"https://dwbbrewery.com/wp-content/uploads/2019/09/funkygnome_tiny-225x300.jpeg\" width=\"225\"/></p><p class=\"p2\"></p></div></div></div></div><div class=\"et_pb_column et_pb_column_1_3 et_pb_column_15 et_pb_css_mix_blend_mode_passthrough et-last-child et_pb_column_empty\"></div></div></div></div></div>,\n",
       " <div class=\"et_builder_inner_content et_pb_gutters3\"><div class=\"et_pb_section et_pb_section_0 et_section_regular\"><div class=\"et_pb_row et_pb_row_0\"><div class=\"et_pb_column et_pb_column_1_2 et_pb_column_0 et_pb_css_mix_blend_mode_passthrough\"><div class=\"et_pb_module et_pb_image et_pb_image_0\"> <span class=\"et_pb_image_wrap\"><img alt=\"\" class=\"wp-image-22\" height=\"136\" loading=\"lazy\" sizes=\"(max-width: 300px) 100vw, 300px\" src=\"https://dwbbrewery.com/wp-content/uploads/2019/01/DucesWildcolor-logo_tinied-300x136.png\" srcset=\"https://dwbbrewery.com/wp-content/uploads/2019/01/DucesWildcolor-logo_tinied-300x136.png 300w, https://dwbbrewery.com/wp-content/uploads/2019/01/DucesWildcolor-logo_tinied-600x272.png 600w, https://dwbbrewery.com/wp-content/uploads/2019/01/DucesWildcolor-logo_tinied-768x349.png 768w, https://dwbbrewery.com/wp-content/uploads/2019/01/DucesWildcolor-logo_tinied.png 859w\" title=\"\" width=\"300\"/></span></div><div class=\"et_pb_module et_pb_text et_pb_text_0 et_pb_text_align_left et_pb_bg_layout_light\"><div class=\"et_pb_text_inner\"><h3>Due to the COVID19, our hours are limited but we are offering <a href=\"https://dwbbrewery.com/gift-card/\" title=\"Gift Cards\">gift cards</a>.</h3></div></div><div class=\"et_pb_button_module_wrapper et_pb_button_0_wrapper et_pb_button_alignment_center et_pb_module\"> <a class=\"et_pb_button et_pb_button_0 et_pb_bg_layout_light\" href=\"https://dwbbrewery.com/gift-card/\">Get your gift cards</a></div></div><div class=\"et_pb_column et_pb_column_1_2 et_pb_column_1 et_pb_css_mix_blend_mode_passthrough et-last-child\"><div class=\"et_pb_module et_pb_blurb et_pb_blurb_0 et_clickable et_pb_text_align_left et_pb_blurb_position_top et_pb_bg_layout_light\"><div class=\"et_pb_blurb_content\"><div class=\"et_pb_main_blurb_image\"><a href=\"/gift-card/\"><span class=\"et_pb_image_wrap\"><img alt=\"\" class=\"et-waypoint et_pb_animation_top et_pb_animation_top_tablet et_pb_animation_top_phone wp-image-3379\" height=\"300\" loading=\"lazy\" src=\"https://dwbbrewery.com/wp-content/uploads/2020/03/pw-gift-card-300x300.png\" width=\"300\"/></span></a></div><div class=\"et_pb_blurb_container\"><h4 class=\"et_pb_module_header\"><a href=\"/gift-card/\">Support Local Business by purchasing Gift Cards</a></h4><div class=\"et_pb_blurb_description\"><p>We offer gift cards and we are happy to mail them to you. You may also pick them up at the brewery.</p></div></div></div></div></div></div></div><div class=\"et_pb_section et_pb_section_1 et_pb_with_background et_section_regular\"><div class=\"et_pb_row et_pb_row_1\"><div class=\"et_pb_column et_pb_column_1_4 et_pb_column_2 et_pb_css_mix_blend_mode_passthrough et_pb_column_empty\"></div><div class=\"et_pb_column et_pb_column_1_2 et_pb_column_3 et_pb_css_mix_blend_mode_passthrough\"><div class=\"et_pb_module et_pb_image et_pb_image_1 et_pb_image_sticky\"> <span class=\"et_pb_image_wrap\"><img alt=\"\" class=\"wp-image-22\" height=\"390\" loading=\"lazy\" sizes=\"(max-width: 859px) 100vw, 859px\" src=\"https://dwbbrewery.com/wp-content/uploads/2019/01/DucesWildcolor-logo_tinied.png\" srcset=\"https://dwbbrewery.com/wp-content/uploads/2019/01/DucesWildcolor-logo_tinied.png 859w, https://dwbbrewery.com/wp-content/uploads/2019/01/DucesWildcolor-logo_tinied-600x272.png 600w, https://dwbbrewery.com/wp-content/uploads/2019/01/DucesWildcolor-logo_tinied-300x136.png 300w, https://dwbbrewery.com/wp-content/uploads/2019/01/DucesWildcolor-logo_tinied-768x349.png 768w\" title=\"\" width=\"859\"/></span></div><div class=\"et_pb_module et_pb_text et_pb_text_1 et_pb_text_align_left et_pb_bg_layout_light\"><div class=\"et_pb_text_inner\"><h1>Dueces Wild Brewery</h1></div></div><div class=\"et_pb_module et_pb_text et_pb_text_2 et_pb_text_align_left et_pb_bg_layout_light\"><div class=\"et_pb_text_inner\"><h2>Home of the 2019, Great American Beer Festival Gold Medal winning, Knuckle Dragger, Scotch ale.</h2></div></div><div class=\"et_pb_module et_pb_text et_pb_text_3 et_pb_text_align_left et_pb_bg_layout_light\"><div class=\"et_pb_text_inner\"><h1>EST. 2018</h1></div></div></div><div class=\"et_pb_column et_pb_column_1_4 et_pb_column_4 et_pb_css_mix_blend_mode_passthrough et-last-child\"><div class=\"et_pb_module et_pb_image et_pb_image_2 et_pb_image_sticky\"> <span class=\"et_pb_image_wrap\"><img alt=\"\" class=\"wp-image-2002\" height=\"837\" loading=\"lazy\" sizes=\"(min-width: 0px) and (max-width: 480px) 480px, (min-width: 481px) 585px, 100vw\" src=\"https://dwbbrewery.com/wp-content/uploads/2019/10/GABF-Gold-RGB.png\" srcset=\"https://dwbbrewery.com/wp-content/uploads/2019/10/GABF-Gold-RGB.png 585w, https://dwbbrewery.com/wp-content/uploads/2019/10/GABF-Gold-RGB-480x687.png 480w\" title=\"\" width=\"585\"/></span></div><div class=\"et_pb_module et_pb_text et_pb_text_4 et_pb_text_align_center et_pb_bg_layout_light\"><div class=\"et_pb_text_inner\"><p>Knuckle Dragger, 2019 Gold<br/> medal, Scotch Ale category</p></div></div></div></div><div class=\"et_pb_row et_pb_row_2 et_pb_equal_columns\"><div class=\"et_pb_column et_pb_column_1_2 et_pb_column_5 et_pb_css_mix_blend_mode_passthrough\"><div class=\"et_pb_module et_pb_text et_pb_text_5 et_pb_text_align_center et_pb_bg_layout_light\"><div class=\"et_pb_text_inner\"><p style=\"text-align: justify;\">BREWERY</p><p style=\"text-align: left;\">660 Peterson Road</p></div></div><div class=\"et_pb_button_module_wrapper et_pb_button_1_wrapper et_pb_button_alignment_center et_pb_module\"> <a class=\"et_pb_button et_pb_button_1 et_pb_bg_layout_light\" href=\"https://dwbbrewery.com/beers/\">BEERS </a></div><div class=\"et_pb_button_module_wrapper et_pb_button_2_wrapper et_pb_button_alignment_center et_pb_module\"> <a class=\"et_pb_button et_pb_button_2 et_pb_bg_layout_light\" href=\"https://dwbbrewery.com/peterson-events/\">EVENTS</a></div></div><div class=\"et_pb_column et_pb_column_1_2 et_pb_column_6 et_pb_css_mix_blend_mode_passthrough et-last-child\"><div class=\"et_pb_module et_pb_text et_pb_text_6 et_pb_text_align_center et_pb_bg_layout_light\"><div class=\"et_pb_text_inner\"><p>TAPROOM</p><p>3352 Templeton Gap</p></div></div><div class=\"et_pb_button_module_wrapper et_pb_button_3_wrapper et_pb_button_alignment_center et_pb_module\"> <a class=\"et_pb_button et_pb_button_3 et_pb_bg_layout_light\" href=\"https://dwbbrewery.com/beers-tgap/\">BEERS </a></div><div class=\"et_pb_button_module_wrapper et_pb_button_4_wrapper et_pb_button_alignment_center et_pb_module\"> <a class=\"et_pb_button et_pb_button_4 et_pb_bg_layout_light\" href=\"https://dwbbrewery.com/tgap-events/\">EVENTS</a></div></div></div></div><div class=\"et_pb_section et_pb_section_2 et_pb_with_background et_section_regular\"><div class=\"et_pb_row et_pb_row_3 et_pb_equal_columns\"><div class=\"et_pb_column et_pb_column_1_3 et_pb_column_7 et_pb_css_mix_blend_mode_passthrough\"><div class=\"et_pb_module et_pb_divider_0 et_pb_space et_pb_divider_hidden\"><div class=\"et_pb_divider_internal\"></div></div><div class=\"et_pb_module et_pb_divider_1 et_pb_space et_pb_divider_hidden\"><div class=\"et_pb_divider_internal\"></div></div><div class=\"et_pb_module et_pb_text et_pb_text_7 et_pb_text_align_left et_pb_bg_layout_light\"><div class=\"et_pb_text_inner\"><h2>Good Place</h2></div></div><div class=\"et_pb_module et_pb_divider_2 et_pb_space et_pb_divider_hidden\"><div class=\"et_pb_divider_internal\"></div></div><div class=\"et_pb_module et_pb_divider_3 et_pb_space et_pb_divider_hidden\"><div class=\"et_pb_divider_internal\"></div></div></div><div class=\"et_pb_column et_pb_column_1_3 et_pb_column_8 et_pb_css_mix_blend_mode_passthrough\"><div class=\"et_pb_module et_pb_divider_4 et_pb_space et_pb_divider_hidden\"><div class=\"et_pb_divider_internal\"></div></div><div class=\"et_pb_module et_pb_divider_5 et_pb_space et_pb_divider_hidden\"><div class=\"et_pb_divider_internal\"></div></div><div class=\"et_pb_module et_pb_text et_pb_text_8 et_pb_text_align_left et_pb_bg_layout_light\"><div class=\"et_pb_text_inner\"><h2>Good People</h2></div></div><div class=\"et_pb_module et_pb_divider_6 et_pb_space et_pb_divider_hidden\"><div class=\"et_pb_divider_internal\"></div></div><div class=\"et_pb_module et_pb_divider_7 et_pb_space et_pb_divider_hidden\"><div class=\"et_pb_divider_internal\"></div></div></div><div class=\"et_pb_column et_pb_column_1_3 et_pb_column_9 et_pb_css_mix_blend_mode_passthrough et-last-child\"><div class=\"et_pb_module et_pb_divider_8 et_pb_space et_pb_divider_hidden\"><div class=\"et_pb_divider_internal\"></div></div><div class=\"et_pb_module et_pb_divider_9 et_pb_space et_pb_divider_hidden\"><div class=\"et_pb_divider_internal\"></div></div><div class=\"et_pb_module et_pb_text et_pb_text_9 et_pb_text_align_left et_pb_bg_layout_light\"><div class=\"et_pb_text_inner\"><h2>Damn Good Beer</h2></div></div><div class=\"et_pb_module et_pb_divider_10 et_pb_space et_pb_divider_hidden\"><div class=\"et_pb_divider_internal\"></div></div><div class=\"et_pb_module et_pb_divider_11 et_pb_space et_pb_divider_hidden\"><div class=\"et_pb_divider_internal\"></div></div></div></div></div><div class=\"et_pb_section et_pb_section_3 et_section_regular\"><div class=\"et_pb_row et_pb_row_4\"><div class=\"et_pb_column et_pb_column_4_4 et_pb_column_10 et_pb_css_mix_blend_mode_passthrough et-last-child\"><div class=\"et_pb_with_border et_pb_module et_pb_text et_pb_text_10 et_pb_text_align_left et_pb_bg_layout_light\"><div class=\"et_pb_text_inner\"><h2>Latest Duece is Loose!!</h2></div></div><div class=\"et_pb_module et_pb_blog_0 et_pb_posts et_pb_bg_layout_light\"><div class=\"et_pb_ajax_pagination_container\"><article class=\"et_pb_post clearfix et_pb_no_thumb et_pb_blog_item_0_0 post-1226 post type-post status-publish format-standard hentry category-the-duece-is-loose\" id=\"post-1226\"><h2 class=\"entry-title\"><a href=\"https://dwbbrewery.com/the-duece-is-loose/\">The Duece is Loose!</a></h2><p class=\"post-meta\"><span class=\"published\">Mar 17, 2019</span></p><div class=\"post-content\"><div class=\"post-content-inner\"><p>The Duece is Loose!  This time enjoying the magnificent Sahara Desert sunset. Thanks for the love John and Kelly! Cheers!</p></div></div></article><article class=\"et_pb_post clearfix et_pb_no_thumb et_pb_blog_item_0_1 post-606 post type-post status-publish format-standard has-post-thumbnail hentry category-the-duece-is-loose\" id=\"post-606\"><h2 class=\"entry-title\"><a href=\"https://dwbbrewery.com/stone-bridge-brewing-co-johnstown-pa-thank-you-jen/\">Stone Bridge Brewing Co.- Johnstown, PA. Thank you Jen!</a></h2><p class=\"post-meta\"><span class=\"published\">Jan 15, 2019</span></p><div class=\"post-content\"><div class=\"post-content-inner\"></div></div></article><article class=\"et_pb_post clearfix et_pb_no_thumb et_pb_blog_item_0_2 post-604 post type-post status-publish format-standard has-post-thumbnail hentry category-the-duece-is-loose\" id=\"post-604\"><h2 class=\"entry-title\"><a href=\"https://dwbbrewery.com/usaf-half-marathon-dayton-oh-thank-you-pat/\">USAF half Marathon-Dayton, OH. Thank you Pat!</a></h2><p class=\"post-meta\"><span class=\"published\">Jan 15, 2019</span></p><div class=\"post-content\"><div class=\"post-content-inner\"></div></div></article><div><div class=\"pagination clearfix\"><div class=\"alignleft\"><a href=\"https://dwbbrewery.com/page/2/?et_blog\">« Older Entries</a></div><div class=\"alignright\"></div></div></div></div></div></div></div></div><div class=\"et_pb_section et_pb_section_5 et_pb_with_background et_section_regular\"><div class=\"et_pb_row et_pb_row_5\"><div class=\"et_pb_column et_pb_column_2_5 et_pb_column_11 et_pb_css_mix_blend_mode_passthrough\"><div class=\"et_pb_module et_pb_text et_pb_text_11 et_pb_text_align_left et_pb_bg_layout_light\"><div class=\"et_pb_text_inner\"><h2>FIND US</h2></div></div><div class=\"et_pb_module et_pb_image et_pb_image_3\"> <span class=\"et_pb_image_wrap has-box-shadow-overlay\"><div class=\"box-shadow-overlay\"></div><img alt=\"\" class=\"wp-image-17\" height=\"199\" loading=\"lazy\" src=\"https://dwbbrewery.com/wp-content/uploads/2019/01/dwbboxandbeer-300x199.jpg\" title=\"\" width=\"300\"/></span></div><div class=\"et_pb_with_border et_pb_module et_pb_text et_pb_text_12 et_pb_text_align_left et_pb_bg_layout_light\"><div class=\"et_pb_text_inner\"><p>Locations &amp; Hours</p></div></div><div class=\"et_pb_module et_pb_text et_pb_text_13 et_pb_text_align_left et_pb_bg_layout_light\"><div class=\"et_pb_text_inner\"><p><a href=\"https://www.google.com/maps/place/660+Peterson+Rd,+Colorado+Springs,+CO+80915/@38.8414842,-104.7046135,17z/data=!3m1!4b1!4m5!3m4!1s0x871347aa4f8fb193:0x8761831727a0fddc!8m2!3d38.8414842!4d-104.7024248\" rel=\"noopener noreferrer\" target=\"_blank\">660 Peterson Road</a><br/> Colorado Springs, Co 80915<br/> <a href=\"tel:1-719-394-4811\">(719)394-4811</a><br/> <a href=\"mailto:dueces@dwbbrewery.com\">dueces@dwbbrewery.com</a></p></div></div><div class=\"et_pb_module et_pb_text et_pb_text_14 et_pb_text_align_left et_pb_bg_layout_light\"><div class=\"et_pb_text_inner\"><p>Monday – Closed to make Damn Good Beer</p><p>Tuesday-Wednesday 3pm-8pm</p><p>Thursday- 3:00pm-9:00pm</p><p>Friday- 12pm-10pm</p><p>Saturday-12:00pm-10:00pm</p><p>Sunday: 11:00am–6:00pm</p></div></div><ul class=\"et_pb_module et_pb_social_media_follow et_pb_social_media_follow_0 clearfix et_pb_bg_layout_light\"><li class=\"et_pb_social_media_follow_network_0 et_pb_social_icon et_pb_social_network_link et-social-facebook et_pb_social_media_follow_network_0\"><a class=\"icon et_pb_with_border\" href=\"https://www.facebook.com/dwbbrewery/\" target=\"_blank\" title=\"Follow on Facebook\"><span aria-hidden=\"true\" class=\"et_pb_social_media_follow_network_name\">Follow</span></a></li><li class=\"et_pb_social_media_follow_network_1 et_pb_social_icon et_pb_social_network_link et-social-twitter et_pb_social_media_follow_network_1\"><a class=\"icon et_pb_with_border\" href=\"https://www.twitter.com/dwbbrewery/\" target=\"_blank\" title=\"Follow on Twitter\"><span aria-hidden=\"true\" class=\"et_pb_social_media_follow_network_name\">Follow</span></a></li><li class=\"et_pb_social_media_follow_network_2 et_pb_social_icon et_pb_social_network_link et-social-instagram et_pb_social_media_follow_network_2\"><a class=\"icon et_pb_with_border\" href=\"https://www.instagram.com/dwbbrewery/\" target=\"_blank\" title=\"Follow on Instagram\"><span aria-hidden=\"true\" class=\"et_pb_social_media_follow_network_name\">Follow</span></a></li></ul><div class=\"et_pb_module et_pb_text et_pb_text_15 et_pb_text_align_left et_pb_bg_layout_light\"><div class=\"et_pb_text_inner\"><p><a href=\"https://www.google.com/maps/place/3352+Templeton+Gap+Rd,+Colorado+Springs,+CO+80907/@38.8785326,-104.7971843,17z/data=!3m1!4b1!4m5!3m4!1s0x87134f7a75168e51:0x127b95a55f919551!8m2!3d38.8785326!4d-104.7949956\" rel=\"noopener noreferrer\" target=\"_blank\">3352 Templeton Gap Road</a><br/> Colorado Springs, Co 80907<br/><a href=\"tal:17193745806\">719-374-5806</a><br/><a href=\"mailto:dueces@dwbbrewery.com\">dueces@dwbbrewery.com</a></p></div></div><div class=\"et_pb_module et_pb_text et_pb_text_16 et_pb_text_align_left et_pb_bg_layout_light\"><div class=\"et_pb_text_inner\"><p>Monday– Closed to make Damn Good Beer</p><p>Tuesday &amp; Wednesday: 3:00pm-8:00pm</p><p>Thursday- 3:00pm-9:00pm</p><p>Friday &amp; Saturday- 12:00pm-10:00pm</p><p>Sunday: 11:00am – 6:00pm</p></div></div><ul class=\"et_pb_module et_pb_social_media_follow et_pb_social_media_follow_1 clearfix et_pb_bg_layout_light\"><li class=\"et_pb_social_media_follow_network_3 et_pb_social_icon et_pb_social_network_link et-social-facebook et_pb_social_media_follow_network_3\"><a class=\"icon et_pb_with_border\" href=\"https://www.facebook.com/dwbontapattgap\" target=\"_blank\" title=\"Follow on Facebook\"><span aria-hidden=\"true\" class=\"et_pb_social_media_follow_network_name\">Follow</span></a></li><li class=\"et_pb_social_media_follow_network_4 et_pb_social_icon et_pb_social_network_link et-social-twitter et_pb_social_media_follow_network_4\"><a class=\"icon et_pb_with_border\" href=\"https://www.twitter.com/dwbbrewery/\" target=\"_blank\" title=\"Follow on Twitter\"><span aria-hidden=\"true\" class=\"et_pb_social_media_follow_network_name\">Follow</span></a></li><li class=\"et_pb_social_media_follow_network_5 et_pb_social_icon et_pb_social_network_link et-social-instagram et_pb_social_media_follow_network_5\"><a class=\"icon et_pb_with_border\" href=\"https://www.instagram.com/dwbontap/\" target=\"_blank\" title=\"Follow on Instagram\"><span aria-hidden=\"true\" class=\"et_pb_social_media_follow_network_name\">Follow</span></a></li></ul></div><div class=\"et_pb_column et_pb_column_3_5 et_pb_column_12 et_pb_css_mix_blend_mode_passthrough et-last-child\"><div class=\"et_pb_module et_pb_image et_pb_image_4 et_animated et-waypoint\"> <span class=\"et_pb_image_wrap\"><img alt=\"\" class=\"wp-image-18\" height=\"300\" loading=\"lazy\" sizes=\"(max-width: 300px) 100vw, 300px\" src=\"https://dwbbrewery.com/wp-content/uploads/2019/01/DWB-Barrel2.jpg-300x300.png\" srcset=\"https://dwbbrewery.com/wp-content/uploads/2019/01/DWB-Barrel2.jpg-300x300.png 300w, https://dwbbrewery.com/wp-content/uploads/2019/01/DWB-Barrel2.jpg-300x300-100x100.png 100w, https://dwbbrewery.com/wp-content/uploads/2019/01/DWB-Barrel2.jpg-300x300-150x150.png 150w\" title=\"\" width=\"300\"/></span></div><div class=\"et_pb_module et_pb_divider_12 et_pb_space et_pb_divider_hidden\"><div class=\"et_pb_divider_internal\"></div></div><div class=\"et_pb_module et_pb_text et_pb_text_17 et_pb_text_align_left et_pb_bg_layout_light\"><div class=\"et_pb_text_inner\"><h3>WE BELIEVE IN FRIENDS, FAMILY, AND DAMN GOOD BEER!</h3></div></div><div class=\"et_pb_module et_pb_text et_pb_text_18 et_pb_text_align_left et_pb_bg_layout_light\"><div class=\"et_pb_text_inner\"><p>Dueces Wild Brewery (DWB) is a veteran owned and operated craft brewery. We are strong supporters of our military, and first responder community and to say thanks we offer them a 10% discount on all pints for them. Our ambition is to brew high quality beer, support the local economy, and present a clean and friendly social environment for family and friends. We strive to make a well balanced selection of beers that everyone would enjoy. One taste of our beer and you’ll understand why Dueces Wild has quickly become one of Colorado Springs favorite breweries.</p><p>Although we are new to the craft beer community and only recently opened our doors in February of 2018, the team at DWB brings over 20 years of brewing experience to over 20 different and unique recipes for your drinking pleasure. Dueces operates on a state of the art 10 barrel Alpha brewing system which helps ensure the quality of beer is always consistent.</p></div></div></div></div><div class=\"et_pb_row et_pb_row_6 et_pb_equal_columns\"><div class=\"et_pb_column et_pb_column_1_3 et_pb_column_13 et_pb_css_mix_blend_mode_passthrough\"><div class=\"et_pb_module et_pb_cta_0 et_pb_promo et_pb_text_align_center et_pb_bg_layout_dark\"><div class=\"et_pb_promo_description\"><h2 class=\"et_pb_module_header\">SAISON W/ LEMON GRASS AND GRAINS OF PARADISE</h2><div><p><span>Lemony with a hint of white pepper</span></p><div dir=\"auto\">5.1% ABV, 15 IBU</div><div dir=\"auto\"></div><div dir=\"auto\"></div><div dir=\"auto\"></div><div dir=\"auto\"></div><div dir=\"auto\"></div><div dir=\"auto\"></div><div dir=\"auto\"></div><div dir=\"auto\"><img alt=\"\" class=\"wp-image-3551 alignnone size-medium\" height=\"229\" loading=\"lazy\" src=\"https://dwbbrewery.com/wp-content/uploads/2021/09/DWB-Logo-0418-Digital-300x229.jpg\" width=\"300\"/></div></div></div></div></div><div class=\"et_pb_column et_pb_column_1_3 et_pb_column_14 et_pb_css_mix_blend_mode_passthrough\"><div class=\"et_pb_module et_pb_cta_1 et_pb_promo et_pb_text_align_center et_pb_bg_layout_dark\"><div class=\"et_pb_promo_description\"><h2 class=\"et_pb_module_header\">PURE MORNING - PALE ALE.</h2><div><p>Light to medium body, citrusy</p><p class=\"p1\">5% ABV, 35IBU Hops: Citra</p><p class=\"p1\"><p class=\"p1\"><p class=\"p1\"><p class=\"p1\"><p class=\"p1\"><p class=\"p1\"><p class=\"p1\"><p class=\"p1\"><p class=\"p1\"><p class=\"p1\"><p class=\"p1\"><p class=\"p1\"><p class=\"p1\"><p class=\"p1\"><p class=\"p1\"></p></p></p></p></p></p></p></p></p></p></p></p></p></p></p></div></div></div><div class=\"et_pb_module et_pb_cta_2 et_pb_promo et_pb_text_align_center et_pb_bg_layout_dark\"><div class=\"et_pb_promo_description\"><h2 class=\"et_pb_module_header\">FUNKY GNOME- BELGIAN PALE ALE</h2><div><p class=\"p1\">A traditional Belgian style Pale Ale brewed with German and American hops that closely replicate the Noble hops used in these beers. Spicy aromas and flavors of the hops along with clove and banana esters. Light toast Jessica and fruit flavors carry through to the finish. A great beer for Summer.</p><p class=\"p1\">5.3% ABV 25 IBU Hops: German Northern Brewer, Sterling.</p><p class=\"p1\"><img alt=\"\" class=\"wp-image-1839 alignnone size-medium\" height=\"300\" loading=\"lazy\" src=\"https://dwbbrewery.com/wp-content/uploads/2019/09/funkygnome_tiny-225x300.jpeg\" width=\"225\"/></p><p class=\"p2\"></p></div></div></div><div class=\"et_pb_module et_pb_cta_3 et_pb_promo et_pb_text_align_center et_pb_bg_layout_dark\"><div class=\"et_pb_promo_description\"><h2 class=\"et_pb_module_header\">FUNKY GNOME- BELGIAN PALE ALE</h2><div><p class=\"p1\">A traditional Belgian style Pale Ale brewed with German and American hops that closely replicate the Noble hops used in these beers. Spicy aromas and flavors of the hops along with clove and banana esters. Light toast Jessica and fruit flavors carry through to the finish. A great beer for Summer.</p><p class=\"p1\">5.3% ABV 25 IBU Hops: German Northern Brewer, Sterling.</p><p class=\"p1\"><img alt=\"\" class=\"wp-image-1839 alignnone size-medium\" height=\"300\" loading=\"lazy\" src=\"https://dwbbrewery.com/wp-content/uploads/2019/09/funkygnome_tiny-225x300.jpeg\" width=\"225\"/></p><p class=\"p2\"></p></div></div></div></div><div class=\"et_pb_column et_pb_column_1_3 et_pb_column_15 et_pb_css_mix_blend_mode_passthrough et-last-child et_pb_column_empty\"></div></div></div></div>,\n",
       " <div class=\"et_pb_section et_pb_section_0 et_section_regular\"><div class=\"et_pb_row et_pb_row_0\"><div class=\"et_pb_column et_pb_column_1_2 et_pb_column_0 et_pb_css_mix_blend_mode_passthrough\"><div class=\"et_pb_module et_pb_image et_pb_image_0\"> <span class=\"et_pb_image_wrap\"><img alt=\"\" class=\"wp-image-22\" height=\"136\" loading=\"lazy\" sizes=\"(max-width: 300px) 100vw, 300px\" src=\"https://dwbbrewery.com/wp-content/uploads/2019/01/DucesWildcolor-logo_tinied-300x136.png\" srcset=\"https://dwbbrewery.com/wp-content/uploads/2019/01/DucesWildcolor-logo_tinied-300x136.png 300w, https://dwbbrewery.com/wp-content/uploads/2019/01/DucesWildcolor-logo_tinied-600x272.png 600w, https://dwbbrewery.com/wp-content/uploads/2019/01/DucesWildcolor-logo_tinied-768x349.png 768w, https://dwbbrewery.com/wp-content/uploads/2019/01/DucesWildcolor-logo_tinied.png 859w\" title=\"\" width=\"300\"/></span></div><div class=\"et_pb_module et_pb_text et_pb_text_0 et_pb_text_align_left et_pb_bg_layout_light\"><div class=\"et_pb_text_inner\"><h3>Due to the COVID19, our hours are limited but we are offering <a href=\"https://dwbbrewery.com/gift-card/\" title=\"Gift Cards\">gift cards</a>.</h3></div></div><div class=\"et_pb_button_module_wrapper et_pb_button_0_wrapper et_pb_button_alignment_center et_pb_module\"> <a class=\"et_pb_button et_pb_button_0 et_pb_bg_layout_light\" href=\"https://dwbbrewery.com/gift-card/\">Get your gift cards</a></div></div><div class=\"et_pb_column et_pb_column_1_2 et_pb_column_1 et_pb_css_mix_blend_mode_passthrough et-last-child\"><div class=\"et_pb_module et_pb_blurb et_pb_blurb_0 et_clickable et_pb_text_align_left et_pb_blurb_position_top et_pb_bg_layout_light\"><div class=\"et_pb_blurb_content\"><div class=\"et_pb_main_blurb_image\"><a href=\"/gift-card/\"><span class=\"et_pb_image_wrap\"><img alt=\"\" class=\"et-waypoint et_pb_animation_top et_pb_animation_top_tablet et_pb_animation_top_phone wp-image-3379\" height=\"300\" loading=\"lazy\" src=\"https://dwbbrewery.com/wp-content/uploads/2020/03/pw-gift-card-300x300.png\" width=\"300\"/></span></a></div><div class=\"et_pb_blurb_container\"><h4 class=\"et_pb_module_header\"><a href=\"/gift-card/\">Support Local Business by purchasing Gift Cards</a></h4><div class=\"et_pb_blurb_description\"><p>We offer gift cards and we are happy to mail them to you. You may also pick them up at the brewery.</p></div></div></div></div></div></div></div>,\n",
       " <div class=\"et_pb_row et_pb_row_0\"><div class=\"et_pb_column et_pb_column_1_2 et_pb_column_0 et_pb_css_mix_blend_mode_passthrough\"><div class=\"et_pb_module et_pb_image et_pb_image_0\"> <span class=\"et_pb_image_wrap\"><img alt=\"\" class=\"wp-image-22\" height=\"136\" loading=\"lazy\" sizes=\"(max-width: 300px) 100vw, 300px\" src=\"https://dwbbrewery.com/wp-content/uploads/2019/01/DucesWildcolor-logo_tinied-300x136.png\" srcset=\"https://dwbbrewery.com/wp-content/uploads/2019/01/DucesWildcolor-logo_tinied-300x136.png 300w, https://dwbbrewery.com/wp-content/uploads/2019/01/DucesWildcolor-logo_tinied-600x272.png 600w, https://dwbbrewery.com/wp-content/uploads/2019/01/DucesWildcolor-logo_tinied-768x349.png 768w, https://dwbbrewery.com/wp-content/uploads/2019/01/DucesWildcolor-logo_tinied.png 859w\" title=\"\" width=\"300\"/></span></div><div class=\"et_pb_module et_pb_text et_pb_text_0 et_pb_text_align_left et_pb_bg_layout_light\"><div class=\"et_pb_text_inner\"><h3>Due to the COVID19, our hours are limited but we are offering <a href=\"https://dwbbrewery.com/gift-card/\" title=\"Gift Cards\">gift cards</a>.</h3></div></div><div class=\"et_pb_button_module_wrapper et_pb_button_0_wrapper et_pb_button_alignment_center et_pb_module\"> <a class=\"et_pb_button et_pb_button_0 et_pb_bg_layout_light\" href=\"https://dwbbrewery.com/gift-card/\">Get your gift cards</a></div></div><div class=\"et_pb_column et_pb_column_1_2 et_pb_column_1 et_pb_css_mix_blend_mode_passthrough et-last-child\"><div class=\"et_pb_module et_pb_blurb et_pb_blurb_0 et_clickable et_pb_text_align_left et_pb_blurb_position_top et_pb_bg_layout_light\"><div class=\"et_pb_blurb_content\"><div class=\"et_pb_main_blurb_image\"><a href=\"/gift-card/\"><span class=\"et_pb_image_wrap\"><img alt=\"\" class=\"et-waypoint et_pb_animation_top et_pb_animation_top_tablet et_pb_animation_top_phone wp-image-3379\" height=\"300\" loading=\"lazy\" src=\"https://dwbbrewery.com/wp-content/uploads/2020/03/pw-gift-card-300x300.png\" width=\"300\"/></span></a></div><div class=\"et_pb_blurb_container\"><h4 class=\"et_pb_module_header\"><a href=\"/gift-card/\">Support Local Business by purchasing Gift Cards</a></h4><div class=\"et_pb_blurb_description\"><p>We offer gift cards and we are happy to mail them to you. You may also pick them up at the brewery.</p></div></div></div></div></div></div>,\n",
       " <div class=\"et_pb_column et_pb_column_1_2 et_pb_column_0 et_pb_css_mix_blend_mode_passthrough\"><div class=\"et_pb_module et_pb_image et_pb_image_0\"> <span class=\"et_pb_image_wrap\"><img alt=\"\" class=\"wp-image-22\" height=\"136\" loading=\"lazy\" sizes=\"(max-width: 300px) 100vw, 300px\" src=\"https://dwbbrewery.com/wp-content/uploads/2019/01/DucesWildcolor-logo_tinied-300x136.png\" srcset=\"https://dwbbrewery.com/wp-content/uploads/2019/01/DucesWildcolor-logo_tinied-300x136.png 300w, https://dwbbrewery.com/wp-content/uploads/2019/01/DucesWildcolor-logo_tinied-600x272.png 600w, https://dwbbrewery.com/wp-content/uploads/2019/01/DucesWildcolor-logo_tinied-768x349.png 768w, https://dwbbrewery.com/wp-content/uploads/2019/01/DucesWildcolor-logo_tinied.png 859w\" title=\"\" width=\"300\"/></span></div><div class=\"et_pb_module et_pb_text et_pb_text_0 et_pb_text_align_left et_pb_bg_layout_light\"><div class=\"et_pb_text_inner\"><h3>Due to the COVID19, our hours are limited but we are offering <a href=\"https://dwbbrewery.com/gift-card/\" title=\"Gift Cards\">gift cards</a>.</h3></div></div><div class=\"et_pb_button_module_wrapper et_pb_button_0_wrapper et_pb_button_alignment_center et_pb_module\"> <a class=\"et_pb_button et_pb_button_0 et_pb_bg_layout_light\" href=\"https://dwbbrewery.com/gift-card/\">Get your gift cards</a></div></div>,\n",
       " <div class=\"et_pb_module et_pb_image et_pb_image_0\"> <span class=\"et_pb_image_wrap\"><img alt=\"\" class=\"wp-image-22\" height=\"136\" loading=\"lazy\" sizes=\"(max-width: 300px) 100vw, 300px\" src=\"https://dwbbrewery.com/wp-content/uploads/2019/01/DucesWildcolor-logo_tinied-300x136.png\" srcset=\"https://dwbbrewery.com/wp-content/uploads/2019/01/DucesWildcolor-logo_tinied-300x136.png 300w, https://dwbbrewery.com/wp-content/uploads/2019/01/DucesWildcolor-logo_tinied-600x272.png 600w, https://dwbbrewery.com/wp-content/uploads/2019/01/DucesWildcolor-logo_tinied-768x349.png 768w, https://dwbbrewery.com/wp-content/uploads/2019/01/DucesWildcolor-logo_tinied.png 859w\" title=\"\" width=\"300\"/></span></div>,\n",
       " <div class=\"et_pb_module et_pb_text et_pb_text_0 et_pb_text_align_left et_pb_bg_layout_light\"><div class=\"et_pb_text_inner\"><h3>Due to the COVID19, our hours are limited but we are offering <a href=\"https://dwbbrewery.com/gift-card/\" title=\"Gift Cards\">gift cards</a>.</h3></div></div>,\n",
       " <div class=\"et_pb_text_inner\"><h3>Due to the COVID19, our hours are limited but we are offering <a href=\"https://dwbbrewery.com/gift-card/\" title=\"Gift Cards\">gift cards</a>.</h3></div>,\n",
       " <div class=\"et_pb_button_module_wrapper et_pb_button_0_wrapper et_pb_button_alignment_center et_pb_module\"> <a class=\"et_pb_button et_pb_button_0 et_pb_bg_layout_light\" href=\"https://dwbbrewery.com/gift-card/\">Get your gift cards</a></div>,\n",
       " <div class=\"et_pb_column et_pb_column_1_2 et_pb_column_1 et_pb_css_mix_blend_mode_passthrough et-last-child\"><div class=\"et_pb_module et_pb_blurb et_pb_blurb_0 et_clickable et_pb_text_align_left et_pb_blurb_position_top et_pb_bg_layout_light\"><div class=\"et_pb_blurb_content\"><div class=\"et_pb_main_blurb_image\"><a href=\"/gift-card/\"><span class=\"et_pb_image_wrap\"><img alt=\"\" class=\"et-waypoint et_pb_animation_top et_pb_animation_top_tablet et_pb_animation_top_phone wp-image-3379\" height=\"300\" loading=\"lazy\" src=\"https://dwbbrewery.com/wp-content/uploads/2020/03/pw-gift-card-300x300.png\" width=\"300\"/></span></a></div><div class=\"et_pb_blurb_container\"><h4 class=\"et_pb_module_header\"><a href=\"/gift-card/\">Support Local Business by purchasing Gift Cards</a></h4><div class=\"et_pb_blurb_description\"><p>We offer gift cards and we are happy to mail them to you. You may also pick them up at the brewery.</p></div></div></div></div></div>,\n",
       " <div class=\"et_pb_module et_pb_blurb et_pb_blurb_0 et_clickable et_pb_text_align_left et_pb_blurb_position_top et_pb_bg_layout_light\"><div class=\"et_pb_blurb_content\"><div class=\"et_pb_main_blurb_image\"><a href=\"/gift-card/\"><span class=\"et_pb_image_wrap\"><img alt=\"\" class=\"et-waypoint et_pb_animation_top et_pb_animation_top_tablet et_pb_animation_top_phone wp-image-3379\" height=\"300\" loading=\"lazy\" src=\"https://dwbbrewery.com/wp-content/uploads/2020/03/pw-gift-card-300x300.png\" width=\"300\"/></span></a></div><div class=\"et_pb_blurb_container\"><h4 class=\"et_pb_module_header\"><a href=\"/gift-card/\">Support Local Business by purchasing Gift Cards</a></h4><div class=\"et_pb_blurb_description\"><p>We offer gift cards and we are happy to mail them to you. You may also pick them up at the brewery.</p></div></div></div></div>,\n",
       " <div class=\"et_pb_blurb_content\"><div class=\"et_pb_main_blurb_image\"><a href=\"/gift-card/\"><span class=\"et_pb_image_wrap\"><img alt=\"\" class=\"et-waypoint et_pb_animation_top et_pb_animation_top_tablet et_pb_animation_top_phone wp-image-3379\" height=\"300\" loading=\"lazy\" src=\"https://dwbbrewery.com/wp-content/uploads/2020/03/pw-gift-card-300x300.png\" width=\"300\"/></span></a></div><div class=\"et_pb_blurb_container\"><h4 class=\"et_pb_module_header\"><a href=\"/gift-card/\">Support Local Business by purchasing Gift Cards</a></h4><div class=\"et_pb_blurb_description\"><p>We offer gift cards and we are happy to mail them to you. You may also pick them up at the brewery.</p></div></div></div>,\n",
       " <div class=\"et_pb_main_blurb_image\"><a href=\"/gift-card/\"><span class=\"et_pb_image_wrap\"><img alt=\"\" class=\"et-waypoint et_pb_animation_top et_pb_animation_top_tablet et_pb_animation_top_phone wp-image-3379\" height=\"300\" loading=\"lazy\" src=\"https://dwbbrewery.com/wp-content/uploads/2020/03/pw-gift-card-300x300.png\" width=\"300\"/></span></a></div>,\n",
       " <div class=\"et_pb_blurb_container\"><h4 class=\"et_pb_module_header\"><a href=\"/gift-card/\">Support Local Business by purchasing Gift Cards</a></h4><div class=\"et_pb_blurb_description\"><p>We offer gift cards and we are happy to mail them to you. You may also pick them up at the brewery.</p></div></div>,\n",
       " <div class=\"et_pb_blurb_description\"><p>We offer gift cards and we are happy to mail them to you. You may also pick them up at the brewery.</p></div>,\n",
       " <div class=\"et_pb_section et_pb_section_1 et_pb_with_background et_section_regular\"><div class=\"et_pb_row et_pb_row_1\"><div class=\"et_pb_column et_pb_column_1_4 et_pb_column_2 et_pb_css_mix_blend_mode_passthrough et_pb_column_empty\"></div><div class=\"et_pb_column et_pb_column_1_2 et_pb_column_3 et_pb_css_mix_blend_mode_passthrough\"><div class=\"et_pb_module et_pb_image et_pb_image_1 et_pb_image_sticky\"> <span class=\"et_pb_image_wrap\"><img alt=\"\" class=\"wp-image-22\" height=\"390\" loading=\"lazy\" sizes=\"(max-width: 859px) 100vw, 859px\" src=\"https://dwbbrewery.com/wp-content/uploads/2019/01/DucesWildcolor-logo_tinied.png\" srcset=\"https://dwbbrewery.com/wp-content/uploads/2019/01/DucesWildcolor-logo_tinied.png 859w, https://dwbbrewery.com/wp-content/uploads/2019/01/DucesWildcolor-logo_tinied-600x272.png 600w, https://dwbbrewery.com/wp-content/uploads/2019/01/DucesWildcolor-logo_tinied-300x136.png 300w, https://dwbbrewery.com/wp-content/uploads/2019/01/DucesWildcolor-logo_tinied-768x349.png 768w\" title=\"\" width=\"859\"/></span></div><div class=\"et_pb_module et_pb_text et_pb_text_1 et_pb_text_align_left et_pb_bg_layout_light\"><div class=\"et_pb_text_inner\"><h1>Dueces Wild Brewery</h1></div></div><div class=\"et_pb_module et_pb_text et_pb_text_2 et_pb_text_align_left et_pb_bg_layout_light\"><div class=\"et_pb_text_inner\"><h2>Home of the 2019, Great American Beer Festival Gold Medal winning, Knuckle Dragger, Scotch ale.</h2></div></div><div class=\"et_pb_module et_pb_text et_pb_text_3 et_pb_text_align_left et_pb_bg_layout_light\"><div class=\"et_pb_text_inner\"><h1>EST. 2018</h1></div></div></div><div class=\"et_pb_column et_pb_column_1_4 et_pb_column_4 et_pb_css_mix_blend_mode_passthrough et-last-child\"><div class=\"et_pb_module et_pb_image et_pb_image_2 et_pb_image_sticky\"> <span class=\"et_pb_image_wrap\"><img alt=\"\" class=\"wp-image-2002\" height=\"837\" loading=\"lazy\" sizes=\"(min-width: 0px) and (max-width: 480px) 480px, (min-width: 481px) 585px, 100vw\" src=\"https://dwbbrewery.com/wp-content/uploads/2019/10/GABF-Gold-RGB.png\" srcset=\"https://dwbbrewery.com/wp-content/uploads/2019/10/GABF-Gold-RGB.png 585w, https://dwbbrewery.com/wp-content/uploads/2019/10/GABF-Gold-RGB-480x687.png 480w\" title=\"\" width=\"585\"/></span></div><div class=\"et_pb_module et_pb_text et_pb_text_4 et_pb_text_align_center et_pb_bg_layout_light\"><div class=\"et_pb_text_inner\"><p>Knuckle Dragger, 2019 Gold<br/> medal, Scotch Ale category</p></div></div></div></div><div class=\"et_pb_row et_pb_row_2 et_pb_equal_columns\"><div class=\"et_pb_column et_pb_column_1_2 et_pb_column_5 et_pb_css_mix_blend_mode_passthrough\"><div class=\"et_pb_module et_pb_text et_pb_text_5 et_pb_text_align_center et_pb_bg_layout_light\"><div class=\"et_pb_text_inner\"><p style=\"text-align: justify;\">BREWERY</p><p style=\"text-align: left;\">660 Peterson Road</p></div></div><div class=\"et_pb_button_module_wrapper et_pb_button_1_wrapper et_pb_button_alignment_center et_pb_module\"> <a class=\"et_pb_button et_pb_button_1 et_pb_bg_layout_light\" href=\"https://dwbbrewery.com/beers/\">BEERS </a></div><div class=\"et_pb_button_module_wrapper et_pb_button_2_wrapper et_pb_button_alignment_center et_pb_module\"> <a class=\"et_pb_button et_pb_button_2 et_pb_bg_layout_light\" href=\"https://dwbbrewery.com/peterson-events/\">EVENTS</a></div></div><div class=\"et_pb_column et_pb_column_1_2 et_pb_column_6 et_pb_css_mix_blend_mode_passthrough et-last-child\"><div class=\"et_pb_module et_pb_text et_pb_text_6 et_pb_text_align_center et_pb_bg_layout_light\"><div class=\"et_pb_text_inner\"><p>TAPROOM</p><p>3352 Templeton Gap</p></div></div><div class=\"et_pb_button_module_wrapper et_pb_button_3_wrapper et_pb_button_alignment_center et_pb_module\"> <a class=\"et_pb_button et_pb_button_3 et_pb_bg_layout_light\" href=\"https://dwbbrewery.com/beers-tgap/\">BEERS </a></div><div class=\"et_pb_button_module_wrapper et_pb_button_4_wrapper et_pb_button_alignment_center et_pb_module\"> <a class=\"et_pb_button et_pb_button_4 et_pb_bg_layout_light\" href=\"https://dwbbrewery.com/tgap-events/\">EVENTS</a></div></div></div></div>,\n",
       " <div class=\"et_pb_row et_pb_row_1\"><div class=\"et_pb_column et_pb_column_1_4 et_pb_column_2 et_pb_css_mix_blend_mode_passthrough et_pb_column_empty\"></div><div class=\"et_pb_column et_pb_column_1_2 et_pb_column_3 et_pb_css_mix_blend_mode_passthrough\"><div class=\"et_pb_module et_pb_image et_pb_image_1 et_pb_image_sticky\"> <span class=\"et_pb_image_wrap\"><img alt=\"\" class=\"wp-image-22\" height=\"390\" loading=\"lazy\" sizes=\"(max-width: 859px) 100vw, 859px\" src=\"https://dwbbrewery.com/wp-content/uploads/2019/01/DucesWildcolor-logo_tinied.png\" srcset=\"https://dwbbrewery.com/wp-content/uploads/2019/01/DucesWildcolor-logo_tinied.png 859w, https://dwbbrewery.com/wp-content/uploads/2019/01/DucesWildcolor-logo_tinied-600x272.png 600w, https://dwbbrewery.com/wp-content/uploads/2019/01/DucesWildcolor-logo_tinied-300x136.png 300w, https://dwbbrewery.com/wp-content/uploads/2019/01/DucesWildcolor-logo_tinied-768x349.png 768w\" title=\"\" width=\"859\"/></span></div><div class=\"et_pb_module et_pb_text et_pb_text_1 et_pb_text_align_left et_pb_bg_layout_light\"><div class=\"et_pb_text_inner\"><h1>Dueces Wild Brewery</h1></div></div><div class=\"et_pb_module et_pb_text et_pb_text_2 et_pb_text_align_left et_pb_bg_layout_light\"><div class=\"et_pb_text_inner\"><h2>Home of the 2019, Great American Beer Festival Gold Medal winning, Knuckle Dragger, Scotch ale.</h2></div></div><div class=\"et_pb_module et_pb_text et_pb_text_3 et_pb_text_align_left et_pb_bg_layout_light\"><div class=\"et_pb_text_inner\"><h1>EST. 2018</h1></div></div></div><div class=\"et_pb_column et_pb_column_1_4 et_pb_column_4 et_pb_css_mix_blend_mode_passthrough et-last-child\"><div class=\"et_pb_module et_pb_image et_pb_image_2 et_pb_image_sticky\"> <span class=\"et_pb_image_wrap\"><img alt=\"\" class=\"wp-image-2002\" height=\"837\" loading=\"lazy\" sizes=\"(min-width: 0px) and (max-width: 480px) 480px, (min-width: 481px) 585px, 100vw\" src=\"https://dwbbrewery.com/wp-content/uploads/2019/10/GABF-Gold-RGB.png\" srcset=\"https://dwbbrewery.com/wp-content/uploads/2019/10/GABF-Gold-RGB.png 585w, https://dwbbrewery.com/wp-content/uploads/2019/10/GABF-Gold-RGB-480x687.png 480w\" title=\"\" width=\"585\"/></span></div><div class=\"et_pb_module et_pb_text et_pb_text_4 et_pb_text_align_center et_pb_bg_layout_light\"><div class=\"et_pb_text_inner\"><p>Knuckle Dragger, 2019 Gold<br/> medal, Scotch Ale category</p></div></div></div></div>,\n",
       " <div class=\"et_pb_column et_pb_column_1_4 et_pb_column_2 et_pb_css_mix_blend_mode_passthrough et_pb_column_empty\"></div>,\n",
       " <div class=\"et_pb_column et_pb_column_1_2 et_pb_column_3 et_pb_css_mix_blend_mode_passthrough\"><div class=\"et_pb_module et_pb_image et_pb_image_1 et_pb_image_sticky\"> <span class=\"et_pb_image_wrap\"><img alt=\"\" class=\"wp-image-22\" height=\"390\" loading=\"lazy\" sizes=\"(max-width: 859px) 100vw, 859px\" src=\"https://dwbbrewery.com/wp-content/uploads/2019/01/DucesWildcolor-logo_tinied.png\" srcset=\"https://dwbbrewery.com/wp-content/uploads/2019/01/DucesWildcolor-logo_tinied.png 859w, https://dwbbrewery.com/wp-content/uploads/2019/01/DucesWildcolor-logo_tinied-600x272.png 600w, https://dwbbrewery.com/wp-content/uploads/2019/01/DucesWildcolor-logo_tinied-300x136.png 300w, https://dwbbrewery.com/wp-content/uploads/2019/01/DucesWildcolor-logo_tinied-768x349.png 768w\" title=\"\" width=\"859\"/></span></div><div class=\"et_pb_module et_pb_text et_pb_text_1 et_pb_text_align_left et_pb_bg_layout_light\"><div class=\"et_pb_text_inner\"><h1>Dueces Wild Brewery</h1></div></div><div class=\"et_pb_module et_pb_text et_pb_text_2 et_pb_text_align_left et_pb_bg_layout_light\"><div class=\"et_pb_text_inner\"><h2>Home of the 2019, Great American Beer Festival Gold Medal winning, Knuckle Dragger, Scotch ale.</h2></div></div><div class=\"et_pb_module et_pb_text et_pb_text_3 et_pb_text_align_left et_pb_bg_layout_light\"><div class=\"et_pb_text_inner\"><h1>EST. 2018</h1></div></div></div>,\n",
       " <div class=\"et_pb_module et_pb_image et_pb_image_1 et_pb_image_sticky\"> <span class=\"et_pb_image_wrap\"><img alt=\"\" class=\"wp-image-22\" height=\"390\" loading=\"lazy\" sizes=\"(max-width: 859px) 100vw, 859px\" src=\"https://dwbbrewery.com/wp-content/uploads/2019/01/DucesWildcolor-logo_tinied.png\" srcset=\"https://dwbbrewery.com/wp-content/uploads/2019/01/DucesWildcolor-logo_tinied.png 859w, https://dwbbrewery.com/wp-content/uploads/2019/01/DucesWildcolor-logo_tinied-600x272.png 600w, https://dwbbrewery.com/wp-content/uploads/2019/01/DucesWildcolor-logo_tinied-300x136.png 300w, https://dwbbrewery.com/wp-content/uploads/2019/01/DucesWildcolor-logo_tinied-768x349.png 768w\" title=\"\" width=\"859\"/></span></div>,\n",
       " <div class=\"et_pb_module et_pb_text et_pb_text_1 et_pb_text_align_left et_pb_bg_layout_light\"><div class=\"et_pb_text_inner\"><h1>Dueces Wild Brewery</h1></div></div>,\n",
       " <div class=\"et_pb_text_inner\"><h1>Dueces Wild Brewery</h1></div>,\n",
       " <div class=\"et_pb_module et_pb_text et_pb_text_2 et_pb_text_align_left et_pb_bg_layout_light\"><div class=\"et_pb_text_inner\"><h2>Home of the 2019, Great American Beer Festival Gold Medal winning, Knuckle Dragger, Scotch ale.</h2></div></div>,\n",
       " <div class=\"et_pb_text_inner\"><h2>Home of the 2019, Great American Beer Festival Gold Medal winning, Knuckle Dragger, Scotch ale.</h2></div>,\n",
       " <div class=\"et_pb_module et_pb_text et_pb_text_3 et_pb_text_align_left et_pb_bg_layout_light\"><div class=\"et_pb_text_inner\"><h1>EST. 2018</h1></div></div>,\n",
       " <div class=\"et_pb_text_inner\"><h1>EST. 2018</h1></div>,\n",
       " <div class=\"et_pb_column et_pb_column_1_4 et_pb_column_4 et_pb_css_mix_blend_mode_passthrough et-last-child\"><div class=\"et_pb_module et_pb_image et_pb_image_2 et_pb_image_sticky\"> <span class=\"et_pb_image_wrap\"><img alt=\"\" class=\"wp-image-2002\" height=\"837\" loading=\"lazy\" sizes=\"(min-width: 0px) and (max-width: 480px) 480px, (min-width: 481px) 585px, 100vw\" src=\"https://dwbbrewery.com/wp-content/uploads/2019/10/GABF-Gold-RGB.png\" srcset=\"https://dwbbrewery.com/wp-content/uploads/2019/10/GABF-Gold-RGB.png 585w, https://dwbbrewery.com/wp-content/uploads/2019/10/GABF-Gold-RGB-480x687.png 480w\" title=\"\" width=\"585\"/></span></div><div class=\"et_pb_module et_pb_text et_pb_text_4 et_pb_text_align_center et_pb_bg_layout_light\"><div class=\"et_pb_text_inner\"><p>Knuckle Dragger, 2019 Gold<br/> medal, Scotch Ale category</p></div></div></div>,\n",
       " <div class=\"et_pb_module et_pb_image et_pb_image_2 et_pb_image_sticky\"> <span class=\"et_pb_image_wrap\"><img alt=\"\" class=\"wp-image-2002\" height=\"837\" loading=\"lazy\" sizes=\"(min-width: 0px) and (max-width: 480px) 480px, (min-width: 481px) 585px, 100vw\" src=\"https://dwbbrewery.com/wp-content/uploads/2019/10/GABF-Gold-RGB.png\" srcset=\"https://dwbbrewery.com/wp-content/uploads/2019/10/GABF-Gold-RGB.png 585w, https://dwbbrewery.com/wp-content/uploads/2019/10/GABF-Gold-RGB-480x687.png 480w\" title=\"\" width=\"585\"/></span></div>,\n",
       " <div class=\"et_pb_module et_pb_text et_pb_text_4 et_pb_text_align_center et_pb_bg_layout_light\"><div class=\"et_pb_text_inner\"><p>Knuckle Dragger, 2019 Gold<br/> medal, Scotch Ale category</p></div></div>,\n",
       " <div class=\"et_pb_text_inner\"><p>Knuckle Dragger, 2019 Gold<br/> medal, Scotch Ale category</p></div>,\n",
       " <div class=\"et_pb_row et_pb_row_2 et_pb_equal_columns\"><div class=\"et_pb_column et_pb_column_1_2 et_pb_column_5 et_pb_css_mix_blend_mode_passthrough\"><div class=\"et_pb_module et_pb_text et_pb_text_5 et_pb_text_align_center et_pb_bg_layout_light\"><div class=\"et_pb_text_inner\"><p style=\"text-align: justify;\">BREWERY</p><p style=\"text-align: left;\">660 Peterson Road</p></div></div><div class=\"et_pb_button_module_wrapper et_pb_button_1_wrapper et_pb_button_alignment_center et_pb_module\"> <a class=\"et_pb_button et_pb_button_1 et_pb_bg_layout_light\" href=\"https://dwbbrewery.com/beers/\">BEERS </a></div><div class=\"et_pb_button_module_wrapper et_pb_button_2_wrapper et_pb_button_alignment_center et_pb_module\"> <a class=\"et_pb_button et_pb_button_2 et_pb_bg_layout_light\" href=\"https://dwbbrewery.com/peterson-events/\">EVENTS</a></div></div><div class=\"et_pb_column et_pb_column_1_2 et_pb_column_6 et_pb_css_mix_blend_mode_passthrough et-last-child\"><div class=\"et_pb_module et_pb_text et_pb_text_6 et_pb_text_align_center et_pb_bg_layout_light\"><div class=\"et_pb_text_inner\"><p>TAPROOM</p><p>3352 Templeton Gap</p></div></div><div class=\"et_pb_button_module_wrapper et_pb_button_3_wrapper et_pb_button_alignment_center et_pb_module\"> <a class=\"et_pb_button et_pb_button_3 et_pb_bg_layout_light\" href=\"https://dwbbrewery.com/beers-tgap/\">BEERS </a></div><div class=\"et_pb_button_module_wrapper et_pb_button_4_wrapper et_pb_button_alignment_center et_pb_module\"> <a class=\"et_pb_button et_pb_button_4 et_pb_bg_layout_light\" href=\"https://dwbbrewery.com/tgap-events/\">EVENTS</a></div></div></div>,\n",
       " <div class=\"et_pb_column et_pb_column_1_2 et_pb_column_5 et_pb_css_mix_blend_mode_passthrough\"><div class=\"et_pb_module et_pb_text et_pb_text_5 et_pb_text_align_center et_pb_bg_layout_light\"><div class=\"et_pb_text_inner\"><p style=\"text-align: justify;\">BREWERY</p><p style=\"text-align: left;\">660 Peterson Road</p></div></div><div class=\"et_pb_button_module_wrapper et_pb_button_1_wrapper et_pb_button_alignment_center et_pb_module\"> <a class=\"et_pb_button et_pb_button_1 et_pb_bg_layout_light\" href=\"https://dwbbrewery.com/beers/\">BEERS </a></div><div class=\"et_pb_button_module_wrapper et_pb_button_2_wrapper et_pb_button_alignment_center et_pb_module\"> <a class=\"et_pb_button et_pb_button_2 et_pb_bg_layout_light\" href=\"https://dwbbrewery.com/peterson-events/\">EVENTS</a></div></div>,\n",
       " <div class=\"et_pb_module et_pb_text et_pb_text_5 et_pb_text_align_center et_pb_bg_layout_light\"><div class=\"et_pb_text_inner\"><p style=\"text-align: justify;\">BREWERY</p><p style=\"text-align: left;\">660 Peterson Road</p></div></div>,\n",
       " <div class=\"et_pb_text_inner\"><p style=\"text-align: justify;\">BREWERY</p><p style=\"text-align: left;\">660 Peterson Road</p></div>,\n",
       " <div class=\"et_pb_button_module_wrapper et_pb_button_1_wrapper et_pb_button_alignment_center et_pb_module\"> <a class=\"et_pb_button et_pb_button_1 et_pb_bg_layout_light\" href=\"https://dwbbrewery.com/beers/\">BEERS </a></div>,\n",
       " <div class=\"et_pb_button_module_wrapper et_pb_button_2_wrapper et_pb_button_alignment_center et_pb_module\"> <a class=\"et_pb_button et_pb_button_2 et_pb_bg_layout_light\" href=\"https://dwbbrewery.com/peterson-events/\">EVENTS</a></div>,\n",
       " <div class=\"et_pb_column et_pb_column_1_2 et_pb_column_6 et_pb_css_mix_blend_mode_passthrough et-last-child\"><div class=\"et_pb_module et_pb_text et_pb_text_6 et_pb_text_align_center et_pb_bg_layout_light\"><div class=\"et_pb_text_inner\"><p>TAPROOM</p><p>3352 Templeton Gap</p></div></div><div class=\"et_pb_button_module_wrapper et_pb_button_3_wrapper et_pb_button_alignment_center et_pb_module\"> <a class=\"et_pb_button et_pb_button_3 et_pb_bg_layout_light\" href=\"https://dwbbrewery.com/beers-tgap/\">BEERS </a></div><div class=\"et_pb_button_module_wrapper et_pb_button_4_wrapper et_pb_button_alignment_center et_pb_module\"> <a class=\"et_pb_button et_pb_button_4 et_pb_bg_layout_light\" href=\"https://dwbbrewery.com/tgap-events/\">EVENTS</a></div></div>,\n",
       " <div class=\"et_pb_module et_pb_text et_pb_text_6 et_pb_text_align_center et_pb_bg_layout_light\"><div class=\"et_pb_text_inner\"><p>TAPROOM</p><p>3352 Templeton Gap</p></div></div>,\n",
       " <div class=\"et_pb_text_inner\"><p>TAPROOM</p><p>3352 Templeton Gap</p></div>,\n",
       " <div class=\"et_pb_button_module_wrapper et_pb_button_3_wrapper et_pb_button_alignment_center et_pb_module\"> <a class=\"et_pb_button et_pb_button_3 et_pb_bg_layout_light\" href=\"https://dwbbrewery.com/beers-tgap/\">BEERS </a></div>,\n",
       " <div class=\"et_pb_button_module_wrapper et_pb_button_4_wrapper et_pb_button_alignment_center et_pb_module\"> <a class=\"et_pb_button et_pb_button_4 et_pb_bg_layout_light\" href=\"https://dwbbrewery.com/tgap-events/\">EVENTS</a></div>,\n",
       " <div class=\"et_pb_section et_pb_section_2 et_pb_with_background et_section_regular\"><div class=\"et_pb_row et_pb_row_3 et_pb_equal_columns\"><div class=\"et_pb_column et_pb_column_1_3 et_pb_column_7 et_pb_css_mix_blend_mode_passthrough\"><div class=\"et_pb_module et_pb_divider_0 et_pb_space et_pb_divider_hidden\"><div class=\"et_pb_divider_internal\"></div></div><div class=\"et_pb_module et_pb_divider_1 et_pb_space et_pb_divider_hidden\"><div class=\"et_pb_divider_internal\"></div></div><div class=\"et_pb_module et_pb_text et_pb_text_7 et_pb_text_align_left et_pb_bg_layout_light\"><div class=\"et_pb_text_inner\"><h2>Good Place</h2></div></div><div class=\"et_pb_module et_pb_divider_2 et_pb_space et_pb_divider_hidden\"><div class=\"et_pb_divider_internal\"></div></div><div class=\"et_pb_module et_pb_divider_3 et_pb_space et_pb_divider_hidden\"><div class=\"et_pb_divider_internal\"></div></div></div><div class=\"et_pb_column et_pb_column_1_3 et_pb_column_8 et_pb_css_mix_blend_mode_passthrough\"><div class=\"et_pb_module et_pb_divider_4 et_pb_space et_pb_divider_hidden\"><div class=\"et_pb_divider_internal\"></div></div><div class=\"et_pb_module et_pb_divider_5 et_pb_space et_pb_divider_hidden\"><div class=\"et_pb_divider_internal\"></div></div><div class=\"et_pb_module et_pb_text et_pb_text_8 et_pb_text_align_left et_pb_bg_layout_light\"><div class=\"et_pb_text_inner\"><h2>Good People</h2></div></div><div class=\"et_pb_module et_pb_divider_6 et_pb_space et_pb_divider_hidden\"><div class=\"et_pb_divider_internal\"></div></div><div class=\"et_pb_module et_pb_divider_7 et_pb_space et_pb_divider_hidden\"><div class=\"et_pb_divider_internal\"></div></div></div><div class=\"et_pb_column et_pb_column_1_3 et_pb_column_9 et_pb_css_mix_blend_mode_passthrough et-last-child\"><div class=\"et_pb_module et_pb_divider_8 et_pb_space et_pb_divider_hidden\"><div class=\"et_pb_divider_internal\"></div></div><div class=\"et_pb_module et_pb_divider_9 et_pb_space et_pb_divider_hidden\"><div class=\"et_pb_divider_internal\"></div></div><div class=\"et_pb_module et_pb_text et_pb_text_9 et_pb_text_align_left et_pb_bg_layout_light\"><div class=\"et_pb_text_inner\"><h2>Damn Good Beer</h2></div></div><div class=\"et_pb_module et_pb_divider_10 et_pb_space et_pb_divider_hidden\"><div class=\"et_pb_divider_internal\"></div></div><div class=\"et_pb_module et_pb_divider_11 et_pb_space et_pb_divider_hidden\"><div class=\"et_pb_divider_internal\"></div></div></div></div></div>,\n",
       " <div class=\"et_pb_row et_pb_row_3 et_pb_equal_columns\"><div class=\"et_pb_column et_pb_column_1_3 et_pb_column_7 et_pb_css_mix_blend_mode_passthrough\"><div class=\"et_pb_module et_pb_divider_0 et_pb_space et_pb_divider_hidden\"><div class=\"et_pb_divider_internal\"></div></div><div class=\"et_pb_module et_pb_divider_1 et_pb_space et_pb_divider_hidden\"><div class=\"et_pb_divider_internal\"></div></div><div class=\"et_pb_module et_pb_text et_pb_text_7 et_pb_text_align_left et_pb_bg_layout_light\"><div class=\"et_pb_text_inner\"><h2>Good Place</h2></div></div><div class=\"et_pb_module et_pb_divider_2 et_pb_space et_pb_divider_hidden\"><div class=\"et_pb_divider_internal\"></div></div><div class=\"et_pb_module et_pb_divider_3 et_pb_space et_pb_divider_hidden\"><div class=\"et_pb_divider_internal\"></div></div></div><div class=\"et_pb_column et_pb_column_1_3 et_pb_column_8 et_pb_css_mix_blend_mode_passthrough\"><div class=\"et_pb_module et_pb_divider_4 et_pb_space et_pb_divider_hidden\"><div class=\"et_pb_divider_internal\"></div></div><div class=\"et_pb_module et_pb_divider_5 et_pb_space et_pb_divider_hidden\"><div class=\"et_pb_divider_internal\"></div></div><div class=\"et_pb_module et_pb_text et_pb_text_8 et_pb_text_align_left et_pb_bg_layout_light\"><div class=\"et_pb_text_inner\"><h2>Good People</h2></div></div><div class=\"et_pb_module et_pb_divider_6 et_pb_space et_pb_divider_hidden\"><div class=\"et_pb_divider_internal\"></div></div><div class=\"et_pb_module et_pb_divider_7 et_pb_space et_pb_divider_hidden\"><div class=\"et_pb_divider_internal\"></div></div></div><div class=\"et_pb_column et_pb_column_1_3 et_pb_column_9 et_pb_css_mix_blend_mode_passthrough et-last-child\"><div class=\"et_pb_module et_pb_divider_8 et_pb_space et_pb_divider_hidden\"><div class=\"et_pb_divider_internal\"></div></div><div class=\"et_pb_module et_pb_divider_9 et_pb_space et_pb_divider_hidden\"><div class=\"et_pb_divider_internal\"></div></div><div class=\"et_pb_module et_pb_text et_pb_text_9 et_pb_text_align_left et_pb_bg_layout_light\"><div class=\"et_pb_text_inner\"><h2>Damn Good Beer</h2></div></div><div class=\"et_pb_module et_pb_divider_10 et_pb_space et_pb_divider_hidden\"><div class=\"et_pb_divider_internal\"></div></div><div class=\"et_pb_module et_pb_divider_11 et_pb_space et_pb_divider_hidden\"><div class=\"et_pb_divider_internal\"></div></div></div></div>,\n",
       " <div class=\"et_pb_column et_pb_column_1_3 et_pb_column_7 et_pb_css_mix_blend_mode_passthrough\"><div class=\"et_pb_module et_pb_divider_0 et_pb_space et_pb_divider_hidden\"><div class=\"et_pb_divider_internal\"></div></div><div class=\"et_pb_module et_pb_divider_1 et_pb_space et_pb_divider_hidden\"><div class=\"et_pb_divider_internal\"></div></div><div class=\"et_pb_module et_pb_text et_pb_text_7 et_pb_text_align_left et_pb_bg_layout_light\"><div class=\"et_pb_text_inner\"><h2>Good Place</h2></div></div><div class=\"et_pb_module et_pb_divider_2 et_pb_space et_pb_divider_hidden\"><div class=\"et_pb_divider_internal\"></div></div><div class=\"et_pb_module et_pb_divider_3 et_pb_space et_pb_divider_hidden\"><div class=\"et_pb_divider_internal\"></div></div></div>,\n",
       " <div class=\"et_pb_module et_pb_divider_0 et_pb_space et_pb_divider_hidden\"><div class=\"et_pb_divider_internal\"></div></div>,\n",
       " <div class=\"et_pb_divider_internal\"></div>,\n",
       " <div class=\"et_pb_module et_pb_divider_1 et_pb_space et_pb_divider_hidden\"><div class=\"et_pb_divider_internal\"></div></div>,\n",
       " <div class=\"et_pb_divider_internal\"></div>,\n",
       " <div class=\"et_pb_module et_pb_text et_pb_text_7 et_pb_text_align_left et_pb_bg_layout_light\"><div class=\"et_pb_text_inner\"><h2>Good Place</h2></div></div>,\n",
       " <div class=\"et_pb_text_inner\"><h2>Good Place</h2></div>,\n",
       " <div class=\"et_pb_module et_pb_divider_2 et_pb_space et_pb_divider_hidden\"><div class=\"et_pb_divider_internal\"></div></div>,\n",
       " <div class=\"et_pb_divider_internal\"></div>,\n",
       " <div class=\"et_pb_module et_pb_divider_3 et_pb_space et_pb_divider_hidden\"><div class=\"et_pb_divider_internal\"></div></div>,\n",
       " <div class=\"et_pb_divider_internal\"></div>,\n",
       " <div class=\"et_pb_column et_pb_column_1_3 et_pb_column_8 et_pb_css_mix_blend_mode_passthrough\"><div class=\"et_pb_module et_pb_divider_4 et_pb_space et_pb_divider_hidden\"><div class=\"et_pb_divider_internal\"></div></div><div class=\"et_pb_module et_pb_divider_5 et_pb_space et_pb_divider_hidden\"><div class=\"et_pb_divider_internal\"></div></div><div class=\"et_pb_module et_pb_text et_pb_text_8 et_pb_text_align_left et_pb_bg_layout_light\"><div class=\"et_pb_text_inner\"><h2>Good People</h2></div></div><div class=\"et_pb_module et_pb_divider_6 et_pb_space et_pb_divider_hidden\"><div class=\"et_pb_divider_internal\"></div></div><div class=\"et_pb_module et_pb_divider_7 et_pb_space et_pb_divider_hidden\"><div class=\"et_pb_divider_internal\"></div></div></div>,\n",
       " <div class=\"et_pb_module et_pb_divider_4 et_pb_space et_pb_divider_hidden\"><div class=\"et_pb_divider_internal\"></div></div>,\n",
       " <div class=\"et_pb_divider_internal\"></div>,\n",
       " <div class=\"et_pb_module et_pb_divider_5 et_pb_space et_pb_divider_hidden\"><div class=\"et_pb_divider_internal\"></div></div>,\n",
       " <div class=\"et_pb_divider_internal\"></div>,\n",
       " <div class=\"et_pb_module et_pb_text et_pb_text_8 et_pb_text_align_left et_pb_bg_layout_light\"><div class=\"et_pb_text_inner\"><h2>Good People</h2></div></div>,\n",
       " <div class=\"et_pb_text_inner\"><h2>Good People</h2></div>,\n",
       " <div class=\"et_pb_module et_pb_divider_6 et_pb_space et_pb_divider_hidden\"><div class=\"et_pb_divider_internal\"></div></div>,\n",
       " <div class=\"et_pb_divider_internal\"></div>,\n",
       " <div class=\"et_pb_module et_pb_divider_7 et_pb_space et_pb_divider_hidden\"><div class=\"et_pb_divider_internal\"></div></div>,\n",
       " <div class=\"et_pb_divider_internal\"></div>,\n",
       " <div class=\"et_pb_column et_pb_column_1_3 et_pb_column_9 et_pb_css_mix_blend_mode_passthrough et-last-child\"><div class=\"et_pb_module et_pb_divider_8 et_pb_space et_pb_divider_hidden\"><div class=\"et_pb_divider_internal\"></div></div><div class=\"et_pb_module et_pb_divider_9 et_pb_space et_pb_divider_hidden\"><div class=\"et_pb_divider_internal\"></div></div><div class=\"et_pb_module et_pb_text et_pb_text_9 et_pb_text_align_left et_pb_bg_layout_light\"><div class=\"et_pb_text_inner\"><h2>Damn Good Beer</h2></div></div><div class=\"et_pb_module et_pb_divider_10 et_pb_space et_pb_divider_hidden\"><div class=\"et_pb_divider_internal\"></div></div><div class=\"et_pb_module et_pb_divider_11 et_pb_space et_pb_divider_hidden\"><div class=\"et_pb_divider_internal\"></div></div></div>,\n",
       " <div class=\"et_pb_module et_pb_divider_8 et_pb_space et_pb_divider_hidden\"><div class=\"et_pb_divider_internal\"></div></div>,\n",
       " <div class=\"et_pb_divider_internal\"></div>,\n",
       " <div class=\"et_pb_module et_pb_divider_9 et_pb_space et_pb_divider_hidden\"><div class=\"et_pb_divider_internal\"></div></div>,\n",
       " <div class=\"et_pb_divider_internal\"></div>,\n",
       " <div class=\"et_pb_module et_pb_text et_pb_text_9 et_pb_text_align_left et_pb_bg_layout_light\"><div class=\"et_pb_text_inner\"><h2>Damn Good Beer</h2></div></div>,\n",
       " <div class=\"et_pb_text_inner\"><h2>Damn Good Beer</h2></div>,\n",
       " <div class=\"et_pb_module et_pb_divider_10 et_pb_space et_pb_divider_hidden\"><div class=\"et_pb_divider_internal\"></div></div>,\n",
       " <div class=\"et_pb_divider_internal\"></div>,\n",
       " <div class=\"et_pb_module et_pb_divider_11 et_pb_space et_pb_divider_hidden\"><div class=\"et_pb_divider_internal\"></div></div>,\n",
       " <div class=\"et_pb_divider_internal\"></div>,\n",
       " <div class=\"et_pb_section et_pb_section_3 et_section_regular\"><div class=\"et_pb_row et_pb_row_4\"><div class=\"et_pb_column et_pb_column_4_4 et_pb_column_10 et_pb_css_mix_blend_mode_passthrough et-last-child\"><div class=\"et_pb_with_border et_pb_module et_pb_text et_pb_text_10 et_pb_text_align_left et_pb_bg_layout_light\"><div class=\"et_pb_text_inner\"><h2>Latest Duece is Loose!!</h2></div></div><div class=\"et_pb_module et_pb_blog_0 et_pb_posts et_pb_bg_layout_light\"><div class=\"et_pb_ajax_pagination_container\"><article class=\"et_pb_post clearfix et_pb_no_thumb et_pb_blog_item_0_0 post-1226 post type-post status-publish format-standard hentry category-the-duece-is-loose\" id=\"post-1226\"><h2 class=\"entry-title\"><a href=\"https://dwbbrewery.com/the-duece-is-loose/\">The Duece is Loose!</a></h2><p class=\"post-meta\"><span class=\"published\">Mar 17, 2019</span></p><div class=\"post-content\"><div class=\"post-content-inner\"><p>The Duece is Loose!  This time enjoying the magnificent Sahara Desert sunset. Thanks for the love John and Kelly! Cheers!</p></div></div></article><article class=\"et_pb_post clearfix et_pb_no_thumb et_pb_blog_item_0_1 post-606 post type-post status-publish format-standard has-post-thumbnail hentry category-the-duece-is-loose\" id=\"post-606\"><h2 class=\"entry-title\"><a href=\"https://dwbbrewery.com/stone-bridge-brewing-co-johnstown-pa-thank-you-jen/\">Stone Bridge Brewing Co.- Johnstown, PA. Thank you Jen!</a></h2><p class=\"post-meta\"><span class=\"published\">Jan 15, 2019</span></p><div class=\"post-content\"><div class=\"post-content-inner\"></div></div></article><article class=\"et_pb_post clearfix et_pb_no_thumb et_pb_blog_item_0_2 post-604 post type-post status-publish format-standard has-post-thumbnail hentry category-the-duece-is-loose\" id=\"post-604\"><h2 class=\"entry-title\"><a href=\"https://dwbbrewery.com/usaf-half-marathon-dayton-oh-thank-you-pat/\">USAF half Marathon-Dayton, OH. Thank you Pat!</a></h2><p class=\"post-meta\"><span class=\"published\">Jan 15, 2019</span></p><div class=\"post-content\"><div class=\"post-content-inner\"></div></div></article><div><div class=\"pagination clearfix\"><div class=\"alignleft\"><a href=\"https://dwbbrewery.com/page/2/?et_blog\">« Older Entries</a></div><div class=\"alignright\"></div></div></div></div></div></div></div></div>,\n",
       " <div class=\"et_pb_row et_pb_row_4\"><div class=\"et_pb_column et_pb_column_4_4 et_pb_column_10 et_pb_css_mix_blend_mode_passthrough et-last-child\"><div class=\"et_pb_with_border et_pb_module et_pb_text et_pb_text_10 et_pb_text_align_left et_pb_bg_layout_light\"><div class=\"et_pb_text_inner\"><h2>Latest Duece is Loose!!</h2></div></div><div class=\"et_pb_module et_pb_blog_0 et_pb_posts et_pb_bg_layout_light\"><div class=\"et_pb_ajax_pagination_container\"><article class=\"et_pb_post clearfix et_pb_no_thumb et_pb_blog_item_0_0 post-1226 post type-post status-publish format-standard hentry category-the-duece-is-loose\" id=\"post-1226\"><h2 class=\"entry-title\"><a href=\"https://dwbbrewery.com/the-duece-is-loose/\">The Duece is Loose!</a></h2><p class=\"post-meta\"><span class=\"published\">Mar 17, 2019</span></p><div class=\"post-content\"><div class=\"post-content-inner\"><p>The Duece is Loose!  This time enjoying the magnificent Sahara Desert sunset. Thanks for the love John and Kelly! Cheers!</p></div></div></article><article class=\"et_pb_post clearfix et_pb_no_thumb et_pb_blog_item_0_1 post-606 post type-post status-publish format-standard has-post-thumbnail hentry category-the-duece-is-loose\" id=\"post-606\"><h2 class=\"entry-title\"><a href=\"https://dwbbrewery.com/stone-bridge-brewing-co-johnstown-pa-thank-you-jen/\">Stone Bridge Brewing Co.- Johnstown, PA. Thank you Jen!</a></h2><p class=\"post-meta\"><span class=\"published\">Jan 15, 2019</span></p><div class=\"post-content\"><div class=\"post-content-inner\"></div></div></article><article class=\"et_pb_post clearfix et_pb_no_thumb et_pb_blog_item_0_2 post-604 post type-post status-publish format-standard has-post-thumbnail hentry category-the-duece-is-loose\" id=\"post-604\"><h2 class=\"entry-title\"><a href=\"https://dwbbrewery.com/usaf-half-marathon-dayton-oh-thank-you-pat/\">USAF half Marathon-Dayton, OH. Thank you Pat!</a></h2><p class=\"post-meta\"><span class=\"published\">Jan 15, 2019</span></p><div class=\"post-content\"><div class=\"post-content-inner\"></div></div></article><div><div class=\"pagination clearfix\"><div class=\"alignleft\"><a href=\"https://dwbbrewery.com/page/2/?et_blog\">« Older Entries</a></div><div class=\"alignright\"></div></div></div></div></div></div></div>,\n",
       " <div class=\"et_pb_column et_pb_column_4_4 et_pb_column_10 et_pb_css_mix_blend_mode_passthrough et-last-child\"><div class=\"et_pb_with_border et_pb_module et_pb_text et_pb_text_10 et_pb_text_align_left et_pb_bg_layout_light\"><div class=\"et_pb_text_inner\"><h2>Latest Duece is Loose!!</h2></div></div><div class=\"et_pb_module et_pb_blog_0 et_pb_posts et_pb_bg_layout_light\"><div class=\"et_pb_ajax_pagination_container\"><article class=\"et_pb_post clearfix et_pb_no_thumb et_pb_blog_item_0_0 post-1226 post type-post status-publish format-standard hentry category-the-duece-is-loose\" id=\"post-1226\"><h2 class=\"entry-title\"><a href=\"https://dwbbrewery.com/the-duece-is-loose/\">The Duece is Loose!</a></h2><p class=\"post-meta\"><span class=\"published\">Mar 17, 2019</span></p><div class=\"post-content\"><div class=\"post-content-inner\"><p>The Duece is Loose!  This time enjoying the magnificent Sahara Desert sunset. Thanks for the love John and Kelly! Cheers!</p></div></div></article><article class=\"et_pb_post clearfix et_pb_no_thumb et_pb_blog_item_0_1 post-606 post type-post status-publish format-standard has-post-thumbnail hentry category-the-duece-is-loose\" id=\"post-606\"><h2 class=\"entry-title\"><a href=\"https://dwbbrewery.com/stone-bridge-brewing-co-johnstown-pa-thank-you-jen/\">Stone Bridge Brewing Co.- Johnstown, PA. Thank you Jen!</a></h2><p class=\"post-meta\"><span class=\"published\">Jan 15, 2019</span></p><div class=\"post-content\"><div class=\"post-content-inner\"></div></div></article><article class=\"et_pb_post clearfix et_pb_no_thumb et_pb_blog_item_0_2 post-604 post type-post status-publish format-standard has-post-thumbnail hentry category-the-duece-is-loose\" id=\"post-604\"><h2 class=\"entry-title\"><a href=\"https://dwbbrewery.com/usaf-half-marathon-dayton-oh-thank-you-pat/\">USAF half Marathon-Dayton, OH. Thank you Pat!</a></h2><p class=\"post-meta\"><span class=\"published\">Jan 15, 2019</span></p><div class=\"post-content\"><div class=\"post-content-inner\"></div></div></article><div><div class=\"pagination clearfix\"><div class=\"alignleft\"><a href=\"https://dwbbrewery.com/page/2/?et_blog\">« Older Entries</a></div><div class=\"alignright\"></div></div></div></div></div></div>,\n",
       " <div class=\"et_pb_with_border et_pb_module et_pb_text et_pb_text_10 et_pb_text_align_left et_pb_bg_layout_light\"><div class=\"et_pb_text_inner\"><h2>Latest Duece is Loose!!</h2></div></div>,\n",
       " <div class=\"et_pb_text_inner\"><h2>Latest Duece is Loose!!</h2></div>,\n",
       " <div class=\"et_pb_module et_pb_blog_0 et_pb_posts et_pb_bg_layout_light\"><div class=\"et_pb_ajax_pagination_container\"><article class=\"et_pb_post clearfix et_pb_no_thumb et_pb_blog_item_0_0 post-1226 post type-post status-publish format-standard hentry category-the-duece-is-loose\" id=\"post-1226\"><h2 class=\"entry-title\"><a href=\"https://dwbbrewery.com/the-duece-is-loose/\">The Duece is Loose!</a></h2><p class=\"post-meta\"><span class=\"published\">Mar 17, 2019</span></p><div class=\"post-content\"><div class=\"post-content-inner\"><p>The Duece is Loose!  This time enjoying the magnificent Sahara Desert sunset. Thanks for the love John and Kelly! Cheers!</p></div></div></article><article class=\"et_pb_post clearfix et_pb_no_thumb et_pb_blog_item_0_1 post-606 post type-post status-publish format-standard has-post-thumbnail hentry category-the-duece-is-loose\" id=\"post-606\"><h2 class=\"entry-title\"><a href=\"https://dwbbrewery.com/stone-bridge-brewing-co-johnstown-pa-thank-you-jen/\">Stone Bridge Brewing Co.- Johnstown, PA. Thank you Jen!</a></h2><p class=\"post-meta\"><span class=\"published\">Jan 15, 2019</span></p><div class=\"post-content\"><div class=\"post-content-inner\"></div></div></article><article class=\"et_pb_post clearfix et_pb_no_thumb et_pb_blog_item_0_2 post-604 post type-post status-publish format-standard has-post-thumbnail hentry category-the-duece-is-loose\" id=\"post-604\"><h2 class=\"entry-title\"><a href=\"https://dwbbrewery.com/usaf-half-marathon-dayton-oh-thank-you-pat/\">USAF half Marathon-Dayton, OH. Thank you Pat!</a></h2><p class=\"post-meta\"><span class=\"published\">Jan 15, 2019</span></p><div class=\"post-content\"><div class=\"post-content-inner\"></div></div></article><div><div class=\"pagination clearfix\"><div class=\"alignleft\"><a href=\"https://dwbbrewery.com/page/2/?et_blog\">« Older Entries</a></div><div class=\"alignright\"></div></div></div></div></div>,\n",
       " <div class=\"et_pb_ajax_pagination_container\"><article class=\"et_pb_post clearfix et_pb_no_thumb et_pb_blog_item_0_0 post-1226 post type-post status-publish format-standard hentry category-the-duece-is-loose\" id=\"post-1226\"><h2 class=\"entry-title\"><a href=\"https://dwbbrewery.com/the-duece-is-loose/\">The Duece is Loose!</a></h2><p class=\"post-meta\"><span class=\"published\">Mar 17, 2019</span></p><div class=\"post-content\"><div class=\"post-content-inner\"><p>The Duece is Loose!  This time enjoying the magnificent Sahara Desert sunset. Thanks for the love John and Kelly! Cheers!</p></div></div></article><article class=\"et_pb_post clearfix et_pb_no_thumb et_pb_blog_item_0_1 post-606 post type-post status-publish format-standard has-post-thumbnail hentry category-the-duece-is-loose\" id=\"post-606\"><h2 class=\"entry-title\"><a href=\"https://dwbbrewery.com/stone-bridge-brewing-co-johnstown-pa-thank-you-jen/\">Stone Bridge Brewing Co.- Johnstown, PA. Thank you Jen!</a></h2><p class=\"post-meta\"><span class=\"published\">Jan 15, 2019</span></p><div class=\"post-content\"><div class=\"post-content-inner\"></div></div></article><article class=\"et_pb_post clearfix et_pb_no_thumb et_pb_blog_item_0_2 post-604 post type-post status-publish format-standard has-post-thumbnail hentry category-the-duece-is-loose\" id=\"post-604\"><h2 class=\"entry-title\"><a href=\"https://dwbbrewery.com/usaf-half-marathon-dayton-oh-thank-you-pat/\">USAF half Marathon-Dayton, OH. Thank you Pat!</a></h2><p class=\"post-meta\"><span class=\"published\">Jan 15, 2019</span></p><div class=\"post-content\"><div class=\"post-content-inner\"></div></div></article><div><div class=\"pagination clearfix\"><div class=\"alignleft\"><a href=\"https://dwbbrewery.com/page/2/?et_blog\">« Older Entries</a></div><div class=\"alignright\"></div></div></div></div>,\n",
       " <div class=\"post-content\"><div class=\"post-content-inner\"><p>The Duece is Loose!  This time enjoying the magnificent Sahara Desert sunset. Thanks for the love John and Kelly! Cheers!</p></div></div>,\n",
       " <div class=\"post-content-inner\"><p>The Duece is Loose!  This time enjoying the magnificent Sahara Desert sunset. Thanks for the love John and Kelly! Cheers!</p></div>,\n",
       " <div class=\"post-content\"><div class=\"post-content-inner\"></div></div>,\n",
       " <div class=\"post-content-inner\"></div>,\n",
       " <div class=\"post-content\"><div class=\"post-content-inner\"></div></div>,\n",
       " <div class=\"post-content-inner\"></div>,\n",
       " <div><div class=\"pagination clearfix\"><div class=\"alignleft\"><a href=\"https://dwbbrewery.com/page/2/?et_blog\">« Older Entries</a></div><div class=\"alignright\"></div></div></div>,\n",
       " <div class=\"pagination clearfix\"><div class=\"alignleft\"><a href=\"https://dwbbrewery.com/page/2/?et_blog\">« Older Entries</a></div><div class=\"alignright\"></div></div>,\n",
       " <div class=\"alignleft\"><a href=\"https://dwbbrewery.com/page/2/?et_blog\">« Older Entries</a></div>,\n",
       " <div class=\"alignright\"></div>,\n",
       " <div class=\"et_pb_section et_pb_section_5 et_pb_with_background et_section_regular\"><div class=\"et_pb_row et_pb_row_5\"><div class=\"et_pb_column et_pb_column_2_5 et_pb_column_11 et_pb_css_mix_blend_mode_passthrough\"><div class=\"et_pb_module et_pb_text et_pb_text_11 et_pb_text_align_left et_pb_bg_layout_light\"><div class=\"et_pb_text_inner\"><h2>FIND US</h2></div></div><div class=\"et_pb_module et_pb_image et_pb_image_3\"> <span class=\"et_pb_image_wrap has-box-shadow-overlay\"><div class=\"box-shadow-overlay\"></div><img alt=\"\" class=\"wp-image-17\" height=\"199\" loading=\"lazy\" src=\"https://dwbbrewery.com/wp-content/uploads/2019/01/dwbboxandbeer-300x199.jpg\" title=\"\" width=\"300\"/></span></div><div class=\"et_pb_with_border et_pb_module et_pb_text et_pb_text_12 et_pb_text_align_left et_pb_bg_layout_light\"><div class=\"et_pb_text_inner\"><p>Locations &amp; Hours</p></div></div><div class=\"et_pb_module et_pb_text et_pb_text_13 et_pb_text_align_left et_pb_bg_layout_light\"><div class=\"et_pb_text_inner\"><p><a href=\"https://www.google.com/maps/place/660+Peterson+Rd,+Colorado+Springs,+CO+80915/@38.8414842,-104.7046135,17z/data=!3m1!4b1!4m5!3m4!1s0x871347aa4f8fb193:0x8761831727a0fddc!8m2!3d38.8414842!4d-104.7024248\" rel=\"noopener noreferrer\" target=\"_blank\">660 Peterson Road</a><br/> Colorado Springs, Co 80915<br/> <a href=\"tel:1-719-394-4811\">(719)394-4811</a><br/> <a href=\"mailto:dueces@dwbbrewery.com\">dueces@dwbbrewery.com</a></p></div></div><div class=\"et_pb_module et_pb_text et_pb_text_14 et_pb_text_align_left et_pb_bg_layout_light\"><div class=\"et_pb_text_inner\"><p>Monday – Closed to make Damn Good Beer</p><p>Tuesday-Wednesday 3pm-8pm</p><p>Thursday- 3:00pm-9:00pm</p><p>Friday- 12pm-10pm</p><p>Saturday-12:00pm-10:00pm</p><p>Sunday: 11:00am–6:00pm</p></div></div><ul class=\"et_pb_module et_pb_social_media_follow et_pb_social_media_follow_0 clearfix et_pb_bg_layout_light\"><li class=\"et_pb_social_media_follow_network_0 et_pb_social_icon et_pb_social_network_link et-social-facebook et_pb_social_media_follow_network_0\"><a class=\"icon et_pb_with_border\" href=\"https://www.facebook.com/dwbbrewery/\" target=\"_blank\" title=\"Follow on Facebook\"><span aria-hidden=\"true\" class=\"et_pb_social_media_follow_network_name\">Follow</span></a></li><li class=\"et_pb_social_media_follow_network_1 et_pb_social_icon et_pb_social_network_link et-social-twitter et_pb_social_media_follow_network_1\"><a class=\"icon et_pb_with_border\" href=\"https://www.twitter.com/dwbbrewery/\" target=\"_blank\" title=\"Follow on Twitter\"><span aria-hidden=\"true\" class=\"et_pb_social_media_follow_network_name\">Follow</span></a></li><li class=\"et_pb_social_media_follow_network_2 et_pb_social_icon et_pb_social_network_link et-social-instagram et_pb_social_media_follow_network_2\"><a class=\"icon et_pb_with_border\" href=\"https://www.instagram.com/dwbbrewery/\" target=\"_blank\" title=\"Follow on Instagram\"><span aria-hidden=\"true\" class=\"et_pb_social_media_follow_network_name\">Follow</span></a></li></ul><div class=\"et_pb_module et_pb_text et_pb_text_15 et_pb_text_align_left et_pb_bg_layout_light\"><div class=\"et_pb_text_inner\"><p><a href=\"https://www.google.com/maps/place/3352+Templeton+Gap+Rd,+Colorado+Springs,+CO+80907/@38.8785326,-104.7971843,17z/data=!3m1!4b1!4m5!3m4!1s0x87134f7a75168e51:0x127b95a55f919551!8m2!3d38.8785326!4d-104.7949956\" rel=\"noopener noreferrer\" target=\"_blank\">3352 Templeton Gap Road</a><br/> Colorado Springs, Co 80907<br/><a href=\"tal:17193745806\">719-374-5806</a><br/><a href=\"mailto:dueces@dwbbrewery.com\">dueces@dwbbrewery.com</a></p></div></div><div class=\"et_pb_module et_pb_text et_pb_text_16 et_pb_text_align_left et_pb_bg_layout_light\"><div class=\"et_pb_text_inner\"><p>Monday– Closed to make Damn Good Beer</p><p>Tuesday &amp; Wednesday: 3:00pm-8:00pm</p><p>Thursday- 3:00pm-9:00pm</p><p>Friday &amp; Saturday- 12:00pm-10:00pm</p><p>Sunday: 11:00am – 6:00pm</p></div></div><ul class=\"et_pb_module et_pb_social_media_follow et_pb_social_media_follow_1 clearfix et_pb_bg_layout_light\"><li class=\"et_pb_social_media_follow_network_3 et_pb_social_icon et_pb_social_network_link et-social-facebook et_pb_social_media_follow_network_3\"><a class=\"icon et_pb_with_border\" href=\"https://www.facebook.com/dwbontapattgap\" target=\"_blank\" title=\"Follow on Facebook\"><span aria-hidden=\"true\" class=\"et_pb_social_media_follow_network_name\">Follow</span></a></li><li class=\"et_pb_social_media_follow_network_4 et_pb_social_icon et_pb_social_network_link et-social-twitter et_pb_social_media_follow_network_4\"><a class=\"icon et_pb_with_border\" href=\"https://www.twitter.com/dwbbrewery/\" target=\"_blank\" title=\"Follow on Twitter\"><span aria-hidden=\"true\" class=\"et_pb_social_media_follow_network_name\">Follow</span></a></li><li class=\"et_pb_social_media_follow_network_5 et_pb_social_icon et_pb_social_network_link et-social-instagram et_pb_social_media_follow_network_5\"><a class=\"icon et_pb_with_border\" href=\"https://www.instagram.com/dwbontap/\" target=\"_blank\" title=\"Follow on Instagram\"><span aria-hidden=\"true\" class=\"et_pb_social_media_follow_network_name\">Follow</span></a></li></ul></div><div class=\"et_pb_column et_pb_column_3_5 et_pb_column_12 et_pb_css_mix_blend_mode_passthrough et-last-child\"><div class=\"et_pb_module et_pb_image et_pb_image_4 et_animated et-waypoint\"> <span class=\"et_pb_image_wrap\"><img alt=\"\" class=\"wp-image-18\" height=\"300\" loading=\"lazy\" sizes=\"(max-width: 300px) 100vw, 300px\" src=\"https://dwbbrewery.com/wp-content/uploads/2019/01/DWB-Barrel2.jpg-300x300.png\" srcset=\"https://dwbbrewery.com/wp-content/uploads/2019/01/DWB-Barrel2.jpg-300x300.png 300w, https://dwbbrewery.com/wp-content/uploads/2019/01/DWB-Barrel2.jpg-300x300-100x100.png 100w, https://dwbbrewery.com/wp-content/uploads/2019/01/DWB-Barrel2.jpg-300x300-150x150.png 150w\" title=\"\" width=\"300\"/></span></div><div class=\"et_pb_module et_pb_divider_12 et_pb_space et_pb_divider_hidden\"><div class=\"et_pb_divider_internal\"></div></div><div class=\"et_pb_module et_pb_text et_pb_text_17 et_pb_text_align_left et_pb_bg_layout_light\"><div class=\"et_pb_text_inner\"><h3>WE BELIEVE IN FRIENDS, FAMILY, AND DAMN GOOD BEER!</h3></div></div><div class=\"et_pb_module et_pb_text et_pb_text_18 et_pb_text_align_left et_pb_bg_layout_light\"><div class=\"et_pb_text_inner\"><p>Dueces Wild Brewery (DWB) is a veteran owned and operated craft brewery. We are strong supporters of our military, and first responder community and to say thanks we offer them a 10% discount on all pints for them. Our ambition is to brew high quality beer, support the local economy, and present a clean and friendly social environment for family and friends. We strive to make a well balanced selection of beers that everyone would enjoy. One taste of our beer and you’ll understand why Dueces Wild has quickly become one of Colorado Springs favorite breweries.</p><p>Although we are new to the craft beer community and only recently opened our doors in February of 2018, the team at DWB brings over 20 years of brewing experience to over 20 different and unique recipes for your drinking pleasure. Dueces operates on a state of the art 10 barrel Alpha brewing system which helps ensure the quality of beer is always consistent.</p></div></div></div></div><div class=\"et_pb_row et_pb_row_6 et_pb_equal_columns\"><div class=\"et_pb_column et_pb_column_1_3 et_pb_column_13 et_pb_css_mix_blend_mode_passthrough\"><div class=\"et_pb_module et_pb_cta_0 et_pb_promo et_pb_text_align_center et_pb_bg_layout_dark\"><div class=\"et_pb_promo_description\"><h2 class=\"et_pb_module_header\">SAISON W/ LEMON GRASS AND GRAINS OF PARADISE</h2><div><p><span>Lemony with a hint of white pepper</span></p><div dir=\"auto\">5.1% ABV, 15 IBU</div><div dir=\"auto\"></div><div dir=\"auto\"></div><div dir=\"auto\"></div><div dir=\"auto\"></div><div dir=\"auto\"></div><div dir=\"auto\"></div><div dir=\"auto\"></div><div dir=\"auto\"><img alt=\"\" class=\"wp-image-3551 alignnone size-medium\" height=\"229\" loading=\"lazy\" src=\"https://dwbbrewery.com/wp-content/uploads/2021/09/DWB-Logo-0418-Digital-300x229.jpg\" width=\"300\"/></div></div></div></div></div><div class=\"et_pb_column et_pb_column_1_3 et_pb_column_14 et_pb_css_mix_blend_mode_passthrough\"><div class=\"et_pb_module et_pb_cta_1 et_pb_promo et_pb_text_align_center et_pb_bg_layout_dark\"><div class=\"et_pb_promo_description\"><h2 class=\"et_pb_module_header\">PURE MORNING - PALE ALE.</h2><div><p>Light to medium body, citrusy</p><p class=\"p1\">5% ABV, 35IBU Hops: Citra</p><p class=\"p1\"><p class=\"p1\"><p class=\"p1\"><p class=\"p1\"><p class=\"p1\"><p class=\"p1\"><p class=\"p1\"><p class=\"p1\"><p class=\"p1\"><p class=\"p1\"><p class=\"p1\"><p class=\"p1\"><p class=\"p1\"><p class=\"p1\"><p class=\"p1\"></p></p></p></p></p></p></p></p></p></p></p></p></p></p></p></div></div></div><div class=\"et_pb_module et_pb_cta_2 et_pb_promo et_pb_text_align_center et_pb_bg_layout_dark\"><div class=\"et_pb_promo_description\"><h2 class=\"et_pb_module_header\">FUNKY GNOME- BELGIAN PALE ALE</h2><div><p class=\"p1\">A traditional Belgian style Pale Ale brewed with German and American hops that closely replicate the Noble hops used in these beers. Spicy aromas and flavors of the hops along with clove and banana esters. Light toast Jessica and fruit flavors carry through to the finish. A great beer for Summer.</p><p class=\"p1\">5.3% ABV 25 IBU Hops: German Northern Brewer, Sterling.</p><p class=\"p1\"><img alt=\"\" class=\"wp-image-1839 alignnone size-medium\" height=\"300\" loading=\"lazy\" src=\"https://dwbbrewery.com/wp-content/uploads/2019/09/funkygnome_tiny-225x300.jpeg\" width=\"225\"/></p><p class=\"p2\"></p></div></div></div><div class=\"et_pb_module et_pb_cta_3 et_pb_promo et_pb_text_align_center et_pb_bg_layout_dark\"><div class=\"et_pb_promo_description\"><h2 class=\"et_pb_module_header\">FUNKY GNOME- BELGIAN PALE ALE</h2><div><p class=\"p1\">A traditional Belgian style Pale Ale brewed with German and American hops that closely replicate the Noble hops used in these beers. Spicy aromas and flavors of the hops along with clove and banana esters. Light toast Jessica and fruit flavors carry through to the finish. A great beer for Summer.</p><p class=\"p1\">5.3% ABV 25 IBU Hops: German Northern Brewer, Sterling.</p><p class=\"p1\"><img alt=\"\" class=\"wp-image-1839 alignnone size-medium\" height=\"300\" loading=\"lazy\" src=\"https://dwbbrewery.com/wp-content/uploads/2019/09/funkygnome_tiny-225x300.jpeg\" width=\"225\"/></p><p class=\"p2\"></p></div></div></div></div><div class=\"et_pb_column et_pb_column_1_3 et_pb_column_15 et_pb_css_mix_blend_mode_passthrough et-last-child et_pb_column_empty\"></div></div></div>,\n",
       " <div class=\"et_pb_row et_pb_row_5\"><div class=\"et_pb_column et_pb_column_2_5 et_pb_column_11 et_pb_css_mix_blend_mode_passthrough\"><div class=\"et_pb_module et_pb_text et_pb_text_11 et_pb_text_align_left et_pb_bg_layout_light\"><div class=\"et_pb_text_inner\"><h2>FIND US</h2></div></div><div class=\"et_pb_module et_pb_image et_pb_image_3\"> <span class=\"et_pb_image_wrap has-box-shadow-overlay\"><div class=\"box-shadow-overlay\"></div><img alt=\"\" class=\"wp-image-17\" height=\"199\" loading=\"lazy\" src=\"https://dwbbrewery.com/wp-content/uploads/2019/01/dwbboxandbeer-300x199.jpg\" title=\"\" width=\"300\"/></span></div><div class=\"et_pb_with_border et_pb_module et_pb_text et_pb_text_12 et_pb_text_align_left et_pb_bg_layout_light\"><div class=\"et_pb_text_inner\"><p>Locations &amp; Hours</p></div></div><div class=\"et_pb_module et_pb_text et_pb_text_13 et_pb_text_align_left et_pb_bg_layout_light\"><div class=\"et_pb_text_inner\"><p><a href=\"https://www.google.com/maps/place/660+Peterson+Rd,+Colorado+Springs,+CO+80915/@38.8414842,-104.7046135,17z/data=!3m1!4b1!4m5!3m4!1s0x871347aa4f8fb193:0x8761831727a0fddc!8m2!3d38.8414842!4d-104.7024248\" rel=\"noopener noreferrer\" target=\"_blank\">660 Peterson Road</a><br/> Colorado Springs, Co 80915<br/> <a href=\"tel:1-719-394-4811\">(719)394-4811</a><br/> <a href=\"mailto:dueces@dwbbrewery.com\">dueces@dwbbrewery.com</a></p></div></div><div class=\"et_pb_module et_pb_text et_pb_text_14 et_pb_text_align_left et_pb_bg_layout_light\"><div class=\"et_pb_text_inner\"><p>Monday – Closed to make Damn Good Beer</p><p>Tuesday-Wednesday 3pm-8pm</p><p>Thursday- 3:00pm-9:00pm</p><p>Friday- 12pm-10pm</p><p>Saturday-12:00pm-10:00pm</p><p>Sunday: 11:00am–6:00pm</p></div></div><ul class=\"et_pb_module et_pb_social_media_follow et_pb_social_media_follow_0 clearfix et_pb_bg_layout_light\"><li class=\"et_pb_social_media_follow_network_0 et_pb_social_icon et_pb_social_network_link et-social-facebook et_pb_social_media_follow_network_0\"><a class=\"icon et_pb_with_border\" href=\"https://www.facebook.com/dwbbrewery/\" target=\"_blank\" title=\"Follow on Facebook\"><span aria-hidden=\"true\" class=\"et_pb_social_media_follow_network_name\">Follow</span></a></li><li class=\"et_pb_social_media_follow_network_1 et_pb_social_icon et_pb_social_network_link et-social-twitter et_pb_social_media_follow_network_1\"><a class=\"icon et_pb_with_border\" href=\"https://www.twitter.com/dwbbrewery/\" target=\"_blank\" title=\"Follow on Twitter\"><span aria-hidden=\"true\" class=\"et_pb_social_media_follow_network_name\">Follow</span></a></li><li class=\"et_pb_social_media_follow_network_2 et_pb_social_icon et_pb_social_network_link et-social-instagram et_pb_social_media_follow_network_2\"><a class=\"icon et_pb_with_border\" href=\"https://www.instagram.com/dwbbrewery/\" target=\"_blank\" title=\"Follow on Instagram\"><span aria-hidden=\"true\" class=\"et_pb_social_media_follow_network_name\">Follow</span></a></li></ul><div class=\"et_pb_module et_pb_text et_pb_text_15 et_pb_text_align_left et_pb_bg_layout_light\"><div class=\"et_pb_text_inner\"><p><a href=\"https://www.google.com/maps/place/3352+Templeton+Gap+Rd,+Colorado+Springs,+CO+80907/@38.8785326,-104.7971843,17z/data=!3m1!4b1!4m5!3m4!1s0x87134f7a75168e51:0x127b95a55f919551!8m2!3d38.8785326!4d-104.7949956\" rel=\"noopener noreferrer\" target=\"_blank\">3352 Templeton Gap Road</a><br/> Colorado Springs, Co 80907<br/><a href=\"tal:17193745806\">719-374-5806</a><br/><a href=\"mailto:dueces@dwbbrewery.com\">dueces@dwbbrewery.com</a></p></div></div><div class=\"et_pb_module et_pb_text et_pb_text_16 et_pb_text_align_left et_pb_bg_layout_light\"><div class=\"et_pb_text_inner\"><p>Monday– Closed to make Damn Good Beer</p><p>Tuesday &amp; Wednesday: 3:00pm-8:00pm</p><p>Thursday- 3:00pm-9:00pm</p><p>Friday &amp; Saturday- 12:00pm-10:00pm</p><p>Sunday: 11:00am – 6:00pm</p></div></div><ul class=\"et_pb_module et_pb_social_media_follow et_pb_social_media_follow_1 clearfix et_pb_bg_layout_light\"><li class=\"et_pb_social_media_follow_network_3 et_pb_social_icon et_pb_social_network_link et-social-facebook et_pb_social_media_follow_network_3\"><a class=\"icon et_pb_with_border\" href=\"https://www.facebook.com/dwbontapattgap\" target=\"_blank\" title=\"Follow on Facebook\"><span aria-hidden=\"true\" class=\"et_pb_social_media_follow_network_name\">Follow</span></a></li><li class=\"et_pb_social_media_follow_network_4 et_pb_social_icon et_pb_social_network_link et-social-twitter et_pb_social_media_follow_network_4\"><a class=\"icon et_pb_with_border\" href=\"https://www.twitter.com/dwbbrewery/\" target=\"_blank\" title=\"Follow on Twitter\"><span aria-hidden=\"true\" class=\"et_pb_social_media_follow_network_name\">Follow</span></a></li><li class=\"et_pb_social_media_follow_network_5 et_pb_social_icon et_pb_social_network_link et-social-instagram et_pb_social_media_follow_network_5\"><a class=\"icon et_pb_with_border\" href=\"https://www.instagram.com/dwbontap/\" target=\"_blank\" title=\"Follow on Instagram\"><span aria-hidden=\"true\" class=\"et_pb_social_media_follow_network_name\">Follow</span></a></li></ul></div><div class=\"et_pb_column et_pb_column_3_5 et_pb_column_12 et_pb_css_mix_blend_mode_passthrough et-last-child\"><div class=\"et_pb_module et_pb_image et_pb_image_4 et_animated et-waypoint\"> <span class=\"et_pb_image_wrap\"><img alt=\"\" class=\"wp-image-18\" height=\"300\" loading=\"lazy\" sizes=\"(max-width: 300px) 100vw, 300px\" src=\"https://dwbbrewery.com/wp-content/uploads/2019/01/DWB-Barrel2.jpg-300x300.png\" srcset=\"https://dwbbrewery.com/wp-content/uploads/2019/01/DWB-Barrel2.jpg-300x300.png 300w, https://dwbbrewery.com/wp-content/uploads/2019/01/DWB-Barrel2.jpg-300x300-100x100.png 100w, https://dwbbrewery.com/wp-content/uploads/2019/01/DWB-Barrel2.jpg-300x300-150x150.png 150w\" title=\"\" width=\"300\"/></span></div><div class=\"et_pb_module et_pb_divider_12 et_pb_space et_pb_divider_hidden\"><div class=\"et_pb_divider_internal\"></div></div><div class=\"et_pb_module et_pb_text et_pb_text_17 et_pb_text_align_left et_pb_bg_layout_light\"><div class=\"et_pb_text_inner\"><h3>WE BELIEVE IN FRIENDS, FAMILY, AND DAMN GOOD BEER!</h3></div></div><div class=\"et_pb_module et_pb_text et_pb_text_18 et_pb_text_align_left et_pb_bg_layout_light\"><div class=\"et_pb_text_inner\"><p>Dueces Wild Brewery (DWB) is a veteran owned and operated craft brewery. We are strong supporters of our military, and first responder community and to say thanks we offer them a 10% discount on all pints for them. Our ambition is to brew high quality beer, support the local economy, and present a clean and friendly social environment for family and friends. We strive to make a well balanced selection of beers that everyone would enjoy. One taste of our beer and you’ll understand why Dueces Wild has quickly become one of Colorado Springs favorite breweries.</p><p>Although we are new to the craft beer community and only recently opened our doors in February of 2018, the team at DWB brings over 20 years of brewing experience to over 20 different and unique recipes for your drinking pleasure. Dueces operates on a state of the art 10 barrel Alpha brewing system which helps ensure the quality of beer is always consistent.</p></div></div></div></div>,\n",
       " <div class=\"et_pb_column et_pb_column_2_5 et_pb_column_11 et_pb_css_mix_blend_mode_passthrough\"><div class=\"et_pb_module et_pb_text et_pb_text_11 et_pb_text_align_left et_pb_bg_layout_light\"><div class=\"et_pb_text_inner\"><h2>FIND US</h2></div></div><div class=\"et_pb_module et_pb_image et_pb_image_3\"> <span class=\"et_pb_image_wrap has-box-shadow-overlay\"><div class=\"box-shadow-overlay\"></div><img alt=\"\" class=\"wp-image-17\" height=\"199\" loading=\"lazy\" src=\"https://dwbbrewery.com/wp-content/uploads/2019/01/dwbboxandbeer-300x199.jpg\" title=\"\" width=\"300\"/></span></div><div class=\"et_pb_with_border et_pb_module et_pb_text et_pb_text_12 et_pb_text_align_left et_pb_bg_layout_light\"><div class=\"et_pb_text_inner\"><p>Locations &amp; Hours</p></div></div><div class=\"et_pb_module et_pb_text et_pb_text_13 et_pb_text_align_left et_pb_bg_layout_light\"><div class=\"et_pb_text_inner\"><p><a href=\"https://www.google.com/maps/place/660+Peterson+Rd,+Colorado+Springs,+CO+80915/@38.8414842,-104.7046135,17z/data=!3m1!4b1!4m5!3m4!1s0x871347aa4f8fb193:0x8761831727a0fddc!8m2!3d38.8414842!4d-104.7024248\" rel=\"noopener noreferrer\" target=\"_blank\">660 Peterson Road</a><br/> Colorado Springs, Co 80915<br/> <a href=\"tel:1-719-394-4811\">(719)394-4811</a><br/> <a href=\"mailto:dueces@dwbbrewery.com\">dueces@dwbbrewery.com</a></p></div></div><div class=\"et_pb_module et_pb_text et_pb_text_14 et_pb_text_align_left et_pb_bg_layout_light\"><div class=\"et_pb_text_inner\"><p>Monday – Closed to make Damn Good Beer</p><p>Tuesday-Wednesday 3pm-8pm</p><p>Thursday- 3:00pm-9:00pm</p><p>Friday- 12pm-10pm</p><p>Saturday-12:00pm-10:00pm</p><p>Sunday: 11:00am–6:00pm</p></div></div><ul class=\"et_pb_module et_pb_social_media_follow et_pb_social_media_follow_0 clearfix et_pb_bg_layout_light\"><li class=\"et_pb_social_media_follow_network_0 et_pb_social_icon et_pb_social_network_link et-social-facebook et_pb_social_media_follow_network_0\"><a class=\"icon et_pb_with_border\" href=\"https://www.facebook.com/dwbbrewery/\" target=\"_blank\" title=\"Follow on Facebook\"><span aria-hidden=\"true\" class=\"et_pb_social_media_follow_network_name\">Follow</span></a></li><li class=\"et_pb_social_media_follow_network_1 et_pb_social_icon et_pb_social_network_link et-social-twitter et_pb_social_media_follow_network_1\"><a class=\"icon et_pb_with_border\" href=\"https://www.twitter.com/dwbbrewery/\" target=\"_blank\" title=\"Follow on Twitter\"><span aria-hidden=\"true\" class=\"et_pb_social_media_follow_network_name\">Follow</span></a></li><li class=\"et_pb_social_media_follow_network_2 et_pb_social_icon et_pb_social_network_link et-social-instagram et_pb_social_media_follow_network_2\"><a class=\"icon et_pb_with_border\" href=\"https://www.instagram.com/dwbbrewery/\" target=\"_blank\" title=\"Follow on Instagram\"><span aria-hidden=\"true\" class=\"et_pb_social_media_follow_network_name\">Follow</span></a></li></ul><div class=\"et_pb_module et_pb_text et_pb_text_15 et_pb_text_align_left et_pb_bg_layout_light\"><div class=\"et_pb_text_inner\"><p><a href=\"https://www.google.com/maps/place/3352+Templeton+Gap+Rd,+Colorado+Springs,+CO+80907/@38.8785326,-104.7971843,17z/data=!3m1!4b1!4m5!3m4!1s0x87134f7a75168e51:0x127b95a55f919551!8m2!3d38.8785326!4d-104.7949956\" rel=\"noopener noreferrer\" target=\"_blank\">3352 Templeton Gap Road</a><br/> Colorado Springs, Co 80907<br/><a href=\"tal:17193745806\">719-374-5806</a><br/><a href=\"mailto:dueces@dwbbrewery.com\">dueces@dwbbrewery.com</a></p></div></div><div class=\"et_pb_module et_pb_text et_pb_text_16 et_pb_text_align_left et_pb_bg_layout_light\"><div class=\"et_pb_text_inner\"><p>Monday– Closed to make Damn Good Beer</p><p>Tuesday &amp; Wednesday: 3:00pm-8:00pm</p><p>Thursday- 3:00pm-9:00pm</p><p>Friday &amp; Saturday- 12:00pm-10:00pm</p><p>Sunday: 11:00am – 6:00pm</p></div></div><ul class=\"et_pb_module et_pb_social_media_follow et_pb_social_media_follow_1 clearfix et_pb_bg_layout_light\"><li class=\"et_pb_social_media_follow_network_3 et_pb_social_icon et_pb_social_network_link et-social-facebook et_pb_social_media_follow_network_3\"><a class=\"icon et_pb_with_border\" href=\"https://www.facebook.com/dwbontapattgap\" target=\"_blank\" title=\"Follow on Facebook\"><span aria-hidden=\"true\" class=\"et_pb_social_media_follow_network_name\">Follow</span></a></li><li class=\"et_pb_social_media_follow_network_4 et_pb_social_icon et_pb_social_network_link et-social-twitter et_pb_social_media_follow_network_4\"><a class=\"icon et_pb_with_border\" href=\"https://www.twitter.com/dwbbrewery/\" target=\"_blank\" title=\"Follow on Twitter\"><span aria-hidden=\"true\" class=\"et_pb_social_media_follow_network_name\">Follow</span></a></li><li class=\"et_pb_social_media_follow_network_5 et_pb_social_icon et_pb_social_network_link et-social-instagram et_pb_social_media_follow_network_5\"><a class=\"icon et_pb_with_border\" href=\"https://www.instagram.com/dwbontap/\" target=\"_blank\" title=\"Follow on Instagram\"><span aria-hidden=\"true\" class=\"et_pb_social_media_follow_network_name\">Follow</span></a></li></ul></div>,\n",
       " <div class=\"et_pb_module et_pb_text et_pb_text_11 et_pb_text_align_left et_pb_bg_layout_light\"><div class=\"et_pb_text_inner\"><h2>FIND US</h2></div></div>,\n",
       " <div class=\"et_pb_text_inner\"><h2>FIND US</h2></div>,\n",
       " <div class=\"et_pb_module et_pb_image et_pb_image_3\"> <span class=\"et_pb_image_wrap has-box-shadow-overlay\"><div class=\"box-shadow-overlay\"></div><img alt=\"\" class=\"wp-image-17\" height=\"199\" loading=\"lazy\" src=\"https://dwbbrewery.com/wp-content/uploads/2019/01/dwbboxandbeer-300x199.jpg\" title=\"\" width=\"300\"/></span></div>,\n",
       " <div class=\"box-shadow-overlay\"></div>,\n",
       " <div class=\"et_pb_with_border et_pb_module et_pb_text et_pb_text_12 et_pb_text_align_left et_pb_bg_layout_light\"><div class=\"et_pb_text_inner\"><p>Locations &amp; Hours</p></div></div>,\n",
       " <div class=\"et_pb_text_inner\"><p>Locations &amp; Hours</p></div>,\n",
       " <div class=\"et_pb_module et_pb_text et_pb_text_13 et_pb_text_align_left et_pb_bg_layout_light\"><div class=\"et_pb_text_inner\"><p><a href=\"https://www.google.com/maps/place/660+Peterson+Rd,+Colorado+Springs,+CO+80915/@38.8414842,-104.7046135,17z/data=!3m1!4b1!4m5!3m4!1s0x871347aa4f8fb193:0x8761831727a0fddc!8m2!3d38.8414842!4d-104.7024248\" rel=\"noopener noreferrer\" target=\"_blank\">660 Peterson Road</a><br/> Colorado Springs, Co 80915<br/> <a href=\"tel:1-719-394-4811\">(719)394-4811</a><br/> <a href=\"mailto:dueces@dwbbrewery.com\">dueces@dwbbrewery.com</a></p></div></div>,\n",
       " <div class=\"et_pb_text_inner\"><p><a href=\"https://www.google.com/maps/place/660+Peterson+Rd,+Colorado+Springs,+CO+80915/@38.8414842,-104.7046135,17z/data=!3m1!4b1!4m5!3m4!1s0x871347aa4f8fb193:0x8761831727a0fddc!8m2!3d38.8414842!4d-104.7024248\" rel=\"noopener noreferrer\" target=\"_blank\">660 Peterson Road</a><br/> Colorado Springs, Co 80915<br/> <a href=\"tel:1-719-394-4811\">(719)394-4811</a><br/> <a href=\"mailto:dueces@dwbbrewery.com\">dueces@dwbbrewery.com</a></p></div>,\n",
       " <div class=\"et_pb_module et_pb_text et_pb_text_14 et_pb_text_align_left et_pb_bg_layout_light\"><div class=\"et_pb_text_inner\"><p>Monday – Closed to make Damn Good Beer</p><p>Tuesday-Wednesday 3pm-8pm</p><p>Thursday- 3:00pm-9:00pm</p><p>Friday- 12pm-10pm</p><p>Saturday-12:00pm-10:00pm</p><p>Sunday: 11:00am–6:00pm</p></div></div>,\n",
       " <div class=\"et_pb_text_inner\"><p>Monday – Closed to make Damn Good Beer</p><p>Tuesday-Wednesday 3pm-8pm</p><p>Thursday- 3:00pm-9:00pm</p><p>Friday- 12pm-10pm</p><p>Saturday-12:00pm-10:00pm</p><p>Sunday: 11:00am–6:00pm</p></div>,\n",
       " <div class=\"et_pb_module et_pb_text et_pb_text_15 et_pb_text_align_left et_pb_bg_layout_light\"><div class=\"et_pb_text_inner\"><p><a href=\"https://www.google.com/maps/place/3352+Templeton+Gap+Rd,+Colorado+Springs,+CO+80907/@38.8785326,-104.7971843,17z/data=!3m1!4b1!4m5!3m4!1s0x87134f7a75168e51:0x127b95a55f919551!8m2!3d38.8785326!4d-104.7949956\" rel=\"noopener noreferrer\" target=\"_blank\">3352 Templeton Gap Road</a><br/> Colorado Springs, Co 80907<br/><a href=\"tal:17193745806\">719-374-5806</a><br/><a href=\"mailto:dueces@dwbbrewery.com\">dueces@dwbbrewery.com</a></p></div></div>,\n",
       " <div class=\"et_pb_text_inner\"><p><a href=\"https://www.google.com/maps/place/3352+Templeton+Gap+Rd,+Colorado+Springs,+CO+80907/@38.8785326,-104.7971843,17z/data=!3m1!4b1!4m5!3m4!1s0x87134f7a75168e51:0x127b95a55f919551!8m2!3d38.8785326!4d-104.7949956\" rel=\"noopener noreferrer\" target=\"_blank\">3352 Templeton Gap Road</a><br/> Colorado Springs, Co 80907<br/><a href=\"tal:17193745806\">719-374-5806</a><br/><a href=\"mailto:dueces@dwbbrewery.com\">dueces@dwbbrewery.com</a></p></div>,\n",
       " <div class=\"et_pb_module et_pb_text et_pb_text_16 et_pb_text_align_left et_pb_bg_layout_light\"><div class=\"et_pb_text_inner\"><p>Monday– Closed to make Damn Good Beer</p><p>Tuesday &amp; Wednesday: 3:00pm-8:00pm</p><p>Thursday- 3:00pm-9:00pm</p><p>Friday &amp; Saturday- 12:00pm-10:00pm</p><p>Sunday: 11:00am – 6:00pm</p></div></div>,\n",
       " <div class=\"et_pb_text_inner\"><p>Monday– Closed to make Damn Good Beer</p><p>Tuesday &amp; Wednesday: 3:00pm-8:00pm</p><p>Thursday- 3:00pm-9:00pm</p><p>Friday &amp; Saturday- 12:00pm-10:00pm</p><p>Sunday: 11:00am – 6:00pm</p></div>,\n",
       " <div class=\"et_pb_column et_pb_column_3_5 et_pb_column_12 et_pb_css_mix_blend_mode_passthrough et-last-child\"><div class=\"et_pb_module et_pb_image et_pb_image_4 et_animated et-waypoint\"> <span class=\"et_pb_image_wrap\"><img alt=\"\" class=\"wp-image-18\" height=\"300\" loading=\"lazy\" sizes=\"(max-width: 300px) 100vw, 300px\" src=\"https://dwbbrewery.com/wp-content/uploads/2019/01/DWB-Barrel2.jpg-300x300.png\" srcset=\"https://dwbbrewery.com/wp-content/uploads/2019/01/DWB-Barrel2.jpg-300x300.png 300w, https://dwbbrewery.com/wp-content/uploads/2019/01/DWB-Barrel2.jpg-300x300-100x100.png 100w, https://dwbbrewery.com/wp-content/uploads/2019/01/DWB-Barrel2.jpg-300x300-150x150.png 150w\" title=\"\" width=\"300\"/></span></div><div class=\"et_pb_module et_pb_divider_12 et_pb_space et_pb_divider_hidden\"><div class=\"et_pb_divider_internal\"></div></div><div class=\"et_pb_module et_pb_text et_pb_text_17 et_pb_text_align_left et_pb_bg_layout_light\"><div class=\"et_pb_text_inner\"><h3>WE BELIEVE IN FRIENDS, FAMILY, AND DAMN GOOD BEER!</h3></div></div><div class=\"et_pb_module et_pb_text et_pb_text_18 et_pb_text_align_left et_pb_bg_layout_light\"><div class=\"et_pb_text_inner\"><p>Dueces Wild Brewery (DWB) is a veteran owned and operated craft brewery. We are strong supporters of our military, and first responder community and to say thanks we offer them a 10% discount on all pints for them. Our ambition is to brew high quality beer, support the local economy, and present a clean and friendly social environment for family and friends. We strive to make a well balanced selection of beers that everyone would enjoy. One taste of our beer and you’ll understand why Dueces Wild has quickly become one of Colorado Springs favorite breweries.</p><p>Although we are new to the craft beer community and only recently opened our doors in February of 2018, the team at DWB brings over 20 years of brewing experience to over 20 different and unique recipes for your drinking pleasure. Dueces operates on a state of the art 10 barrel Alpha brewing system which helps ensure the quality of beer is always consistent.</p></div></div></div>,\n",
       " <div class=\"et_pb_module et_pb_image et_pb_image_4 et_animated et-waypoint\"> <span class=\"et_pb_image_wrap\"><img alt=\"\" class=\"wp-image-18\" height=\"300\" loading=\"lazy\" sizes=\"(max-width: 300px) 100vw, 300px\" src=\"https://dwbbrewery.com/wp-content/uploads/2019/01/DWB-Barrel2.jpg-300x300.png\" srcset=\"https://dwbbrewery.com/wp-content/uploads/2019/01/DWB-Barrel2.jpg-300x300.png 300w, https://dwbbrewery.com/wp-content/uploads/2019/01/DWB-Barrel2.jpg-300x300-100x100.png 100w, https://dwbbrewery.com/wp-content/uploads/2019/01/DWB-Barrel2.jpg-300x300-150x150.png 150w\" title=\"\" width=\"300\"/></span></div>,\n",
       " <div class=\"et_pb_module et_pb_divider_12 et_pb_space et_pb_divider_hidden\"><div class=\"et_pb_divider_internal\"></div></div>,\n",
       " <div class=\"et_pb_divider_internal\"></div>,\n",
       " <div class=\"et_pb_module et_pb_text et_pb_text_17 et_pb_text_align_left et_pb_bg_layout_light\"><div class=\"et_pb_text_inner\"><h3>WE BELIEVE IN FRIENDS, FAMILY, AND DAMN GOOD BEER!</h3></div></div>,\n",
       " <div class=\"et_pb_text_inner\"><h3>WE BELIEVE IN FRIENDS, FAMILY, AND DAMN GOOD BEER!</h3></div>,\n",
       " <div class=\"et_pb_module et_pb_text et_pb_text_18 et_pb_text_align_left et_pb_bg_layout_light\"><div class=\"et_pb_text_inner\"><p>Dueces Wild Brewery (DWB) is a veteran owned and operated craft brewery. We are strong supporters of our military, and first responder community and to say thanks we offer them a 10% discount on all pints for them. Our ambition is to brew high quality beer, support the local economy, and present a clean and friendly social environment for family and friends. We strive to make a well balanced selection of beers that everyone would enjoy. One taste of our beer and you’ll understand why Dueces Wild has quickly become one of Colorado Springs favorite breweries.</p><p>Although we are new to the craft beer community and only recently opened our doors in February of 2018, the team at DWB brings over 20 years of brewing experience to over 20 different and unique recipes for your drinking pleasure. Dueces operates on a state of the art 10 barrel Alpha brewing system which helps ensure the quality of beer is always consistent.</p></div></div>,\n",
       " <div class=\"et_pb_text_inner\"><p>Dueces Wild Brewery (DWB) is a veteran owned and operated craft brewery. We are strong supporters of our military, and first responder community and to say thanks we offer them a 10% discount on all pints for them. Our ambition is to brew high quality beer, support the local economy, and present a clean and friendly social environment for family and friends. We strive to make a well balanced selection of beers that everyone would enjoy. One taste of our beer and you’ll understand why Dueces Wild has quickly become one of Colorado Springs favorite breweries.</p><p>Although we are new to the craft beer community and only recently opened our doors in February of 2018, the team at DWB brings over 20 years of brewing experience to over 20 different and unique recipes for your drinking pleasure. Dueces operates on a state of the art 10 barrel Alpha brewing system which helps ensure the quality of beer is always consistent.</p></div>,\n",
       " <div class=\"et_pb_row et_pb_row_6 et_pb_equal_columns\"><div class=\"et_pb_column et_pb_column_1_3 et_pb_column_13 et_pb_css_mix_blend_mode_passthrough\"><div class=\"et_pb_module et_pb_cta_0 et_pb_promo et_pb_text_align_center et_pb_bg_layout_dark\"><div class=\"et_pb_promo_description\"><h2 class=\"et_pb_module_header\">SAISON W/ LEMON GRASS AND GRAINS OF PARADISE</h2><div><p><span>Lemony with a hint of white pepper</span></p><div dir=\"auto\">5.1% ABV, 15 IBU</div><div dir=\"auto\"></div><div dir=\"auto\"></div><div dir=\"auto\"></div><div dir=\"auto\"></div><div dir=\"auto\"></div><div dir=\"auto\"></div><div dir=\"auto\"></div><div dir=\"auto\"><img alt=\"\" class=\"wp-image-3551 alignnone size-medium\" height=\"229\" loading=\"lazy\" src=\"https://dwbbrewery.com/wp-content/uploads/2021/09/DWB-Logo-0418-Digital-300x229.jpg\" width=\"300\"/></div></div></div></div></div><div class=\"et_pb_column et_pb_column_1_3 et_pb_column_14 et_pb_css_mix_blend_mode_passthrough\"><div class=\"et_pb_module et_pb_cta_1 et_pb_promo et_pb_text_align_center et_pb_bg_layout_dark\"><div class=\"et_pb_promo_description\"><h2 class=\"et_pb_module_header\">PURE MORNING - PALE ALE.</h2><div><p>Light to medium body, citrusy</p><p class=\"p1\">5% ABV, 35IBU Hops: Citra</p><p class=\"p1\"><p class=\"p1\"><p class=\"p1\"><p class=\"p1\"><p class=\"p1\"><p class=\"p1\"><p class=\"p1\"><p class=\"p1\"><p class=\"p1\"><p class=\"p1\"><p class=\"p1\"><p class=\"p1\"><p class=\"p1\"><p class=\"p1\"><p class=\"p1\"></p></p></p></p></p></p></p></p></p></p></p></p></p></p></p></div></div></div><div class=\"et_pb_module et_pb_cta_2 et_pb_promo et_pb_text_align_center et_pb_bg_layout_dark\"><div class=\"et_pb_promo_description\"><h2 class=\"et_pb_module_header\">FUNKY GNOME- BELGIAN PALE ALE</h2><div><p class=\"p1\">A traditional Belgian style Pale Ale brewed with German and American hops that closely replicate the Noble hops used in these beers. Spicy aromas and flavors of the hops along with clove and banana esters. Light toast Jessica and fruit flavors carry through to the finish. A great beer for Summer.</p><p class=\"p1\">5.3% ABV 25 IBU Hops: German Northern Brewer, Sterling.</p><p class=\"p1\"><img alt=\"\" class=\"wp-image-1839 alignnone size-medium\" height=\"300\" loading=\"lazy\" src=\"https://dwbbrewery.com/wp-content/uploads/2019/09/funkygnome_tiny-225x300.jpeg\" width=\"225\"/></p><p class=\"p2\"></p></div></div></div><div class=\"et_pb_module et_pb_cta_3 et_pb_promo et_pb_text_align_center et_pb_bg_layout_dark\"><div class=\"et_pb_promo_description\"><h2 class=\"et_pb_module_header\">FUNKY GNOME- BELGIAN PALE ALE</h2><div><p class=\"p1\">A traditional Belgian style Pale Ale brewed with German and American hops that closely replicate the Noble hops used in these beers. Spicy aromas and flavors of the hops along with clove and banana esters. Light toast Jessica and fruit flavors carry through to the finish. A great beer for Summer.</p><p class=\"p1\">5.3% ABV 25 IBU Hops: German Northern Brewer, Sterling.</p><p class=\"p1\"><img alt=\"\" class=\"wp-image-1839 alignnone size-medium\" height=\"300\" loading=\"lazy\" src=\"https://dwbbrewery.com/wp-content/uploads/2019/09/funkygnome_tiny-225x300.jpeg\" width=\"225\"/></p><p class=\"p2\"></p></div></div></div></div><div class=\"et_pb_column et_pb_column_1_3 et_pb_column_15 et_pb_css_mix_blend_mode_passthrough et-last-child et_pb_column_empty\"></div></div>,\n",
       " <div class=\"et_pb_column et_pb_column_1_3 et_pb_column_13 et_pb_css_mix_blend_mode_passthrough\"><div class=\"et_pb_module et_pb_cta_0 et_pb_promo et_pb_text_align_center et_pb_bg_layout_dark\"><div class=\"et_pb_promo_description\"><h2 class=\"et_pb_module_header\">SAISON W/ LEMON GRASS AND GRAINS OF PARADISE</h2><div><p><span>Lemony with a hint of white pepper</span></p><div dir=\"auto\">5.1% ABV, 15 IBU</div><div dir=\"auto\"></div><div dir=\"auto\"></div><div dir=\"auto\"></div><div dir=\"auto\"></div><div dir=\"auto\"></div><div dir=\"auto\"></div><div dir=\"auto\"></div><div dir=\"auto\"><img alt=\"\" class=\"wp-image-3551 alignnone size-medium\" height=\"229\" loading=\"lazy\" src=\"https://dwbbrewery.com/wp-content/uploads/2021/09/DWB-Logo-0418-Digital-300x229.jpg\" width=\"300\"/></div></div></div></div></div>,\n",
       " <div class=\"et_pb_module et_pb_cta_0 et_pb_promo et_pb_text_align_center et_pb_bg_layout_dark\"><div class=\"et_pb_promo_description\"><h2 class=\"et_pb_module_header\">SAISON W/ LEMON GRASS AND GRAINS OF PARADISE</h2><div><p><span>Lemony with a hint of white pepper</span></p><div dir=\"auto\">5.1% ABV, 15 IBU</div><div dir=\"auto\"></div><div dir=\"auto\"></div><div dir=\"auto\"></div><div dir=\"auto\"></div><div dir=\"auto\"></div><div dir=\"auto\"></div><div dir=\"auto\"></div><div dir=\"auto\"><img alt=\"\" class=\"wp-image-3551 alignnone size-medium\" height=\"229\" loading=\"lazy\" src=\"https://dwbbrewery.com/wp-content/uploads/2021/09/DWB-Logo-0418-Digital-300x229.jpg\" width=\"300\"/></div></div></div></div>,\n",
       " <div class=\"et_pb_promo_description\"><h2 class=\"et_pb_module_header\">SAISON W/ LEMON GRASS AND GRAINS OF PARADISE</h2><div><p><span>Lemony with a hint of white pepper</span></p><div dir=\"auto\">5.1% ABV, 15 IBU</div><div dir=\"auto\"></div><div dir=\"auto\"></div><div dir=\"auto\"></div><div dir=\"auto\"></div><div dir=\"auto\"></div><div dir=\"auto\"></div><div dir=\"auto\"></div><div dir=\"auto\"><img alt=\"\" class=\"wp-image-3551 alignnone size-medium\" height=\"229\" loading=\"lazy\" src=\"https://dwbbrewery.com/wp-content/uploads/2021/09/DWB-Logo-0418-Digital-300x229.jpg\" width=\"300\"/></div></div></div>,\n",
       " <div><p><span>Lemony with a hint of white pepper</span></p><div dir=\"auto\">5.1% ABV, 15 IBU</div><div dir=\"auto\"></div><div dir=\"auto\"></div><div dir=\"auto\"></div><div dir=\"auto\"></div><div dir=\"auto\"></div><div dir=\"auto\"></div><div dir=\"auto\"></div><div dir=\"auto\"><img alt=\"\" class=\"wp-image-3551 alignnone size-medium\" height=\"229\" loading=\"lazy\" src=\"https://dwbbrewery.com/wp-content/uploads/2021/09/DWB-Logo-0418-Digital-300x229.jpg\" width=\"300\"/></div></div>,\n",
       " <div dir=\"auto\">5.1% ABV, 15 IBU</div>,\n",
       " <div dir=\"auto\"></div>,\n",
       " <div dir=\"auto\"></div>,\n",
       " <div dir=\"auto\"></div>,\n",
       " <div dir=\"auto\"></div>,\n",
       " <div dir=\"auto\"></div>,\n",
       " <div dir=\"auto\"></div>,\n",
       " <div dir=\"auto\"></div>,\n",
       " <div dir=\"auto\"><img alt=\"\" class=\"wp-image-3551 alignnone size-medium\" height=\"229\" loading=\"lazy\" src=\"https://dwbbrewery.com/wp-content/uploads/2021/09/DWB-Logo-0418-Digital-300x229.jpg\" width=\"300\"/></div>,\n",
       " <div class=\"et_pb_column et_pb_column_1_3 et_pb_column_14 et_pb_css_mix_blend_mode_passthrough\"><div class=\"et_pb_module et_pb_cta_1 et_pb_promo et_pb_text_align_center et_pb_bg_layout_dark\"><div class=\"et_pb_promo_description\"><h2 class=\"et_pb_module_header\">PURE MORNING - PALE ALE.</h2><div><p>Light to medium body, citrusy</p><p class=\"p1\">5% ABV, 35IBU Hops: Citra</p><p class=\"p1\"><p class=\"p1\"><p class=\"p1\"><p class=\"p1\"><p class=\"p1\"><p class=\"p1\"><p class=\"p1\"><p class=\"p1\"><p class=\"p1\"><p class=\"p1\"><p class=\"p1\"><p class=\"p1\"><p class=\"p1\"><p class=\"p1\"><p class=\"p1\"></p></p></p></p></p></p></p></p></p></p></p></p></p></p></p></div></div></div><div class=\"et_pb_module et_pb_cta_2 et_pb_promo et_pb_text_align_center et_pb_bg_layout_dark\"><div class=\"et_pb_promo_description\"><h2 class=\"et_pb_module_header\">FUNKY GNOME- BELGIAN PALE ALE</h2><div><p class=\"p1\">A traditional Belgian style Pale Ale brewed with German and American hops that closely replicate the Noble hops used in these beers. Spicy aromas and flavors of the hops along with clove and banana esters. Light toast Jessica and fruit flavors carry through to the finish. A great beer for Summer.</p><p class=\"p1\">5.3% ABV 25 IBU Hops: German Northern Brewer, Sterling.</p><p class=\"p1\"><img alt=\"\" class=\"wp-image-1839 alignnone size-medium\" height=\"300\" loading=\"lazy\" src=\"https://dwbbrewery.com/wp-content/uploads/2019/09/funkygnome_tiny-225x300.jpeg\" width=\"225\"/></p><p class=\"p2\"></p></div></div></div><div class=\"et_pb_module et_pb_cta_3 et_pb_promo et_pb_text_align_center et_pb_bg_layout_dark\"><div class=\"et_pb_promo_description\"><h2 class=\"et_pb_module_header\">FUNKY GNOME- BELGIAN PALE ALE</h2><div><p class=\"p1\">A traditional Belgian style Pale Ale brewed with German and American hops that closely replicate the Noble hops used in these beers. Spicy aromas and flavors of the hops along with clove and banana esters. Light toast Jessica and fruit flavors carry through to the finish. A great beer for Summer.</p><p class=\"p1\">5.3% ABV 25 IBU Hops: German Northern Brewer, Sterling.</p><p class=\"p1\"><img alt=\"\" class=\"wp-image-1839 alignnone size-medium\" height=\"300\" loading=\"lazy\" src=\"https://dwbbrewery.com/wp-content/uploads/2019/09/funkygnome_tiny-225x300.jpeg\" width=\"225\"/></p><p class=\"p2\"></p></div></div></div></div>,\n",
       " <div class=\"et_pb_module et_pb_cta_1 et_pb_promo et_pb_text_align_center et_pb_bg_layout_dark\"><div class=\"et_pb_promo_description\"><h2 class=\"et_pb_module_header\">PURE MORNING - PALE ALE.</h2><div><p>Light to medium body, citrusy</p><p class=\"p1\">5% ABV, 35IBU Hops: Citra</p><p class=\"p1\"><p class=\"p1\"><p class=\"p1\"><p class=\"p1\"><p class=\"p1\"><p class=\"p1\"><p class=\"p1\"><p class=\"p1\"><p class=\"p1\"><p class=\"p1\"><p class=\"p1\"><p class=\"p1\"><p class=\"p1\"><p class=\"p1\"><p class=\"p1\"></p></p></p></p></p></p></p></p></p></p></p></p></p></p></p></div></div></div>,\n",
       " <div class=\"et_pb_promo_description\"><h2 class=\"et_pb_module_header\">PURE MORNING - PALE ALE.</h2><div><p>Light to medium body, citrusy</p><p class=\"p1\">5% ABV, 35IBU Hops: Citra</p><p class=\"p1\"><p class=\"p1\"><p class=\"p1\"><p class=\"p1\"><p class=\"p1\"><p class=\"p1\"><p class=\"p1\"><p class=\"p1\"><p class=\"p1\"><p class=\"p1\"><p class=\"p1\"><p class=\"p1\"><p class=\"p1\"><p class=\"p1\"><p class=\"p1\"></p></p></p></p></p></p></p></p></p></p></p></p></p></p></p></div></div>,\n",
       " <div><p>Light to medium body, citrusy</p><p class=\"p1\">5% ABV, 35IBU Hops: Citra</p><p class=\"p1\"><p class=\"p1\"><p class=\"p1\"><p class=\"p1\"><p class=\"p1\"><p class=\"p1\"><p class=\"p1\"><p class=\"p1\"><p class=\"p1\"><p class=\"p1\"><p class=\"p1\"><p class=\"p1\"><p class=\"p1\"><p class=\"p1\"><p class=\"p1\"></p></p></p></p></p></p></p></p></p></p></p></p></p></p></p></div>,\n",
       " <div class=\"et_pb_module et_pb_cta_2 et_pb_promo et_pb_text_align_center et_pb_bg_layout_dark\"><div class=\"et_pb_promo_description\"><h2 class=\"et_pb_module_header\">FUNKY GNOME- BELGIAN PALE ALE</h2><div><p class=\"p1\">A traditional Belgian style Pale Ale brewed with German and American hops that closely replicate the Noble hops used in these beers. Spicy aromas and flavors of the hops along with clove and banana esters. Light toast Jessica and fruit flavors carry through to the finish. A great beer for Summer.</p><p class=\"p1\">5.3% ABV 25 IBU Hops: German Northern Brewer, Sterling.</p><p class=\"p1\"><img alt=\"\" class=\"wp-image-1839 alignnone size-medium\" height=\"300\" loading=\"lazy\" src=\"https://dwbbrewery.com/wp-content/uploads/2019/09/funkygnome_tiny-225x300.jpeg\" width=\"225\"/></p><p class=\"p2\"></p></div></div></div>,\n",
       " <div class=\"et_pb_promo_description\"><h2 class=\"et_pb_module_header\">FUNKY GNOME- BELGIAN PALE ALE</h2><div><p class=\"p1\">A traditional Belgian style Pale Ale brewed with German and American hops that closely replicate the Noble hops used in these beers. Spicy aromas and flavors of the hops along with clove and banana esters. Light toast Jessica and fruit flavors carry through to the finish. A great beer for Summer.</p><p class=\"p1\">5.3% ABV 25 IBU Hops: German Northern Brewer, Sterling.</p><p class=\"p1\"><img alt=\"\" class=\"wp-image-1839 alignnone size-medium\" height=\"300\" loading=\"lazy\" src=\"https://dwbbrewery.com/wp-content/uploads/2019/09/funkygnome_tiny-225x300.jpeg\" width=\"225\"/></p><p class=\"p2\"></p></div></div>,\n",
       " <div><p class=\"p1\">A traditional Belgian style Pale Ale brewed with German and American hops that closely replicate the Noble hops used in these beers. Spicy aromas and flavors of the hops along with clove and banana esters. Light toast Jessica and fruit flavors carry through to the finish. A great beer for Summer.</p><p class=\"p1\">5.3% ABV 25 IBU Hops: German Northern Brewer, Sterling.</p><p class=\"p1\"><img alt=\"\" class=\"wp-image-1839 alignnone size-medium\" height=\"300\" loading=\"lazy\" src=\"https://dwbbrewery.com/wp-content/uploads/2019/09/funkygnome_tiny-225x300.jpeg\" width=\"225\"/></p><p class=\"p2\"></p></div>,\n",
       " <div class=\"et_pb_module et_pb_cta_3 et_pb_promo et_pb_text_align_center et_pb_bg_layout_dark\"><div class=\"et_pb_promo_description\"><h2 class=\"et_pb_module_header\">FUNKY GNOME- BELGIAN PALE ALE</h2><div><p class=\"p1\">A traditional Belgian style Pale Ale brewed with German and American hops that closely replicate the Noble hops used in these beers. Spicy aromas and flavors of the hops along with clove and banana esters. Light toast Jessica and fruit flavors carry through to the finish. A great beer for Summer.</p><p class=\"p1\">5.3% ABV 25 IBU Hops: German Northern Brewer, Sterling.</p><p class=\"p1\"><img alt=\"\" class=\"wp-image-1839 alignnone size-medium\" height=\"300\" loading=\"lazy\" src=\"https://dwbbrewery.com/wp-content/uploads/2019/09/funkygnome_tiny-225x300.jpeg\" width=\"225\"/></p><p class=\"p2\"></p></div></div></div>,\n",
       " <div class=\"et_pb_promo_description\"><h2 class=\"et_pb_module_header\">FUNKY GNOME- BELGIAN PALE ALE</h2><div><p class=\"p1\">A traditional Belgian style Pale Ale brewed with German and American hops that closely replicate the Noble hops used in these beers. Spicy aromas and flavors of the hops along with clove and banana esters. Light toast Jessica and fruit flavors carry through to the finish. A great beer for Summer.</p><p class=\"p1\">5.3% ABV 25 IBU Hops: German Northern Brewer, Sterling.</p><p class=\"p1\"><img alt=\"\" class=\"wp-image-1839 alignnone size-medium\" height=\"300\" loading=\"lazy\" src=\"https://dwbbrewery.com/wp-content/uploads/2019/09/funkygnome_tiny-225x300.jpeg\" width=\"225\"/></p><p class=\"p2\"></p></div></div>,\n",
       " <div><p class=\"p1\">A traditional Belgian style Pale Ale brewed with German and American hops that closely replicate the Noble hops used in these beers. Spicy aromas and flavors of the hops along with clove and banana esters. Light toast Jessica and fruit flavors carry through to the finish. A great beer for Summer.</p><p class=\"p1\">5.3% ABV 25 IBU Hops: German Northern Brewer, Sterling.</p><p class=\"p1\"><img alt=\"\" class=\"wp-image-1839 alignnone size-medium\" height=\"300\" loading=\"lazy\" src=\"https://dwbbrewery.com/wp-content/uploads/2019/09/funkygnome_tiny-225x300.jpeg\" width=\"225\"/></p><p class=\"p2\"></p></div>,\n",
       " <div class=\"et_pb_column et_pb_column_1_3 et_pb_column_15 et_pb_css_mix_blend_mode_passthrough et-last-child et_pb_column_empty\"></div>,\n",
       " <div id=\"et-footer-nav\"><div class=\"container\"><ul class=\"bottom-nav\" id=\"menu-footer\"><li class=\"menu-item menu-item-type-post_type menu-item-object-page menu-item-privacy-policy menu-item-796\" id=\"menu-item-796\"><a href=\"https://dwbbrewery.com/privacy-policy/\">Privacy Policy</a></li></ul></div></div>,\n",
       " <div class=\"container\"><ul class=\"bottom-nav\" id=\"menu-footer\"><li class=\"menu-item menu-item-type-post_type menu-item-object-page menu-item-privacy-policy menu-item-796\" id=\"menu-item-796\"><a href=\"https://dwbbrewery.com/privacy-policy/\">Privacy Policy</a></li></ul></div>,\n",
       " <div id=\"footer-bottom\"><div class=\"container clearfix\"><ul class=\"et-social-icons\"><li class=\"et-social-icon et-social-facebook\"> <a class=\"icon\" href=\"https://www.facebook.com/DWBbrewery/\"> <span>Facebook</span> </a></li><li class=\"et-social-icon et-social-twitter\"> <a class=\"icon\" href=\"https://www.twitter.com/dwbbrewery/\"> <span>Twitter</span> </a></li></ul><div id=\"footer-info\">All rights reserved © Dueces Wild Brewery</div></div></div>,\n",
       " <div class=\"container clearfix\"><ul class=\"et-social-icons\"><li class=\"et-social-icon et-social-facebook\"> <a class=\"icon\" href=\"https://www.facebook.com/DWBbrewery/\"> <span>Facebook</span> </a></li><li class=\"et-social-icon et-social-twitter\"> <a class=\"icon\" href=\"https://www.twitter.com/dwbbrewery/\"> <span>Twitter</span> </a></li></ul><div id=\"footer-info\">All rights reserved © Dueces Wild Brewery</div></div>,\n",
       " <div id=\"footer-info\">All rights reserved © Dueces Wild Brewery</div>]"
      ]
     },
     "execution_count": 12,
     "metadata": {},
     "output_type": "execute_result"
    }
   ],
   "source": [
    "div_tags"
   ]
  },
  {
   "cell_type": "code",
   "execution_count": 13,
   "metadata": {},
   "outputs": [],
   "source": [
    "selection_class = 'et_pb_text_inner'"
   ]
  },
  {
   "cell_type": "code",
   "execution_count": 14,
   "metadata": {},
   "outputs": [],
   "source": [
    "div_tags = soup.find_all('div', {'class': selection_class})"
   ]
  },
  {
   "cell_type": "code",
   "execution_count": 15,
   "metadata": {},
   "outputs": [
    {
     "data": {
      "text/plain": [
       "19"
      ]
     },
     "execution_count": 15,
     "metadata": {},
     "output_type": "execute_result"
    }
   ],
   "source": [
    "len(div_tags)"
   ]
  },
  {
   "cell_type": "code",
   "execution_count": 16,
   "metadata": {},
   "outputs": [
    {
     "data": {
      "text/plain": [
       "'Monday– Closed to make Damn Good BeerTuesday & Wednesday: 3:00pm-8:00pmThursday- 3:00pm-9:00pmFriday & Saturday- 12:00pm-10:00pmSunday: 11:00am – 6:00pm'"
      ]
     },
     "execution_count": 16,
     "metadata": {},
     "output_type": "execute_result"
    }
   ],
   "source": [
    "div_tags[16].text"
   ]
  },
  {
   "cell_type": "code",
   "execution_count": 17,
   "metadata": {},
   "outputs": [],
   "source": [
    "x = div_tags[16].text"
   ]
  },
  {
   "cell_type": "code",
   "execution_count": 18,
   "metadata": {},
   "outputs": [],
   "source": [
    "import re"
   ]
  },
  {
   "cell_type": "code",
   "execution_count": 19,
   "metadata": {},
   "outputs": [],
   "source": [
    "y = re.findall('^Monday– Closed to make Damn Good BeerTuesday & Wednesday: 3:00pm-8:00pmThursday- 3:00pm-9:00pmFriday & Saturday- ([0-9.]+)',x)"
   ]
  },
  {
   "cell_type": "code",
   "execution_count": 20,
   "metadata": {},
   "outputs": [
    {
     "data": {
      "text/plain": [
       "['12']"
      ]
     },
     "execution_count": 20,
     "metadata": {},
     "output_type": "execute_result"
    }
   ],
   "source": [
    "y"
   ]
  },
  {
   "cell_type": "code",
   "execution_count": 21,
   "metadata": {},
   "outputs": [],
   "source": [
    "y1 = re.findall('^Monday– Closed to make Damn Good BeerTuesday & Wednesday: 3:00pm-8:00pmThursday- 3:00pm-9:00pmFriday & Saturday- 12:00pm-([0-9.]+)',x)"
   ]
  },
  {
   "cell_type": "code",
   "execution_count": 22,
   "metadata": {},
   "outputs": [
    {
     "data": {
      "text/plain": [
       "['10']"
      ]
     },
     "execution_count": 22,
     "metadata": {},
     "output_type": "execute_result"
    }
   ],
   "source": [
    "y1"
   ]
  },
  {
   "cell_type": "code",
   "execution_count": 23,
   "metadata": {},
   "outputs": [],
   "source": [
    "cerberus_url = 'https://www.cerberusbrewingco.com/'"
   ]
  },
  {
   "cell_type": "code",
   "execution_count": 24,
   "metadata": {},
   "outputs": [],
   "source": [
    "response2 = requests.get(cerberus_url)"
   ]
  },
  {
   "cell_type": "code",
   "execution_count": 25,
   "metadata": {},
   "outputs": [
    {
     "data": {
      "text/plain": [
       "200"
      ]
     },
     "execution_count": 25,
     "metadata": {},
     "output_type": "execute_result"
    }
   ],
   "source": [
    "response2.status_code"
   ]
  },
  {
   "cell_type": "code",
   "execution_count": 26,
   "metadata": {},
   "outputs": [],
   "source": [
    "cerberuspage_contents = response2.text"
   ]
  },
  {
   "cell_type": "code",
   "execution_count": 27,
   "metadata": {},
   "outputs": [],
   "source": [
    "cerberus = BeautifulSoup(cerberuspage_contents, 'html.parser')"
   ]
  },
  {
   "cell_type": "code",
   "execution_count": 28,
   "metadata": {},
   "outputs": [],
   "source": [
    "cerberus_div_tags = cerberus.find_all('div')"
   ]
  },
  {
   "cell_type": "code",
   "execution_count": 29,
   "metadata": {},
   "outputs": [
    {
     "data": {
      "text/plain": [
       "67"
      ]
     },
     "execution_count": 29,
     "metadata": {},
     "output_type": "execute_result"
    }
   ],
   "source": [
    "len(cerberus_div_tags)"
   ]
  },
  {
   "cell_type": "code",
   "execution_count": 30,
   "metadata": {},
   "outputs": [
    {
     "data": {
      "text/plain": [
       "[<div class=\"body-wrap\">\n",
       " <div id=\"header\">\n",
       " <div class=\"nav-trigger hamburger\">\n",
       " <div class=\"open-btn\">\n",
       " <span class=\"mobile\"></span>\n",
       " <span class=\"mobile\"></span>\n",
       " <span class=\"mobile\"></span>\n",
       " </div>\n",
       " </div>\n",
       " <div id=\"sitename\"><span class=\"wsite-logo\">\n",
       " <span class=\"wsite-title-placeholder\"> </span><span style=\"display:none\">\n",
       " <span style=\"display:none\">Cerberus Menus</span>\n",
       " </span>\n",
       " </span></div>\n",
       " </div>\n",
       " <div id=\"wrapper\">\n",
       " <div class=\"bg-wrapper\">\n",
       " <div id=\"navigation\"><ul class=\"wsite-menu-default\">\n",
       " <li class=\"wsite-menu-item-wrap\" id=\"active\">\n",
       " <a class=\"wsite-menu-item\" href=\"/\">\n",
       " \t\t\t\tHome\n",
       " \t\t\t</a>\n",
       " </li>\n",
       " <li class=\"wsite-menu-item-wrap\" id=\"pg667776375114577416\">\n",
       " <a class=\"wsite-menu-item\" href=\"/beer.html\">\n",
       " \t\t\t\tBeer\n",
       " \t\t\t</a>\n",
       " </li>\n",
       " <li class=\"wsite-menu-item-wrap\" id=\"pg319834714943881369\">\n",
       " <a class=\"wsite-menu-item\" href=\"/food.html\">\n",
       " \t\t\t\tFood\n",
       " \t\t\t</a>\n",
       " </li>\n",
       " <li class=\"wsite-menu-item-wrap\" id=\"pg147623582379328503\">\n",
       " <a class=\"wsite-menu-item\" href=\"/cocktails--spirits.html\">\n",
       " \t\t\t\tCocktails &amp; Spirits\n",
       " \t\t\t</a>\n",
       " </li>\n",
       " <li class=\"wsite-menu-item-wrap\" id=\"pg269904402998175161\">\n",
       " <a class=\"wsite-menu-item\" href=\"/in-liquor-stores.html\">\n",
       " \t\t\t\tIn Liquor Stores\n",
       " \t\t\t</a>\n",
       " </li>\n",
       " <li class=\"wsite-menu-item-wrap\" id=\"pg732959169890805919\">\n",
       " <a class=\"wsite-menu-item\" href=\"/merchandise.html\">\n",
       " \t\t\t\tMerchandise\n",
       " \t\t\t</a>\n",
       " </li>\n",
       " <li class=\"wsite-menu-item-wrap\" id=\"pg276476473635494073\">\n",
       " <a class=\"wsite-menu-item\" href=\"/events.html\">\n",
       " \t\t\t\tEVENTS\n",
       " \t\t\t</a>\n",
       " </li>\n",
       " </ul>\n",
       " </div>\n",
       " <div class=\"banner-wrap\">\n",
       " <div class=\"wsite-elements wsite-not-footer wsite-header-elements\">\n",
       " <div class=\"wsite-section-wrap\">\n",
       " <div class=\"wsite-section wsite-header-section wsite-section-bg-image\" style='height: 400px;vertical-align: middle;background-image: url(\"/uploads/5/2/7/6/52768579/background-images/221026308.jpg\") ;background-repeat: no-repeat ;background-position: 50% 50% ;background-size: 100% ;background-color: transparent ;background-size: cover;'>\n",
       " <div class=\"wsite-section-content\">\n",
       " <div id=\"banner\">\n",
       " <div id=\"banner-container\">\n",
       " <div class=\"wsite-section-elements\">\n",
       " <div class=\"paragraph\" style=\"text-align:center;\"><font size=\"3\">WELCOME TO</font></div>\n",
       " <h2 class=\"wsite-content-title\" style=\"text-align:center;\">CERBERUS BREWING CO</h2>\n",
       " </div>\n",
       " </div>\n",
       " </div>\n",
       " </div>\n",
       " <div class=\"\"></div>\n",
       " </div>\n",
       " </div>\n",
       " </div>\n",
       " </div>\n",
       " <div id=\"content-wrapper\">\n",
       " <div class=\"wsite-elements wsite-not-footer\" id=\"wsite-content\">\n",
       " <div class=\"wsite-section-wrap\">\n",
       " <div class=\"wsite-section wsite-body-section wsite-background-1\">\n",
       " <div class=\"wsite-section-content\">\n",
       " <div class=\"container\">\n",
       " <div class=\"wsite-section-elements\">\n",
       " <div class=\"paragraph\" style=\"text-align:center;\"><span style=\"color:rgb(218, 68, 68)\">FOR MENUS ON MOBILE, CLICK ON THE THREE BARS IN THE UPPER LEFT CORNER</span><br/></div>\n",
       " <div style=\"text-align:center;\"><div style=\"height:10px;overflow:hidden\"></div>\n",
       " <span class=\"wsite-social wsite-social-default\"><a alt=\"Facebook\" aria-label=\"Facebook\" class=\"first-child wsite-social-item wsite-social-facebook\" href=\"https://www.facebook.com/cerberusbrewingco/\" target=\"_blank\"><span class=\"wsite-social-item-inner\"></span></a><a alt=\"Twitter\" aria-label=\"Twitter\" class=\"wsite-social-item wsite-social-twitter\" href=\"https://twitter.com/cerberusbrewing\" target=\"_blank\"><span class=\"wsite-social-item-inner\"></span></a><a alt=\"Instagram\" aria-label=\"Instagram\" class=\"last-child wsite-social-item wsite-social-instagram\" href=\"https://www.instagram.com/cerberusbrewingco/\" target=\"_blank\"><span class=\"wsite-social-item-inner\"></span></a></span>\n",
       " <div style=\"height:10px;overflow:hidden\"></div></div>\n",
       " <div class=\"paragraph\" style=\"text-align:center;\">EXECUTIVE CHEF: Evan Anderson<br/>HEAD BREWER: Troy Johnson<br/></div>\n",
       " <div><div class=\"wsite-image wsite-image-border-none\" style=\"padding-top:10px;padding-bottom:10px;margin-left:0px;margin-right:0px;text-align:center\">\n",
       " <a>\n",
       " <img alt=\"Picture\" src=\"/uploads/5/2/7/6/52768579/published/logo-certification-cbs.jpg?1636342415\" style=\"width:auto;max-width:100%\"/>\n",
       " </a>\n",
       " <div style=\"display:block;font-size:90%\">Ask us about beer!\n",
       " 100% of our Front of House staff are Cicerone Level 1 Certified.</div>\n",
       " </div></div>\n",
       " <div><div style=\"height: 20px; overflow: hidden; width: 100%;\"></div>\n",
       " <hr class=\"styled-hr\" style=\"width:100%;\"/>\n",
       " <div style=\"height: 20px; overflow: hidden; width: 100%;\"></div></div>\n",
       " <div class=\"wsite-spacer\" style=\"height:10px;\"></div>\n",
       " <h2 class=\"wsite-content-title\" style=\"text-align:center;\">Thanksgiving to go! <br/>​Order by Monday, Nov. 22 @ 2pm • 719-636-BEER</h2>\n",
       " <div class=\"paragraph\" style=\"text-align:center;\">Smoked Turkey • Stuffing Bread Pudding • Mashed Potatoes &amp; Gravy <br/>​• Roasted Brussels Sprouts • Cranberry Sauce<br/>PLUS a FREE CROWLER OF BEER</div>\n",
       " <div><div class=\"wsite-image wsite-image-border-none\" style=\"padding-top:10px;padding-bottom:10px;margin-left:0;margin-right:0;text-align:center\">\n",
       " <a>\n",
       " <img alt=\"Picture\" src=\"/uploads/5/2/7/6/52768579/published/we-give-thanks-for-you.png?1637169276\" style=\"width:361;max-width:100%\"/>\n",
       " </a>\n",
       " <div style=\"display:block;font-size:90%\"></div>\n",
       " </div></div>\n",
       " <div class=\"paragraph\" style=\"text-align:center;\"><span style=\"color:rgb(218, 68, 68)\"> CURRENTLY SERVING:</span><br/><span style=\"color:rgb(218, 68, 68)\">FULL MENU INSIDE, ON THE PATIO &amp; HEATED BEER GARDEN TENT</span><br/><br/><span style=\"color:rgb(218, 68, 68)\">Well behaved dogs always welcome in our outdoor spaces</span><br/><br/><span style=\"color:rgb(218, 68, 68)\">SUN-THURS 11AM-8PM • FRI &amp; SAT 11AM-9PM</span><br/><span style=\"color:rgb(218, 68, 68)\">702 W. COLORADO AVE • 719-636-2337</span><br/><a href=\"mailto:info@cerberusbrewingco.com\">info@cerberusbrewingco.com<br/>​</a><br/><span style=\"color:rgb(218, 68, 68)\">​ORDER TO GO ONLINE </span><a href=\"https://cerberus.alohaorderonline.com/\" target=\"_blank\">HERE</a><span style=\"color:rgb(218, 68, 68)\"> OR BY CALLING US</span></div>\n",
       " <div><div style=\"height: 20px; overflow: hidden; width: 100%;\"></div>\n",
       " <hr class=\"styled-hr\" style=\"width:100%;\"/>\n",
       " <div style=\"height: 20px; overflow: hidden; width: 100%;\"></div></div>\n",
       " <div><div class=\"wsite-multicol\"><div class=\"wsite-multicol-table-wrap\" style=\"margin:0 -15px;\">\n",
       " <table class=\"wsite-multicol-table\">\n",
       " <tbody class=\"wsite-multicol-tbody\">\n",
       " <tr class=\"wsite-multicol-tr\">\n",
       " <td class=\"wsite-multicol-col\" style=\"width:50%; padding:0 15px;\">\n",
       " <div><div class=\"wsite-image wsite-image-border-none\" style=\"padding-top:10px;padding-bottom:10px;margin-left:0;margin-right:0;text-align:center\">\n",
       " <a>\n",
       " <img alt=\"Picture\" src=\"/uploads/5/2/7/6/52768579/published/img-5398.jpg?1636419631\" style=\"width:441;max-width:100%\"/>\n",
       " </a>\n",
       " <div style=\"display:block;font-size:90%\"></div>\n",
       " </div></div>\n",
       " </td> <td class=\"wsite-multicol-col\" style=\"width:50%; padding:0 15px;\">\n",
       " <div class=\"paragraph\" style=\"text-align:center;\"><strong style=\"color:rgb(218, 68, 68)\"><font size=\"6\">It's Giving Season <br/>​and you can Give &amp; Get</font></strong><br/></div>\n",
       " <div class=\"paragraph\"><font size=\"4\">• Buy a $50 Cerberus Gift Card &amp; get a FREE pint of Cerberus beer </font><br/>• Buy a $100 Cerberus Gift Card &amp; get a FREE crowler of Cerberus beer<br/><br/><u>We also have three charity beers on tap this month!</u><br/>• Back of My Bike benefits UC Health Foundation's <a href=\"https://www.uchealthmemorialcares.org/coh/\" target=\"_blank\">Circle of Hope</a> for patients diagnosed with Breast Cancer during November<br/>• Breaking Wheel benefits <a href=\"https://medwheel.org\" target=\"_blank\">Medicine Wheel Trail Advocates</a> November &amp; December<br/><span style=\"color:rgb(218, 68, 68)\">• Buddy Up Pale Ale benefits <a href=\"https://www.allpointswestgsp.org\" target=\"_blank\">All Points West German Short Haired Pointer Rescue</a></span></div>\n",
       " </td> </tr>\n",
       " </tbody>\n",
       " </table>\n",
       " </div></div></div>\n",
       " </div>\n",
       " </div>\n",
       " </div>\n",
       " </div>\n",
       " </div>\n",
       " </div>\n",
       " </div>\n",
       " </div>\n",
       " <div id=\"footer\">\n",
       " <div id=\"footer-content\"><div class=\"wsite-elements wsite-footer\">\n",
       " <div><div class=\"wsite-multicol\"><div class=\"wsite-multicol-table-wrap\" style=\"margin:0 -15px;\">\n",
       " <table class=\"wsite-multicol-table\">\n",
       " <tbody class=\"wsite-multicol-tbody\">\n",
       " <tr class=\"wsite-multicol-tr\">\n",
       " <td class=\"wsite-multicol-col\" style=\"width:50%; padding:0 15px;\">\n",
       " <div class=\"wsite-spacer\" style=\"height:50px;\"></div>\n",
       " </td> <td class=\"wsite-multicol-col\" style=\"width:50%; padding:0 15px;\">\n",
       " <div class=\"wsite-spacer\" style=\"height:50px;\"></div>\n",
       " </td> </tr>\n",
       " </tbody>\n",
       " </table>\n",
       " </div></div></div>\n",
       " <div class=\"weebly-footer\" style=\"text-align:right;\"><div style=\"height:10px;overflow:hidden\"></div>\n",
       " Proudly powered by <a href=\"_blank\">Weebly</a>\n",
       " <div style=\"height:10px;overflow:hidden\"></div></div></div></div>\n",
       " </div>\n",
       " </div>\n",
       " <div class=\"navmobile-wrapper\">\n",
       " <div class=\"nav\" id=\"navmobile\"><ul class=\"wsite-menu-default\">\n",
       " <li class=\"wsite-menu-item-wrap\" id=\"active\">\n",
       " <a class=\"wsite-menu-item\" href=\"/\">\n",
       " \t\t\t\tHome\n",
       " \t\t\t</a>\n",
       " </li>\n",
       " <li class=\"wsite-menu-item-wrap\" id=\"pg667776375114577416\">\n",
       " <a class=\"wsite-menu-item\" href=\"/beer.html\">\n",
       " \t\t\t\tBeer\n",
       " \t\t\t</a>\n",
       " </li>\n",
       " <li class=\"wsite-menu-item-wrap\" id=\"pg319834714943881369\">\n",
       " <a class=\"wsite-menu-item\" href=\"/food.html\">\n",
       " \t\t\t\tFood\n",
       " \t\t\t</a>\n",
       " </li>\n",
       " <li class=\"wsite-menu-item-wrap\" id=\"pg147623582379328503\">\n",
       " <a class=\"wsite-menu-item\" href=\"/cocktails--spirits.html\">\n",
       " \t\t\t\tCocktails &amp; Spirits\n",
       " \t\t\t</a>\n",
       " </li>\n",
       " <li class=\"wsite-menu-item-wrap\" id=\"pg269904402998175161\">\n",
       " <a class=\"wsite-menu-item\" href=\"/in-liquor-stores.html\">\n",
       " \t\t\t\tIn Liquor Stores\n",
       " \t\t\t</a>\n",
       " </li>\n",
       " <li class=\"wsite-menu-item-wrap\" id=\"pg732959169890805919\">\n",
       " <a class=\"wsite-menu-item\" href=\"/merchandise.html\">\n",
       " \t\t\t\tMerchandise\n",
       " \t\t\t</a>\n",
       " </li>\n",
       " <li class=\"wsite-menu-item-wrap\" id=\"pg276476473635494073\">\n",
       " <a class=\"wsite-menu-item\" href=\"/events.html\">\n",
       " \t\t\t\tEVENTS\n",
       " \t\t\t</a>\n",
       " </li>\n",
       " </ul>\n",
       " </div>\n",
       " </div>\n",
       " </div>,\n",
       " <div id=\"header\">\n",
       " <div class=\"nav-trigger hamburger\">\n",
       " <div class=\"open-btn\">\n",
       " <span class=\"mobile\"></span>\n",
       " <span class=\"mobile\"></span>\n",
       " <span class=\"mobile\"></span>\n",
       " </div>\n",
       " </div>\n",
       " <div id=\"sitename\"><span class=\"wsite-logo\">\n",
       " <span class=\"wsite-title-placeholder\"> </span><span style=\"display:none\">\n",
       " <span style=\"display:none\">Cerberus Menus</span>\n",
       " </span>\n",
       " </span></div>\n",
       " </div>,\n",
       " <div class=\"nav-trigger hamburger\">\n",
       " <div class=\"open-btn\">\n",
       " <span class=\"mobile\"></span>\n",
       " <span class=\"mobile\"></span>\n",
       " <span class=\"mobile\"></span>\n",
       " </div>\n",
       " </div>,\n",
       " <div class=\"open-btn\">\n",
       " <span class=\"mobile\"></span>\n",
       " <span class=\"mobile\"></span>\n",
       " <span class=\"mobile\"></span>\n",
       " </div>,\n",
       " <div id=\"sitename\"><span class=\"wsite-logo\">\n",
       " <span class=\"wsite-title-placeholder\"> </span><span style=\"display:none\">\n",
       " <span style=\"display:none\">Cerberus Menus</span>\n",
       " </span>\n",
       " </span></div>,\n",
       " <div id=\"wrapper\">\n",
       " <div class=\"bg-wrapper\">\n",
       " <div id=\"navigation\"><ul class=\"wsite-menu-default\">\n",
       " <li class=\"wsite-menu-item-wrap\" id=\"active\">\n",
       " <a class=\"wsite-menu-item\" href=\"/\">\n",
       " \t\t\t\tHome\n",
       " \t\t\t</a>\n",
       " </li>\n",
       " <li class=\"wsite-menu-item-wrap\" id=\"pg667776375114577416\">\n",
       " <a class=\"wsite-menu-item\" href=\"/beer.html\">\n",
       " \t\t\t\tBeer\n",
       " \t\t\t</a>\n",
       " </li>\n",
       " <li class=\"wsite-menu-item-wrap\" id=\"pg319834714943881369\">\n",
       " <a class=\"wsite-menu-item\" href=\"/food.html\">\n",
       " \t\t\t\tFood\n",
       " \t\t\t</a>\n",
       " </li>\n",
       " <li class=\"wsite-menu-item-wrap\" id=\"pg147623582379328503\">\n",
       " <a class=\"wsite-menu-item\" href=\"/cocktails--spirits.html\">\n",
       " \t\t\t\tCocktails &amp; Spirits\n",
       " \t\t\t</a>\n",
       " </li>\n",
       " <li class=\"wsite-menu-item-wrap\" id=\"pg269904402998175161\">\n",
       " <a class=\"wsite-menu-item\" href=\"/in-liquor-stores.html\">\n",
       " \t\t\t\tIn Liquor Stores\n",
       " \t\t\t</a>\n",
       " </li>\n",
       " <li class=\"wsite-menu-item-wrap\" id=\"pg732959169890805919\">\n",
       " <a class=\"wsite-menu-item\" href=\"/merchandise.html\">\n",
       " \t\t\t\tMerchandise\n",
       " \t\t\t</a>\n",
       " </li>\n",
       " <li class=\"wsite-menu-item-wrap\" id=\"pg276476473635494073\">\n",
       " <a class=\"wsite-menu-item\" href=\"/events.html\">\n",
       " \t\t\t\tEVENTS\n",
       " \t\t\t</a>\n",
       " </li>\n",
       " </ul>\n",
       " </div>\n",
       " <div class=\"banner-wrap\">\n",
       " <div class=\"wsite-elements wsite-not-footer wsite-header-elements\">\n",
       " <div class=\"wsite-section-wrap\">\n",
       " <div class=\"wsite-section wsite-header-section wsite-section-bg-image\" style='height: 400px;vertical-align: middle;background-image: url(\"/uploads/5/2/7/6/52768579/background-images/221026308.jpg\") ;background-repeat: no-repeat ;background-position: 50% 50% ;background-size: 100% ;background-color: transparent ;background-size: cover;'>\n",
       " <div class=\"wsite-section-content\">\n",
       " <div id=\"banner\">\n",
       " <div id=\"banner-container\">\n",
       " <div class=\"wsite-section-elements\">\n",
       " <div class=\"paragraph\" style=\"text-align:center;\"><font size=\"3\">WELCOME TO</font></div>\n",
       " <h2 class=\"wsite-content-title\" style=\"text-align:center;\">CERBERUS BREWING CO</h2>\n",
       " </div>\n",
       " </div>\n",
       " </div>\n",
       " </div>\n",
       " <div class=\"\"></div>\n",
       " </div>\n",
       " </div>\n",
       " </div>\n",
       " </div>\n",
       " <div id=\"content-wrapper\">\n",
       " <div class=\"wsite-elements wsite-not-footer\" id=\"wsite-content\">\n",
       " <div class=\"wsite-section-wrap\">\n",
       " <div class=\"wsite-section wsite-body-section wsite-background-1\">\n",
       " <div class=\"wsite-section-content\">\n",
       " <div class=\"container\">\n",
       " <div class=\"wsite-section-elements\">\n",
       " <div class=\"paragraph\" style=\"text-align:center;\"><span style=\"color:rgb(218, 68, 68)\">FOR MENUS ON MOBILE, CLICK ON THE THREE BARS IN THE UPPER LEFT CORNER</span><br/></div>\n",
       " <div style=\"text-align:center;\"><div style=\"height:10px;overflow:hidden\"></div>\n",
       " <span class=\"wsite-social wsite-social-default\"><a alt=\"Facebook\" aria-label=\"Facebook\" class=\"first-child wsite-social-item wsite-social-facebook\" href=\"https://www.facebook.com/cerberusbrewingco/\" target=\"_blank\"><span class=\"wsite-social-item-inner\"></span></a><a alt=\"Twitter\" aria-label=\"Twitter\" class=\"wsite-social-item wsite-social-twitter\" href=\"https://twitter.com/cerberusbrewing\" target=\"_blank\"><span class=\"wsite-social-item-inner\"></span></a><a alt=\"Instagram\" aria-label=\"Instagram\" class=\"last-child wsite-social-item wsite-social-instagram\" href=\"https://www.instagram.com/cerberusbrewingco/\" target=\"_blank\"><span class=\"wsite-social-item-inner\"></span></a></span>\n",
       " <div style=\"height:10px;overflow:hidden\"></div></div>\n",
       " <div class=\"paragraph\" style=\"text-align:center;\">EXECUTIVE CHEF: Evan Anderson<br/>HEAD BREWER: Troy Johnson<br/></div>\n",
       " <div><div class=\"wsite-image wsite-image-border-none\" style=\"padding-top:10px;padding-bottom:10px;margin-left:0px;margin-right:0px;text-align:center\">\n",
       " <a>\n",
       " <img alt=\"Picture\" src=\"/uploads/5/2/7/6/52768579/published/logo-certification-cbs.jpg?1636342415\" style=\"width:auto;max-width:100%\"/>\n",
       " </a>\n",
       " <div style=\"display:block;font-size:90%\">Ask us about beer!\n",
       " 100% of our Front of House staff are Cicerone Level 1 Certified.</div>\n",
       " </div></div>\n",
       " <div><div style=\"height: 20px; overflow: hidden; width: 100%;\"></div>\n",
       " <hr class=\"styled-hr\" style=\"width:100%;\"/>\n",
       " <div style=\"height: 20px; overflow: hidden; width: 100%;\"></div></div>\n",
       " <div class=\"wsite-spacer\" style=\"height:10px;\"></div>\n",
       " <h2 class=\"wsite-content-title\" style=\"text-align:center;\">Thanksgiving to go! <br/>​Order by Monday, Nov. 22 @ 2pm • 719-636-BEER</h2>\n",
       " <div class=\"paragraph\" style=\"text-align:center;\">Smoked Turkey • Stuffing Bread Pudding • Mashed Potatoes &amp; Gravy <br/>​• Roasted Brussels Sprouts • Cranberry Sauce<br/>PLUS a FREE CROWLER OF BEER</div>\n",
       " <div><div class=\"wsite-image wsite-image-border-none\" style=\"padding-top:10px;padding-bottom:10px;margin-left:0;margin-right:0;text-align:center\">\n",
       " <a>\n",
       " <img alt=\"Picture\" src=\"/uploads/5/2/7/6/52768579/published/we-give-thanks-for-you.png?1637169276\" style=\"width:361;max-width:100%\"/>\n",
       " </a>\n",
       " <div style=\"display:block;font-size:90%\"></div>\n",
       " </div></div>\n",
       " <div class=\"paragraph\" style=\"text-align:center;\"><span style=\"color:rgb(218, 68, 68)\"> CURRENTLY SERVING:</span><br/><span style=\"color:rgb(218, 68, 68)\">FULL MENU INSIDE, ON THE PATIO &amp; HEATED BEER GARDEN TENT</span><br/><br/><span style=\"color:rgb(218, 68, 68)\">Well behaved dogs always welcome in our outdoor spaces</span><br/><br/><span style=\"color:rgb(218, 68, 68)\">SUN-THURS 11AM-8PM • FRI &amp; SAT 11AM-9PM</span><br/><span style=\"color:rgb(218, 68, 68)\">702 W. COLORADO AVE • 719-636-2337</span><br/><a href=\"mailto:info@cerberusbrewingco.com\">info@cerberusbrewingco.com<br/>​</a><br/><span style=\"color:rgb(218, 68, 68)\">​ORDER TO GO ONLINE </span><a href=\"https://cerberus.alohaorderonline.com/\" target=\"_blank\">HERE</a><span style=\"color:rgb(218, 68, 68)\"> OR BY CALLING US</span></div>\n",
       " <div><div style=\"height: 20px; overflow: hidden; width: 100%;\"></div>\n",
       " <hr class=\"styled-hr\" style=\"width:100%;\"/>\n",
       " <div style=\"height: 20px; overflow: hidden; width: 100%;\"></div></div>\n",
       " <div><div class=\"wsite-multicol\"><div class=\"wsite-multicol-table-wrap\" style=\"margin:0 -15px;\">\n",
       " <table class=\"wsite-multicol-table\">\n",
       " <tbody class=\"wsite-multicol-tbody\">\n",
       " <tr class=\"wsite-multicol-tr\">\n",
       " <td class=\"wsite-multicol-col\" style=\"width:50%; padding:0 15px;\">\n",
       " <div><div class=\"wsite-image wsite-image-border-none\" style=\"padding-top:10px;padding-bottom:10px;margin-left:0;margin-right:0;text-align:center\">\n",
       " <a>\n",
       " <img alt=\"Picture\" src=\"/uploads/5/2/7/6/52768579/published/img-5398.jpg?1636419631\" style=\"width:441;max-width:100%\"/>\n",
       " </a>\n",
       " <div style=\"display:block;font-size:90%\"></div>\n",
       " </div></div>\n",
       " </td> <td class=\"wsite-multicol-col\" style=\"width:50%; padding:0 15px;\">\n",
       " <div class=\"paragraph\" style=\"text-align:center;\"><strong style=\"color:rgb(218, 68, 68)\"><font size=\"6\">It's Giving Season <br/>​and you can Give &amp; Get</font></strong><br/></div>\n",
       " <div class=\"paragraph\"><font size=\"4\">• Buy a $50 Cerberus Gift Card &amp; get a FREE pint of Cerberus beer </font><br/>• Buy a $100 Cerberus Gift Card &amp; get a FREE crowler of Cerberus beer<br/><br/><u>We also have three charity beers on tap this month!</u><br/>• Back of My Bike benefits UC Health Foundation's <a href=\"https://www.uchealthmemorialcares.org/coh/\" target=\"_blank\">Circle of Hope</a> for patients diagnosed with Breast Cancer during November<br/>• Breaking Wheel benefits <a href=\"https://medwheel.org\" target=\"_blank\">Medicine Wheel Trail Advocates</a> November &amp; December<br/><span style=\"color:rgb(218, 68, 68)\">• Buddy Up Pale Ale benefits <a href=\"https://www.allpointswestgsp.org\" target=\"_blank\">All Points West German Short Haired Pointer Rescue</a></span></div>\n",
       " </td> </tr>\n",
       " </tbody>\n",
       " </table>\n",
       " </div></div></div>\n",
       " </div>\n",
       " </div>\n",
       " </div>\n",
       " </div>\n",
       " </div>\n",
       " </div>\n",
       " </div>\n",
       " </div>\n",
       " <div id=\"footer\">\n",
       " <div id=\"footer-content\"><div class=\"wsite-elements wsite-footer\">\n",
       " <div><div class=\"wsite-multicol\"><div class=\"wsite-multicol-table-wrap\" style=\"margin:0 -15px;\">\n",
       " <table class=\"wsite-multicol-table\">\n",
       " <tbody class=\"wsite-multicol-tbody\">\n",
       " <tr class=\"wsite-multicol-tr\">\n",
       " <td class=\"wsite-multicol-col\" style=\"width:50%; padding:0 15px;\">\n",
       " <div class=\"wsite-spacer\" style=\"height:50px;\"></div>\n",
       " </td> <td class=\"wsite-multicol-col\" style=\"width:50%; padding:0 15px;\">\n",
       " <div class=\"wsite-spacer\" style=\"height:50px;\"></div>\n",
       " </td> </tr>\n",
       " </tbody>\n",
       " </table>\n",
       " </div></div></div>\n",
       " <div class=\"weebly-footer\" style=\"text-align:right;\"><div style=\"height:10px;overflow:hidden\"></div>\n",
       " Proudly powered by <a href=\"_blank\">Weebly</a>\n",
       " <div style=\"height:10px;overflow:hidden\"></div></div></div></div>\n",
       " </div>\n",
       " </div>,\n",
       " <div class=\"bg-wrapper\">\n",
       " <div id=\"navigation\"><ul class=\"wsite-menu-default\">\n",
       " <li class=\"wsite-menu-item-wrap\" id=\"active\">\n",
       " <a class=\"wsite-menu-item\" href=\"/\">\n",
       " \t\t\t\tHome\n",
       " \t\t\t</a>\n",
       " </li>\n",
       " <li class=\"wsite-menu-item-wrap\" id=\"pg667776375114577416\">\n",
       " <a class=\"wsite-menu-item\" href=\"/beer.html\">\n",
       " \t\t\t\tBeer\n",
       " \t\t\t</a>\n",
       " </li>\n",
       " <li class=\"wsite-menu-item-wrap\" id=\"pg319834714943881369\">\n",
       " <a class=\"wsite-menu-item\" href=\"/food.html\">\n",
       " \t\t\t\tFood\n",
       " \t\t\t</a>\n",
       " </li>\n",
       " <li class=\"wsite-menu-item-wrap\" id=\"pg147623582379328503\">\n",
       " <a class=\"wsite-menu-item\" href=\"/cocktails--spirits.html\">\n",
       " \t\t\t\tCocktails &amp; Spirits\n",
       " \t\t\t</a>\n",
       " </li>\n",
       " <li class=\"wsite-menu-item-wrap\" id=\"pg269904402998175161\">\n",
       " <a class=\"wsite-menu-item\" href=\"/in-liquor-stores.html\">\n",
       " \t\t\t\tIn Liquor Stores\n",
       " \t\t\t</a>\n",
       " </li>\n",
       " <li class=\"wsite-menu-item-wrap\" id=\"pg732959169890805919\">\n",
       " <a class=\"wsite-menu-item\" href=\"/merchandise.html\">\n",
       " \t\t\t\tMerchandise\n",
       " \t\t\t</a>\n",
       " </li>\n",
       " <li class=\"wsite-menu-item-wrap\" id=\"pg276476473635494073\">\n",
       " <a class=\"wsite-menu-item\" href=\"/events.html\">\n",
       " \t\t\t\tEVENTS\n",
       " \t\t\t</a>\n",
       " </li>\n",
       " </ul>\n",
       " </div>\n",
       " <div class=\"banner-wrap\">\n",
       " <div class=\"wsite-elements wsite-not-footer wsite-header-elements\">\n",
       " <div class=\"wsite-section-wrap\">\n",
       " <div class=\"wsite-section wsite-header-section wsite-section-bg-image\" style='height: 400px;vertical-align: middle;background-image: url(\"/uploads/5/2/7/6/52768579/background-images/221026308.jpg\") ;background-repeat: no-repeat ;background-position: 50% 50% ;background-size: 100% ;background-color: transparent ;background-size: cover;'>\n",
       " <div class=\"wsite-section-content\">\n",
       " <div id=\"banner\">\n",
       " <div id=\"banner-container\">\n",
       " <div class=\"wsite-section-elements\">\n",
       " <div class=\"paragraph\" style=\"text-align:center;\"><font size=\"3\">WELCOME TO</font></div>\n",
       " <h2 class=\"wsite-content-title\" style=\"text-align:center;\">CERBERUS BREWING CO</h2>\n",
       " </div>\n",
       " </div>\n",
       " </div>\n",
       " </div>\n",
       " <div class=\"\"></div>\n",
       " </div>\n",
       " </div>\n",
       " </div>\n",
       " </div>\n",
       " <div id=\"content-wrapper\">\n",
       " <div class=\"wsite-elements wsite-not-footer\" id=\"wsite-content\">\n",
       " <div class=\"wsite-section-wrap\">\n",
       " <div class=\"wsite-section wsite-body-section wsite-background-1\">\n",
       " <div class=\"wsite-section-content\">\n",
       " <div class=\"container\">\n",
       " <div class=\"wsite-section-elements\">\n",
       " <div class=\"paragraph\" style=\"text-align:center;\"><span style=\"color:rgb(218, 68, 68)\">FOR MENUS ON MOBILE, CLICK ON THE THREE BARS IN THE UPPER LEFT CORNER</span><br/></div>\n",
       " <div style=\"text-align:center;\"><div style=\"height:10px;overflow:hidden\"></div>\n",
       " <span class=\"wsite-social wsite-social-default\"><a alt=\"Facebook\" aria-label=\"Facebook\" class=\"first-child wsite-social-item wsite-social-facebook\" href=\"https://www.facebook.com/cerberusbrewingco/\" target=\"_blank\"><span class=\"wsite-social-item-inner\"></span></a><a alt=\"Twitter\" aria-label=\"Twitter\" class=\"wsite-social-item wsite-social-twitter\" href=\"https://twitter.com/cerberusbrewing\" target=\"_blank\"><span class=\"wsite-social-item-inner\"></span></a><a alt=\"Instagram\" aria-label=\"Instagram\" class=\"last-child wsite-social-item wsite-social-instagram\" href=\"https://www.instagram.com/cerberusbrewingco/\" target=\"_blank\"><span class=\"wsite-social-item-inner\"></span></a></span>\n",
       " <div style=\"height:10px;overflow:hidden\"></div></div>\n",
       " <div class=\"paragraph\" style=\"text-align:center;\">EXECUTIVE CHEF: Evan Anderson<br/>HEAD BREWER: Troy Johnson<br/></div>\n",
       " <div><div class=\"wsite-image wsite-image-border-none\" style=\"padding-top:10px;padding-bottom:10px;margin-left:0px;margin-right:0px;text-align:center\">\n",
       " <a>\n",
       " <img alt=\"Picture\" src=\"/uploads/5/2/7/6/52768579/published/logo-certification-cbs.jpg?1636342415\" style=\"width:auto;max-width:100%\"/>\n",
       " </a>\n",
       " <div style=\"display:block;font-size:90%\">Ask us about beer!\n",
       " 100% of our Front of House staff are Cicerone Level 1 Certified.</div>\n",
       " </div></div>\n",
       " <div><div style=\"height: 20px; overflow: hidden; width: 100%;\"></div>\n",
       " <hr class=\"styled-hr\" style=\"width:100%;\"/>\n",
       " <div style=\"height: 20px; overflow: hidden; width: 100%;\"></div></div>\n",
       " <div class=\"wsite-spacer\" style=\"height:10px;\"></div>\n",
       " <h2 class=\"wsite-content-title\" style=\"text-align:center;\">Thanksgiving to go! <br/>​Order by Monday, Nov. 22 @ 2pm • 719-636-BEER</h2>\n",
       " <div class=\"paragraph\" style=\"text-align:center;\">Smoked Turkey • Stuffing Bread Pudding • Mashed Potatoes &amp; Gravy <br/>​• Roasted Brussels Sprouts • Cranberry Sauce<br/>PLUS a FREE CROWLER OF BEER</div>\n",
       " <div><div class=\"wsite-image wsite-image-border-none\" style=\"padding-top:10px;padding-bottom:10px;margin-left:0;margin-right:0;text-align:center\">\n",
       " <a>\n",
       " <img alt=\"Picture\" src=\"/uploads/5/2/7/6/52768579/published/we-give-thanks-for-you.png?1637169276\" style=\"width:361;max-width:100%\"/>\n",
       " </a>\n",
       " <div style=\"display:block;font-size:90%\"></div>\n",
       " </div></div>\n",
       " <div class=\"paragraph\" style=\"text-align:center;\"><span style=\"color:rgb(218, 68, 68)\"> CURRENTLY SERVING:</span><br/><span style=\"color:rgb(218, 68, 68)\">FULL MENU INSIDE, ON THE PATIO &amp; HEATED BEER GARDEN TENT</span><br/><br/><span style=\"color:rgb(218, 68, 68)\">Well behaved dogs always welcome in our outdoor spaces</span><br/><br/><span style=\"color:rgb(218, 68, 68)\">SUN-THURS 11AM-8PM • FRI &amp; SAT 11AM-9PM</span><br/><span style=\"color:rgb(218, 68, 68)\">702 W. COLORADO AVE • 719-636-2337</span><br/><a href=\"mailto:info@cerberusbrewingco.com\">info@cerberusbrewingco.com<br/>​</a><br/><span style=\"color:rgb(218, 68, 68)\">​ORDER TO GO ONLINE </span><a href=\"https://cerberus.alohaorderonline.com/\" target=\"_blank\">HERE</a><span style=\"color:rgb(218, 68, 68)\"> OR BY CALLING US</span></div>\n",
       " <div><div style=\"height: 20px; overflow: hidden; width: 100%;\"></div>\n",
       " <hr class=\"styled-hr\" style=\"width:100%;\"/>\n",
       " <div style=\"height: 20px; overflow: hidden; width: 100%;\"></div></div>\n",
       " <div><div class=\"wsite-multicol\"><div class=\"wsite-multicol-table-wrap\" style=\"margin:0 -15px;\">\n",
       " <table class=\"wsite-multicol-table\">\n",
       " <tbody class=\"wsite-multicol-tbody\">\n",
       " <tr class=\"wsite-multicol-tr\">\n",
       " <td class=\"wsite-multicol-col\" style=\"width:50%; padding:0 15px;\">\n",
       " <div><div class=\"wsite-image wsite-image-border-none\" style=\"padding-top:10px;padding-bottom:10px;margin-left:0;margin-right:0;text-align:center\">\n",
       " <a>\n",
       " <img alt=\"Picture\" src=\"/uploads/5/2/7/6/52768579/published/img-5398.jpg?1636419631\" style=\"width:441;max-width:100%\"/>\n",
       " </a>\n",
       " <div style=\"display:block;font-size:90%\"></div>\n",
       " </div></div>\n",
       " </td> <td class=\"wsite-multicol-col\" style=\"width:50%; padding:0 15px;\">\n",
       " <div class=\"paragraph\" style=\"text-align:center;\"><strong style=\"color:rgb(218, 68, 68)\"><font size=\"6\">It's Giving Season <br/>​and you can Give &amp; Get</font></strong><br/></div>\n",
       " <div class=\"paragraph\"><font size=\"4\">• Buy a $50 Cerberus Gift Card &amp; get a FREE pint of Cerberus beer </font><br/>• Buy a $100 Cerberus Gift Card &amp; get a FREE crowler of Cerberus beer<br/><br/><u>We also have three charity beers on tap this month!</u><br/>• Back of My Bike benefits UC Health Foundation's <a href=\"https://www.uchealthmemorialcares.org/coh/\" target=\"_blank\">Circle of Hope</a> for patients diagnosed with Breast Cancer during November<br/>• Breaking Wheel benefits <a href=\"https://medwheel.org\" target=\"_blank\">Medicine Wheel Trail Advocates</a> November &amp; December<br/><span style=\"color:rgb(218, 68, 68)\">• Buddy Up Pale Ale benefits <a href=\"https://www.allpointswestgsp.org\" target=\"_blank\">All Points West German Short Haired Pointer Rescue</a></span></div>\n",
       " </td> </tr>\n",
       " </tbody>\n",
       " </table>\n",
       " </div></div></div>\n",
       " </div>\n",
       " </div>\n",
       " </div>\n",
       " </div>\n",
       " </div>\n",
       " </div>\n",
       " </div>\n",
       " </div>,\n",
       " <div id=\"navigation\"><ul class=\"wsite-menu-default\">\n",
       " <li class=\"wsite-menu-item-wrap\" id=\"active\">\n",
       " <a class=\"wsite-menu-item\" href=\"/\">\n",
       " \t\t\t\tHome\n",
       " \t\t\t</a>\n",
       " </li>\n",
       " <li class=\"wsite-menu-item-wrap\" id=\"pg667776375114577416\">\n",
       " <a class=\"wsite-menu-item\" href=\"/beer.html\">\n",
       " \t\t\t\tBeer\n",
       " \t\t\t</a>\n",
       " </li>\n",
       " <li class=\"wsite-menu-item-wrap\" id=\"pg319834714943881369\">\n",
       " <a class=\"wsite-menu-item\" href=\"/food.html\">\n",
       " \t\t\t\tFood\n",
       " \t\t\t</a>\n",
       " </li>\n",
       " <li class=\"wsite-menu-item-wrap\" id=\"pg147623582379328503\">\n",
       " <a class=\"wsite-menu-item\" href=\"/cocktails--spirits.html\">\n",
       " \t\t\t\tCocktails &amp; Spirits\n",
       " \t\t\t</a>\n",
       " </li>\n",
       " <li class=\"wsite-menu-item-wrap\" id=\"pg269904402998175161\">\n",
       " <a class=\"wsite-menu-item\" href=\"/in-liquor-stores.html\">\n",
       " \t\t\t\tIn Liquor Stores\n",
       " \t\t\t</a>\n",
       " </li>\n",
       " <li class=\"wsite-menu-item-wrap\" id=\"pg732959169890805919\">\n",
       " <a class=\"wsite-menu-item\" href=\"/merchandise.html\">\n",
       " \t\t\t\tMerchandise\n",
       " \t\t\t</a>\n",
       " </li>\n",
       " <li class=\"wsite-menu-item-wrap\" id=\"pg276476473635494073\">\n",
       " <a class=\"wsite-menu-item\" href=\"/events.html\">\n",
       " \t\t\t\tEVENTS\n",
       " \t\t\t</a>\n",
       " </li>\n",
       " </ul>\n",
       " </div>,\n",
       " <div class=\"banner-wrap\">\n",
       " <div class=\"wsite-elements wsite-not-footer wsite-header-elements\">\n",
       " <div class=\"wsite-section-wrap\">\n",
       " <div class=\"wsite-section wsite-header-section wsite-section-bg-image\" style='height: 400px;vertical-align: middle;background-image: url(\"/uploads/5/2/7/6/52768579/background-images/221026308.jpg\") ;background-repeat: no-repeat ;background-position: 50% 50% ;background-size: 100% ;background-color: transparent ;background-size: cover;'>\n",
       " <div class=\"wsite-section-content\">\n",
       " <div id=\"banner\">\n",
       " <div id=\"banner-container\">\n",
       " <div class=\"wsite-section-elements\">\n",
       " <div class=\"paragraph\" style=\"text-align:center;\"><font size=\"3\">WELCOME TO</font></div>\n",
       " <h2 class=\"wsite-content-title\" style=\"text-align:center;\">CERBERUS BREWING CO</h2>\n",
       " </div>\n",
       " </div>\n",
       " </div>\n",
       " </div>\n",
       " <div class=\"\"></div>\n",
       " </div>\n",
       " </div>\n",
       " </div>\n",
       " </div>,\n",
       " <div class=\"wsite-elements wsite-not-footer wsite-header-elements\">\n",
       " <div class=\"wsite-section-wrap\">\n",
       " <div class=\"wsite-section wsite-header-section wsite-section-bg-image\" style='height: 400px;vertical-align: middle;background-image: url(\"/uploads/5/2/7/6/52768579/background-images/221026308.jpg\") ;background-repeat: no-repeat ;background-position: 50% 50% ;background-size: 100% ;background-color: transparent ;background-size: cover;'>\n",
       " <div class=\"wsite-section-content\">\n",
       " <div id=\"banner\">\n",
       " <div id=\"banner-container\">\n",
       " <div class=\"wsite-section-elements\">\n",
       " <div class=\"paragraph\" style=\"text-align:center;\"><font size=\"3\">WELCOME TO</font></div>\n",
       " <h2 class=\"wsite-content-title\" style=\"text-align:center;\">CERBERUS BREWING CO</h2>\n",
       " </div>\n",
       " </div>\n",
       " </div>\n",
       " </div>\n",
       " <div class=\"\"></div>\n",
       " </div>\n",
       " </div>\n",
       " </div>,\n",
       " <div class=\"wsite-section-wrap\">\n",
       " <div class=\"wsite-section wsite-header-section wsite-section-bg-image\" style='height: 400px;vertical-align: middle;background-image: url(\"/uploads/5/2/7/6/52768579/background-images/221026308.jpg\") ;background-repeat: no-repeat ;background-position: 50% 50% ;background-size: 100% ;background-color: transparent ;background-size: cover;'>\n",
       " <div class=\"wsite-section-content\">\n",
       " <div id=\"banner\">\n",
       " <div id=\"banner-container\">\n",
       " <div class=\"wsite-section-elements\">\n",
       " <div class=\"paragraph\" style=\"text-align:center;\"><font size=\"3\">WELCOME TO</font></div>\n",
       " <h2 class=\"wsite-content-title\" style=\"text-align:center;\">CERBERUS BREWING CO</h2>\n",
       " </div>\n",
       " </div>\n",
       " </div>\n",
       " </div>\n",
       " <div class=\"\"></div>\n",
       " </div>\n",
       " </div>,\n",
       " <div class=\"wsite-section wsite-header-section wsite-section-bg-image\" style='height: 400px;vertical-align: middle;background-image: url(\"/uploads/5/2/7/6/52768579/background-images/221026308.jpg\") ;background-repeat: no-repeat ;background-position: 50% 50% ;background-size: 100% ;background-color: transparent ;background-size: cover;'>\n",
       " <div class=\"wsite-section-content\">\n",
       " <div id=\"banner\">\n",
       " <div id=\"banner-container\">\n",
       " <div class=\"wsite-section-elements\">\n",
       " <div class=\"paragraph\" style=\"text-align:center;\"><font size=\"3\">WELCOME TO</font></div>\n",
       " <h2 class=\"wsite-content-title\" style=\"text-align:center;\">CERBERUS BREWING CO</h2>\n",
       " </div>\n",
       " </div>\n",
       " </div>\n",
       " </div>\n",
       " <div class=\"\"></div>\n",
       " </div>,\n",
       " <div class=\"wsite-section-content\">\n",
       " <div id=\"banner\">\n",
       " <div id=\"banner-container\">\n",
       " <div class=\"wsite-section-elements\">\n",
       " <div class=\"paragraph\" style=\"text-align:center;\"><font size=\"3\">WELCOME TO</font></div>\n",
       " <h2 class=\"wsite-content-title\" style=\"text-align:center;\">CERBERUS BREWING CO</h2>\n",
       " </div>\n",
       " </div>\n",
       " </div>\n",
       " </div>,\n",
       " <div id=\"banner\">\n",
       " <div id=\"banner-container\">\n",
       " <div class=\"wsite-section-elements\">\n",
       " <div class=\"paragraph\" style=\"text-align:center;\"><font size=\"3\">WELCOME TO</font></div>\n",
       " <h2 class=\"wsite-content-title\" style=\"text-align:center;\">CERBERUS BREWING CO</h2>\n",
       " </div>\n",
       " </div>\n",
       " </div>,\n",
       " <div id=\"banner-container\">\n",
       " <div class=\"wsite-section-elements\">\n",
       " <div class=\"paragraph\" style=\"text-align:center;\"><font size=\"3\">WELCOME TO</font></div>\n",
       " <h2 class=\"wsite-content-title\" style=\"text-align:center;\">CERBERUS BREWING CO</h2>\n",
       " </div>\n",
       " </div>,\n",
       " <div class=\"wsite-section-elements\">\n",
       " <div class=\"paragraph\" style=\"text-align:center;\"><font size=\"3\">WELCOME TO</font></div>\n",
       " <h2 class=\"wsite-content-title\" style=\"text-align:center;\">CERBERUS BREWING CO</h2>\n",
       " </div>,\n",
       " <div class=\"paragraph\" style=\"text-align:center;\"><font size=\"3\">WELCOME TO</font></div>,\n",
       " <div class=\"\"></div>,\n",
       " <div id=\"content-wrapper\">\n",
       " <div class=\"wsite-elements wsite-not-footer\" id=\"wsite-content\">\n",
       " <div class=\"wsite-section-wrap\">\n",
       " <div class=\"wsite-section wsite-body-section wsite-background-1\">\n",
       " <div class=\"wsite-section-content\">\n",
       " <div class=\"container\">\n",
       " <div class=\"wsite-section-elements\">\n",
       " <div class=\"paragraph\" style=\"text-align:center;\"><span style=\"color:rgb(218, 68, 68)\">FOR MENUS ON MOBILE, CLICK ON THE THREE BARS IN THE UPPER LEFT CORNER</span><br/></div>\n",
       " <div style=\"text-align:center;\"><div style=\"height:10px;overflow:hidden\"></div>\n",
       " <span class=\"wsite-social wsite-social-default\"><a alt=\"Facebook\" aria-label=\"Facebook\" class=\"first-child wsite-social-item wsite-social-facebook\" href=\"https://www.facebook.com/cerberusbrewingco/\" target=\"_blank\"><span class=\"wsite-social-item-inner\"></span></a><a alt=\"Twitter\" aria-label=\"Twitter\" class=\"wsite-social-item wsite-social-twitter\" href=\"https://twitter.com/cerberusbrewing\" target=\"_blank\"><span class=\"wsite-social-item-inner\"></span></a><a alt=\"Instagram\" aria-label=\"Instagram\" class=\"last-child wsite-social-item wsite-social-instagram\" href=\"https://www.instagram.com/cerberusbrewingco/\" target=\"_blank\"><span class=\"wsite-social-item-inner\"></span></a></span>\n",
       " <div style=\"height:10px;overflow:hidden\"></div></div>\n",
       " <div class=\"paragraph\" style=\"text-align:center;\">EXECUTIVE CHEF: Evan Anderson<br/>HEAD BREWER: Troy Johnson<br/></div>\n",
       " <div><div class=\"wsite-image wsite-image-border-none\" style=\"padding-top:10px;padding-bottom:10px;margin-left:0px;margin-right:0px;text-align:center\">\n",
       " <a>\n",
       " <img alt=\"Picture\" src=\"/uploads/5/2/7/6/52768579/published/logo-certification-cbs.jpg?1636342415\" style=\"width:auto;max-width:100%\"/>\n",
       " </a>\n",
       " <div style=\"display:block;font-size:90%\">Ask us about beer!\n",
       " 100% of our Front of House staff are Cicerone Level 1 Certified.</div>\n",
       " </div></div>\n",
       " <div><div style=\"height: 20px; overflow: hidden; width: 100%;\"></div>\n",
       " <hr class=\"styled-hr\" style=\"width:100%;\"/>\n",
       " <div style=\"height: 20px; overflow: hidden; width: 100%;\"></div></div>\n",
       " <div class=\"wsite-spacer\" style=\"height:10px;\"></div>\n",
       " <h2 class=\"wsite-content-title\" style=\"text-align:center;\">Thanksgiving to go! <br/>​Order by Monday, Nov. 22 @ 2pm • 719-636-BEER</h2>\n",
       " <div class=\"paragraph\" style=\"text-align:center;\">Smoked Turkey • Stuffing Bread Pudding • Mashed Potatoes &amp; Gravy <br/>​• Roasted Brussels Sprouts • Cranberry Sauce<br/>PLUS a FREE CROWLER OF BEER</div>\n",
       " <div><div class=\"wsite-image wsite-image-border-none\" style=\"padding-top:10px;padding-bottom:10px;margin-left:0;margin-right:0;text-align:center\">\n",
       " <a>\n",
       " <img alt=\"Picture\" src=\"/uploads/5/2/7/6/52768579/published/we-give-thanks-for-you.png?1637169276\" style=\"width:361;max-width:100%\"/>\n",
       " </a>\n",
       " <div style=\"display:block;font-size:90%\"></div>\n",
       " </div></div>\n",
       " <div class=\"paragraph\" style=\"text-align:center;\"><span style=\"color:rgb(218, 68, 68)\"> CURRENTLY SERVING:</span><br/><span style=\"color:rgb(218, 68, 68)\">FULL MENU INSIDE, ON THE PATIO &amp; HEATED BEER GARDEN TENT</span><br/><br/><span style=\"color:rgb(218, 68, 68)\">Well behaved dogs always welcome in our outdoor spaces</span><br/><br/><span style=\"color:rgb(218, 68, 68)\">SUN-THURS 11AM-8PM • FRI &amp; SAT 11AM-9PM</span><br/><span style=\"color:rgb(218, 68, 68)\">702 W. COLORADO AVE • 719-636-2337</span><br/><a href=\"mailto:info@cerberusbrewingco.com\">info@cerberusbrewingco.com<br/>​</a><br/><span style=\"color:rgb(218, 68, 68)\">​ORDER TO GO ONLINE </span><a href=\"https://cerberus.alohaorderonline.com/\" target=\"_blank\">HERE</a><span style=\"color:rgb(218, 68, 68)\"> OR BY CALLING US</span></div>\n",
       " <div><div style=\"height: 20px; overflow: hidden; width: 100%;\"></div>\n",
       " <hr class=\"styled-hr\" style=\"width:100%;\"/>\n",
       " <div style=\"height: 20px; overflow: hidden; width: 100%;\"></div></div>\n",
       " <div><div class=\"wsite-multicol\"><div class=\"wsite-multicol-table-wrap\" style=\"margin:0 -15px;\">\n",
       " <table class=\"wsite-multicol-table\">\n",
       " <tbody class=\"wsite-multicol-tbody\">\n",
       " <tr class=\"wsite-multicol-tr\">\n",
       " <td class=\"wsite-multicol-col\" style=\"width:50%; padding:0 15px;\">\n",
       " <div><div class=\"wsite-image wsite-image-border-none\" style=\"padding-top:10px;padding-bottom:10px;margin-left:0;margin-right:0;text-align:center\">\n",
       " <a>\n",
       " <img alt=\"Picture\" src=\"/uploads/5/2/7/6/52768579/published/img-5398.jpg?1636419631\" style=\"width:441;max-width:100%\"/>\n",
       " </a>\n",
       " <div style=\"display:block;font-size:90%\"></div>\n",
       " </div></div>\n",
       " </td> <td class=\"wsite-multicol-col\" style=\"width:50%; padding:0 15px;\">\n",
       " <div class=\"paragraph\" style=\"text-align:center;\"><strong style=\"color:rgb(218, 68, 68)\"><font size=\"6\">It's Giving Season <br/>​and you can Give &amp; Get</font></strong><br/></div>\n",
       " <div class=\"paragraph\"><font size=\"4\">• Buy a $50 Cerberus Gift Card &amp; get a FREE pint of Cerberus beer </font><br/>• Buy a $100 Cerberus Gift Card &amp; get a FREE crowler of Cerberus beer<br/><br/><u>We also have three charity beers on tap this month!</u><br/>• Back of My Bike benefits UC Health Foundation's <a href=\"https://www.uchealthmemorialcares.org/coh/\" target=\"_blank\">Circle of Hope</a> for patients diagnosed with Breast Cancer during November<br/>• Breaking Wheel benefits <a href=\"https://medwheel.org\" target=\"_blank\">Medicine Wheel Trail Advocates</a> November &amp; December<br/><span style=\"color:rgb(218, 68, 68)\">• Buddy Up Pale Ale benefits <a href=\"https://www.allpointswestgsp.org\" target=\"_blank\">All Points West German Short Haired Pointer Rescue</a></span></div>\n",
       " </td> </tr>\n",
       " </tbody>\n",
       " </table>\n",
       " </div></div></div>\n",
       " </div>\n",
       " </div>\n",
       " </div>\n",
       " </div>\n",
       " </div>\n",
       " </div>\n",
       " </div>,\n",
       " <div class=\"wsite-elements wsite-not-footer\" id=\"wsite-content\">\n",
       " <div class=\"wsite-section-wrap\">\n",
       " <div class=\"wsite-section wsite-body-section wsite-background-1\">\n",
       " <div class=\"wsite-section-content\">\n",
       " <div class=\"container\">\n",
       " <div class=\"wsite-section-elements\">\n",
       " <div class=\"paragraph\" style=\"text-align:center;\"><span style=\"color:rgb(218, 68, 68)\">FOR MENUS ON MOBILE, CLICK ON THE THREE BARS IN THE UPPER LEFT CORNER</span><br/></div>\n",
       " <div style=\"text-align:center;\"><div style=\"height:10px;overflow:hidden\"></div>\n",
       " <span class=\"wsite-social wsite-social-default\"><a alt=\"Facebook\" aria-label=\"Facebook\" class=\"first-child wsite-social-item wsite-social-facebook\" href=\"https://www.facebook.com/cerberusbrewingco/\" target=\"_blank\"><span class=\"wsite-social-item-inner\"></span></a><a alt=\"Twitter\" aria-label=\"Twitter\" class=\"wsite-social-item wsite-social-twitter\" href=\"https://twitter.com/cerberusbrewing\" target=\"_blank\"><span class=\"wsite-social-item-inner\"></span></a><a alt=\"Instagram\" aria-label=\"Instagram\" class=\"last-child wsite-social-item wsite-social-instagram\" href=\"https://www.instagram.com/cerberusbrewingco/\" target=\"_blank\"><span class=\"wsite-social-item-inner\"></span></a></span>\n",
       " <div style=\"height:10px;overflow:hidden\"></div></div>\n",
       " <div class=\"paragraph\" style=\"text-align:center;\">EXECUTIVE CHEF: Evan Anderson<br/>HEAD BREWER: Troy Johnson<br/></div>\n",
       " <div><div class=\"wsite-image wsite-image-border-none\" style=\"padding-top:10px;padding-bottom:10px;margin-left:0px;margin-right:0px;text-align:center\">\n",
       " <a>\n",
       " <img alt=\"Picture\" src=\"/uploads/5/2/7/6/52768579/published/logo-certification-cbs.jpg?1636342415\" style=\"width:auto;max-width:100%\"/>\n",
       " </a>\n",
       " <div style=\"display:block;font-size:90%\">Ask us about beer!\n",
       " 100% of our Front of House staff are Cicerone Level 1 Certified.</div>\n",
       " </div></div>\n",
       " <div><div style=\"height: 20px; overflow: hidden; width: 100%;\"></div>\n",
       " <hr class=\"styled-hr\" style=\"width:100%;\"/>\n",
       " <div style=\"height: 20px; overflow: hidden; width: 100%;\"></div></div>\n",
       " <div class=\"wsite-spacer\" style=\"height:10px;\"></div>\n",
       " <h2 class=\"wsite-content-title\" style=\"text-align:center;\">Thanksgiving to go! <br/>​Order by Monday, Nov. 22 @ 2pm • 719-636-BEER</h2>\n",
       " <div class=\"paragraph\" style=\"text-align:center;\">Smoked Turkey • Stuffing Bread Pudding • Mashed Potatoes &amp; Gravy <br/>​• Roasted Brussels Sprouts • Cranberry Sauce<br/>PLUS a FREE CROWLER OF BEER</div>\n",
       " <div><div class=\"wsite-image wsite-image-border-none\" style=\"padding-top:10px;padding-bottom:10px;margin-left:0;margin-right:0;text-align:center\">\n",
       " <a>\n",
       " <img alt=\"Picture\" src=\"/uploads/5/2/7/6/52768579/published/we-give-thanks-for-you.png?1637169276\" style=\"width:361;max-width:100%\"/>\n",
       " </a>\n",
       " <div style=\"display:block;font-size:90%\"></div>\n",
       " </div></div>\n",
       " <div class=\"paragraph\" style=\"text-align:center;\"><span style=\"color:rgb(218, 68, 68)\"> CURRENTLY SERVING:</span><br/><span style=\"color:rgb(218, 68, 68)\">FULL MENU INSIDE, ON THE PATIO &amp; HEATED BEER GARDEN TENT</span><br/><br/><span style=\"color:rgb(218, 68, 68)\">Well behaved dogs always welcome in our outdoor spaces</span><br/><br/><span style=\"color:rgb(218, 68, 68)\">SUN-THURS 11AM-8PM • FRI &amp; SAT 11AM-9PM</span><br/><span style=\"color:rgb(218, 68, 68)\">702 W. COLORADO AVE • 719-636-2337</span><br/><a href=\"mailto:info@cerberusbrewingco.com\">info@cerberusbrewingco.com<br/>​</a><br/><span style=\"color:rgb(218, 68, 68)\">​ORDER TO GO ONLINE </span><a href=\"https://cerberus.alohaorderonline.com/\" target=\"_blank\">HERE</a><span style=\"color:rgb(218, 68, 68)\"> OR BY CALLING US</span></div>\n",
       " <div><div style=\"height: 20px; overflow: hidden; width: 100%;\"></div>\n",
       " <hr class=\"styled-hr\" style=\"width:100%;\"/>\n",
       " <div style=\"height: 20px; overflow: hidden; width: 100%;\"></div></div>\n",
       " <div><div class=\"wsite-multicol\"><div class=\"wsite-multicol-table-wrap\" style=\"margin:0 -15px;\">\n",
       " <table class=\"wsite-multicol-table\">\n",
       " <tbody class=\"wsite-multicol-tbody\">\n",
       " <tr class=\"wsite-multicol-tr\">\n",
       " <td class=\"wsite-multicol-col\" style=\"width:50%; padding:0 15px;\">\n",
       " <div><div class=\"wsite-image wsite-image-border-none\" style=\"padding-top:10px;padding-bottom:10px;margin-left:0;margin-right:0;text-align:center\">\n",
       " <a>\n",
       " <img alt=\"Picture\" src=\"/uploads/5/2/7/6/52768579/published/img-5398.jpg?1636419631\" style=\"width:441;max-width:100%\"/>\n",
       " </a>\n",
       " <div style=\"display:block;font-size:90%\"></div>\n",
       " </div></div>\n",
       " </td> <td class=\"wsite-multicol-col\" style=\"width:50%; padding:0 15px;\">\n",
       " <div class=\"paragraph\" style=\"text-align:center;\"><strong style=\"color:rgb(218, 68, 68)\"><font size=\"6\">It's Giving Season <br/>​and you can Give &amp; Get</font></strong><br/></div>\n",
       " <div class=\"paragraph\"><font size=\"4\">• Buy a $50 Cerberus Gift Card &amp; get a FREE pint of Cerberus beer </font><br/>• Buy a $100 Cerberus Gift Card &amp; get a FREE crowler of Cerberus beer<br/><br/><u>We also have three charity beers on tap this month!</u><br/>• Back of My Bike benefits UC Health Foundation's <a href=\"https://www.uchealthmemorialcares.org/coh/\" target=\"_blank\">Circle of Hope</a> for patients diagnosed with Breast Cancer during November<br/>• Breaking Wheel benefits <a href=\"https://medwheel.org\" target=\"_blank\">Medicine Wheel Trail Advocates</a> November &amp; December<br/><span style=\"color:rgb(218, 68, 68)\">• Buddy Up Pale Ale benefits <a href=\"https://www.allpointswestgsp.org\" target=\"_blank\">All Points West German Short Haired Pointer Rescue</a></span></div>\n",
       " </td> </tr>\n",
       " </tbody>\n",
       " </table>\n",
       " </div></div></div>\n",
       " </div>\n",
       " </div>\n",
       " </div>\n",
       " </div>\n",
       " </div>\n",
       " </div>,\n",
       " <div class=\"wsite-section-wrap\">\n",
       " <div class=\"wsite-section wsite-body-section wsite-background-1\">\n",
       " <div class=\"wsite-section-content\">\n",
       " <div class=\"container\">\n",
       " <div class=\"wsite-section-elements\">\n",
       " <div class=\"paragraph\" style=\"text-align:center;\"><span style=\"color:rgb(218, 68, 68)\">FOR MENUS ON MOBILE, CLICK ON THE THREE BARS IN THE UPPER LEFT CORNER</span><br/></div>\n",
       " <div style=\"text-align:center;\"><div style=\"height:10px;overflow:hidden\"></div>\n",
       " <span class=\"wsite-social wsite-social-default\"><a alt=\"Facebook\" aria-label=\"Facebook\" class=\"first-child wsite-social-item wsite-social-facebook\" href=\"https://www.facebook.com/cerberusbrewingco/\" target=\"_blank\"><span class=\"wsite-social-item-inner\"></span></a><a alt=\"Twitter\" aria-label=\"Twitter\" class=\"wsite-social-item wsite-social-twitter\" href=\"https://twitter.com/cerberusbrewing\" target=\"_blank\"><span class=\"wsite-social-item-inner\"></span></a><a alt=\"Instagram\" aria-label=\"Instagram\" class=\"last-child wsite-social-item wsite-social-instagram\" href=\"https://www.instagram.com/cerberusbrewingco/\" target=\"_blank\"><span class=\"wsite-social-item-inner\"></span></a></span>\n",
       " <div style=\"height:10px;overflow:hidden\"></div></div>\n",
       " <div class=\"paragraph\" style=\"text-align:center;\">EXECUTIVE CHEF: Evan Anderson<br/>HEAD BREWER: Troy Johnson<br/></div>\n",
       " <div><div class=\"wsite-image wsite-image-border-none\" style=\"padding-top:10px;padding-bottom:10px;margin-left:0px;margin-right:0px;text-align:center\">\n",
       " <a>\n",
       " <img alt=\"Picture\" src=\"/uploads/5/2/7/6/52768579/published/logo-certification-cbs.jpg?1636342415\" style=\"width:auto;max-width:100%\"/>\n",
       " </a>\n",
       " <div style=\"display:block;font-size:90%\">Ask us about beer!\n",
       " 100% of our Front of House staff are Cicerone Level 1 Certified.</div>\n",
       " </div></div>\n",
       " <div><div style=\"height: 20px; overflow: hidden; width: 100%;\"></div>\n",
       " <hr class=\"styled-hr\" style=\"width:100%;\"/>\n",
       " <div style=\"height: 20px; overflow: hidden; width: 100%;\"></div></div>\n",
       " <div class=\"wsite-spacer\" style=\"height:10px;\"></div>\n",
       " <h2 class=\"wsite-content-title\" style=\"text-align:center;\">Thanksgiving to go! <br/>​Order by Monday, Nov. 22 @ 2pm • 719-636-BEER</h2>\n",
       " <div class=\"paragraph\" style=\"text-align:center;\">Smoked Turkey • Stuffing Bread Pudding • Mashed Potatoes &amp; Gravy <br/>​• Roasted Brussels Sprouts • Cranberry Sauce<br/>PLUS a FREE CROWLER OF BEER</div>\n",
       " <div><div class=\"wsite-image wsite-image-border-none\" style=\"padding-top:10px;padding-bottom:10px;margin-left:0;margin-right:0;text-align:center\">\n",
       " <a>\n",
       " <img alt=\"Picture\" src=\"/uploads/5/2/7/6/52768579/published/we-give-thanks-for-you.png?1637169276\" style=\"width:361;max-width:100%\"/>\n",
       " </a>\n",
       " <div style=\"display:block;font-size:90%\"></div>\n",
       " </div></div>\n",
       " <div class=\"paragraph\" style=\"text-align:center;\"><span style=\"color:rgb(218, 68, 68)\"> CURRENTLY SERVING:</span><br/><span style=\"color:rgb(218, 68, 68)\">FULL MENU INSIDE, ON THE PATIO &amp; HEATED BEER GARDEN TENT</span><br/><br/><span style=\"color:rgb(218, 68, 68)\">Well behaved dogs always welcome in our outdoor spaces</span><br/><br/><span style=\"color:rgb(218, 68, 68)\">SUN-THURS 11AM-8PM • FRI &amp; SAT 11AM-9PM</span><br/><span style=\"color:rgb(218, 68, 68)\">702 W. COLORADO AVE • 719-636-2337</span><br/><a href=\"mailto:info@cerberusbrewingco.com\">info@cerberusbrewingco.com<br/>​</a><br/><span style=\"color:rgb(218, 68, 68)\">​ORDER TO GO ONLINE </span><a href=\"https://cerberus.alohaorderonline.com/\" target=\"_blank\">HERE</a><span style=\"color:rgb(218, 68, 68)\"> OR BY CALLING US</span></div>\n",
       " <div><div style=\"height: 20px; overflow: hidden; width: 100%;\"></div>\n",
       " <hr class=\"styled-hr\" style=\"width:100%;\"/>\n",
       " <div style=\"height: 20px; overflow: hidden; width: 100%;\"></div></div>\n",
       " <div><div class=\"wsite-multicol\"><div class=\"wsite-multicol-table-wrap\" style=\"margin:0 -15px;\">\n",
       " <table class=\"wsite-multicol-table\">\n",
       " <tbody class=\"wsite-multicol-tbody\">\n",
       " <tr class=\"wsite-multicol-tr\">\n",
       " <td class=\"wsite-multicol-col\" style=\"width:50%; padding:0 15px;\">\n",
       " <div><div class=\"wsite-image wsite-image-border-none\" style=\"padding-top:10px;padding-bottom:10px;margin-left:0;margin-right:0;text-align:center\">\n",
       " <a>\n",
       " <img alt=\"Picture\" src=\"/uploads/5/2/7/6/52768579/published/img-5398.jpg?1636419631\" style=\"width:441;max-width:100%\"/>\n",
       " </a>\n",
       " <div style=\"display:block;font-size:90%\"></div>\n",
       " </div></div>\n",
       " </td> <td class=\"wsite-multicol-col\" style=\"width:50%; padding:0 15px;\">\n",
       " <div class=\"paragraph\" style=\"text-align:center;\"><strong style=\"color:rgb(218, 68, 68)\"><font size=\"6\">It's Giving Season <br/>​and you can Give &amp; Get</font></strong><br/></div>\n",
       " <div class=\"paragraph\"><font size=\"4\">• Buy a $50 Cerberus Gift Card &amp; get a FREE pint of Cerberus beer </font><br/>• Buy a $100 Cerberus Gift Card &amp; get a FREE crowler of Cerberus beer<br/><br/><u>We also have three charity beers on tap this month!</u><br/>• Back of My Bike benefits UC Health Foundation's <a href=\"https://www.uchealthmemorialcares.org/coh/\" target=\"_blank\">Circle of Hope</a> for patients diagnosed with Breast Cancer during November<br/>• Breaking Wheel benefits <a href=\"https://medwheel.org\" target=\"_blank\">Medicine Wheel Trail Advocates</a> November &amp; December<br/><span style=\"color:rgb(218, 68, 68)\">• Buddy Up Pale Ale benefits <a href=\"https://www.allpointswestgsp.org\" target=\"_blank\">All Points West German Short Haired Pointer Rescue</a></span></div>\n",
       " </td> </tr>\n",
       " </tbody>\n",
       " </table>\n",
       " </div></div></div>\n",
       " </div>\n",
       " </div>\n",
       " </div>\n",
       " </div>\n",
       " </div>,\n",
       " <div class=\"wsite-section wsite-body-section wsite-background-1\">\n",
       " <div class=\"wsite-section-content\">\n",
       " <div class=\"container\">\n",
       " <div class=\"wsite-section-elements\">\n",
       " <div class=\"paragraph\" style=\"text-align:center;\"><span style=\"color:rgb(218, 68, 68)\">FOR MENUS ON MOBILE, CLICK ON THE THREE BARS IN THE UPPER LEFT CORNER</span><br/></div>\n",
       " <div style=\"text-align:center;\"><div style=\"height:10px;overflow:hidden\"></div>\n",
       " <span class=\"wsite-social wsite-social-default\"><a alt=\"Facebook\" aria-label=\"Facebook\" class=\"first-child wsite-social-item wsite-social-facebook\" href=\"https://www.facebook.com/cerberusbrewingco/\" target=\"_blank\"><span class=\"wsite-social-item-inner\"></span></a><a alt=\"Twitter\" aria-label=\"Twitter\" class=\"wsite-social-item wsite-social-twitter\" href=\"https://twitter.com/cerberusbrewing\" target=\"_blank\"><span class=\"wsite-social-item-inner\"></span></a><a alt=\"Instagram\" aria-label=\"Instagram\" class=\"last-child wsite-social-item wsite-social-instagram\" href=\"https://www.instagram.com/cerberusbrewingco/\" target=\"_blank\"><span class=\"wsite-social-item-inner\"></span></a></span>\n",
       " <div style=\"height:10px;overflow:hidden\"></div></div>\n",
       " <div class=\"paragraph\" style=\"text-align:center;\">EXECUTIVE CHEF: Evan Anderson<br/>HEAD BREWER: Troy Johnson<br/></div>\n",
       " <div><div class=\"wsite-image wsite-image-border-none\" style=\"padding-top:10px;padding-bottom:10px;margin-left:0px;margin-right:0px;text-align:center\">\n",
       " <a>\n",
       " <img alt=\"Picture\" src=\"/uploads/5/2/7/6/52768579/published/logo-certification-cbs.jpg?1636342415\" style=\"width:auto;max-width:100%\"/>\n",
       " </a>\n",
       " <div style=\"display:block;font-size:90%\">Ask us about beer!\n",
       " 100% of our Front of House staff are Cicerone Level 1 Certified.</div>\n",
       " </div></div>\n",
       " <div><div style=\"height: 20px; overflow: hidden; width: 100%;\"></div>\n",
       " <hr class=\"styled-hr\" style=\"width:100%;\"/>\n",
       " <div style=\"height: 20px; overflow: hidden; width: 100%;\"></div></div>\n",
       " <div class=\"wsite-spacer\" style=\"height:10px;\"></div>\n",
       " <h2 class=\"wsite-content-title\" style=\"text-align:center;\">Thanksgiving to go! <br/>​Order by Monday, Nov. 22 @ 2pm • 719-636-BEER</h2>\n",
       " <div class=\"paragraph\" style=\"text-align:center;\">Smoked Turkey • Stuffing Bread Pudding • Mashed Potatoes &amp; Gravy <br/>​• Roasted Brussels Sprouts • Cranberry Sauce<br/>PLUS a FREE CROWLER OF BEER</div>\n",
       " <div><div class=\"wsite-image wsite-image-border-none\" style=\"padding-top:10px;padding-bottom:10px;margin-left:0;margin-right:0;text-align:center\">\n",
       " <a>\n",
       " <img alt=\"Picture\" src=\"/uploads/5/2/7/6/52768579/published/we-give-thanks-for-you.png?1637169276\" style=\"width:361;max-width:100%\"/>\n",
       " </a>\n",
       " <div style=\"display:block;font-size:90%\"></div>\n",
       " </div></div>\n",
       " <div class=\"paragraph\" style=\"text-align:center;\"><span style=\"color:rgb(218, 68, 68)\"> CURRENTLY SERVING:</span><br/><span style=\"color:rgb(218, 68, 68)\">FULL MENU INSIDE, ON THE PATIO &amp; HEATED BEER GARDEN TENT</span><br/><br/><span style=\"color:rgb(218, 68, 68)\">Well behaved dogs always welcome in our outdoor spaces</span><br/><br/><span style=\"color:rgb(218, 68, 68)\">SUN-THURS 11AM-8PM • FRI &amp; SAT 11AM-9PM</span><br/><span style=\"color:rgb(218, 68, 68)\">702 W. COLORADO AVE • 719-636-2337</span><br/><a href=\"mailto:info@cerberusbrewingco.com\">info@cerberusbrewingco.com<br/>​</a><br/><span style=\"color:rgb(218, 68, 68)\">​ORDER TO GO ONLINE </span><a href=\"https://cerberus.alohaorderonline.com/\" target=\"_blank\">HERE</a><span style=\"color:rgb(218, 68, 68)\"> OR BY CALLING US</span></div>\n",
       " <div><div style=\"height: 20px; overflow: hidden; width: 100%;\"></div>\n",
       " <hr class=\"styled-hr\" style=\"width:100%;\"/>\n",
       " <div style=\"height: 20px; overflow: hidden; width: 100%;\"></div></div>\n",
       " <div><div class=\"wsite-multicol\"><div class=\"wsite-multicol-table-wrap\" style=\"margin:0 -15px;\">\n",
       " <table class=\"wsite-multicol-table\">\n",
       " <tbody class=\"wsite-multicol-tbody\">\n",
       " <tr class=\"wsite-multicol-tr\">\n",
       " <td class=\"wsite-multicol-col\" style=\"width:50%; padding:0 15px;\">\n",
       " <div><div class=\"wsite-image wsite-image-border-none\" style=\"padding-top:10px;padding-bottom:10px;margin-left:0;margin-right:0;text-align:center\">\n",
       " <a>\n",
       " <img alt=\"Picture\" src=\"/uploads/5/2/7/6/52768579/published/img-5398.jpg?1636419631\" style=\"width:441;max-width:100%\"/>\n",
       " </a>\n",
       " <div style=\"display:block;font-size:90%\"></div>\n",
       " </div></div>\n",
       " </td> <td class=\"wsite-multicol-col\" style=\"width:50%; padding:0 15px;\">\n",
       " <div class=\"paragraph\" style=\"text-align:center;\"><strong style=\"color:rgb(218, 68, 68)\"><font size=\"6\">It's Giving Season <br/>​and you can Give &amp; Get</font></strong><br/></div>\n",
       " <div class=\"paragraph\"><font size=\"4\">• Buy a $50 Cerberus Gift Card &amp; get a FREE pint of Cerberus beer </font><br/>• Buy a $100 Cerberus Gift Card &amp; get a FREE crowler of Cerberus beer<br/><br/><u>We also have three charity beers on tap this month!</u><br/>• Back of My Bike benefits UC Health Foundation's <a href=\"https://www.uchealthmemorialcares.org/coh/\" target=\"_blank\">Circle of Hope</a> for patients diagnosed with Breast Cancer during November<br/>• Breaking Wheel benefits <a href=\"https://medwheel.org\" target=\"_blank\">Medicine Wheel Trail Advocates</a> November &amp; December<br/><span style=\"color:rgb(218, 68, 68)\">• Buddy Up Pale Ale benefits <a href=\"https://www.allpointswestgsp.org\" target=\"_blank\">All Points West German Short Haired Pointer Rescue</a></span></div>\n",
       " </td> </tr>\n",
       " </tbody>\n",
       " </table>\n",
       " </div></div></div>\n",
       " </div>\n",
       " </div>\n",
       " </div>\n",
       " </div>,\n",
       " <div class=\"wsite-section-content\">\n",
       " <div class=\"container\">\n",
       " <div class=\"wsite-section-elements\">\n",
       " <div class=\"paragraph\" style=\"text-align:center;\"><span style=\"color:rgb(218, 68, 68)\">FOR MENUS ON MOBILE, CLICK ON THE THREE BARS IN THE UPPER LEFT CORNER</span><br/></div>\n",
       " <div style=\"text-align:center;\"><div style=\"height:10px;overflow:hidden\"></div>\n",
       " <span class=\"wsite-social wsite-social-default\"><a alt=\"Facebook\" aria-label=\"Facebook\" class=\"first-child wsite-social-item wsite-social-facebook\" href=\"https://www.facebook.com/cerberusbrewingco/\" target=\"_blank\"><span class=\"wsite-social-item-inner\"></span></a><a alt=\"Twitter\" aria-label=\"Twitter\" class=\"wsite-social-item wsite-social-twitter\" href=\"https://twitter.com/cerberusbrewing\" target=\"_blank\"><span class=\"wsite-social-item-inner\"></span></a><a alt=\"Instagram\" aria-label=\"Instagram\" class=\"last-child wsite-social-item wsite-social-instagram\" href=\"https://www.instagram.com/cerberusbrewingco/\" target=\"_blank\"><span class=\"wsite-social-item-inner\"></span></a></span>\n",
       " <div style=\"height:10px;overflow:hidden\"></div></div>\n",
       " <div class=\"paragraph\" style=\"text-align:center;\">EXECUTIVE CHEF: Evan Anderson<br/>HEAD BREWER: Troy Johnson<br/></div>\n",
       " <div><div class=\"wsite-image wsite-image-border-none\" style=\"padding-top:10px;padding-bottom:10px;margin-left:0px;margin-right:0px;text-align:center\">\n",
       " <a>\n",
       " <img alt=\"Picture\" src=\"/uploads/5/2/7/6/52768579/published/logo-certification-cbs.jpg?1636342415\" style=\"width:auto;max-width:100%\"/>\n",
       " </a>\n",
       " <div style=\"display:block;font-size:90%\">Ask us about beer!\n",
       " 100% of our Front of House staff are Cicerone Level 1 Certified.</div>\n",
       " </div></div>\n",
       " <div><div style=\"height: 20px; overflow: hidden; width: 100%;\"></div>\n",
       " <hr class=\"styled-hr\" style=\"width:100%;\"/>\n",
       " <div style=\"height: 20px; overflow: hidden; width: 100%;\"></div></div>\n",
       " <div class=\"wsite-spacer\" style=\"height:10px;\"></div>\n",
       " <h2 class=\"wsite-content-title\" style=\"text-align:center;\">Thanksgiving to go! <br/>​Order by Monday, Nov. 22 @ 2pm • 719-636-BEER</h2>\n",
       " <div class=\"paragraph\" style=\"text-align:center;\">Smoked Turkey • Stuffing Bread Pudding • Mashed Potatoes &amp; Gravy <br/>​• Roasted Brussels Sprouts • Cranberry Sauce<br/>PLUS a FREE CROWLER OF BEER</div>\n",
       " <div><div class=\"wsite-image wsite-image-border-none\" style=\"padding-top:10px;padding-bottom:10px;margin-left:0;margin-right:0;text-align:center\">\n",
       " <a>\n",
       " <img alt=\"Picture\" src=\"/uploads/5/2/7/6/52768579/published/we-give-thanks-for-you.png?1637169276\" style=\"width:361;max-width:100%\"/>\n",
       " </a>\n",
       " <div style=\"display:block;font-size:90%\"></div>\n",
       " </div></div>\n",
       " <div class=\"paragraph\" style=\"text-align:center;\"><span style=\"color:rgb(218, 68, 68)\"> CURRENTLY SERVING:</span><br/><span style=\"color:rgb(218, 68, 68)\">FULL MENU INSIDE, ON THE PATIO &amp; HEATED BEER GARDEN TENT</span><br/><br/><span style=\"color:rgb(218, 68, 68)\">Well behaved dogs always welcome in our outdoor spaces</span><br/><br/><span style=\"color:rgb(218, 68, 68)\">SUN-THURS 11AM-8PM • FRI &amp; SAT 11AM-9PM</span><br/><span style=\"color:rgb(218, 68, 68)\">702 W. COLORADO AVE • 719-636-2337</span><br/><a href=\"mailto:info@cerberusbrewingco.com\">info@cerberusbrewingco.com<br/>​</a><br/><span style=\"color:rgb(218, 68, 68)\">​ORDER TO GO ONLINE </span><a href=\"https://cerberus.alohaorderonline.com/\" target=\"_blank\">HERE</a><span style=\"color:rgb(218, 68, 68)\"> OR BY CALLING US</span></div>\n",
       " <div><div style=\"height: 20px; overflow: hidden; width: 100%;\"></div>\n",
       " <hr class=\"styled-hr\" style=\"width:100%;\"/>\n",
       " <div style=\"height: 20px; overflow: hidden; width: 100%;\"></div></div>\n",
       " <div><div class=\"wsite-multicol\"><div class=\"wsite-multicol-table-wrap\" style=\"margin:0 -15px;\">\n",
       " <table class=\"wsite-multicol-table\">\n",
       " <tbody class=\"wsite-multicol-tbody\">\n",
       " <tr class=\"wsite-multicol-tr\">\n",
       " <td class=\"wsite-multicol-col\" style=\"width:50%; padding:0 15px;\">\n",
       " <div><div class=\"wsite-image wsite-image-border-none\" style=\"padding-top:10px;padding-bottom:10px;margin-left:0;margin-right:0;text-align:center\">\n",
       " <a>\n",
       " <img alt=\"Picture\" src=\"/uploads/5/2/7/6/52768579/published/img-5398.jpg?1636419631\" style=\"width:441;max-width:100%\"/>\n",
       " </a>\n",
       " <div style=\"display:block;font-size:90%\"></div>\n",
       " </div></div>\n",
       " </td> <td class=\"wsite-multicol-col\" style=\"width:50%; padding:0 15px;\">\n",
       " <div class=\"paragraph\" style=\"text-align:center;\"><strong style=\"color:rgb(218, 68, 68)\"><font size=\"6\">It's Giving Season <br/>​and you can Give &amp; Get</font></strong><br/></div>\n",
       " <div class=\"paragraph\"><font size=\"4\">• Buy a $50 Cerberus Gift Card &amp; get a FREE pint of Cerberus beer </font><br/>• Buy a $100 Cerberus Gift Card &amp; get a FREE crowler of Cerberus beer<br/><br/><u>We also have three charity beers on tap this month!</u><br/>• Back of My Bike benefits UC Health Foundation's <a href=\"https://www.uchealthmemorialcares.org/coh/\" target=\"_blank\">Circle of Hope</a> for patients diagnosed with Breast Cancer during November<br/>• Breaking Wheel benefits <a href=\"https://medwheel.org\" target=\"_blank\">Medicine Wheel Trail Advocates</a> November &amp; December<br/><span style=\"color:rgb(218, 68, 68)\">• Buddy Up Pale Ale benefits <a href=\"https://www.allpointswestgsp.org\" target=\"_blank\">All Points West German Short Haired Pointer Rescue</a></span></div>\n",
       " </td> </tr>\n",
       " </tbody>\n",
       " </table>\n",
       " </div></div></div>\n",
       " </div>\n",
       " </div>\n",
       " </div>,\n",
       " <div class=\"container\">\n",
       " <div class=\"wsite-section-elements\">\n",
       " <div class=\"paragraph\" style=\"text-align:center;\"><span style=\"color:rgb(218, 68, 68)\">FOR MENUS ON MOBILE, CLICK ON THE THREE BARS IN THE UPPER LEFT CORNER</span><br/></div>\n",
       " <div style=\"text-align:center;\"><div style=\"height:10px;overflow:hidden\"></div>\n",
       " <span class=\"wsite-social wsite-social-default\"><a alt=\"Facebook\" aria-label=\"Facebook\" class=\"first-child wsite-social-item wsite-social-facebook\" href=\"https://www.facebook.com/cerberusbrewingco/\" target=\"_blank\"><span class=\"wsite-social-item-inner\"></span></a><a alt=\"Twitter\" aria-label=\"Twitter\" class=\"wsite-social-item wsite-social-twitter\" href=\"https://twitter.com/cerberusbrewing\" target=\"_blank\"><span class=\"wsite-social-item-inner\"></span></a><a alt=\"Instagram\" aria-label=\"Instagram\" class=\"last-child wsite-social-item wsite-social-instagram\" href=\"https://www.instagram.com/cerberusbrewingco/\" target=\"_blank\"><span class=\"wsite-social-item-inner\"></span></a></span>\n",
       " <div style=\"height:10px;overflow:hidden\"></div></div>\n",
       " <div class=\"paragraph\" style=\"text-align:center;\">EXECUTIVE CHEF: Evan Anderson<br/>HEAD BREWER: Troy Johnson<br/></div>\n",
       " <div><div class=\"wsite-image wsite-image-border-none\" style=\"padding-top:10px;padding-bottom:10px;margin-left:0px;margin-right:0px;text-align:center\">\n",
       " <a>\n",
       " <img alt=\"Picture\" src=\"/uploads/5/2/7/6/52768579/published/logo-certification-cbs.jpg?1636342415\" style=\"width:auto;max-width:100%\"/>\n",
       " </a>\n",
       " <div style=\"display:block;font-size:90%\">Ask us about beer!\n",
       " 100% of our Front of House staff are Cicerone Level 1 Certified.</div>\n",
       " </div></div>\n",
       " <div><div style=\"height: 20px; overflow: hidden; width: 100%;\"></div>\n",
       " <hr class=\"styled-hr\" style=\"width:100%;\"/>\n",
       " <div style=\"height: 20px; overflow: hidden; width: 100%;\"></div></div>\n",
       " <div class=\"wsite-spacer\" style=\"height:10px;\"></div>\n",
       " <h2 class=\"wsite-content-title\" style=\"text-align:center;\">Thanksgiving to go! <br/>​Order by Monday, Nov. 22 @ 2pm • 719-636-BEER</h2>\n",
       " <div class=\"paragraph\" style=\"text-align:center;\">Smoked Turkey • Stuffing Bread Pudding • Mashed Potatoes &amp; Gravy <br/>​• Roasted Brussels Sprouts • Cranberry Sauce<br/>PLUS a FREE CROWLER OF BEER</div>\n",
       " <div><div class=\"wsite-image wsite-image-border-none\" style=\"padding-top:10px;padding-bottom:10px;margin-left:0;margin-right:0;text-align:center\">\n",
       " <a>\n",
       " <img alt=\"Picture\" src=\"/uploads/5/2/7/6/52768579/published/we-give-thanks-for-you.png?1637169276\" style=\"width:361;max-width:100%\"/>\n",
       " </a>\n",
       " <div style=\"display:block;font-size:90%\"></div>\n",
       " </div></div>\n",
       " <div class=\"paragraph\" style=\"text-align:center;\"><span style=\"color:rgb(218, 68, 68)\"> CURRENTLY SERVING:</span><br/><span style=\"color:rgb(218, 68, 68)\">FULL MENU INSIDE, ON THE PATIO &amp; HEATED BEER GARDEN TENT</span><br/><br/><span style=\"color:rgb(218, 68, 68)\">Well behaved dogs always welcome in our outdoor spaces</span><br/><br/><span style=\"color:rgb(218, 68, 68)\">SUN-THURS 11AM-8PM • FRI &amp; SAT 11AM-9PM</span><br/><span style=\"color:rgb(218, 68, 68)\">702 W. COLORADO AVE • 719-636-2337</span><br/><a href=\"mailto:info@cerberusbrewingco.com\">info@cerberusbrewingco.com<br/>​</a><br/><span style=\"color:rgb(218, 68, 68)\">​ORDER TO GO ONLINE </span><a href=\"https://cerberus.alohaorderonline.com/\" target=\"_blank\">HERE</a><span style=\"color:rgb(218, 68, 68)\"> OR BY CALLING US</span></div>\n",
       " <div><div style=\"height: 20px; overflow: hidden; width: 100%;\"></div>\n",
       " <hr class=\"styled-hr\" style=\"width:100%;\"/>\n",
       " <div style=\"height: 20px; overflow: hidden; width: 100%;\"></div></div>\n",
       " <div><div class=\"wsite-multicol\"><div class=\"wsite-multicol-table-wrap\" style=\"margin:0 -15px;\">\n",
       " <table class=\"wsite-multicol-table\">\n",
       " <tbody class=\"wsite-multicol-tbody\">\n",
       " <tr class=\"wsite-multicol-tr\">\n",
       " <td class=\"wsite-multicol-col\" style=\"width:50%; padding:0 15px;\">\n",
       " <div><div class=\"wsite-image wsite-image-border-none\" style=\"padding-top:10px;padding-bottom:10px;margin-left:0;margin-right:0;text-align:center\">\n",
       " <a>\n",
       " <img alt=\"Picture\" src=\"/uploads/5/2/7/6/52768579/published/img-5398.jpg?1636419631\" style=\"width:441;max-width:100%\"/>\n",
       " </a>\n",
       " <div style=\"display:block;font-size:90%\"></div>\n",
       " </div></div>\n",
       " </td> <td class=\"wsite-multicol-col\" style=\"width:50%; padding:0 15px;\">\n",
       " <div class=\"paragraph\" style=\"text-align:center;\"><strong style=\"color:rgb(218, 68, 68)\"><font size=\"6\">It's Giving Season <br/>​and you can Give &amp; Get</font></strong><br/></div>\n",
       " <div class=\"paragraph\"><font size=\"4\">• Buy a $50 Cerberus Gift Card &amp; get a FREE pint of Cerberus beer </font><br/>• Buy a $100 Cerberus Gift Card &amp; get a FREE crowler of Cerberus beer<br/><br/><u>We also have three charity beers on tap this month!</u><br/>• Back of My Bike benefits UC Health Foundation's <a href=\"https://www.uchealthmemorialcares.org/coh/\" target=\"_blank\">Circle of Hope</a> for patients diagnosed with Breast Cancer during November<br/>• Breaking Wheel benefits <a href=\"https://medwheel.org\" target=\"_blank\">Medicine Wheel Trail Advocates</a> November &amp; December<br/><span style=\"color:rgb(218, 68, 68)\">• Buddy Up Pale Ale benefits <a href=\"https://www.allpointswestgsp.org\" target=\"_blank\">All Points West German Short Haired Pointer Rescue</a></span></div>\n",
       " </td> </tr>\n",
       " </tbody>\n",
       " </table>\n",
       " </div></div></div>\n",
       " </div>\n",
       " </div>,\n",
       " <div class=\"wsite-section-elements\">\n",
       " <div class=\"paragraph\" style=\"text-align:center;\"><span style=\"color:rgb(218, 68, 68)\">FOR MENUS ON MOBILE, CLICK ON THE THREE BARS IN THE UPPER LEFT CORNER</span><br/></div>\n",
       " <div style=\"text-align:center;\"><div style=\"height:10px;overflow:hidden\"></div>\n",
       " <span class=\"wsite-social wsite-social-default\"><a alt=\"Facebook\" aria-label=\"Facebook\" class=\"first-child wsite-social-item wsite-social-facebook\" href=\"https://www.facebook.com/cerberusbrewingco/\" target=\"_blank\"><span class=\"wsite-social-item-inner\"></span></a><a alt=\"Twitter\" aria-label=\"Twitter\" class=\"wsite-social-item wsite-social-twitter\" href=\"https://twitter.com/cerberusbrewing\" target=\"_blank\"><span class=\"wsite-social-item-inner\"></span></a><a alt=\"Instagram\" aria-label=\"Instagram\" class=\"last-child wsite-social-item wsite-social-instagram\" href=\"https://www.instagram.com/cerberusbrewingco/\" target=\"_blank\"><span class=\"wsite-social-item-inner\"></span></a></span>\n",
       " <div style=\"height:10px;overflow:hidden\"></div></div>\n",
       " <div class=\"paragraph\" style=\"text-align:center;\">EXECUTIVE CHEF: Evan Anderson<br/>HEAD BREWER: Troy Johnson<br/></div>\n",
       " <div><div class=\"wsite-image wsite-image-border-none\" style=\"padding-top:10px;padding-bottom:10px;margin-left:0px;margin-right:0px;text-align:center\">\n",
       " <a>\n",
       " <img alt=\"Picture\" src=\"/uploads/5/2/7/6/52768579/published/logo-certification-cbs.jpg?1636342415\" style=\"width:auto;max-width:100%\"/>\n",
       " </a>\n",
       " <div style=\"display:block;font-size:90%\">Ask us about beer!\n",
       " 100% of our Front of House staff are Cicerone Level 1 Certified.</div>\n",
       " </div></div>\n",
       " <div><div style=\"height: 20px; overflow: hidden; width: 100%;\"></div>\n",
       " <hr class=\"styled-hr\" style=\"width:100%;\"/>\n",
       " <div style=\"height: 20px; overflow: hidden; width: 100%;\"></div></div>\n",
       " <div class=\"wsite-spacer\" style=\"height:10px;\"></div>\n",
       " <h2 class=\"wsite-content-title\" style=\"text-align:center;\">Thanksgiving to go! <br/>​Order by Monday, Nov. 22 @ 2pm • 719-636-BEER</h2>\n",
       " <div class=\"paragraph\" style=\"text-align:center;\">Smoked Turkey • Stuffing Bread Pudding • Mashed Potatoes &amp; Gravy <br/>​• Roasted Brussels Sprouts • Cranberry Sauce<br/>PLUS a FREE CROWLER OF BEER</div>\n",
       " <div><div class=\"wsite-image wsite-image-border-none\" style=\"padding-top:10px;padding-bottom:10px;margin-left:0;margin-right:0;text-align:center\">\n",
       " <a>\n",
       " <img alt=\"Picture\" src=\"/uploads/5/2/7/6/52768579/published/we-give-thanks-for-you.png?1637169276\" style=\"width:361;max-width:100%\"/>\n",
       " </a>\n",
       " <div style=\"display:block;font-size:90%\"></div>\n",
       " </div></div>\n",
       " <div class=\"paragraph\" style=\"text-align:center;\"><span style=\"color:rgb(218, 68, 68)\"> CURRENTLY SERVING:</span><br/><span style=\"color:rgb(218, 68, 68)\">FULL MENU INSIDE, ON THE PATIO &amp; HEATED BEER GARDEN TENT</span><br/><br/><span style=\"color:rgb(218, 68, 68)\">Well behaved dogs always welcome in our outdoor spaces</span><br/><br/><span style=\"color:rgb(218, 68, 68)\">SUN-THURS 11AM-8PM • FRI &amp; SAT 11AM-9PM</span><br/><span style=\"color:rgb(218, 68, 68)\">702 W. COLORADO AVE • 719-636-2337</span><br/><a href=\"mailto:info@cerberusbrewingco.com\">info@cerberusbrewingco.com<br/>​</a><br/><span style=\"color:rgb(218, 68, 68)\">​ORDER TO GO ONLINE </span><a href=\"https://cerberus.alohaorderonline.com/\" target=\"_blank\">HERE</a><span style=\"color:rgb(218, 68, 68)\"> OR BY CALLING US</span></div>\n",
       " <div><div style=\"height: 20px; overflow: hidden; width: 100%;\"></div>\n",
       " <hr class=\"styled-hr\" style=\"width:100%;\"/>\n",
       " <div style=\"height: 20px; overflow: hidden; width: 100%;\"></div></div>\n",
       " <div><div class=\"wsite-multicol\"><div class=\"wsite-multicol-table-wrap\" style=\"margin:0 -15px;\">\n",
       " <table class=\"wsite-multicol-table\">\n",
       " <tbody class=\"wsite-multicol-tbody\">\n",
       " <tr class=\"wsite-multicol-tr\">\n",
       " <td class=\"wsite-multicol-col\" style=\"width:50%; padding:0 15px;\">\n",
       " <div><div class=\"wsite-image wsite-image-border-none\" style=\"padding-top:10px;padding-bottom:10px;margin-left:0;margin-right:0;text-align:center\">\n",
       " <a>\n",
       " <img alt=\"Picture\" src=\"/uploads/5/2/7/6/52768579/published/img-5398.jpg?1636419631\" style=\"width:441;max-width:100%\"/>\n",
       " </a>\n",
       " <div style=\"display:block;font-size:90%\"></div>\n",
       " </div></div>\n",
       " </td> <td class=\"wsite-multicol-col\" style=\"width:50%; padding:0 15px;\">\n",
       " <div class=\"paragraph\" style=\"text-align:center;\"><strong style=\"color:rgb(218, 68, 68)\"><font size=\"6\">It's Giving Season <br/>​and you can Give &amp; Get</font></strong><br/></div>\n",
       " <div class=\"paragraph\"><font size=\"4\">• Buy a $50 Cerberus Gift Card &amp; get a FREE pint of Cerberus beer </font><br/>• Buy a $100 Cerberus Gift Card &amp; get a FREE crowler of Cerberus beer<br/><br/><u>We also have three charity beers on tap this month!</u><br/>• Back of My Bike benefits UC Health Foundation's <a href=\"https://www.uchealthmemorialcares.org/coh/\" target=\"_blank\">Circle of Hope</a> for patients diagnosed with Breast Cancer during November<br/>• Breaking Wheel benefits <a href=\"https://medwheel.org\" target=\"_blank\">Medicine Wheel Trail Advocates</a> November &amp; December<br/><span style=\"color:rgb(218, 68, 68)\">• Buddy Up Pale Ale benefits <a href=\"https://www.allpointswestgsp.org\" target=\"_blank\">All Points West German Short Haired Pointer Rescue</a></span></div>\n",
       " </td> </tr>\n",
       " </tbody>\n",
       " </table>\n",
       " </div></div></div>\n",
       " </div>,\n",
       " <div class=\"paragraph\" style=\"text-align:center;\"><span style=\"color:rgb(218, 68, 68)\">FOR MENUS ON MOBILE, CLICK ON THE THREE BARS IN THE UPPER LEFT CORNER</span><br/></div>,\n",
       " <div style=\"text-align:center;\"><div style=\"height:10px;overflow:hidden\"></div>\n",
       " <span class=\"wsite-social wsite-social-default\"><a alt=\"Facebook\" aria-label=\"Facebook\" class=\"first-child wsite-social-item wsite-social-facebook\" href=\"https://www.facebook.com/cerberusbrewingco/\" target=\"_blank\"><span class=\"wsite-social-item-inner\"></span></a><a alt=\"Twitter\" aria-label=\"Twitter\" class=\"wsite-social-item wsite-social-twitter\" href=\"https://twitter.com/cerberusbrewing\" target=\"_blank\"><span class=\"wsite-social-item-inner\"></span></a><a alt=\"Instagram\" aria-label=\"Instagram\" class=\"last-child wsite-social-item wsite-social-instagram\" href=\"https://www.instagram.com/cerberusbrewingco/\" target=\"_blank\"><span class=\"wsite-social-item-inner\"></span></a></span>\n",
       " <div style=\"height:10px;overflow:hidden\"></div></div>,\n",
       " <div style=\"height:10px;overflow:hidden\"></div>,\n",
       " <div style=\"height:10px;overflow:hidden\"></div>,\n",
       " <div class=\"paragraph\" style=\"text-align:center;\">EXECUTIVE CHEF: Evan Anderson<br/>HEAD BREWER: Troy Johnson<br/></div>,\n",
       " <div><div class=\"wsite-image wsite-image-border-none\" style=\"padding-top:10px;padding-bottom:10px;margin-left:0px;margin-right:0px;text-align:center\">\n",
       " <a>\n",
       " <img alt=\"Picture\" src=\"/uploads/5/2/7/6/52768579/published/logo-certification-cbs.jpg?1636342415\" style=\"width:auto;max-width:100%\"/>\n",
       " </a>\n",
       " <div style=\"display:block;font-size:90%\">Ask us about beer!\n",
       " 100% of our Front of House staff are Cicerone Level 1 Certified.</div>\n",
       " </div></div>,\n",
       " <div class=\"wsite-image wsite-image-border-none\" style=\"padding-top:10px;padding-bottom:10px;margin-left:0px;margin-right:0px;text-align:center\">\n",
       " <a>\n",
       " <img alt=\"Picture\" src=\"/uploads/5/2/7/6/52768579/published/logo-certification-cbs.jpg?1636342415\" style=\"width:auto;max-width:100%\"/>\n",
       " </a>\n",
       " <div style=\"display:block;font-size:90%\">Ask us about beer!\n",
       " 100% of our Front of House staff are Cicerone Level 1 Certified.</div>\n",
       " </div>,\n",
       " <div style=\"display:block;font-size:90%\">Ask us about beer!\n",
       " 100% of our Front of House staff are Cicerone Level 1 Certified.</div>,\n",
       " <div><div style=\"height: 20px; overflow: hidden; width: 100%;\"></div>\n",
       " <hr class=\"styled-hr\" style=\"width:100%;\"/>\n",
       " <div style=\"height: 20px; overflow: hidden; width: 100%;\"></div></div>,\n",
       " <div style=\"height: 20px; overflow: hidden; width: 100%;\"></div>,\n",
       " <div style=\"height: 20px; overflow: hidden; width: 100%;\"></div>,\n",
       " <div class=\"wsite-spacer\" style=\"height:10px;\"></div>,\n",
       " <div class=\"paragraph\" style=\"text-align:center;\">Smoked Turkey • Stuffing Bread Pudding • Mashed Potatoes &amp; Gravy <br/>​• Roasted Brussels Sprouts • Cranberry Sauce<br/>PLUS a FREE CROWLER OF BEER</div>,\n",
       " <div><div class=\"wsite-image wsite-image-border-none\" style=\"padding-top:10px;padding-bottom:10px;margin-left:0;margin-right:0;text-align:center\">\n",
       " <a>\n",
       " <img alt=\"Picture\" src=\"/uploads/5/2/7/6/52768579/published/we-give-thanks-for-you.png?1637169276\" style=\"width:361;max-width:100%\"/>\n",
       " </a>\n",
       " <div style=\"display:block;font-size:90%\"></div>\n",
       " </div></div>,\n",
       " <div class=\"wsite-image wsite-image-border-none\" style=\"padding-top:10px;padding-bottom:10px;margin-left:0;margin-right:0;text-align:center\">\n",
       " <a>\n",
       " <img alt=\"Picture\" src=\"/uploads/5/2/7/6/52768579/published/we-give-thanks-for-you.png?1637169276\" style=\"width:361;max-width:100%\"/>\n",
       " </a>\n",
       " <div style=\"display:block;font-size:90%\"></div>\n",
       " </div>,\n",
       " <div style=\"display:block;font-size:90%\"></div>,\n",
       " <div class=\"paragraph\" style=\"text-align:center;\"><span style=\"color:rgb(218, 68, 68)\"> CURRENTLY SERVING:</span><br/><span style=\"color:rgb(218, 68, 68)\">FULL MENU INSIDE, ON THE PATIO &amp; HEATED BEER GARDEN TENT</span><br/><br/><span style=\"color:rgb(218, 68, 68)\">Well behaved dogs always welcome in our outdoor spaces</span><br/><br/><span style=\"color:rgb(218, 68, 68)\">SUN-THURS 11AM-8PM • FRI &amp; SAT 11AM-9PM</span><br/><span style=\"color:rgb(218, 68, 68)\">702 W. COLORADO AVE • 719-636-2337</span><br/><a href=\"mailto:info@cerberusbrewingco.com\">info@cerberusbrewingco.com<br/>​</a><br/><span style=\"color:rgb(218, 68, 68)\">​ORDER TO GO ONLINE </span><a href=\"https://cerberus.alohaorderonline.com/\" target=\"_blank\">HERE</a><span style=\"color:rgb(218, 68, 68)\"> OR BY CALLING US</span></div>,\n",
       " <div><div style=\"height: 20px; overflow: hidden; width: 100%;\"></div>\n",
       " <hr class=\"styled-hr\" style=\"width:100%;\"/>\n",
       " <div style=\"height: 20px; overflow: hidden; width: 100%;\"></div></div>,\n",
       " <div style=\"height: 20px; overflow: hidden; width: 100%;\"></div>,\n",
       " <div style=\"height: 20px; overflow: hidden; width: 100%;\"></div>,\n",
       " <div><div class=\"wsite-multicol\"><div class=\"wsite-multicol-table-wrap\" style=\"margin:0 -15px;\">\n",
       " <table class=\"wsite-multicol-table\">\n",
       " <tbody class=\"wsite-multicol-tbody\">\n",
       " <tr class=\"wsite-multicol-tr\">\n",
       " <td class=\"wsite-multicol-col\" style=\"width:50%; padding:0 15px;\">\n",
       " <div><div class=\"wsite-image wsite-image-border-none\" style=\"padding-top:10px;padding-bottom:10px;margin-left:0;margin-right:0;text-align:center\">\n",
       " <a>\n",
       " <img alt=\"Picture\" src=\"/uploads/5/2/7/6/52768579/published/img-5398.jpg?1636419631\" style=\"width:441;max-width:100%\"/>\n",
       " </a>\n",
       " <div style=\"display:block;font-size:90%\"></div>\n",
       " </div></div>\n",
       " </td> <td class=\"wsite-multicol-col\" style=\"width:50%; padding:0 15px;\">\n",
       " <div class=\"paragraph\" style=\"text-align:center;\"><strong style=\"color:rgb(218, 68, 68)\"><font size=\"6\">It's Giving Season <br/>​and you can Give &amp; Get</font></strong><br/></div>\n",
       " <div class=\"paragraph\"><font size=\"4\">• Buy a $50 Cerberus Gift Card &amp; get a FREE pint of Cerberus beer </font><br/>• Buy a $100 Cerberus Gift Card &amp; get a FREE crowler of Cerberus beer<br/><br/><u>We also have three charity beers on tap this month!</u><br/>• Back of My Bike benefits UC Health Foundation's <a href=\"https://www.uchealthmemorialcares.org/coh/\" target=\"_blank\">Circle of Hope</a> for patients diagnosed with Breast Cancer during November<br/>• Breaking Wheel benefits <a href=\"https://medwheel.org\" target=\"_blank\">Medicine Wheel Trail Advocates</a> November &amp; December<br/><span style=\"color:rgb(218, 68, 68)\">• Buddy Up Pale Ale benefits <a href=\"https://www.allpointswestgsp.org\" target=\"_blank\">All Points West German Short Haired Pointer Rescue</a></span></div>\n",
       " </td> </tr>\n",
       " </tbody>\n",
       " </table>\n",
       " </div></div></div>,\n",
       " <div class=\"wsite-multicol\"><div class=\"wsite-multicol-table-wrap\" style=\"margin:0 -15px;\">\n",
       " <table class=\"wsite-multicol-table\">\n",
       " <tbody class=\"wsite-multicol-tbody\">\n",
       " <tr class=\"wsite-multicol-tr\">\n",
       " <td class=\"wsite-multicol-col\" style=\"width:50%; padding:0 15px;\">\n",
       " <div><div class=\"wsite-image wsite-image-border-none\" style=\"padding-top:10px;padding-bottom:10px;margin-left:0;margin-right:0;text-align:center\">\n",
       " <a>\n",
       " <img alt=\"Picture\" src=\"/uploads/5/2/7/6/52768579/published/img-5398.jpg?1636419631\" style=\"width:441;max-width:100%\"/>\n",
       " </a>\n",
       " <div style=\"display:block;font-size:90%\"></div>\n",
       " </div></div>\n",
       " </td> <td class=\"wsite-multicol-col\" style=\"width:50%; padding:0 15px;\">\n",
       " <div class=\"paragraph\" style=\"text-align:center;\"><strong style=\"color:rgb(218, 68, 68)\"><font size=\"6\">It's Giving Season <br/>​and you can Give &amp; Get</font></strong><br/></div>\n",
       " <div class=\"paragraph\"><font size=\"4\">• Buy a $50 Cerberus Gift Card &amp; get a FREE pint of Cerberus beer </font><br/>• Buy a $100 Cerberus Gift Card &amp; get a FREE crowler of Cerberus beer<br/><br/><u>We also have three charity beers on tap this month!</u><br/>• Back of My Bike benefits UC Health Foundation's <a href=\"https://www.uchealthmemorialcares.org/coh/\" target=\"_blank\">Circle of Hope</a> for patients diagnosed with Breast Cancer during November<br/>• Breaking Wheel benefits <a href=\"https://medwheel.org\" target=\"_blank\">Medicine Wheel Trail Advocates</a> November &amp; December<br/><span style=\"color:rgb(218, 68, 68)\">• Buddy Up Pale Ale benefits <a href=\"https://www.allpointswestgsp.org\" target=\"_blank\">All Points West German Short Haired Pointer Rescue</a></span></div>\n",
       " </td> </tr>\n",
       " </tbody>\n",
       " </table>\n",
       " </div></div>,\n",
       " <div class=\"wsite-multicol-table-wrap\" style=\"margin:0 -15px;\">\n",
       " <table class=\"wsite-multicol-table\">\n",
       " <tbody class=\"wsite-multicol-tbody\">\n",
       " <tr class=\"wsite-multicol-tr\">\n",
       " <td class=\"wsite-multicol-col\" style=\"width:50%; padding:0 15px;\">\n",
       " <div><div class=\"wsite-image wsite-image-border-none\" style=\"padding-top:10px;padding-bottom:10px;margin-left:0;margin-right:0;text-align:center\">\n",
       " <a>\n",
       " <img alt=\"Picture\" src=\"/uploads/5/2/7/6/52768579/published/img-5398.jpg?1636419631\" style=\"width:441;max-width:100%\"/>\n",
       " </a>\n",
       " <div style=\"display:block;font-size:90%\"></div>\n",
       " </div></div>\n",
       " </td> <td class=\"wsite-multicol-col\" style=\"width:50%; padding:0 15px;\">\n",
       " <div class=\"paragraph\" style=\"text-align:center;\"><strong style=\"color:rgb(218, 68, 68)\"><font size=\"6\">It's Giving Season <br/>​and you can Give &amp; Get</font></strong><br/></div>\n",
       " <div class=\"paragraph\"><font size=\"4\">• Buy a $50 Cerberus Gift Card &amp; get a FREE pint of Cerberus beer </font><br/>• Buy a $100 Cerberus Gift Card &amp; get a FREE crowler of Cerberus beer<br/><br/><u>We also have three charity beers on tap this month!</u><br/>• Back of My Bike benefits UC Health Foundation's <a href=\"https://www.uchealthmemorialcares.org/coh/\" target=\"_blank\">Circle of Hope</a> for patients diagnosed with Breast Cancer during November<br/>• Breaking Wheel benefits <a href=\"https://medwheel.org\" target=\"_blank\">Medicine Wheel Trail Advocates</a> November &amp; December<br/><span style=\"color:rgb(218, 68, 68)\">• Buddy Up Pale Ale benefits <a href=\"https://www.allpointswestgsp.org\" target=\"_blank\">All Points West German Short Haired Pointer Rescue</a></span></div>\n",
       " </td> </tr>\n",
       " </tbody>\n",
       " </table>\n",
       " </div>,\n",
       " <div><div class=\"wsite-image wsite-image-border-none\" style=\"padding-top:10px;padding-bottom:10px;margin-left:0;margin-right:0;text-align:center\">\n",
       " <a>\n",
       " <img alt=\"Picture\" src=\"/uploads/5/2/7/6/52768579/published/img-5398.jpg?1636419631\" style=\"width:441;max-width:100%\"/>\n",
       " </a>\n",
       " <div style=\"display:block;font-size:90%\"></div>\n",
       " </div></div>,\n",
       " <div class=\"wsite-image wsite-image-border-none\" style=\"padding-top:10px;padding-bottom:10px;margin-left:0;margin-right:0;text-align:center\">\n",
       " <a>\n",
       " <img alt=\"Picture\" src=\"/uploads/5/2/7/6/52768579/published/img-5398.jpg?1636419631\" style=\"width:441;max-width:100%\"/>\n",
       " </a>\n",
       " <div style=\"display:block;font-size:90%\"></div>\n",
       " </div>,\n",
       " <div style=\"display:block;font-size:90%\"></div>,\n",
       " <div class=\"paragraph\" style=\"text-align:center;\"><strong style=\"color:rgb(218, 68, 68)\"><font size=\"6\">It's Giving Season <br/>​and you can Give &amp; Get</font></strong><br/></div>,\n",
       " <div class=\"paragraph\"><font size=\"4\">• Buy a $50 Cerberus Gift Card &amp; get a FREE pint of Cerberus beer </font><br/>• Buy a $100 Cerberus Gift Card &amp; get a FREE crowler of Cerberus beer<br/><br/><u>We also have three charity beers on tap this month!</u><br/>• Back of My Bike benefits UC Health Foundation's <a href=\"https://www.uchealthmemorialcares.org/coh/\" target=\"_blank\">Circle of Hope</a> for patients diagnosed with Breast Cancer during November<br/>• Breaking Wheel benefits <a href=\"https://medwheel.org\" target=\"_blank\">Medicine Wheel Trail Advocates</a> November &amp; December<br/><span style=\"color:rgb(218, 68, 68)\">• Buddy Up Pale Ale benefits <a href=\"https://www.allpointswestgsp.org\" target=\"_blank\">All Points West German Short Haired Pointer Rescue</a></span></div>,\n",
       " <div id=\"footer\">\n",
       " <div id=\"footer-content\"><div class=\"wsite-elements wsite-footer\">\n",
       " <div><div class=\"wsite-multicol\"><div class=\"wsite-multicol-table-wrap\" style=\"margin:0 -15px;\">\n",
       " <table class=\"wsite-multicol-table\">\n",
       " <tbody class=\"wsite-multicol-tbody\">\n",
       " <tr class=\"wsite-multicol-tr\">\n",
       " <td class=\"wsite-multicol-col\" style=\"width:50%; padding:0 15px;\">\n",
       " <div class=\"wsite-spacer\" style=\"height:50px;\"></div>\n",
       " </td> <td class=\"wsite-multicol-col\" style=\"width:50%; padding:0 15px;\">\n",
       " <div class=\"wsite-spacer\" style=\"height:50px;\"></div>\n",
       " </td> </tr>\n",
       " </tbody>\n",
       " </table>\n",
       " </div></div></div>\n",
       " <div class=\"weebly-footer\" style=\"text-align:right;\"><div style=\"height:10px;overflow:hidden\"></div>\n",
       " Proudly powered by <a href=\"_blank\">Weebly</a>\n",
       " <div style=\"height:10px;overflow:hidden\"></div></div></div></div>\n",
       " </div>,\n",
       " <div id=\"footer-content\"><div class=\"wsite-elements wsite-footer\">\n",
       " <div><div class=\"wsite-multicol\"><div class=\"wsite-multicol-table-wrap\" style=\"margin:0 -15px;\">\n",
       " <table class=\"wsite-multicol-table\">\n",
       " <tbody class=\"wsite-multicol-tbody\">\n",
       " <tr class=\"wsite-multicol-tr\">\n",
       " <td class=\"wsite-multicol-col\" style=\"width:50%; padding:0 15px;\">\n",
       " <div class=\"wsite-spacer\" style=\"height:50px;\"></div>\n",
       " </td> <td class=\"wsite-multicol-col\" style=\"width:50%; padding:0 15px;\">\n",
       " <div class=\"wsite-spacer\" style=\"height:50px;\"></div>\n",
       " </td> </tr>\n",
       " </tbody>\n",
       " </table>\n",
       " </div></div></div>\n",
       " <div class=\"weebly-footer\" style=\"text-align:right;\"><div style=\"height:10px;overflow:hidden\"></div>\n",
       " Proudly powered by <a href=\"_blank\">Weebly</a>\n",
       " <div style=\"height:10px;overflow:hidden\"></div></div></div></div>,\n",
       " <div class=\"wsite-elements wsite-footer\">\n",
       " <div><div class=\"wsite-multicol\"><div class=\"wsite-multicol-table-wrap\" style=\"margin:0 -15px;\">\n",
       " <table class=\"wsite-multicol-table\">\n",
       " <tbody class=\"wsite-multicol-tbody\">\n",
       " <tr class=\"wsite-multicol-tr\">\n",
       " <td class=\"wsite-multicol-col\" style=\"width:50%; padding:0 15px;\">\n",
       " <div class=\"wsite-spacer\" style=\"height:50px;\"></div>\n",
       " </td> <td class=\"wsite-multicol-col\" style=\"width:50%; padding:0 15px;\">\n",
       " <div class=\"wsite-spacer\" style=\"height:50px;\"></div>\n",
       " </td> </tr>\n",
       " </tbody>\n",
       " </table>\n",
       " </div></div></div>\n",
       " <div class=\"weebly-footer\" style=\"text-align:right;\"><div style=\"height:10px;overflow:hidden\"></div>\n",
       " Proudly powered by <a href=\"_blank\">Weebly</a>\n",
       " <div style=\"height:10px;overflow:hidden\"></div></div></div>,\n",
       " <div><div class=\"wsite-multicol\"><div class=\"wsite-multicol-table-wrap\" style=\"margin:0 -15px;\">\n",
       " <table class=\"wsite-multicol-table\">\n",
       " <tbody class=\"wsite-multicol-tbody\">\n",
       " <tr class=\"wsite-multicol-tr\">\n",
       " <td class=\"wsite-multicol-col\" style=\"width:50%; padding:0 15px;\">\n",
       " <div class=\"wsite-spacer\" style=\"height:50px;\"></div>\n",
       " </td> <td class=\"wsite-multicol-col\" style=\"width:50%; padding:0 15px;\">\n",
       " <div class=\"wsite-spacer\" style=\"height:50px;\"></div>\n",
       " </td> </tr>\n",
       " </tbody>\n",
       " </table>\n",
       " </div></div></div>,\n",
       " <div class=\"wsite-multicol\"><div class=\"wsite-multicol-table-wrap\" style=\"margin:0 -15px;\">\n",
       " <table class=\"wsite-multicol-table\">\n",
       " <tbody class=\"wsite-multicol-tbody\">\n",
       " <tr class=\"wsite-multicol-tr\">\n",
       " <td class=\"wsite-multicol-col\" style=\"width:50%; padding:0 15px;\">\n",
       " <div class=\"wsite-spacer\" style=\"height:50px;\"></div>\n",
       " </td> <td class=\"wsite-multicol-col\" style=\"width:50%; padding:0 15px;\">\n",
       " <div class=\"wsite-spacer\" style=\"height:50px;\"></div>\n",
       " </td> </tr>\n",
       " </tbody>\n",
       " </table>\n",
       " </div></div>,\n",
       " <div class=\"wsite-multicol-table-wrap\" style=\"margin:0 -15px;\">\n",
       " <table class=\"wsite-multicol-table\">\n",
       " <tbody class=\"wsite-multicol-tbody\">\n",
       " <tr class=\"wsite-multicol-tr\">\n",
       " <td class=\"wsite-multicol-col\" style=\"width:50%; padding:0 15px;\">\n",
       " <div class=\"wsite-spacer\" style=\"height:50px;\"></div>\n",
       " </td> <td class=\"wsite-multicol-col\" style=\"width:50%; padding:0 15px;\">\n",
       " <div class=\"wsite-spacer\" style=\"height:50px;\"></div>\n",
       " </td> </tr>\n",
       " </tbody>\n",
       " </table>\n",
       " </div>,\n",
       " <div class=\"wsite-spacer\" style=\"height:50px;\"></div>,\n",
       " <div class=\"wsite-spacer\" style=\"height:50px;\"></div>,\n",
       " <div class=\"weebly-footer\" style=\"text-align:right;\"><div style=\"height:10px;overflow:hidden\"></div>\n",
       " Proudly powered by <a href=\"_blank\">Weebly</a>\n",
       " <div style=\"height:10px;overflow:hidden\"></div></div>,\n",
       " <div style=\"height:10px;overflow:hidden\"></div>,\n",
       " <div style=\"height:10px;overflow:hidden\"></div>,\n",
       " <div class=\"navmobile-wrapper\">\n",
       " <div class=\"nav\" id=\"navmobile\"><ul class=\"wsite-menu-default\">\n",
       " <li class=\"wsite-menu-item-wrap\" id=\"active\">\n",
       " <a class=\"wsite-menu-item\" href=\"/\">\n",
       " \t\t\t\tHome\n",
       " \t\t\t</a>\n",
       " </li>\n",
       " <li class=\"wsite-menu-item-wrap\" id=\"pg667776375114577416\">\n",
       " <a class=\"wsite-menu-item\" href=\"/beer.html\">\n",
       " \t\t\t\tBeer\n",
       " \t\t\t</a>\n",
       " </li>\n",
       " <li class=\"wsite-menu-item-wrap\" id=\"pg319834714943881369\">\n",
       " <a class=\"wsite-menu-item\" href=\"/food.html\">\n",
       " \t\t\t\tFood\n",
       " \t\t\t</a>\n",
       " </li>\n",
       " <li class=\"wsite-menu-item-wrap\" id=\"pg147623582379328503\">\n",
       " <a class=\"wsite-menu-item\" href=\"/cocktails--spirits.html\">\n",
       " \t\t\t\tCocktails &amp; Spirits\n",
       " \t\t\t</a>\n",
       " </li>\n",
       " <li class=\"wsite-menu-item-wrap\" id=\"pg269904402998175161\">\n",
       " <a class=\"wsite-menu-item\" href=\"/in-liquor-stores.html\">\n",
       " \t\t\t\tIn Liquor Stores\n",
       " \t\t\t</a>\n",
       " </li>\n",
       " <li class=\"wsite-menu-item-wrap\" id=\"pg732959169890805919\">\n",
       " <a class=\"wsite-menu-item\" href=\"/merchandise.html\">\n",
       " \t\t\t\tMerchandise\n",
       " \t\t\t</a>\n",
       " </li>\n",
       " <li class=\"wsite-menu-item-wrap\" id=\"pg276476473635494073\">\n",
       " <a class=\"wsite-menu-item\" href=\"/events.html\">\n",
       " \t\t\t\tEVENTS\n",
       " \t\t\t</a>\n",
       " </li>\n",
       " </ul>\n",
       " </div>\n",
       " </div>,\n",
       " <div class=\"nav\" id=\"navmobile\"><ul class=\"wsite-menu-default\">\n",
       " <li class=\"wsite-menu-item-wrap\" id=\"active\">\n",
       " <a class=\"wsite-menu-item\" href=\"/\">\n",
       " \t\t\t\tHome\n",
       " \t\t\t</a>\n",
       " </li>\n",
       " <li class=\"wsite-menu-item-wrap\" id=\"pg667776375114577416\">\n",
       " <a class=\"wsite-menu-item\" href=\"/beer.html\">\n",
       " \t\t\t\tBeer\n",
       " \t\t\t</a>\n",
       " </li>\n",
       " <li class=\"wsite-menu-item-wrap\" id=\"pg319834714943881369\">\n",
       " <a class=\"wsite-menu-item\" href=\"/food.html\">\n",
       " \t\t\t\tFood\n",
       " \t\t\t</a>\n",
       " </li>\n",
       " <li class=\"wsite-menu-item-wrap\" id=\"pg147623582379328503\">\n",
       " <a class=\"wsite-menu-item\" href=\"/cocktails--spirits.html\">\n",
       " \t\t\t\tCocktails &amp; Spirits\n",
       " \t\t\t</a>\n",
       " </li>\n",
       " <li class=\"wsite-menu-item-wrap\" id=\"pg269904402998175161\">\n",
       " <a class=\"wsite-menu-item\" href=\"/in-liquor-stores.html\">\n",
       " \t\t\t\tIn Liquor Stores\n",
       " \t\t\t</a>\n",
       " </li>\n",
       " <li class=\"wsite-menu-item-wrap\" id=\"pg732959169890805919\">\n",
       " <a class=\"wsite-menu-item\" href=\"/merchandise.html\">\n",
       " \t\t\t\tMerchandise\n",
       " \t\t\t</a>\n",
       " </li>\n",
       " <li class=\"wsite-menu-item-wrap\" id=\"pg276476473635494073\">\n",
       " <a class=\"wsite-menu-item\" href=\"/events.html\">\n",
       " \t\t\t\tEVENTS\n",
       " \t\t\t</a>\n",
       " </li>\n",
       " </ul>\n",
       " </div>,\n",
       " <div id=\"customer-accounts-app\"></div>]"
      ]
     },
     "execution_count": 30,
     "metadata": {},
     "output_type": "execute_result"
    }
   ],
   "source": [
    "cerberus_div_tags"
   ]
  },
  {
   "cell_type": "code",
   "execution_count": 31,
   "metadata": {},
   "outputs": [],
   "source": [
    "selection_class2 = 'paragraph'"
   ]
  },
  {
   "cell_type": "code",
   "execution_count": 32,
   "metadata": {},
   "outputs": [],
   "source": [
    "cerberus_div_tags = cerberus.find_all('div', {'class': selection_class2})"
   ]
  },
  {
   "cell_type": "code",
   "execution_count": 33,
   "metadata": {},
   "outputs": [
    {
     "data": {
      "text/plain": [
       "<div class=\"paragraph\" style=\"text-align:center;\"><span style=\"color:rgb(218, 68, 68)\"> CURRENTLY SERVING:</span><br/><span style=\"color:rgb(218, 68, 68)\">FULL MENU INSIDE, ON THE PATIO &amp; HEATED BEER GARDEN TENT</span><br/><br/><span style=\"color:rgb(218, 68, 68)\">Well behaved dogs always welcome in our outdoor spaces</span><br/><br/><span style=\"color:rgb(218, 68, 68)\">SUN-THURS 11AM-8PM • FRI &amp; SAT 11AM-9PM</span><br/><span style=\"color:rgb(218, 68, 68)\">702 W. COLORADO AVE • 719-636-2337</span><br/><a href=\"mailto:info@cerberusbrewingco.com\">info@cerberusbrewingco.com<br/>​</a><br/><span style=\"color:rgb(218, 68, 68)\">​ORDER TO GO ONLINE </span><a href=\"https://cerberus.alohaorderonline.com/\" target=\"_blank\">HERE</a><span style=\"color:rgb(218, 68, 68)\"> OR BY CALLING US</span></div>"
      ]
     },
     "execution_count": 33,
     "metadata": {},
     "output_type": "execute_result"
    }
   ],
   "source": [
    "cerberus_div_tags[4]"
   ]
  },
  {
   "cell_type": "code",
   "execution_count": 34,
   "metadata": {},
   "outputs": [],
   "source": [
    "x2 = cerberus_div_tags[4].text"
   ]
  },
  {
   "cell_type": "code",
   "execution_count": 35,
   "metadata": {},
   "outputs": [],
   "source": [
    "y2 = re.findall('^\\xa0CURRENTLY SERVING:FULL MENU INSIDE, ON THE PATIO & HEATED BEER GARDEN TENTWell behaved dogs always welcome in our outdoor spacesSUN-THURS ([0-9.]+)',x2)"
   ]
  },
  {
   "cell_type": "code",
   "execution_count": 36,
   "metadata": {},
   "outputs": [
    {
     "data": {
      "text/plain": [
       "['11']"
      ]
     },
     "execution_count": 36,
     "metadata": {},
     "output_type": "execute_result"
    }
   ],
   "source": [
    "y2"
   ]
  },
  {
   "cell_type": "code",
   "execution_count": 37,
   "metadata": {},
   "outputs": [],
   "source": [
    "y3 = re.findall('^\\xa0CURRENTLY SERVING:FULL MENU INSIDE, ON THE PATIO & HEATED BEER GARDEN TENTWell behaved dogs always welcome in our outdoor spacesSUN-THURS 11AM-([0-9.]+)',x2)"
   ]
  },
  {
   "cell_type": "code",
   "execution_count": 38,
   "metadata": {},
   "outputs": [
    {
     "data": {
      "text/plain": [
       "['8']"
      ]
     },
     "execution_count": 38,
     "metadata": {},
     "output_type": "execute_result"
    }
   ],
   "source": [
    "y3"
   ]
  },
  {
   "cell_type": "code",
   "execution_count": 39,
   "metadata": {},
   "outputs": [],
   "source": [
    "goatpatchbrewery_url = 'https://www.goatpatchbrewing.com/'"
   ]
  },
  {
   "cell_type": "code",
   "execution_count": 40,
   "metadata": {},
   "outputs": [],
   "source": [
    "response3 = requests.get(goatpatchbrewery_url)"
   ]
  },
  {
   "cell_type": "code",
   "execution_count": 41,
   "metadata": {},
   "outputs": [
    {
     "data": {
      "text/plain": [
       "200"
      ]
     },
     "execution_count": 41,
     "metadata": {},
     "output_type": "execute_result"
    }
   ],
   "source": [
    "response3.status_code"
   ]
  },
  {
   "cell_type": "code",
   "execution_count": 42,
   "metadata": {},
   "outputs": [],
   "source": [
    "gp_page_contents = response3.text"
   ]
  },
  {
   "cell_type": "code",
   "execution_count": 43,
   "metadata": {},
   "outputs": [],
   "source": [
    "gp_soup = BeautifulSoup(gp_page_contents, 'html.parser')"
   ]
  },
  {
   "cell_type": "code",
   "execution_count": 44,
   "metadata": {},
   "outputs": [],
   "source": [
    "gp_div_tags = gp_soup.find_all('div')"
   ]
  },
  {
   "cell_type": "code",
   "execution_count": 45,
   "metadata": {},
   "outputs": [],
   "source": [
    "selection_class3 = 'sqs-block-content'"
   ]
  },
  {
   "cell_type": "code",
   "execution_count": 46,
   "metadata": {},
   "outputs": [],
   "source": [
    "gp_div_tags = gp_soup.find_all('div', {'class': selection_class3})"
   ]
  },
  {
   "cell_type": "code",
   "execution_count": 47,
   "metadata": {},
   "outputs": [
    {
     "data": {
      "text/plain": [
       "24"
      ]
     },
     "execution_count": 47,
     "metadata": {},
     "output_type": "execute_result"
    }
   ],
   "source": [
    "len(gp_div_tags)"
   ]
  },
  {
   "cell_type": "code",
   "execution_count": 48,
   "metadata": {},
   "outputs": [
    {
     "data": {
      "text/plain": [
       "'CURRENT TAPROOM HOURS:12pm - 9pm | MONDAY - THURSDAY 12Pm -10pm | FRI11am - 10pm | Sat11am - 8pm | SUN'"
      ]
     },
     "execution_count": 48,
     "metadata": {},
     "output_type": "execute_result"
    }
   ],
   "source": [
    "gp_div_tags[15].text"
   ]
  },
  {
   "cell_type": "code",
   "execution_count": 49,
   "metadata": {},
   "outputs": [],
   "source": [
    "x3 = gp_div_tags[15].text"
   ]
  },
  {
   "cell_type": "code",
   "execution_count": 50,
   "metadata": {},
   "outputs": [],
   "source": [
    "y4 = re.findall('^CURRENT TAPROOM HOURS:12pm - 9pm | MONDAY - THURSDAY 12Pm -10pm | FRI([0-9.]+)',x3)"
   ]
  },
  {
   "cell_type": "code",
   "execution_count": 51,
   "metadata": {},
   "outputs": [
    {
     "data": {
      "text/plain": [
       "['', '', '11']"
      ]
     },
     "execution_count": 51,
     "metadata": {},
     "output_type": "execute_result"
    }
   ],
   "source": [
    "y4"
   ]
  },
  {
   "cell_type": "code",
   "execution_count": 52,
   "metadata": {},
   "outputs": [],
   "source": [
    "y4 = y4[2]"
   ]
  },
  {
   "cell_type": "code",
   "execution_count": 53,
   "metadata": {},
   "outputs": [
    {
     "data": {
      "text/plain": [
       "'11'"
      ]
     },
     "execution_count": 53,
     "metadata": {},
     "output_type": "execute_result"
    }
   ],
   "source": [
    "y4"
   ]
  },
  {
   "cell_type": "code",
   "execution_count": 54,
   "metadata": {},
   "outputs": [],
   "source": [
    "y5 = re.findall('^CURRENT TAPROOM HOURS:12pm - 9pm | MONDAY - THURSDAY 12Pm -10pm | FRI11am - ([0-9.]+)',x3)"
   ]
  },
  {
   "cell_type": "code",
   "execution_count": 55,
   "metadata": {},
   "outputs": [
    {
     "data": {
      "text/plain": [
       "['', '', '10']"
      ]
     },
     "execution_count": 55,
     "metadata": {},
     "output_type": "execute_result"
    }
   ],
   "source": [
    "y5"
   ]
  },
  {
   "cell_type": "code",
   "execution_count": 56,
   "metadata": {},
   "outputs": [],
   "source": [
    "y5 = y5[2]"
   ]
  },
  {
   "cell_type": "code",
   "execution_count": 57,
   "metadata": {},
   "outputs": [],
   "source": [
    "y11 = \" , \".join(y1)"
   ]
  },
  {
   "cell_type": "code",
   "execution_count": 58,
   "metadata": {},
   "outputs": [
    {
     "data": {
      "text/plain": [
       "str"
      ]
     },
     "execution_count": 58,
     "metadata": {},
     "output_type": "execute_result"
    }
   ],
   "source": [
    "type(y11)"
   ]
  },
  {
   "cell_type": "code",
   "execution_count": 59,
   "metadata": {},
   "outputs": [],
   "source": [
    "y20 = \" , \".join(y2)"
   ]
  },
  {
   "cell_type": "code",
   "execution_count": 60,
   "metadata": {},
   "outputs": [],
   "source": [
    "y30 = \" , \".join(y3)"
   ]
  },
  {
   "cell_type": "code",
   "execution_count": 61,
   "metadata": {},
   "outputs": [],
   "source": [
    "y40 = \" , \".join(y4)"
   ]
  },
  {
   "cell_type": "code",
   "execution_count": 62,
   "metadata": {},
   "outputs": [],
   "source": [
    "y50 = \" , \".join(y5)"
   ]
  },
  {
   "cell_type": "code",
   "execution_count": 68,
   "metadata": {},
   "outputs": [],
   "source": [
    "y20 = int(y20)"
   ]
  },
  {
   "cell_type": "code",
   "execution_count": 69,
   "metadata": {},
   "outputs": [],
   "source": [
    "y4 = int(y4)"
   ]
  },
  {
   "cell_type": "code",
   "execution_count": 70,
   "metadata": {},
   "outputs": [],
   "source": [
    "hours_open = [11,y20,y4]"
   ]
  },
  {
   "cell_type": "code",
   "execution_count": 71,
   "metadata": {},
   "outputs": [
    {
     "data": {
      "text/plain": [
       "[11, 11, 11]"
      ]
     },
     "execution_count": 71,
     "metadata": {},
     "output_type": "execute_result"
    }
   ],
   "source": [
    "hours_open"
   ]
  },
  {
   "cell_type": "code",
   "execution_count": 74,
   "metadata": {},
   "outputs": [],
   "source": [
    "y11 = int(y11)"
   ]
  },
  {
   "cell_type": "code",
   "execution_count": 75,
   "metadata": {},
   "outputs": [],
   "source": [
    "y30 = int(y30)"
   ]
  },
  {
   "cell_type": "code",
   "execution_count": 76,
   "metadata": {},
   "outputs": [],
   "source": [
    "y5 = int(y5)"
   ]
  },
  {
   "cell_type": "code",
   "execution_count": 77,
   "metadata": {},
   "outputs": [],
   "source": [
    "hours_close = [y11,y30,y5]"
   ]
  },
  {
   "cell_type": "code",
   "execution_count": 78,
   "metadata": {},
   "outputs": [
    {
     "data": {
      "text/plain": [
       "[10, 8, 10]"
      ]
     },
     "execution_count": 78,
     "metadata": {},
     "output_type": "execute_result"
    }
   ],
   "source": [
    "hours_close"
   ]
  },
  {
   "cell_type": "code",
   "execution_count": 79,
   "metadata": {},
   "outputs": [],
   "source": [
    "hours_close2 = [z+12 for z in hours_close]"
   ]
  },
  {
   "cell_type": "code",
   "execution_count": 80,
   "metadata": {},
   "outputs": [
    {
     "data": {
      "text/plain": [
       "[22, 20, 22]"
      ]
     },
     "execution_count": 80,
     "metadata": {},
     "output_type": "execute_result"
    }
   ],
   "source": [
    "hours_close2"
   ]
  },
  {
   "cell_type": "code",
   "execution_count": 82,
   "metadata": {},
   "outputs": [],
   "source": [
    "matrix = np.column_stack((hours_open,hours_close2))"
   ]
  },
  {
   "cell_type": "code",
   "execution_count": 83,
   "metadata": {},
   "outputs": [
    {
     "data": {
      "text/plain": [
       "array([[11, 22],\n",
       "       [11, 20],\n",
       "       [11, 22]])"
      ]
     },
     "execution_count": 83,
     "metadata": {},
     "output_type": "execute_result"
    }
   ],
   "source": [
    "matrix"
   ]
  },
  {
   "cell_type": "code",
   "execution_count": 85,
   "metadata": {},
   "outputs": [],
   "source": [
    "df_breweries = pd.DataFrame(matrix)"
   ]
  },
  {
   "cell_type": "code",
   "execution_count": 86,
   "metadata": {},
   "outputs": [],
   "source": [
    "df_breweries.columns = ['Opening Hours','Closing Hours']"
   ]
  },
  {
   "cell_type": "code",
   "execution_count": 88,
   "metadata": {},
   "outputs": [
    {
     "data": {
      "text/html": [
       "<div>\n",
       "<style scoped>\n",
       "    .dataframe tbody tr th:only-of-type {\n",
       "        vertical-align: middle;\n",
       "    }\n",
       "\n",
       "    .dataframe tbody tr th {\n",
       "        vertical-align: top;\n",
       "    }\n",
       "\n",
       "    .dataframe thead th {\n",
       "        text-align: right;\n",
       "    }\n",
       "</style>\n",
       "<table border=\"1\" class=\"dataframe\">\n",
       "  <thead>\n",
       "    <tr style=\"text-align: right;\">\n",
       "      <th></th>\n",
       "      <th>Opening Hours</th>\n",
       "      <th>Closing Hours</th>\n",
       "    </tr>\n",
       "  </thead>\n",
       "  <tbody>\n",
       "    <tr>\n",
       "      <th>0</th>\n",
       "      <td>11</td>\n",
       "      <td>22</td>\n",
       "    </tr>\n",
       "    <tr>\n",
       "      <th>1</th>\n",
       "      <td>11</td>\n",
       "      <td>20</td>\n",
       "    </tr>\n",
       "    <tr>\n",
       "      <th>2</th>\n",
       "      <td>11</td>\n",
       "      <td>22</td>\n",
       "    </tr>\n",
       "  </tbody>\n",
       "</table>\n",
       "</div>"
      ],
      "text/plain": [
       "   Opening Hours  Closing Hours\n",
       "0             11             22\n",
       "1             11             20\n",
       "2             11             22"
      ]
     },
     "execution_count": 88,
     "metadata": {},
     "output_type": "execute_result"
    }
   ],
   "source": [
    "df_breweries"
   ]
  },
  {
   "cell_type": "code",
   "execution_count": 89,
   "metadata": {},
   "outputs": [],
   "source": [
    "df_breweries.insert(0,'Brewery Name',['Dueces Wild','Cerberus','Goat Patch'])"
   ]
  },
  {
   "cell_type": "code",
   "execution_count": 90,
   "metadata": {},
   "outputs": [
    {
     "data": {
      "text/html": [
       "<div>\n",
       "<style scoped>\n",
       "    .dataframe tbody tr th:only-of-type {\n",
       "        vertical-align: middle;\n",
       "    }\n",
       "\n",
       "    .dataframe tbody tr th {\n",
       "        vertical-align: top;\n",
       "    }\n",
       "\n",
       "    .dataframe thead th {\n",
       "        text-align: right;\n",
       "    }\n",
       "</style>\n",
       "<table border=\"1\" class=\"dataframe\">\n",
       "  <thead>\n",
       "    <tr style=\"text-align: right;\">\n",
       "      <th></th>\n",
       "      <th>Brewery Name</th>\n",
       "      <th>Opening Hours</th>\n",
       "      <th>Closing Hours</th>\n",
       "    </tr>\n",
       "  </thead>\n",
       "  <tbody>\n",
       "    <tr>\n",
       "      <th>0</th>\n",
       "      <td>Dueces Wild</td>\n",
       "      <td>11</td>\n",
       "      <td>22</td>\n",
       "    </tr>\n",
       "    <tr>\n",
       "      <th>1</th>\n",
       "      <td>Cerberus</td>\n",
       "      <td>11</td>\n",
       "      <td>20</td>\n",
       "    </tr>\n",
       "    <tr>\n",
       "      <th>2</th>\n",
       "      <td>Goat Patch</td>\n",
       "      <td>11</td>\n",
       "      <td>22</td>\n",
       "    </tr>\n",
       "  </tbody>\n",
       "</table>\n",
       "</div>"
      ],
      "text/plain": [
       "  Brewery Name  Opening Hours  Closing Hours\n",
       "0  Dueces Wild             11             22\n",
       "1     Cerberus             11             20\n",
       "2   Goat Patch             11             22"
      ]
     },
     "execution_count": 90,
     "metadata": {},
     "output_type": "execute_result"
    }
   ],
   "source": [
    "df_breweries"
   ]
  },
  {
   "cell_type": "code",
   "execution_count": 91,
   "metadata": {},
   "outputs": [],
   "source": [
    "import matplotlib.pyplot as plt"
   ]
  },
  {
   "cell_type": "code",
   "execution_count": 95,
   "metadata": {},
   "outputs": [
    {
     "data": {
      "image/png": "[encoded data removed]",
      "text/plain": [
       "<Figure size 432x288 with 1 Axes>"
      ]
     },
     "metadata": {
      "needs_background": "light"
     },
     "output_type": "display_data"
    }
   ],
   "source": [
    "plt.barh(df_breweries['Brewery Name'],df_breweries['Closing Hours'])\n",
    "plt.ylabel(\"Breweries\")\n",
    "plt.xlabel(\"Friday Hours of Operation (Military Time)\")\n",
    "plt.title('Competition Friday Hours of Operation')\n",
    "plt.xlim(11,25)\n",
    "plt.show()"
   ]
  },
  {
   "cell_type": "code",
   "execution_count": 97,
   "metadata": {},
   "outputs": [],
   "source": [
    "# Here we save the data in csv format\n",
    "df_breweries.to_csv('breweryhours.csv')"
   ]
  },
  {
   "cell_type": "markdown",
   "metadata": {},
   "source": [
    "# Store the data in a database"
   ]
  },
  {
   "cell_type": "code",
   "execution_count": 98,
   "metadata": {},
   "outputs": [],
   "source": [
    "import sqlite3"
   ]
  },
  {
   "cell_type": "code",
   "execution_count": 99,
   "metadata": {},
   "outputs": [],
   "source": [
    "# Load the newly-created database\n",
    "df_beers = pd.read_csv('breweryhours.csv')"
   ]
  },
  {
   "cell_type": "code",
   "execution_count": 100,
   "metadata": {},
   "outputs": [
    {
     "data": {
      "text/html": [
       "<div>\n",
       "<style scoped>\n",
       "    .dataframe tbody tr th:only-of-type {\n",
       "        vertical-align: middle;\n",
       "    }\n",
       "\n",
       "    .dataframe tbody tr th {\n",
       "        vertical-align: top;\n",
       "    }\n",
       "\n",
       "    .dataframe thead th {\n",
       "        text-align: right;\n",
       "    }\n",
       "</style>\n",
       "<table border=\"1\" class=\"dataframe\">\n",
       "  <thead>\n",
       "    <tr style=\"text-align: right;\">\n",
       "      <th></th>\n",
       "      <th>Unnamed: 0</th>\n",
       "      <th>Brewery Name</th>\n",
       "      <th>Opening Hours</th>\n",
       "      <th>Closing Hours</th>\n",
       "    </tr>\n",
       "  </thead>\n",
       "  <tbody>\n",
       "    <tr>\n",
       "      <th>0</th>\n",
       "      <td>0</td>\n",
       "      <td>Dueces Wild</td>\n",
       "      <td>11</td>\n",
       "      <td>22</td>\n",
       "    </tr>\n",
       "    <tr>\n",
       "      <th>1</th>\n",
       "      <td>1</td>\n",
       "      <td>Cerberus</td>\n",
       "      <td>11</td>\n",
       "      <td>20</td>\n",
       "    </tr>\n",
       "    <tr>\n",
       "      <th>2</th>\n",
       "      <td>2</td>\n",
       "      <td>Goat Patch</td>\n",
       "      <td>11</td>\n",
       "      <td>22</td>\n",
       "    </tr>\n",
       "  </tbody>\n",
       "</table>\n",
       "</div>"
      ],
      "text/plain": [
       "   Unnamed: 0 Brewery Name  Opening Hours  Closing Hours\n",
       "0           0  Dueces Wild             11             22\n",
       "1           1     Cerberus             11             20\n",
       "2           2   Goat Patch             11             22"
      ]
     },
     "execution_count": 100,
     "metadata": {},
     "output_type": "execute_result"
    }
   ],
   "source": [
    "df_beers.head()"
   ]
  },
  {
   "cell_type": "code",
   "execution_count": 101,
   "metadata": {},
   "outputs": [],
   "source": [
    "# An unnamed column shows up, not sure why\n",
    "df_beers = df_beers.drop(columns=['Unnamed: 0'])"
   ]
  },
  {
   "cell_type": "code",
   "execution_count": 102,
   "metadata": {},
   "outputs": [
    {
     "data": {
      "text/html": [
       "<div>\n",
       "<style scoped>\n",
       "    .dataframe tbody tr th:only-of-type {\n",
       "        vertical-align: middle;\n",
       "    }\n",
       "\n",
       "    .dataframe tbody tr th {\n",
       "        vertical-align: top;\n",
       "    }\n",
       "\n",
       "    .dataframe thead th {\n",
       "        text-align: right;\n",
       "    }\n",
       "</style>\n",
       "<table border=\"1\" class=\"dataframe\">\n",
       "  <thead>\n",
       "    <tr style=\"text-align: right;\">\n",
       "      <th></th>\n",
       "      <th>Brewery Name</th>\n",
       "      <th>Opening Hours</th>\n",
       "      <th>Closing Hours</th>\n",
       "    </tr>\n",
       "  </thead>\n",
       "  <tbody>\n",
       "    <tr>\n",
       "      <th>0</th>\n",
       "      <td>Dueces Wild</td>\n",
       "      <td>11</td>\n",
       "      <td>22</td>\n",
       "    </tr>\n",
       "    <tr>\n",
       "      <th>1</th>\n",
       "      <td>Cerberus</td>\n",
       "      <td>11</td>\n",
       "      <td>20</td>\n",
       "    </tr>\n",
       "    <tr>\n",
       "      <th>2</th>\n",
       "      <td>Goat Patch</td>\n",
       "      <td>11</td>\n",
       "      <td>22</td>\n",
       "    </tr>\n",
       "  </tbody>\n",
       "</table>\n",
       "</div>"
      ],
      "text/plain": [
       "  Brewery Name  Opening Hours  Closing Hours\n",
       "0  Dueces Wild             11             22\n",
       "1     Cerberus             11             20\n",
       "2   Goat Patch             11             22"
      ]
     },
     "execution_count": 102,
     "metadata": {},
     "output_type": "execute_result"
    }
   ],
   "source": [
    "df_beers.head()"
   ]
  },
  {
   "cell_type": "code",
   "execution_count": 103,
   "metadata": {},
   "outputs": [],
   "source": [
    "# Create the database to store my information\n",
    "conn = sqlite3.connect('brewerycomp.db')\n",
    "c = conn.cursor()"
   ]
  },
  {
   "cell_type": "code",
   "execution_count": 104,
   "metadata": {},
   "outputs": [],
   "source": [
    "# Create a table in the database\n",
    "c.execute('CREATE TABLE brewery_hours (Name, Open, Close)')\n",
    "conn.commit()"
   ]
  },
  {
   "cell_type": "code",
   "execution_count": 105,
   "metadata": {},
   "outputs": [
    {
     "name": "stderr",
     "output_type": "stream",
     "text": [
      "C:\\Users\\harol\\anaconda3\\lib\\site-packages\\pandas\\core\\generic.py:2605: UserWarning: The spaces in these column names will not be changed. In pandas versions < 0.14, spaces were converted to underscores.\n",
      "  sql.to_sql(\n"
     ]
    }
   ],
   "source": [
    "# Here we load the data into the corresponding table\n",
    "df_beers.to_sql('brewery_hours',conn,if_exists='replace',index=False)"
   ]
  },
  {
   "cell_type": "code",
   "execution_count": 106,
   "metadata": {},
   "outputs": [],
   "source": [
    "# Here we close the newly-created database with the updated info\n",
    "conn.close()"
   ]
  },
  {
   "cell_type": "code",
   "execution_count": 107,
   "metadata": {},
   "outputs": [
    {
     "name": "stdout",
     "output_type": "stream",
     "text": [
      "('Dueces Wild', 11, 22)\n",
      "('Cerberus', 11, 20)\n",
      "('Goat Patch', 11, 22)\n"
     ]
    }
   ],
   "source": [
    "# Here we check to make sure the database was loaded correctly\n",
    "with sqlite3.connect('brewerycomp.db') as conn:\n",
    "    cursor = conn.cursor()\n",
    "    rows = cursor.execute('SELECT * FROM brewery_hours')\n",
    "    for x in rows:\n",
    "        print(x)"
   ]
  },
  {
   "cell_type": "code",
   "execution_count": null,
   "metadata": {},
   "outputs": [],
   "source": []
  }
 ],
 "metadata": {
  "kernelspec": {
   "display_name": "Python 3",
   "language": "python",
   "name": "python3"
  },
  "language_info": {
   "codemirror_mode": {
    "name": "ipython",
    "version": 3
   },
   "file_extension": ".py",
   "mimetype": "text/x-python",
   "name": "python",
   "nbconvert_exporter": "python",
   "pygments_lexer": "ipython3",
   "version": "3.8.5"
  }
 },
 "nbformat": 4,
 "nbformat_minor": 4
}
